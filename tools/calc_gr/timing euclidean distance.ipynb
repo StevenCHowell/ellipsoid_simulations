{
 "cells": [
  {
   "cell_type": "markdown",
   "metadata": {},
   "source": [
    "# Speed up g(r) code"
   ]
  },
  {
   "cell_type": "markdown",
   "metadata": {},
   "source": [
    "I want to compare the timings for calculating the distances between many atoms.  This involves computing the double loop over all coordinates."
   ]
  },
  {
   "cell_type": "code",
   "execution_count": 1,
   "metadata": {
    "collapsed": true
   },
   "outputs": [],
   "source": [
    "import time\n",
    "import os.path as op"
   ]
  },
  {
   "cell_type": "code",
   "execution_count": 2,
   "metadata": {
    "collapsed": true
   },
   "outputs": [],
   "source": [
    "from sasmol import sasmol"
   ]
  },
  {
   "cell_type": "code",
   "execution_count": 3,
   "metadata": {
    "collapsed": true
   },
   "outputs": [],
   "source": [
    "import numpy as np"
   ]
  },
  {
   "cell_type": "code",
   "execution_count": 4,
   "metadata": {
    "collapsed": true
   },
   "outputs": [],
   "source": [
    "from scipy.spatial.distance import pdist"
   ]
  },
  {
   "cell_type": "code",
   "execution_count": 5,
   "metadata": {
    "collapsed": false
   },
   "outputs": [
    {
     "name": "stdout",
     "output_type": "stream",
     "text": [
      "n_cpu = 24\n"
     ]
    }
   ],
   "source": [
    "import concurrent.futures\n",
    "import multiprocessing\n",
    "\n",
    "n_cpu = multiprocessing.cpu_count()\n",
    "print('n_cpu = {}'.format(n_cpu))"
   ]
  },
  {
   "cell_type": "code",
   "execution_count": 6,
   "metadata": {
    "collapsed": false
   },
   "outputs": [],
   "source": [
    "import sys\n",
    "sys.path.append('./')\n",
    "from distance import distance"
   ]
  },
  {
   "cell_type": "code",
   "execution_count": 7,
   "metadata": {
    "collapsed": false
   },
   "outputs": [],
   "source": [
    "import dask.array as da # NOT APPROPRIATE FOR PROBLEM"
   ]
  },
  {
   "cell_type": "code",
   "execution_count": 8,
   "metadata": {
    "collapsed": false
   },
   "outputs": [
    {
     "name": "stdout",
     "output_type": "stream",
     "text": [
      "reading filename:  test.pdb\n",
      "num_atoms =  2048\n",
      ">>> found  1  model(s) or frame(s)\n",
      "finished reading frame =  1\n"
     ]
    }
   ],
   "source": [
    "# setup inputs\n",
    "pdb_fname = 'test.pdb'\n",
    "dcd_fname = 'test.dcd'\n",
    "assert op.exists(pdb_fname), 'no such file: {}'.format(pdb_fname)\n",
    "assert op.exists(dcd_fname), 'no such file: {}'.format(dcd_fname)\n",
    "mol = sasmol.SasMol(0)\n",
    "mol.read_pdb(pdb_fname)"
   ]
  },
  {
   "cell_type": "code",
   "execution_count": 9,
   "metadata": {
    "collapsed": false
   },
   "outputs": [
    {
     "name": "stdout",
     "output_type": "stream",
     "text": [
      "[[ 0.  1.  1.]\n",
      " [ 0.  0.  1.]\n",
      " [ 0.  0.  0.]]\n"
     ]
    }
   ],
   "source": [
    "# confirm indexing\n",
    "n = 3\n",
    "d = np.zeros([n, n])\n",
    "for j in xrange(3):\n",
    "    for k in xrange(j+1, 3):\n",
    "        d[j, k] = 1\n",
    "print(d)"
   ]
  },
  {
   "cell_type": "code",
   "execution_count": 10,
   "metadata": {
    "collapsed": false
   },
   "outputs": [
    {
     "name": "stdout",
     "output_type": "stream",
     "text": [
      "(2.0124611797498111, 2.0124611797498111)\n"
     ]
    }
   ],
   "source": [
    "# confirm products\n",
    "c1 = np.arange(3)\n",
    "c2 = np.arange(3)/10.0\n",
    "dsum = np.sqrt((c1[0] - c2[0]) ** 2  + (c1[1] - c2[1]) ** 2  + (c1[2] - c2[2]) ** 2)\n",
    "nsum = np.sqrt(np.sum((c1 - c2) ** 2))\n",
    "print(dsum, nsum)"
   ]
  },
  {
   "cell_type": "code",
   "execution_count": 11,
   "metadata": {
    "collapsed": false
   },
   "outputs": [],
   "source": [
    "dcd_file = mol.open_dcd_read(dcd_fname)"
   ]
  },
  {
   "cell_type": "code",
   "execution_count": 12,
   "metadata": {
    "collapsed": false
   },
   "outputs": [
    {
     "name": "stdout",
     "output_type": "stream",
     "text": [
      "number of frames: 5\n",
      "number of atoms: 2048\n",
      ".....result =  0\n",
      "number of frames: 5\n",
      "number of atoms: 2048\n",
      ".....result =  0\n",
      "number of frames: 5\n",
      "number of atoms: 2048\n",
      ".....result =  0\n",
      "number of frames: 5\n",
      "number of atoms: 2048\n",
      ".....result =  0\n",
      "1 loop, best of 3: 1min 2s per loop\n"
     ]
    }
   ],
   "source": [
    "%%timeit\n",
    "# ignorant python\n",
    "dcd_file = mol.open_dcd_read(dcd_fname)\n",
    "\n",
    "n_atoms = mol.natoms()\n",
    "n_frames = dcd_file[2]\n",
    "\n",
    "print('number of frames: {}'.format(n_frames))\n",
    "print('number of atoms: {}'.format(n_atoms))\n",
    "\n",
    "dist = np.zeros([n_frames, n_atoms, n_atoms])\n",
    "for i in xrange(n_frames):\n",
    "    mol.read_dcd_step(dcd_file, i)\n",
    "    coor = mol.coor()[0]\n",
    "    for j in xrange(n_atoms):\n",
    "        for k in xrange(j+1, n_atoms):\n",
    "            dist[i, j, k] = np.sqrt(np.sum((coor[j] - coor[k]) ** 2))\n",
    "            \n",
    "mol.close_dcd_read(dcd_file[0])"
   ]
  },
  {
   "cell_type": "code",
   "execution_count": 13,
   "metadata": {
    "collapsed": false
   },
   "outputs": [
    {
     "name": "stdout",
     "output_type": "stream",
     "text": [
      "number of frames: 5\n",
      "number of atoms: 2048\n",
      ".....result =  0\n"
     ]
    }
   ],
   "source": [
    "# ignorant python\n",
    "dcd_file = mol.open_dcd_read(dcd_fname)\n",
    "\n",
    "n_atoms = mol.natoms()\n",
    "n_frames = dcd_file[2]\n",
    "\n",
    "print('number of frames: {}'.format(n_frames))\n",
    "print('number of atoms: {}'.format(n_atoms))\n",
    "\n",
    "dist = np.zeros([n_frames, n_atoms, n_atoms])\n",
    "for i in xrange(n_frames):\n",
    "    mol.read_dcd_step(dcd_file, i)\n",
    "    coor = mol.coor()[0]\n",
    "    for j in xrange(n_atoms):\n",
    "        for k in xrange(j+1, n_atoms):\n",
    "            dist[i, j, k] = np.sqrt(np.sum((coor[j] - coor[k]) ** 2))\n",
    "            \n",
    "mol.close_dcd_read(dcd_file[0])\n",
    "\n",
    "dp = dist[-1, :4, :4]"
   ]
  },
  {
   "cell_type": "code",
   "execution_count": 14,
   "metadata": {
    "collapsed": false
   },
   "outputs": [
    {
     "data": {
      "text/plain": [
       "array([[  0.        ,   9.55838011,  12.49256537,  11.12902151],\n",
       "       [  0.        ,   0.        ,   7.85849646,   4.99603282],\n",
       "       [  0.        ,   0.        ,   0.        ,  12.75118492],\n",
       "       [  0.        ,   0.        ,   0.        ,   0.        ]])"
      ]
     },
     "execution_count": 14,
     "metadata": {},
     "output_type": "execute_result"
    }
   ],
   "source": [
    "dp"
   ]
  },
  {
   "cell_type": "code",
   "execution_count": 16,
   "metadata": {
    "collapsed": false
   },
   "outputs": [
    {
     "name": "stdout",
     "output_type": "stream",
     "text": [
      "number of frames: 5\n",
      "number of atoms: 2048\n",
      ".....result =  0\n",
      "number of frames: 5\n",
      "number of atoms: 2048\n",
      ".....result =  0\n",
      "number of frames: 5\n",
      "number of atoms: 2048\n",
      ".....result =  0\n",
      "number of frames: 5\n",
      "number of atoms: 2048\n",
      ".....result =  0\n",
      "1 loop, best of 3: 828 ms per loop\n"
     ]
    }
   ],
   "source": [
    "%%timeit\n",
    "# numpy version\n",
    "dcd_file = mol.open_dcd_read(dcd_fname)\n",
    "\n",
    "n_atoms = mol.natoms()\n",
    "n_frames = dcd_file[2]\n",
    "\n",
    "print('number of frames: {}'.format(n_frames))\n",
    "print('number of atoms: {}'.format(n_atoms))\n",
    "\n",
    "dist = np.zeros([n_frames, n_atoms, n_atoms])\n",
    "for i in xrange(n_frames):\n",
    "    mol.read_dcd_step(dcd_file, i)\n",
    "    coor = mol.coor()[0]\n",
    "    dist[i] = np.sqrt(((coor[:, None, :] - coor) ** 2).sum(-1))\n",
    "    \n",
    "mol.close_dcd_read(dcd_file[0])"
   ]
  },
  {
   "cell_type": "code",
   "execution_count": 17,
   "metadata": {
    "collapsed": false
   },
   "outputs": [
    {
     "name": "stdout",
     "output_type": "stream",
     "text": [
      "number of frames: 5\n",
      "number of atoms: 2048\n",
      ".....result =  0\n"
     ]
    }
   ],
   "source": [
    "# numpy version\n",
    "dcd_file = mol.open_dcd_read(dcd_fname)\n",
    "\n",
    "n_atoms = mol.natoms()\n",
    "n_frames = dcd_file[2]\n",
    "\n",
    "print('number of frames: {}'.format(n_frames))\n",
    "print('number of atoms: {}'.format(n_atoms))\n",
    "\n",
    "dist = np.zeros([n_frames, n_atoms, n_atoms])\n",
    "for i in xrange(n_frames):\n",
    "    mol.read_dcd_step(dcd_file, i)\n",
    "    coor = mol.coor()[0]\n",
    "    dist[i] = np.sqrt(((coor[:, None, :] - coor) ** 2).sum(-1))\n",
    "    \n",
    "mol.close_dcd_read(dcd_file[0])\n",
    "\n",
    "dn = dist[-1, :4, :4]"
   ]
  },
  {
   "cell_type": "code",
   "execution_count": 18,
   "metadata": {
    "collapsed": false
   },
   "outputs": [
    {
     "data": {
      "text/plain": [
       "(array([[  0.        ,   9.55838011,  12.49256537,  11.12902151],\n",
       "        [  0.        ,   0.        ,   7.85849646,   4.99603282],\n",
       "        [  0.        ,   0.        ,   0.        ,  12.75118492],\n",
       "        [  0.        ,   0.        ,   0.        ,   0.        ]]),\n",
       " array([[  0.        ,   9.55838011,  12.49256537,  11.12902151],\n",
       "        [  9.55838011,   0.        ,   7.85849646,   4.99603282],\n",
       "        [ 12.49256537,   7.85849646,   0.        ,  12.75118492],\n",
       "        [ 11.12902151,   4.99603282,  12.75118492,   0.        ]]))"
      ]
     },
     "execution_count": 18,
     "metadata": {},
     "output_type": "execute_result"
    }
   ],
   "source": [
    "dp, dn"
   ]
  },
  {
   "cell_type": "code",
   "execution_count": 19,
   "metadata": {
    "collapsed": false
   },
   "outputs": [
    {
     "name": "stdout",
     "output_type": "stream",
     "text": [
      "[[  0.           0.           0.           0.        ]\n",
      " [ -9.55838011   0.           0.           0.        ]\n",
      " [-12.49256537  -7.85849646   0.           0.        ]\n",
      " [-11.12902151  -4.99603282 -12.75118492   0.        ]]\n"
     ]
    }
   ],
   "source": [
    "print(dp-dn)"
   ]
  },
  {
   "cell_type": "markdown",
   "metadata": {},
   "source": [
    "Even though the NumPy version calculates the entire matrix, it is more than 2x faster."
   ]
  },
  {
   "cell_type": "code",
   "execution_count": 20,
   "metadata": {
    "collapsed": false
   },
   "outputs": [
    {
     "name": "stdout",
     "output_type": "stream",
     "text": [
      "number of frames: 5\n",
      "number of atoms: 2048\n",
      ".....result =  0\n",
      "number of frames: 5\n",
      "number of atoms: 2048\n",
      ".....result =  0\n",
      "number of frames: 5\n",
      "number of atoms: 2048\n",
      ".....result =  0\n",
      "number of frames: 5\n",
      "number of atoms: 2048\n",
      ".....result =  0\n",
      "1 loop, best of 3: 280 ms per loop\n"
     ]
    }
   ],
   "source": [
    "%%timeit\n",
    "# scipy version 1\n",
    "dcd_file = mol.open_dcd_read(dcd_fname)\n",
    "\n",
    "n_atoms = mol.natoms()\n",
    "n_frames = dcd_file[2]\n",
    "\n",
    "print('number of frames: {}'.format(n_frames))\n",
    "print('number of atoms: {}'.format(n_atoms))\n",
    "\n",
    "dist = np.zeros([n_frames, n_atoms, n_atoms])\n",
    "\n",
    "for i in xrange(n_frames):\n",
    "    mol.read_dcd_step(dcd_file, i)\n",
    "    coor = mol.coor()[0]\n",
    "    row, col = np.triu_indices(n_atoms, 1)\n",
    "    dist[i, row, col] = pdist(coor)\n",
    "    \n",
    "mol.close_dcd_read(dcd_file[0])"
   ]
  },
  {
   "cell_type": "code",
   "execution_count": 21,
   "metadata": {
    "collapsed": false
   },
   "outputs": [
    {
     "name": "stdout",
     "output_type": "stream",
     "text": [
      "number of frames: 5\n",
      "number of atoms: 2048\n",
      ".....result =  0\n"
     ]
    }
   ],
   "source": [
    "# scipy version 1\n",
    "dcd_file = mol.open_dcd_read(dcd_fname)\n",
    "\n",
    "n_atoms = mol.natoms()\n",
    "n_frames = dcd_file[2]\n",
    "\n",
    "print('number of frames: {}'.format(n_frames))\n",
    "print('number of atoms: {}'.format(n_atoms))\n",
    "\n",
    "dist = np.zeros([n_frames, n_atoms, n_atoms])\n",
    "\n",
    "for i in xrange(n_frames):\n",
    "    mol.read_dcd_step(dcd_file, i)\n",
    "    coor = mol.coor()[0]\n",
    "    row, col = np.triu_indices(n_atoms, 1)\n",
    "    dist[i, row, col] = pdist(coor)\n",
    "    \n",
    "mol.close_dcd_read(dcd_file[0])\n",
    "\n",
    "ds1 = dist[-1, :4, :4]"
   ]
  },
  {
   "cell_type": "code",
   "execution_count": 22,
   "metadata": {
    "collapsed": false
   },
   "outputs": [
    {
     "name": "stdout",
     "output_type": "stream",
     "text": [
      "number of frames: 5\n",
      "number of atoms: 2048\n",
      ".....result =  0\n",
      "number of frames: 5\n",
      "number of atoms: 2048\n",
      ".....result =  0\n",
      "number of frames: 5\n",
      "number of atoms: 2048\n",
      ".....result =  0\n",
      "number of frames: 5\n",
      "number of atoms: 2048\n",
      ".....result =  0\n",
      "1 loop, best of 3: 217 ms per loop\n"
     ]
    }
   ],
   "source": [
    "%%timeit\n",
    "# scipy version 2 (with boolean-indexing)\n",
    "dcd_file = mol.open_dcd_read(dcd_fname)\n",
    "\n",
    "n_atoms = mol.natoms()\n",
    "n_frames = dcd_file[2]\n",
    "\n",
    "print('number of frames: {}'.format(n_frames))\n",
    "print('number of atoms: {}'.format(n_atoms))\n",
    "\n",
    "dist = np.zeros([n_frames, n_atoms, n_atoms])\n",
    "r = np.arange(n_atoms)\n",
    "\n",
    "for i in xrange(n_frames):\n",
    "    mol.read_dcd_step(dcd_file, i)\n",
    "    coor = mol.coor()[0]\n",
    "    dist[i, r[:, None] < r] = pdist(coor)\n",
    "    \n",
    "mol.close_dcd_read(dcd_file[0])"
   ]
  },
  {
   "cell_type": "code",
   "execution_count": 23,
   "metadata": {
    "collapsed": false
   },
   "outputs": [
    {
     "name": "stdout",
     "output_type": "stream",
     "text": [
      "number of frames: 5\n",
      "number of atoms: 2048\n",
      ".....result =  0\n"
     ]
    }
   ],
   "source": [
    "# scipy version 2 (with boolean-indexing)\n",
    "dcd_file = mol.open_dcd_read(dcd_fname)\n",
    "\n",
    "n_atoms = mol.natoms()\n",
    "n_frames = dcd_file[2]\n",
    "\n",
    "print('number of frames: {}'.format(n_frames))\n",
    "print('number of atoms: {}'.format(n_atoms))\n",
    "\n",
    "dist = np.zeros([n_frames, n_atoms, n_atoms])\n",
    "r = np.arange(n_atoms)\n",
    "\n",
    "for i in xrange(n_frames):\n",
    "    mol.read_dcd_step(dcd_file, i)\n",
    "    coor = mol.coor()[0]\n",
    "    dist[i, r[:, None] < r] = pdist(coor)\n",
    "    \n",
    "mol.close_dcd_read(dcd_file[0])\n",
    "\n",
    "ds2 = dist[-1, :4, :4]"
   ]
  },
  {
   "cell_type": "code",
   "execution_count": 24,
   "metadata": {
    "collapsed": false
   },
   "outputs": [
    {
     "name": "stdout",
     "output_type": "stream",
     "text": [
      "number of frames: 5\n",
      "number of atoms: 2048\n",
      ".....result =  0\n",
      "number of frames: 5\n",
      "number of atoms: 2048\n",
      ".....result =  0\n",
      "number of frames: 5\n",
      "number of atoms: 2048\n",
      ".....result =  0\n",
      "number of frames: 5\n",
      "number of atoms: 2048\n",
      ".....result =  0\n",
      "number of frames: 5\n",
      "number of atoms: 2048\n",
      ".....result =  0\n",
      "number of frames: 5\n",
      "number of atoms: 2048\n",
      ".....result =  0\n",
      "number of frames: 5\n",
      "number of atoms: 2048\n",
      ".....result =  0\n",
      "number of frames: 5\n",
      "number of atoms: 2048\n",
      ".....result =  0\n",
      "number of frames: 5\n",
      "number of atoms: 2048\n",
      ".....result =  0\n",
      "number of frames: 5\n",
      "number of atoms: 2048\n",
      ".....result =  0\n",
      "number of frames: 5\n",
      "number of atoms: 2048\n",
      ".....result =  0\n",
      "number of frames: 5\n",
      "number of atoms: 2048\n",
      ".....result =  0\n",
      "number of frames: 5\n",
      "number of atoms: 2048\n",
      ".....result =  0\n",
      "number of frames: 5\n",
      "number of atoms: 2048\n",
      ".....result =  0\n",
      "number of frames: 5\n",
      "number of atoms: 2048\n",
      ".....result =  0\n",
      "number of frames: 5\n",
      "number of atoms: 2048\n",
      ".....result =  0\n",
      "number of frames: 5\n",
      "number of atoms: 2048\n",
      ".....result =  0\n",
      "number of frames: 5\n",
      "number of atoms: 2048\n",
      ".....result =  0\n",
      "number of frames: 5\n",
      "number of atoms: 2048\n",
      ".....result =  0\n",
      "number of frames: 5\n",
      "number of atoms: 2048\n",
      ".....result =  0\n",
      "number of frames: 5\n",
      "number of atoms: 2048\n",
      ".....result =  0\n",
      "number of frames: 5\n",
      "number of atoms: 2048\n",
      ".....result =  0\n",
      "number of frames: 5\n",
      "number of atoms: 2048\n",
      ".....result =  0\n",
      "number of frames: 5\n",
      "number of atoms: 2048\n",
      ".....result =  0\n",
      "number of frames: 5\n",
      "number of atoms: 2048\n",
      ".....result =  0\n",
      "number of frames: 5\n",
      "number of atoms: 2048\n",
      ".....result =  0\n",
      "number of frames: 5\n",
      "number of atoms: 2048\n",
      ".....result =  0\n",
      "number of frames: 5\n",
      "number of atoms: 2048\n",
      ".....result =  0\n",
      "number of frames: 5\n",
      "number of atoms: 2048\n",
      ".....result =  0\n",
      "number of frames: 5\n",
      "number of atoms: 2048\n",
      ".....result =  0\n",
      "number of frames: 5\n",
      "number of atoms: 2048\n",
      ".....result =  0\n",
      "number of frames: 5\n",
      "number of atoms: 2048\n",
      ".....result =  0\n",
      "number of frames: 5\n",
      "number of atoms: 2048\n",
      ".....result =  0\n",
      "number of frames: 5\n",
      "number of atoms: 2048\n",
      ".....result =  0\n",
      "number of frames: 5\n",
      "number of atoms: 2048\n",
      ".....result =  0\n",
      "number of frames: 5\n",
      "number of atoms: 2048\n",
      ".....result =  0\n",
      "number of frames: 5\n",
      "number of atoms: 2048\n",
      ".....result =  0\n",
      "number of frames: 5\n",
      "number of atoms: 2048\n",
      ".....result =  0\n",
      "number of frames: 5\n",
      "number of atoms: 2048\n",
      ".....result =  0\n",
      "number of frames: 5\n",
      "number of atoms: 2048\n",
      ".....result =  0\n",
      "number of frames: 5\n",
      "number of atoms: 2048\n",
      ".....result =  0\n",
      "10 loops, best of 3: 69.8 ms per loop\n"
     ]
    }
   ],
   "source": [
    "%%timeit\n",
    "# scipy version 2 without producing matrix\n",
    "dcd_file = mol.open_dcd_read(dcd_fname)\n",
    "\n",
    "n_atoms = mol.natoms()\n",
    "n_frames = dcd_file[2]\n",
    "\n",
    "print('number of frames: {}'.format(n_frames))\n",
    "print('number of atoms: {}'.format(n_atoms))\n",
    "\n",
    "n_dists = int(0.5 * n_atoms * (n_atoms - 1))\n",
    "dist = np.zeros([n_frames, n_dists])\n",
    "r = np.arange(n_atoms)\n",
    "\n",
    "for i in xrange(n_frames):\n",
    "    mol.read_dcd_step(dcd_file, i)\n",
    "    coor = mol.coor()[0]\n",
    "    dist[i] = pdist(coor)\n",
    "    \n",
    "mol.close_dcd_read(dcd_file[0])\n",
    "\n",
    "ds2 = dist[-1, :16]"
   ]
  },
  {
   "cell_type": "code",
   "execution_count": 26,
   "metadata": {
    "collapsed": false
   },
   "outputs": [
    {
     "data": {
      "text/plain": [
       "(array([[  0.        ,   9.55838011,  12.49256537,  11.12902151],\n",
       "        [  0.        ,   0.        ,   7.85849646,   4.99603282],\n",
       "        [  0.        ,   0.        ,   0.        ,  12.75118492],\n",
       "        [  0.        ,   0.        ,   0.        ,   0.        ]]),\n",
       " array([[  0.        ,   9.55838011,  12.49256537,  11.12902151],\n",
       "        [  9.55838011,   0.        ,   7.85849646,   4.99603282],\n",
       "        [ 12.49256537,   7.85849646,   0.        ,  12.75118492],\n",
       "        [ 11.12902151,   4.99603282,  12.75118492,   0.        ]]),\n",
       " array([[  0.        ,   9.55838011,  12.49256537,  11.12902151],\n",
       "        [  0.        ,   0.        ,   7.85849646,   4.99603282],\n",
       "        [  0.        ,   0.        ,   0.        ,  12.75118492],\n",
       "        [  0.        ,   0.        ,   0.        ,   0.        ]]),\n",
       " array([[  0.        ,   9.55838011,  12.49256537,  11.12902151],\n",
       "        [  0.        ,   0.        ,   7.85849646,   4.99603282],\n",
       "        [  0.        ,   0.        ,   0.        ,  12.75118492],\n",
       "        [  0.        ,   0.        ,   0.        ,   0.        ]]))"
      ]
     },
     "execution_count": 26,
     "metadata": {},
     "output_type": "execute_result"
    }
   ],
   "source": [
    "dp, dn, ds1, ds2"
   ]
  },
  {
   "cell_type": "code",
   "execution_count": 27,
   "metadata": {
    "collapsed": false
   },
   "outputs": [
    {
     "name": "stdout",
     "output_type": "stream",
     "text": [
      "[[  0.           0.           0.           0.        ]\n",
      " [  9.55838011   0.           0.           0.        ]\n",
      " [ 12.49256537   7.85849646   0.           0.        ]\n",
      " [ 11.12902151   4.99603282  12.75118492   0.        ]]\n",
      "[[  0.           0.           0.           0.        ]\n",
      " [  9.55838011   0.           0.           0.        ]\n",
      " [ 12.49256537   7.85849646   0.           0.        ]\n",
      " [ 11.12902151   4.99603282  12.75118492   0.        ]]\n"
     ]
    }
   ],
   "source": [
    "print(dn-ds1)\n",
    "print(dn-ds2)"
   ]
  },
  {
   "cell_type": "code",
   "execution_count": 28,
   "metadata": {
    "collapsed": false,
    "scrolled": true
   },
   "outputs": [
    {
     "ename": "NameError",
     "evalue": "global name 'box_length' is not defined",
     "output_type": "error",
     "traceback": [
      "\u001b[0;31m---------------------------------------------------------------------------\u001b[0m",
      "\u001b[0;31mNameError\u001b[0m                                 Traceback (most recent call last)",
      "\u001b[0;32m<ipython-input-28-cee40ea523f9>\u001b[0m in \u001b[0;36m<module>\u001b[0;34m()\u001b[0m\n\u001b[0;32m----> 1\u001b[0;31m \u001b[0mget_ipython\u001b[0m\u001b[0;34m(\u001b[0m\u001b[0;34m)\u001b[0m\u001b[0;34m.\u001b[0m\u001b[0mrun_cell_magic\u001b[0m\u001b[0;34m(\u001b[0m\u001b[0;34mu'timeit'\u001b[0m\u001b[0;34m,\u001b[0m \u001b[0;34mu''\u001b[0m\u001b[0;34m,\u001b[0m \u001b[0;34mu'dx = pdist(coor[:, :1])\\ndy = pdist(coor[:, 1:2])\\ndz = pdist(coor[:, 2:])\\n    \\ndx -= box_length * ((dx / box_length).round())\\ndy -= box_length * ((dy / box_length).round())\\ndz -= box_length * ((dz / box_length).round())\\n\\nr = np.sqrt((dx * dx) + (dy * dy) + (dz * dz))\\n\\nr_i = (r[r < box_length / 2.0] / delta_r).astype(int)  # round down\\nr_i_unique = np.unique(r_i, return_counts=True)\\ngr[r_i_unique[0]] += 2 * r_i_unique[1]'\u001b[0m\u001b[0;34m)\u001b[0m\u001b[0;34m\u001b[0m\u001b[0m\n\u001b[0m",
      "\u001b[0;32m/home/schowell/data/myPrograms/anaconda/lib/python2.7/site-packages/IPython/core/interactiveshell.pyc\u001b[0m in \u001b[0;36mrun_cell_magic\u001b[0;34m(self, magic_name, line, cell)\u001b[0m\n\u001b[1;32m   2113\u001b[0m             \u001b[0mmagic_arg_s\u001b[0m \u001b[0;34m=\u001b[0m \u001b[0mself\u001b[0m\u001b[0;34m.\u001b[0m\u001b[0mvar_expand\u001b[0m\u001b[0;34m(\u001b[0m\u001b[0mline\u001b[0m\u001b[0;34m,\u001b[0m \u001b[0mstack_depth\u001b[0m\u001b[0;34m)\u001b[0m\u001b[0;34m\u001b[0m\u001b[0m\n\u001b[1;32m   2114\u001b[0m             \u001b[0;32mwith\u001b[0m \u001b[0mself\u001b[0m\u001b[0;34m.\u001b[0m\u001b[0mbuiltin_trap\u001b[0m\u001b[0;34m:\u001b[0m\u001b[0;34m\u001b[0m\u001b[0m\n\u001b[0;32m-> 2115\u001b[0;31m                 \u001b[0mresult\u001b[0m \u001b[0;34m=\u001b[0m \u001b[0mfn\u001b[0m\u001b[0;34m(\u001b[0m\u001b[0mmagic_arg_s\u001b[0m\u001b[0;34m,\u001b[0m \u001b[0mcell\u001b[0m\u001b[0;34m)\u001b[0m\u001b[0;34m\u001b[0m\u001b[0m\n\u001b[0m\u001b[1;32m   2116\u001b[0m             \u001b[0;32mreturn\u001b[0m \u001b[0mresult\u001b[0m\u001b[0;34m\u001b[0m\u001b[0m\n\u001b[1;32m   2117\u001b[0m \u001b[0;34m\u001b[0m\u001b[0m\n",
      "\u001b[0;32m<decorator-gen-58>\u001b[0m in \u001b[0;36mtimeit\u001b[0;34m(self, line, cell)\u001b[0m\n",
      "\u001b[0;32m/home/schowell/data/myPrograms/anaconda/lib/python2.7/site-packages/IPython/core/magic.pyc\u001b[0m in \u001b[0;36m<lambda>\u001b[0;34m(f, *a, **k)\u001b[0m\n\u001b[1;32m    186\u001b[0m     \u001b[0;31m# but it's overkill for just that one bit of state.\u001b[0m\u001b[0;34m\u001b[0m\u001b[0;34m\u001b[0m\u001b[0m\n\u001b[1;32m    187\u001b[0m     \u001b[0;32mdef\u001b[0m \u001b[0mmagic_deco\u001b[0m\u001b[0;34m(\u001b[0m\u001b[0marg\u001b[0m\u001b[0;34m)\u001b[0m\u001b[0;34m:\u001b[0m\u001b[0;34m\u001b[0m\u001b[0m\n\u001b[0;32m--> 188\u001b[0;31m         \u001b[0mcall\u001b[0m \u001b[0;34m=\u001b[0m \u001b[0;32mlambda\u001b[0m \u001b[0mf\u001b[0m\u001b[0;34m,\u001b[0m \u001b[0;34m*\u001b[0m\u001b[0ma\u001b[0m\u001b[0;34m,\u001b[0m \u001b[0;34m**\u001b[0m\u001b[0mk\u001b[0m\u001b[0;34m:\u001b[0m \u001b[0mf\u001b[0m\u001b[0;34m(\u001b[0m\u001b[0;34m*\u001b[0m\u001b[0ma\u001b[0m\u001b[0;34m,\u001b[0m \u001b[0;34m**\u001b[0m\u001b[0mk\u001b[0m\u001b[0;34m)\u001b[0m\u001b[0;34m\u001b[0m\u001b[0m\n\u001b[0m\u001b[1;32m    189\u001b[0m \u001b[0;34m\u001b[0m\u001b[0m\n\u001b[1;32m    190\u001b[0m         \u001b[0;32mif\u001b[0m \u001b[0mcallable\u001b[0m\u001b[0;34m(\u001b[0m\u001b[0marg\u001b[0m\u001b[0;34m)\u001b[0m\u001b[0;34m:\u001b[0m\u001b[0;34m\u001b[0m\u001b[0m\n",
      "\u001b[0;32m/home/schowell/data/myPrograms/anaconda/lib/python2.7/site-packages/IPython/core/magics/execution.pyc\u001b[0m in \u001b[0;36mtimeit\u001b[0;34m(self, line, cell)\u001b[0m\n\u001b[1;32m   1042\u001b[0m             \u001b[0mnumber\u001b[0m \u001b[0;34m=\u001b[0m \u001b[0;36m1\u001b[0m\u001b[0;34m\u001b[0m\u001b[0m\n\u001b[1;32m   1043\u001b[0m             \u001b[0;32mfor\u001b[0m \u001b[0m_\u001b[0m \u001b[0;32min\u001b[0m \u001b[0mrange\u001b[0m\u001b[0;34m(\u001b[0m\u001b[0;36m1\u001b[0m\u001b[0;34m,\u001b[0m \u001b[0;36m10\u001b[0m\u001b[0;34m)\u001b[0m\u001b[0;34m:\u001b[0m\u001b[0;34m\u001b[0m\u001b[0m\n\u001b[0;32m-> 1044\u001b[0;31m                 \u001b[0mtime_number\u001b[0m \u001b[0;34m=\u001b[0m \u001b[0mtimer\u001b[0m\u001b[0;34m.\u001b[0m\u001b[0mtimeit\u001b[0m\u001b[0;34m(\u001b[0m\u001b[0mnumber\u001b[0m\u001b[0;34m)\u001b[0m\u001b[0;34m\u001b[0m\u001b[0m\n\u001b[0m\u001b[1;32m   1045\u001b[0m                 \u001b[0mworst_tuning\u001b[0m \u001b[0;34m=\u001b[0m \u001b[0mmax\u001b[0m\u001b[0;34m(\u001b[0m\u001b[0mworst_tuning\u001b[0m\u001b[0;34m,\u001b[0m \u001b[0mtime_number\u001b[0m \u001b[0;34m/\u001b[0m \u001b[0mnumber\u001b[0m\u001b[0;34m)\u001b[0m\u001b[0;34m\u001b[0m\u001b[0m\n\u001b[1;32m   1046\u001b[0m                 \u001b[0;32mif\u001b[0m \u001b[0mtime_number\u001b[0m \u001b[0;34m>=\u001b[0m \u001b[0;36m0.2\u001b[0m\u001b[0;34m:\u001b[0m\u001b[0;34m\u001b[0m\u001b[0m\n",
      "\u001b[0;32m/home/schowell/data/myPrograms/anaconda/lib/python2.7/site-packages/IPython/core/magics/execution.pyc\u001b[0m in \u001b[0;36mtimeit\u001b[0;34m(self, number)\u001b[0m\n\u001b[1;32m    137\u001b[0m         \u001b[0mgc\u001b[0m\u001b[0;34m.\u001b[0m\u001b[0mdisable\u001b[0m\u001b[0;34m(\u001b[0m\u001b[0;34m)\u001b[0m\u001b[0;34m\u001b[0m\u001b[0m\n\u001b[1;32m    138\u001b[0m         \u001b[0;32mtry\u001b[0m\u001b[0;34m:\u001b[0m\u001b[0;34m\u001b[0m\u001b[0m\n\u001b[0;32m--> 139\u001b[0;31m             \u001b[0mtiming\u001b[0m \u001b[0;34m=\u001b[0m \u001b[0mself\u001b[0m\u001b[0;34m.\u001b[0m\u001b[0minner\u001b[0m\u001b[0;34m(\u001b[0m\u001b[0mit\u001b[0m\u001b[0;34m,\u001b[0m \u001b[0mself\u001b[0m\u001b[0;34m.\u001b[0m\u001b[0mtimer\u001b[0m\u001b[0;34m)\u001b[0m\u001b[0;34m\u001b[0m\u001b[0m\n\u001b[0m\u001b[1;32m    140\u001b[0m         \u001b[0;32mfinally\u001b[0m\u001b[0;34m:\u001b[0m\u001b[0;34m\u001b[0m\u001b[0m\n\u001b[1;32m    141\u001b[0m             \u001b[0;32mif\u001b[0m \u001b[0mgcold\u001b[0m\u001b[0;34m:\u001b[0m\u001b[0;34m\u001b[0m\u001b[0m\n",
      "\u001b[0;32m<magic-timeit>\u001b[0m in \u001b[0;36minner\u001b[0;34m(_it, _timer)\u001b[0m\n",
      "\u001b[0;31mNameError\u001b[0m: global name 'box_length' is not defined"
     ]
    }
   ],
   "source": [
    "%%timeit\n",
    "dx = pdist(coor[:, :1])\n",
    "dy = pdist(coor[:, 1:2])\n",
    "dz = pdist(coor[:, 2:])\n",
    "    \n",
    "dx -= box_length * ((dx / box_length).round())\n",
    "dy -= box_length * ((dy / box_length).round())\n",
    "dz -= box_length * ((dz / box_length).round())\n",
    "\n",
    "r = np.sqrt((dx * dx) + (dy * dy) + (dz * dz))\n",
    "\n",
    "r_i = (r[r < box_length / 2.0] / delta_r).astype(int)  # round down\n",
    "r_i_unique = np.unique(r_i, return_counts=True)\n",
    "gr[r_i_unique[0]] += 2 * r_i_unique[1]"
   ]
  },
  {
   "cell_type": "code",
   "execution_count": null,
   "metadata": {
    "collapsed": false
   },
   "outputs": [],
   "source": [
    "%%timeit\n",
    "dx = pdist(coor[:, :1])\n",
    "dy = pdist(coor[:, 1:2])\n",
    "dz = pdist(coor[:, 2:])\n",
    "    \n",
    "dx -= box_length * ((dx / box_length).round())\n",
    "dy -= box_length * ((dy / box_length).round())\n",
    "dz -= box_length * ((dz / box_length).round())\n",
    "\n",
    "r = np.sqrt((dx * dx) + (dy * dy) + (dz * dz))\n",
    "\n",
    "for r_i in (r[r < box_length / 2.0] / delta_r).astype(int):\n",
    "    gr[r_i] += 2"
   ]
  },
  {
   "cell_type": "code",
   "execution_count": null,
   "metadata": {
    "collapsed": false
   },
   "outputs": [],
   "source": [
    "%%timeit\n",
    "dx = pdist(coor[:, :1])\n",
    "dy = pdist(coor[:, 1:2])\n",
    "dz = pdist(coor[:, 2:])\n",
    "    \n",
    "dx -= box_length * ((dx / box_length).round())\n",
    "dy -= box_length * ((dy / box_length).round())\n",
    "dz -= box_length * ((dz / box_length).round())\n",
    "\n",
    "r = np.linalg.norm(np.c_[dx, dy, dz], axis=1)\n",
    "\n",
    "r_i = (r[r < box_length / 2.0] / delta_r).astype(int)  # round down\n",
    "r_i_unique = np.unique(r_i, return_counts=True)\n",
    "gr[r_i_unique[0]] += 2 * r_i_unique[1]"
   ]
  },
  {
   "cell_type": "code",
   "execution_count": null,
   "metadata": {
    "collapsed": false
   },
   "outputs": [],
   "source": [
    "%%timeit\n",
    "dx = pdist(coor[:, :1])\n",
    "dy = pdist(coor[:, 1:2])\n",
    "dz = pdist(coor[:, 2:])\n",
    "\n",
    "dcoor = np.c_[dx, dy, dz]    \n",
    "dcoor -= box_length * ((dcoor / box_length).round())\n",
    "\n",
    "r = np.linalg.norm(dcoor, axis=1)\n",
    "\n",
    "r_i = (r[r < box_length / 2.0] / delta_r).astype(int)  # round down\n",
    "r_i_unique = np.unique(r_i, return_counts=True)\n",
    "gr[r_i_unique[0]] += 2 * r_i_unique[1]"
   ]
  },
  {
   "cell_type": "code",
   "execution_count": null,
   "metadata": {
    "collapsed": false
   },
   "outputs": [],
   "source": [
    "gr0 = np.zeros(int(box_length/delta_r))\n",
    "dx = pdist(coor[:, :1])\n",
    "dy = pdist(coor[:, 1:2])\n",
    "dz = pdist(coor[:, 2:])\n",
    "    \n",
    "dx -= box_length * ((dx / box_length).round())\n",
    "dy -= box_length * ((dy / box_length).round())\n",
    "dz -= box_length * ((dz / box_length).round())\n",
    "\n",
    "r = np.sqrt((dx * dx) + (dy * dy) + (dz * dz))\n",
    "\n",
    "r_i = (r[r < box_length / 2.0] / delta_r).astype(int)  # round down\n",
    "r_i_unique = np.unique(r_i, return_counts=True)\n",
    "gr0[r_i_unique[0]] += 2 * r_i_unique[1]"
   ]
  },
  {
   "cell_type": "code",
   "execution_count": null,
   "metadata": {
    "collapsed": false,
    "scrolled": true
   },
   "outputs": [],
   "source": [
    "gr0[10:20]"
   ]
  },
  {
   "cell_type": "code",
   "execution_count": null,
   "metadata": {
    "collapsed": false
   },
   "outputs": [],
   "source": [
    "gr1 = np.zeros(int(box_length/delta_r))\n",
    "dx = pdist(coor[:, :1])\n",
    "dy = pdist(coor[:, 1:2])\n",
    "dz = pdist(coor[:, 2:])\n",
    "    \n",
    "dx -= box_length * ((dx / box_length).round())\n",
    "dy -= box_length * ((dy / box_length).round())\n",
    "dz -= box_length * ((dz / box_length).round())\n",
    "\n",
    "r1 = np.linalg.norm(np.c_[dx, dy, dz], axis=1)\n",
    "\n",
    "r_i = (r1[r1 < box_length / 2.0] / delta_r).astype(int)  # round down\n",
    "r_i_unique = np.unique(r_i, return_counts=True)\n",
    "gr1[r_i_unique[0]] += 2 * r_i_unique[1]"
   ]
  },
  {
   "cell_type": "code",
   "execution_count": null,
   "metadata": {
    "collapsed": false
   },
   "outputs": [],
   "source": [
    "gr1[10:20]"
   ]
  },
  {
   "cell_type": "code",
   "execution_count": null,
   "metadata": {
    "collapsed": false
   },
   "outputs": [],
   "source": [
    "gr2 = np.zeros(int(box_length/delta_r))\n",
    "dx = pdist(coor[:, :1])\n",
    "dy = pdist(coor[:, 1:2])\n",
    "dz = pdist(coor[:, 2:])\n",
    "\n",
    "dcoor = np.c_[dx, dy, dz]    \n",
    "dcoor -= box_length * ((dcoor / box_length).round())\n",
    "r2 = np.linalg.norm(dcoor, axis=1)\n",
    "\n",
    "r_i = (r2[r2 < box_length / 2.0] / delta_r).astype(int)  # round down\n",
    "r_i_unique = np.unique(r_i, return_counts=True)\n",
    "gr2[r_i_unique[0]] += 2 * r_i_unique[1]"
   ]
  },
  {
   "cell_type": "code",
   "execution_count": null,
   "metadata": {
    "collapsed": false
   },
   "outputs": [],
   "source": [
    "gr2[10:20]"
   ]
  },
  {
   "cell_type": "code",
   "execution_count": null,
   "metadata": {
    "collapsed": false
   },
   "outputs": [],
   "source": [
    "%%timeit \n",
    "dist = np.zeros([2048*2047/2, 3])\n",
    "dist[:, 0] = pdist(coor[:, :1])\n",
    "dist[:, 1] = pdist(coor[:, 0:2])\n",
    "dist[:, 2] = pdist(coor[:, 1:])\n",
    "dist -= box_length * (dist / box_length).round()\n",
    "dist = np.linalg.norm(dist, axis=1)\n",
    "# dist = np.sqrt((dist ** 2).sum(axis=1))"
   ]
  },
  {
   "cell_type": "code",
   "execution_count": null,
   "metadata": {
    "collapsed": false
   },
   "outputs": [],
   "source": [
    "dist = np.zeros([2048*2047/2, 3])\n",
    "dist[:, 0] = pdist(coor[:, :1])\n",
    "dist[:, 1] = pdist(coor[:, 0:2])\n",
    "dist[:, 2] = pdist(coor[:, 1:])\n",
    "dist -= box_length * (dist / box_length).round()\n",
    "dist = np.linalg.norm(dist, axis=1)\n",
    "#dist = np.sqrt((dist ** 2).sum(axis=1))"
   ]
  },
  {
   "cell_type": "code",
   "execution_count": 29,
   "metadata": {
    "collapsed": false,
    "scrolled": true
   },
   "outputs": [
    {
     "data": {
      "text/plain": [
       "array([[[  0.        ,   9.51893197,  12.39790455, ...,  14.24272878,\n",
       "          12.67773685,   6.42020945],\n",
       "        [  0.        ,   0.        ,   7.84797516, ...,   5.48464127,\n",
       "           8.22573826,   6.71877054],\n",
       "        [  0.        ,   0.        ,   0.        , ...,   9.40489263,\n",
       "          11.90410877,  10.54183759],\n",
       "        ..., \n",
       "        [  0.        ,   0.        ,   0.        , ...,   0.        ,\n",
       "           6.44510459,   9.35923539],\n",
       "        [  0.        ,   0.        ,   0.        , ...,   0.        ,\n",
       "           0.        ,   6.30163111],\n",
       "        [  0.        ,   0.        ,   0.        , ...,   0.        ,\n",
       "           0.        ,   0.        ]],\n",
       "\n",
       "       [[  0.        ,   9.38826942,  12.39777216, ...,  14.30050004,\n",
       "          12.60315022,   6.3477412 ],\n",
       "        [  0.        ,   0.        ,   7.79215351, ...,   5.71410856,\n",
       "           8.33435722,   6.71334543],\n",
       "        [  0.        ,   0.        ,   0.        , ...,   9.33329583,\n",
       "          11.91714298,  10.54510141],\n",
       "        ..., \n",
       "        [  0.        ,   0.        ,   0.        , ...,   0.        ,\n",
       "           6.53752058,   9.46666044],\n",
       "        [  0.        ,   0.        ,   0.        , ...,   0.        ,\n",
       "           0.        ,   6.29786862],\n",
       "        [  0.        ,   0.        ,   0.        , ...,   0.        ,\n",
       "           0.        ,   0.        ]],\n",
       "\n",
       "       [[  0.        ,   9.44787975,  12.40979772, ...,  14.18997046,\n",
       "          12.48391836,   6.35226877],\n",
       "        [  0.        ,   0.        ,   7.73450222, ...,   5.48482784,\n",
       "           8.17649428,   6.83305141],\n",
       "        [  0.        ,   0.        ,   0.        , ...,   9.36241153,\n",
       "          11.77315822,  10.62645888],\n",
       "        ..., \n",
       "        [  0.        ,   0.        ,   0.        , ...,   0.        ,\n",
       "           6.51643097,   9.48312539],\n",
       "        [  0.        ,   0.        ,   0.        , ...,   0.        ,\n",
       "           0.        ,   6.19365049],\n",
       "        [  0.        ,   0.        ,   0.        , ...,   0.        ,\n",
       "           0.        ,   0.        ]],\n",
       "\n",
       "       [[  0.        ,   9.52798087,  12.55359664, ...,  14.38370089,\n",
       "          12.6695726 ,   6.43634322],\n",
       "        [  0.        ,   0.        ,   7.86589246, ...,   5.55685791,\n",
       "           8.2693958 ,   6.71857825],\n",
       "        [  0.        ,   0.        ,   0.        , ...,   9.31045902,\n",
       "          11.90959245,  10.7241521 ],\n",
       "        ..., \n",
       "        [  0.        ,   0.        ,   0.        , ...,   0.        ,\n",
       "           6.693443  ,   9.52930091],\n",
       "        [  0.        ,   0.        ,   0.        , ...,   0.        ,\n",
       "           0.        ,   6.2660195 ],\n",
       "        [  0.        ,   0.        ,   0.        , ...,   0.        ,\n",
       "           0.        ,   0.        ]],\n",
       "\n",
       "       [[  0.        ,   9.55838011,  12.49256537, ...,  14.22157702,\n",
       "          12.57332434,   6.26218217],\n",
       "        [  0.        ,   0.        ,   7.85849646, ...,   5.48200268,\n",
       "           8.25771635,   6.90836714],\n",
       "        [  0.        ,   0.        ,   0.        , ...,   9.39765431,\n",
       "          11.70989898,  10.67625833],\n",
       "        ..., \n",
       "        [  0.        ,   0.        ,   0.        , ...,   0.        ,\n",
       "           6.44483313,   9.51453545],\n",
       "        [  0.        ,   0.        ,   0.        , ...,   0.        ,\n",
       "           0.        ,   6.36196986],\n",
       "        [  0.        ,   0.        ,   0.        , ...,   0.        ,\n",
       "           0.        ,   0.        ]]])"
      ]
     },
     "execution_count": 29,
     "metadata": {},
     "output_type": "execute_result"
    }
   ],
   "source": [
    "dist[:10]"
   ]
  },
  {
   "cell_type": "code",
   "execution_count": 30,
   "metadata": {
    "collapsed": false
   },
   "outputs": [
    {
     "name": "stdout",
     "output_type": "stream",
     "text": [
      "[[  0.           0.           0.           0.        ]\n",
      " [  9.55838011   0.           0.           0.        ]\n",
      " [ 12.49256537   7.85849646   0.           0.        ]\n",
      " [ 11.12902151   4.99603282  12.75118492   0.        ]]\n",
      "[[  0.           0.           0.           0.        ]\n",
      " [  9.55838011   0.           0.           0.        ]\n",
      " [ 12.49256537   7.85849646   0.           0.        ]\n",
      " [ 11.12902151   4.99603282  12.75118492   0.        ]]\n"
     ]
    }
   ],
   "source": [
    "print(dn-ds1)\n",
    "print(dn-ds2)"
   ]
  },
  {
   "cell_type": "code",
   "execution_count": 31,
   "metadata": {
    "collapsed": false
   },
   "outputs": [
    {
     "name": "stdout",
     "output_type": "stream",
     "text": [
      "number of frames: 5\n",
      "number of atoms: 2048\n",
      ".....result =  0\n",
      "number of frames: 5\n",
      "number of atoms: 2048\n",
      ".....result =  0\n",
      "number of frames: 5\n",
      "number of atoms: 2048\n",
      ".....result =  0\n",
      "number of frames: 5\n",
      "number of atoms: 2048\n",
      ".....result =  0\n",
      "1 loop, best of 3: 350 ms per loop\n"
     ]
    }
   ],
   "source": [
    "%%timeit\n",
    "# old fortran version (old_distance.so compiled using setup_<something>.py)\n",
    "dcd_file = mol.open_dcd_read(dcd_fname)\n",
    "\n",
    "n_atoms = mol.natoms()\n",
    "n_frames = dcd_file[2]\n",
    "\n",
    "print('number of frames: {}'.format(n_frames))\n",
    "print('number of atoms: {}'.format(n_atoms))\n",
    "\n",
    "dist = np.zeros([n_frames, n_atoms, n_atoms])\n",
    "\n",
    "for i in xrange(n_frames):\n",
    "    mol.read_dcd_step(dcd_file, i)\n",
    "    coor = mol.coor()[0]\n",
    "    dist[0] = distance(coor, dist[0])\n",
    "    \n",
    "mol.close_dcd_read(dcd_file[0])"
   ]
  },
  {
   "cell_type": "code",
   "execution_count": 41,
   "metadata": {
    "collapsed": false
   },
   "outputs": [
    {
     "name": "stdout",
     "output_type": "stream",
     "text": [
      "number of frames: 5\n",
      "number of atoms: 2048\n",
      ".....result =  0\n",
      "number of frames: 5\n",
      "number of atoms: 2048\n",
      ".....result =  0\n",
      "number of frames: 5\n",
      "number of atoms: 2048\n",
      ".....result =  0\n",
      "number of frames: 5\n",
      "number of atoms: 2048\n",
      ".....result =  0\n",
      "1 loop, best of 3: 353 ms per loop\n"
     ]
    }
   ],
   "source": [
    "%%timeit\n",
    "# new fortran version (new_distance.so compiled using `f2py -c distance.f --f77flags='-mavx' distance.so`)\n",
    "dcd_file = mol.open_dcd_read(dcd_fname)\n",
    "\n",
    "n_atoms = mol.natoms()\n",
    "n_frames = dcd_file[2]\n",
    "\n",
    "print('number of frames: {}'.format(n_frames))\n",
    "print('number of atoms: {}'.format(n_atoms))\n",
    "\n",
    "dist = np.zeros([n_frames, n_atoms, n_atoms])\n",
    "\n",
    "for i in xrange(n_frames):\n",
    "    mol.read_dcd_step(dcd_file, i)\n",
    "    coor = mol.coor()[0]\n",
    "    dist[0] = distance(coor, dist[0])\n",
    "    \n",
    "mol.close_dcd_read(dcd_file[0])"
   ]
  },
  {
   "cell_type": "code",
   "execution_count": null,
   "metadata": {
    "collapsed": true
   },
   "outputs": [],
   "source": []
  },
  {
   "cell_type": "code",
   "execution_count": null,
   "metadata": {
    "collapsed": true
   },
   "outputs": [],
   "source": [
    "805 s"
   ]
  },
  {
   "cell_type": "code",
   "execution_count": null,
   "metadata": {
    "collapsed": false
   },
   "outputs": [],
   "source": [
    "# fortran version\n",
    "dcd_file = mol.open_dcd_read(dcd_fname)\n",
    "\n",
    "n_atoms = mol.natoms()\n",
    "n_frames = dcd_file[2]\n",
    "\n",
    "print('number of frames: {}'.format(n_frames))\n",
    "print('number of atoms: {}'.format(n_atoms))\n",
    "\n",
    "dist = np.zeros([n_frames, n_atoms, n_atoms])\n",
    "\n",
    "for i in xrange(n_frames):\n",
    "    mol.read_dcd_step(dcd_file, i)\n",
    "    coor = mol.coor()[0]\n",
    "    dist[i] = distance(coor, dist[0])\n",
    "    dist[i] = distance(coor, dist[0])\n",
    "\n",
    "mol.close_dcd_read(dcd_file[0])\n",
    "\n",
    "df = dist[-1, :4, :4]"
   ]
  },
  {
   "cell_type": "code",
   "execution_count": null,
   "metadata": {
    "collapsed": false
   },
   "outputs": [],
   "source": [
    "dn, df"
   ]
  },
  {
   "cell_type": "code",
   "execution_count": null,
   "metadata": {
    "collapsed": false
   },
   "outputs": [],
   "source": [
    "dn - df"
   ]
  },
  {
   "cell_type": "markdown",
   "metadata": {},
   "source": [
    "# Now with [Concurrent.futures](https://docs.python.org/3.2/library/concurrent.futures.html)\n",
    "This implementation presents a problem when loading many (thousands) of DCD frames.  I expect the problem is in reading in the coordinates before submitting the job to the executor.  Consider implementing `maxsize` variable, described [here](https://docs.python.org/2/library/multiprocessing.html#multiprocessing.Queue)."
   ]
  },
  {
   "cell_type": "code",
   "execution_count": 42,
   "metadata": {
    "collapsed": true
   },
   "outputs": [],
   "source": [
    "def get_dist(coor, dist, r):\n",
    "    dist[r[:, None] < r] = pdist(coor)"
   ]
  },
  {
   "cell_type": "code",
   "execution_count": 43,
   "metadata": {
    "collapsed": false
   },
   "outputs": [
    {
     "name": "stdout",
     "output_type": "stream",
     "text": [
      "number of frames: 5\n",
      "number of atoms: 2048\n",
      ".....result =  0\n",
      "number of frames: 5\n",
      "number of atoms: 2048\n",
      ".....result =  0\n",
      "number of frames: 5\n",
      "number of atoms: 2048\n",
      ".....result =  0\n",
      "number of frames: 5\n",
      "number of atoms: 2048\n",
      ".....result =  0\n",
      "number of frames: 5\n",
      "number of atoms: 2048\n",
      ".....result =  0\n",
      "number of frames: 5\n",
      "number of atoms: 2048\n",
      ".....result =  0\n",
      "number of frames: 5\n",
      "number of atoms: 2048\n",
      ".....result =  0\n",
      "number of frames: 5\n",
      "number of atoms: 2048\n",
      ".....result =  0\n",
      "number of frames: 5\n",
      "number of atoms: 2048\n",
      ".....result =  0\n",
      "number of frames: 5\n",
      "number of atoms: 2048\n",
      ".....result =  0\n",
      "number of frames: 5\n",
      "number of atoms: 2048\n",
      ".....result =  0\n",
      "number of frames: 5\n",
      "number of atoms: 2048\n",
      ".....result =  0\n",
      "number of frames: 5\n",
      "number of atoms: 2048\n",
      ".....result =  0\n",
      "number of frames: 5\n",
      "number of atoms: 2048\n",
      ".....result =  0\n",
      "number of frames: 5\n",
      "number of atoms: 2048\n",
      ".....result =  0\n",
      "number of frames: 5\n",
      "number of atoms: 2048\n",
      ".....result =  0\n",
      "number of frames: 5\n",
      "number of atoms: 2048\n",
      ".....result =  0\n",
      "number of frames: 5\n",
      "number of atoms: 2048\n",
      ".....result =  0\n",
      "number of frames: 5\n",
      "number of atoms: 2048\n",
      ".....result =  0\n",
      "number of frames: 5\n",
      "number of atoms: 2048\n",
      ".....result =  0\n",
      "number of frames: 5\n",
      "number of atoms: 2048\n",
      ".....result =  0\n",
      "number of frames: 5\n",
      "number of atoms: 2048\n",
      ".....result =  0\n",
      "number of frames: 5\n",
      "number of atoms: 2048\n",
      ".....result =  0\n",
      "number of frames: 5\n",
      "number of atoms: 2048\n",
      ".....result =  0\n",
      "number of frames: 5\n",
      "number of atoms: 2048\n",
      ".....result =  0\n",
      "number of frames: 5\n",
      "number of atoms: 2048\n",
      ".....result =  0\n",
      "number of frames: 5\n",
      "number of atoms: 2048\n",
      ".....result =  0\n",
      "number of frames: 5\n",
      "number of atoms: 2048\n",
      ".....result =  0\n",
      "number of frames: 5\n",
      "number of atoms: 2048\n",
      ".....result =  0\n",
      "number of frames: 5\n",
      "number of atoms: 2048\n",
      ".....result =  0\n",
      "number of frames: 5\n",
      "number of atoms: 2048\n",
      ".....result =  0\n",
      "number of frames: 5\n",
      "number of atoms: 2048\n",
      ".....result =  0\n",
      "number of frames: 5\n",
      "number of atoms: 2048\n",
      ".....result =  0\n",
      "number of frames: 5\n",
      "number of atoms: 2048\n",
      ".....result =  0\n",
      "number of frames: 5\n",
      "number of atoms: 2048\n",
      ".....result =  0\n",
      "number of frames: 5\n",
      "number of atoms: 2048\n",
      ".....result =  0\n",
      "number of frames: 5\n",
      "number of atoms: 2048\n",
      ".....result =  0\n",
      "number of frames: 5\n",
      "number of atoms: 2048\n",
      ".....result =  0\n",
      "number of frames: 5\n",
      "number of atoms: 2048\n",
      ".....result =  0\n",
      "number of frames: 5\n",
      "number of atoms: 2048\n",
      ".....result =  0\n",
      "number of frames: 5\n",
      "number of atoms: 2048\n",
      ".....result =  0\n",
      "10 loops, best of 3: 63.2 ms per loop\n"
     ]
    }
   ],
   "source": [
    "%%timeit\n",
    "# ThreadPoolExecutor.submit\n",
    "dcd_file = mol.open_dcd_read(dcd_fname)\n",
    "\n",
    "n_atoms = mol.natoms()\n",
    "n_frames = dcd_file[2]\n",
    "\n",
    "print('number of frames: {}'.format(n_frames))\n",
    "print('number of atoms: {}'.format(n_atoms))\n",
    "\n",
    "r = np.arange(n_atoms)\n",
    "dist = np.zeros([n_frames, n_atoms, n_atoms])\n",
    "with concurrent.futures.ThreadPoolExecutor(max_workers=n_cpu) as executor:\n",
    "    for i in xrange(n_frames):\n",
    "        mol.read_dcd_step(dcd_file, i)\n",
    "        coor = mol.coor()[0]\n",
    "        executor.submit(get_dist, coor, dist[i], r)\n",
    "    \n",
    "mol.close_dcd_read(dcd_file[0])"
   ]
  },
  {
   "cell_type": "code",
   "execution_count": 44,
   "metadata": {
    "collapsed": false
   },
   "outputs": [
    {
     "name": "stdout",
     "output_type": "stream",
     "text": [
      "number of frames: 5\n",
      "number of atoms: 2048\n",
      ".....result =  0\n",
      "number of frames: 5\n",
      "number of atoms: 2048\n",
      ".....result =  0\n",
      "number of frames: 5\n",
      "number of atoms: 2048\n",
      ".....result =  0\n",
      "number of frames: 5\n",
      "number of atoms: 2048\n",
      ".....result =  0\n",
      "1 loop, best of 3: 1.43 s per loop\n"
     ]
    }
   ],
   "source": [
    "%%timeit\n",
    "# ThreadPoolExecutor.map\n",
    "dcd_file = mol.open_dcd_read(dcd_fname)\n",
    "\n",
    "n_atoms = mol.natoms()\n",
    "n_frames = dcd_file[2]\n",
    "\n",
    "print('number of frames: {}'.format(n_frames))\n",
    "print('number of atoms: {}'.format(n_atoms))\n",
    "\n",
    "r = np.arange(n_atoms)\n",
    "dist = np.zeros([n_frames, n_atoms, n_atoms])\n",
    "with concurrent.futures.ThreadPoolExecutor(max_workers=n_cpu) as executor:\n",
    "    for i in xrange(n_frames):\n",
    "        mol.read_dcd_step(dcd_file, i)\n",
    "        coor = mol.coor()[0]\n",
    "        executor.map(get_dist, coor, dist[i], r)\n",
    "    \n",
    "mol.close_dcd_read(dcd_file[0])"
   ]
  },
  {
   "cell_type": "code",
   "execution_count": 45,
   "metadata": {
    "collapsed": false
   },
   "outputs": [
    {
     "name": "stdout",
     "output_type": "stream",
     "text": [
      "number of frames: 5\n",
      "number of atoms: 2048\n",
      ".....result =  0\n",
      "number of frames: 5\n",
      "number of atoms: 2048\n",
      ".....result =  0\n",
      "number of frames: 5\n",
      "number of atoms: 2048\n",
      ".....result =  0\n",
      "number of frames: 5\n",
      "number of atoms: 2048\n",
      ".....result =  0\n",
      "1 loop, best of 3: 533 ms per loop\n"
     ]
    }
   ],
   "source": [
    "%%timeit\n",
    "# ProcessPoolExecutor.submit\n",
    "dcd_file = mol.open_dcd_read(dcd_fname)\n",
    "\n",
    "n_atoms = mol.natoms()\n",
    "n_frames = dcd_file[2]\n",
    "\n",
    "print('number of frames: {}'.format(n_frames))\n",
    "print('number of atoms: {}'.format(n_atoms))\n",
    "\n",
    "r = np.arange(n_atoms)\n",
    "dist = np.zeros([n_frames, n_atoms, n_atoms])\n",
    "with concurrent.futures.ProcessPoolExecutor(max_workers=n_cpu) as executor:\n",
    "    for i in xrange(n_frames):\n",
    "        mol.read_dcd_step(dcd_file, i)\n",
    "        coor = mol.coor()[0]\n",
    "        executor.submit(get_dist, coor, dist[i], r)\n",
    "    \n",
    "mol.close_dcd_read(dcd_file[0])"
   ]
  },
  {
   "cell_type": "code",
   "execution_count": null,
   "metadata": {
    "collapsed": false
   },
   "outputs": [
    {
     "name": "stdout",
     "output_type": "stream",
     "text": [
      "number of frames: 5\n",
      "number of atoms: 2048\n",
      ".....result =  0\n",
      "number of frames: 5\n",
      "number of atoms: 2048\n",
      "."
     ]
    },
    {
     "name": "stderr",
     "output_type": "stream",
     "text": [
      "Traceback (most recent call last):\n",
      "  File \"/home/schowell/data/myPrograms/anaconda/lib/python2.7/multiprocessing/queues.py\", line 268, in _feed\n",
      "    send(obj)\n",
      "IOError: [Errno 32] Broken pipe\n"
     ]
    },
    {
     "name": "stdout",
     "output_type": "stream",
     "text": [
      "...."
     ]
    }
   ],
   "source": [
    "%%timeit\n",
    "# ProcessPoolExecutor.map\n",
    "dcd_file = mol.open_dcd_read(dcd_fname)\n",
    "\n",
    "n_atoms = mol.natoms()\n",
    "n_frames = dcd_file[2]\n",
    "\n",
    "print('number of frames: {}'.format(n_frames))\n",
    "print('number of atoms: {}'.format(n_atoms))\n",
    "\n",
    "r = np.arange(n_atoms)\n",
    "dist = np.zeros([n_frames, n_atoms, n_atoms])\n",
    "with concurrent.futures.ProcessPoolExecutor(max_workers=n_cpu) as executor:\n",
    "    for i in xrange(n_frames):\n",
    "        mol.read_dcd_step(dcd_file, i)\n",
    "        coor = mol.coor()[0]\n",
    "        executor.map(get_dist, coor, dist[i], r)\n",
    "    \n",
    "mol.close_dcd_read(dcd_file[0])"
   ]
  },
  {
   "cell_type": "markdown",
   "metadata": {},
   "source": [
    "`ThreadPoolExecutor` with `submit()` is much faster, probably because I did not setup iterators for `map()` (not sure about `ProcessPoolExecutor`)"
   ]
  },
  {
   "cell_type": "code",
   "execution_count": null,
   "metadata": {
    "collapsed": false
   },
   "outputs": [],
   "source": [
    "# ThreadPoolExecutor with submit\n",
    "dcd_file = mol.open_dcd_read(dcd_fname)\n",
    "\n",
    "n_atoms = mol.natoms()\n",
    "n_frames = dcd_file[2]\n",
    "\n",
    "print('number of frames: {}'.format(n_frames))\n",
    "print('number of atoms: {}'.format(n_atoms))\n",
    "\n",
    "r = np.arange(n_atoms)\n",
    "dist = np.zeros([n_frames, n_atoms, n_atoms])\n",
    "with concurrent.futures.ThreadPoolExecutor(max_workers=n_cpu) as executor:\n",
    "    for i in xrange(n_frames):\n",
    "        mol.read_dcd_step(dcd_file, i)\n",
    "        coor = mol.coor()[0]\n",
    "        executor.submit(get_dist, coor, dist[i], r)\n",
    "    \n",
    "mol.close_dcd_read(dcd_file[0])\n",
    "dc = dist[-1, :4, :4]"
   ]
  },
  {
   "cell_type": "code",
   "execution_count": null,
   "metadata": {
    "collapsed": false
   },
   "outputs": [],
   "source": [
    "dp, dc"
   ]
  },
  {
   "cell_type": "code",
   "execution_count": null,
   "metadata": {
    "collapsed": false
   },
   "outputs": [],
   "source": [
    "dp - dc"
   ]
  },
  {
   "cell_type": "markdown",
   "metadata": {},
   "source": [
    "## Now with the real data set"
   ]
  },
  {
   "cell_type": "code",
   "execution_count": null,
   "metadata": {
    "collapsed": false
   },
   "outputs": [],
   "source": [
    "# setup inputs\n",
    "\n",
    "run_path = '../../simulations/lj_sphere_monomer/runs/p_0p14/output'\n",
    "pdb_fname = 'run2.pdb'\n",
    "dcd_fname = 'run2.dcd'\n",
    "\n",
    "pdb_fname = op.join(run_path, pdb_fname)\n",
    "dcd_fname = op.join(run_path, dcd_fname)\n",
    "\n",
    "mol = sasmol.SasMol(0)\n",
    "mol.read_pdb(pdb_fname)"
   ]
  },
  {
   "cell_type": "code",
   "execution_count": null,
   "metadata": {
    "collapsed": true
   },
   "outputs": [],
   "source": [
    "def get_dist(coor, dist, r):\n",
    "    dist[r[:, None] < r] = pdist(coor)"
   ]
  },
  {
   "cell_type": "code",
   "execution_count": null,
   "metadata": {
    "collapsed": false
   },
   "outputs": [],
   "source": [
    "dcd_file = mol.open_dcd_read(dcd_fname)\n",
    "\n",
    "n_atoms = mol.natoms()\n",
    "n_frames = dcd_file[2]\n",
    "\n",
    "print('number of frames: {}'.format(n_frames))\n",
    "print('number of atoms: {}'.format(n_atoms))\n",
    "\n",
    "r = np.arange(n_atoms)\n",
    "dist = np.zeros([n_frames, n_atoms, n_atoms])\n",
    "tic = time.time()\n",
    "with concurrent.futures.ThreadPoolExecutor(max_workers=n_cpu) as executor:\n",
    "    for i in xrange(n_frames):\n",
    "        mol.read_dcd_step(dcd_file, i)\n",
    "        coor = mol.coor()[0]\n",
    "        executor.submit(get_dist, coor, dist[i], r)\n",
    "\n",
    "toc = time.time() - tic    \n",
    "\n",
    "mol.close_dcd_read(dcd_file[0])\n",
    "\n",
    "print toc"
   ]
  },
  {
   "cell_type": "markdown",
   "metadata": {},
   "source": [
    "# Now with [Dask](http://dask.pydata.org/en/latest/)"
   ]
  },
  {
   "cell_type": "code",
   "execution_count": null,
   "metadata": {
    "collapsed": true
   },
   "outputs": [],
   "source": [
    "def get_dist(coor, dist, r):\n",
    "    dist[r[:, None] < r] = pdist(coor)\n",
    "    return dist"
   ]
  },
  {
   "cell_type": "code",
   "execution_count": null,
   "metadata": {
    "collapsed": true
   },
   "outputs": [],
   "source": [
    "from dask import delayed, compute"
   ]
  },
  {
   "cell_type": "code",
   "execution_count": null,
   "metadata": {
    "collapsed": false
   },
   "outputs": [],
   "source": [
    "slices = [coor[i] for i in range(coor.shape[0])] # create an iterator\n",
    "slices2 = [delayed(pdist)(slice) for slice in slices]\n",
    "results = compute(*slices2)"
   ]
  },
  {
   "cell_type": "code",
   "execution_count": null,
   "metadata": {
    "collapsed": false
   },
   "outputs": [],
   "source": [
    "%%timeit\n",
    "# Dask with scipy version 2 (with boolean-indexing)\n",
    "dcd_file = mol.open_dcd_read(dcd_fname)\n",
    "\n",
    "n_atoms = mol.natoms()\n",
    "n_frames = dcd_file[2]\n",
    "\n",
    "print('number of frames: {}'.format(n_frames))\n",
    "print('number of atoms: {}'.format(n_atoms))\n",
    "\n",
    "r = np.arange(n_atoms)\n",
    "dist = np.zeros([n_frames, n_atoms, n_atoms])\n",
    "for i in xrange(n_frames):\n",
    "    mol.read_dcd_step(dcd_file, i)\n",
    "    coor = mol.coor()[0]\n",
    "    delayed(get_dist)(coor, dist[i], r)\n",
    "\n",
    "mol.close_dcd_read(dcd_file[0])"
   ]
  },
  {
   "cell_type": "code",
   "execution_count": null,
   "metadata": {
    "collapsed": false
   },
   "outputs": [],
   "source": [
    "# Dask with scipy version 2 (with boolean-indexing)\n",
    "dcd_file = mol.open_dcd_read(dcd_fname)\n",
    "\n",
    "n_atoms = mol.natoms()\n",
    "n_frames = dcd_file[2]\n",
    "\n",
    "print('number of frames: {}'.format(n_frames))\n",
    "print('number of atoms: {}'.format(n_atoms))\n",
    "\n",
    "r = np.arange(n_atoms)\n",
    "dist = np.zeros([n_frames, n_atoms, n_atoms])\n",
    "res = []\n",
    "for i in xrange(n_frames):\n",
    "    mol.read_dcd_step(dcd_file, i)\n",
    "    coor = mol.coor()[0]\n",
    "    res.append(delayed(get_dist)(coor, dist[i], r))\n",
    "\n",
    "mol.close_dcd_read(dcd_file[0])\n",
    "test = [calc.compute for calc in res]\n",
    "dd = dist[-1, :4, :4]"
   ]
  },
  {
   "cell_type": "code",
   "execution_count": null,
   "metadata": {
    "collapsed": false
   },
   "outputs": [],
   "source": [
    "dd"
   ]
  },
  {
   "cell_type": "code",
   "execution_count": null,
   "metadata": {
    "collapsed": false
   },
   "outputs": [],
   "source": [
    "dist"
   ]
  },
  {
   "cell_type": "code",
   "execution_count": null,
   "metadata": {
    "collapsed": true
   },
   "outputs": [],
   "source": []
  }
 ],
 "metadata": {
  "anaconda-cloud": {},
  "kernelspec": {
   "display_name": "Python 3",
   "language": "python",
   "name": "python3"
  },
  "language_info": {
   "codemirror_mode": {
    "name": "ipython",
    "version": 3
   },
   "file_extension": ".py",
   "mimetype": "text/x-python",
   "name": "python",
   "nbconvert_exporter": "python",
   "pygments_lexer": "ipython3",
   "version": "3.6.0"
  }
 },
 "nbformat": 4,
 "nbformat_minor": 1
}
