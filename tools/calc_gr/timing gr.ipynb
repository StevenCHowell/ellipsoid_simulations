{
 "cells": [
  {
   "cell_type": "markdown",
   "metadata": {},
   "source": [
    "# Speed up g(r) code"
   ]
  },
  {
   "cell_type": "markdown",
   "metadata": {},
   "source": [
    "I want to compare the timings for calculating the distances between many atoms.  This involves computing the double loop over all coordinates."
   ]
  },
  {
   "cell_type": "code",
   "execution_count": 55,
   "metadata": {
    "collapsed": true
   },
   "outputs": [],
   "source": [
    "import time\n",
    "import os.path as op"
   ]
  },
  {
   "cell_type": "code",
   "execution_count": 56,
   "metadata": {
    "collapsed": true
   },
   "outputs": [],
   "source": [
    "from sasmol import sasmol"
   ]
  },
  {
   "cell_type": "code",
   "execution_count": 57,
   "metadata": {
    "collapsed": true
   },
   "outputs": [],
   "source": [
    "import numpy as np"
   ]
  },
  {
   "cell_type": "code",
   "execution_count": 58,
   "metadata": {
    "collapsed": true
   },
   "outputs": [],
   "source": [
    "from scipy.spatial.distance import pdist"
   ]
  },
  {
   "cell_type": "code",
   "execution_count": 59,
   "metadata": {
    "collapsed": false
   },
   "outputs": [
    {
     "name": "stdout",
     "output_type": "stream",
     "text": [
      "n_cpu = 4\n"
     ]
    }
   ],
   "source": [
    "import concurrent.futures\n",
    "import multiprocessing\n",
    "\n",
    "n_cpu = multiprocessing.cpu_count()\n",
    "print('n_cpu = {}'.format(n_cpu))"
   ]
  },
  {
   "cell_type": "code",
   "execution_count": 52,
   "metadata": {
    "collapsed": false
   },
   "outputs": [],
   "source": [
    "import sys\n",
    "sys.path.append('./')\n",
    "from distance import distance"
   ]
  },
  {
   "cell_type": "code",
   "execution_count": 5,
   "metadata": {
    "collapsed": false
   },
   "outputs": [],
   "source": [
    "# import dask.array as da # NOT APPROPRIATE FOR PROBLEM"
   ]
  },
  {
   "cell_type": "code",
   "execution_count": 6,
   "metadata": {
    "collapsed": false
   },
   "outputs": [
    {
     "name": "stdout",
     "output_type": "stream",
     "text": [
      "reading filename:  test.pdb\n",
      "num_atoms =  2048\n",
      ">>> found  1  model(s) or frame(s)\n",
      "finished reading frame =  1\n"
     ]
    }
   ],
   "source": [
    "# setup inputs\n",
    "pdb_fname = 'test.pdb'\n",
    "dcd_fname = 'test.dcd'\n",
    "mol = sasmol.SasMol(0)\n",
    "mol.read_pdb(pdb_fname)"
   ]
  },
  {
   "cell_type": "code",
   "execution_count": 7,
   "metadata": {
    "collapsed": false
   },
   "outputs": [
    {
     "name": "stdout",
     "output_type": "stream",
     "text": [
      "[[ 0.  1.  1.]\n",
      " [ 0.  0.  1.]\n",
      " [ 0.  0.  0.]]\n"
     ]
    }
   ],
   "source": [
    "# confirm indexing\n",
    "n = 3\n",
    "d = np.zeros([n, n])\n",
    "for j in xrange(3):\n",
    "    for k in xrange(j+1, 3):\n",
    "        d[j, k] = 1\n",
    "print(d)"
   ]
  },
  {
   "cell_type": "code",
   "execution_count": 8,
   "metadata": {
    "collapsed": false
   },
   "outputs": [
    {
     "name": "stdout",
     "output_type": "stream",
     "text": [
      "(2.0124611797498111, 2.0124611797498111)\n"
     ]
    }
   ],
   "source": [
    "# confirm products\n",
    "c1 = np.arange(3)\n",
    "c2 = np.arange(3)/10.0\n",
    "dsum = np.sqrt((c1[0] - c2[0]) ** 2  + (c1[1] - c2[1]) ** 2  + (c1[2] - c2[2]) ** 2)\n",
    "nsum = np.sqrt(np.sum((c1 - c2) ** 2))\n",
    "print(dsum, nsum)"
   ]
  },
  {
   "cell_type": "code",
   "execution_count": 36,
   "metadata": {
    "collapsed": false
   },
   "outputs": [
    {
     "name": "stdout",
     "output_type": "stream",
     "text": [
      "number of frames: 5\n",
      "number of atoms: 2048\n",
      ".....result =  0\n",
      "number of frames: 5\n",
      "number of atoms: 2048\n",
      ".....result =  0\n",
      "number of frames: 5\n",
      "number of atoms: 2048\n",
      ".....result =  0\n",
      "number of frames: 5\n",
      "number of atoms: 2048\n",
      ".....result =  0\n",
      "1 loop, best of 3: 1min per loop\n"
     ]
    }
   ],
   "source": [
    "%%timeit\n",
    "# ignorant python\n",
    "dcd_file = mol.open_dcd_read(dcd_fname)\n",
    "\n",
    "n_atoms = mol.natoms()\n",
    "n_frames = dcd_file[2]\n",
    "\n",
    "print('number of frames: {}'.format(n_frames))\n",
    "print('number of atoms: {}'.format(n_atoms))\n",
    "\n",
    "dist = np.zeros([n_frames, n_atoms, n_atoms])\n",
    "for i in xrange(n_frames):\n",
    "    mol.read_dcd_step(dcd_file, i)\n",
    "    coor = mol.coor()[0]\n",
    "    for j in xrange(n_atoms):\n",
    "        for k in xrange(j+1, n_atoms):\n",
    "            dist[i, j, k] = np.sqrt(np.sum((coor[j] - coor[k]) ** 2))\n",
    "            \n",
    "mol.close_dcd_read(dcd_file[0])"
   ]
  },
  {
   "cell_type": "code",
   "execution_count": 9,
   "metadata": {
    "collapsed": false
   },
   "outputs": [
    {
     "name": "stdout",
     "output_type": "stream",
     "text": [
      "number of frames: 1\n",
      "number of atoms: 2048\n",
      ".result =  0\n"
     ]
    }
   ],
   "source": [
    "# ignorant python\n",
    "dcd_file = mol.open_dcd_read(dcd_fname)\n",
    "\n",
    "n_atoms = mol.natoms()\n",
    "n_frames = dcd_file[2]\n",
    "\n",
    "print('number of frames: {}'.format(n_frames))\n",
    "print('number of atoms: {}'.format(n_atoms))\n",
    "\n",
    "dist = np.zeros([n_frames, n_atoms, n_atoms])\n",
    "for i in xrange(n_frames):\n",
    "    mol.read_dcd_step(dcd_file, i)\n",
    "    coor = mol.coor()[0]\n",
    "    for j in xrange(n_atoms):\n",
    "        for k in xrange(j+1, n_atoms):\n",
    "            dist[i, j, k] = np.sqrt(np.sum((coor[j] - coor[k]) ** 2))\n",
    "            \n",
    "mol.close_dcd_read(dcd_file[0])\n",
    "\n",
    "dp = dist[-1, :4, :4]"
   ]
  },
  {
   "cell_type": "code",
   "execution_count": 10,
   "metadata": {
    "collapsed": false
   },
   "outputs": [
    {
     "data": {
      "text/plain": [
       "array([[  0.        ,   9.51893197,  12.39790455,  10.83006633],\n",
       "       [  0.        ,   0.        ,   7.84797516,   4.79180904],\n",
       "       [  0.        ,   0.        ,   0.        ,  12.50089329],\n",
       "       [  0.        ,   0.        ,   0.        ,   0.        ]])"
      ]
     },
     "execution_count": 10,
     "metadata": {},
     "output_type": "execute_result"
    }
   ],
   "source": [
    "dp"
   ]
  },
  {
   "cell_type": "code",
   "execution_count": 56,
   "metadata": {
    "collapsed": false
   },
   "outputs": [
    {
     "name": "stdout",
     "output_type": "stream",
     "text": [
      "number of frames: 5\n",
      "number of atoms: 2048\n",
      ".....result =  0\n",
      "number of frames: 5\n",
      "number of atoms: 2048\n",
      ".....result =  0\n",
      "number of frames: 5\n",
      "number of atoms: 2048\n",
      ".....result =  0\n",
      "number of frames: 5\n",
      "number of atoms: 2048\n",
      ".....result =  0\n",
      "1 loop, best of 3: 1.11 s per loop\n"
     ]
    }
   ],
   "source": [
    "%%timeit\n",
    "# numpy version\n",
    "dcd_file = mol.open_dcd_read(dcd_fname)\n",
    "\n",
    "n_atoms = mol.natoms()\n",
    "n_frames = dcd_file[2]\n",
    "\n",
    "print('number of frames: {}'.format(n_frames))\n",
    "print('number of atoms: {}'.format(n_atoms))\n",
    "\n",
    "dist = np.zeros([n_frames, n_atoms, n_atoms])\n",
    "for i in xrange(n_frames):\n",
    "    mol.read_dcd_step(dcd_file, i)\n",
    "    coor = mol.coor()[0]\n",
    "    dist[i] = np.sqrt(((coor[:, None, :] - coor) ** 2).sum(-1))\n",
    "    \n",
    "mol.close_dcd_read(dcd_file[0])"
   ]
  },
  {
   "cell_type": "code",
   "execution_count": 57,
   "metadata": {
    "collapsed": false
   },
   "outputs": [
    {
     "name": "stdout",
     "output_type": "stream",
     "text": [
      "number of frames: 5\n",
      "number of atoms: 2048\n",
      ".....result =  0\n"
     ]
    }
   ],
   "source": [
    "# numpy version\n",
    "dcd_file = mol.open_dcd_read(dcd_fname)\n",
    "\n",
    "n_atoms = mol.natoms()\n",
    "n_frames = dcd_file[2]\n",
    "\n",
    "print('number of frames: {}'.format(n_frames))\n",
    "print('number of atoms: {}'.format(n_atoms))\n",
    "\n",
    "dist = np.zeros([n_frames, n_atoms, n_atoms])\n",
    "for i in xrange(n_frames):\n",
    "    mol.read_dcd_step(dcd_file, i)\n",
    "    coor = mol.coor()[0]\n",
    "    dist[i] = np.sqrt(((coor[:, None, :] - coor) ** 2).sum(-1))\n",
    "    \n",
    "mol.close_dcd_read(dcd_file[0])\n",
    "\n",
    "dn = dist[-1, :4, :4]"
   ]
  },
  {
   "cell_type": "code",
   "execution_count": 13,
   "metadata": {
    "collapsed": false
   },
   "outputs": [
    {
     "data": {
      "text/plain": [
       "(array([[  0.        ,   9.51893197,  12.39790455,  10.83006633],\n",
       "        [  0.        ,   0.        ,   7.84797516,   4.79180904],\n",
       "        [  0.        ,   0.        ,   0.        ,  12.50089329],\n",
       "        [  0.        ,   0.        ,   0.        ,   0.        ]]),\n",
       " array([[  0.        ,   9.51893197,  12.39790455,  10.83006633],\n",
       "        [  9.51893197,   0.        ,   7.84797516,   4.79180904],\n",
       "        [ 12.39790455,   7.84797516,   0.        ,  12.50089329],\n",
       "        [ 10.83006633,   4.79180904,  12.50089329,   0.        ]]))"
      ]
     },
     "execution_count": 13,
     "metadata": {},
     "output_type": "execute_result"
    }
   ],
   "source": [
    "dp, dn"
   ]
  },
  {
   "cell_type": "code",
   "execution_count": 14,
   "metadata": {
    "collapsed": false
   },
   "outputs": [
    {
     "name": "stdout",
     "output_type": "stream",
     "text": [
      "[[  0.           0.           0.           0.        ]\n",
      " [ -9.51893197   0.           0.           0.        ]\n",
      " [-12.39790455  -7.84797516   0.           0.        ]\n",
      " [-10.83006633  -4.79180904 -12.50089329   0.        ]]\n"
     ]
    }
   ],
   "source": [
    "print(dp-dn)"
   ]
  },
  {
   "cell_type": "markdown",
   "metadata": {},
   "source": [
    "Even though the NumPy version calculates the entire matrix, it is more than 2x faster."
   ]
  },
  {
   "cell_type": "code",
   "execution_count": 58,
   "metadata": {
    "collapsed": false
   },
   "outputs": [
    {
     "name": "stdout",
     "output_type": "stream",
     "text": [
      "number of frames: 5\n",
      "number of atoms: 2048\n",
      ".....result =  0\n",
      "number of frames: 5\n",
      "number of atoms: 2048\n",
      ".....result =  0\n",
      "number of frames: 5\n",
      "number of atoms: 2048\n",
      ".....result =  0\n",
      "number of frames: 5\n",
      "number of atoms: 2048\n",
      ".....result =  0\n",
      "1 loop, best of 3: 367 ms per loop\n"
     ]
    }
   ],
   "source": [
    "%%timeit\n",
    "# scipy version 1\n",
    "dcd_file = mol.open_dcd_read(dcd_fname)\n",
    "\n",
    "n_atoms = mol.natoms()\n",
    "n_frames = dcd_file[2]\n",
    "\n",
    "print('number of frames: {}'.format(n_frames))\n",
    "print('number of atoms: {}'.format(n_atoms))\n",
    "\n",
    "dist = np.zeros([n_frames, n_atoms, n_atoms])\n",
    "\n",
    "for i in xrange(n_frames):\n",
    "    mol.read_dcd_step(dcd_file, i)\n",
    "    coor = mol.coor()[0]\n",
    "    row, col = np.triu_indices(n_atoms, 1)\n",
    "    dist[i, row, col] = pdist(coor)\n",
    "    \n",
    "mol.close_dcd_read(dcd_file[0])"
   ]
  },
  {
   "cell_type": "code",
   "execution_count": 59,
   "metadata": {
    "collapsed": false
   },
   "outputs": [
    {
     "name": "stdout",
     "output_type": "stream",
     "text": [
      "number of frames: 5\n",
      "number of atoms: 2048\n",
      ".....result =  0\n"
     ]
    }
   ],
   "source": [
    "# scipy version 1\n",
    "dcd_file = mol.open_dcd_read(dcd_fname)\n",
    "\n",
    "n_atoms = mol.natoms()\n",
    "n_frames = dcd_file[2]\n",
    "\n",
    "print('number of frames: {}'.format(n_frames))\n",
    "print('number of atoms: {}'.format(n_atoms))\n",
    "\n",
    "dist = np.zeros([n_frames, n_atoms, n_atoms])\n",
    "\n",
    "for i in xrange(n_frames):\n",
    "    mol.read_dcd_step(dcd_file, i)\n",
    "    coor = mol.coor()[0]\n",
    "    row, col = np.triu_indices(n_atoms, 1)\n",
    "    dist[i, row, col] = pdist(coor)\n",
    "    \n",
    "mol.close_dcd_read(dcd_file[0])\n",
    "\n",
    "ds1 = dist[-1, :4, :4]"
   ]
  },
  {
   "cell_type": "code",
   "execution_count": 60,
   "metadata": {
    "collapsed": false
   },
   "outputs": [
    {
     "name": "stdout",
     "output_type": "stream",
     "text": [
      "number of frames: 5\n",
      "number of atoms: 2048\n",
      ".....result =  0\n",
      "number of frames: 5\n",
      "number of atoms: 2048\n",
      ".....result =  0\n",
      "number of frames: 5\n",
      "number of atoms: 2048\n",
      ".....result =  0\n",
      "number of frames: 5\n",
      "number of atoms: 2048\n",
      ".....result =  0\n",
      "1 loop, best of 3: 311 ms per loop\n"
     ]
    }
   ],
   "source": [
    "%%timeit\n",
    "# scipy version 2 (with boolean-indexing)\n",
    "dcd_file = mol.open_dcd_read(dcd_fname)\n",
    "\n",
    "n_atoms = mol.natoms()\n",
    "n_frames = dcd_file[2]\n",
    "\n",
    "print('number of frames: {}'.format(n_frames))\n",
    "print('number of atoms: {}'.format(n_atoms))\n",
    "\n",
    "dist = np.zeros([n_frames, n_atoms, n_atoms])\n",
    "r = np.arange(n_atoms)\n",
    "\n",
    "for i in xrange(n_frames):\n",
    "    mol.read_dcd_step(dcd_file, i)\n",
    "    coor = mol.coor()[0]\n",
    "    dist[i, r[:, None] < r] = pdist(coor)\n",
    "    \n",
    "mol.close_dcd_read(dcd_file[0])"
   ]
  },
  {
   "cell_type": "code",
   "execution_count": 61,
   "metadata": {
    "collapsed": false
   },
   "outputs": [
    {
     "name": "stdout",
     "output_type": "stream",
     "text": [
      "number of frames: 5\n",
      "number of atoms: 2048\n",
      ".....result =  0\n"
     ]
    }
   ],
   "source": [
    "# scipy version 2 (with boolean-indexing)\n",
    "dcd_file = mol.open_dcd_read(dcd_fname)\n",
    "\n",
    "n_atoms = mol.natoms()\n",
    "n_frames = dcd_file[2]\n",
    "\n",
    "print('number of frames: {}'.format(n_frames))\n",
    "print('number of atoms: {}'.format(n_atoms))\n",
    "\n",
    "dist = np.zeros([n_frames, n_atoms, n_atoms])\n",
    "r = np.arange(n_atoms)\n",
    "\n",
    "for i in xrange(n_frames):\n",
    "    mol.read_dcd_step(dcd_file, i)\n",
    "    coor = mol.coor()[0]\n",
    "    dist[i, r[:, None] < r] = pdist(coor)\n",
    "    \n",
    "mol.close_dcd_read(dcd_file[0])\n",
    "\n",
    "ds2 = dist[-1, :4, :4]"
   ]
  },
  {
   "cell_type": "code",
   "execution_count": 68,
   "metadata": {
    "collapsed": false
   },
   "outputs": [
    {
     "data": {
      "text/plain": [
       "(array([[  0.        ,   9.51893197,  12.39790455,  10.83006633],\n",
       "        [  0.        ,   0.        ,   7.84797516,   4.79180904],\n",
       "        [  0.        ,   0.        ,   0.        ,  12.50089329],\n",
       "        [  0.        ,   0.        ,   0.        ,   0.        ]]),\n",
       " array([[  0.        ,   9.55838011,  12.49256537,  11.12902151],\n",
       "        [  9.55838011,   0.        ,   7.85849646,   4.99603282],\n",
       "        [ 12.49256537,   7.85849646,   0.        ,  12.75118492],\n",
       "        [ 11.12902151,   4.99603282,  12.75118492,   0.        ]]),\n",
       " array([[  0.        ,   9.55838011,  12.49256537,  11.12902151],\n",
       "        [  0.        ,   0.        ,   7.85849646,   4.99603282],\n",
       "        [  0.        ,   0.        ,   0.        ,  12.75118492],\n",
       "        [  0.        ,   0.        ,   0.        ,   0.        ]]),\n",
       " array([[  0.        ,   9.55838011,  12.49256537,  11.12902151],\n",
       "        [  0.        ,   0.        ,   7.85849646,   4.99603282],\n",
       "        [  0.        ,   0.        ,   0.        ,  12.75118492],\n",
       "        [  0.        ,   0.        ,   0.        ,   0.        ]]))"
      ]
     },
     "execution_count": 68,
     "metadata": {},
     "output_type": "execute_result"
    }
   ],
   "source": [
    "dp, dn, ds1, ds2"
   ]
  },
  {
   "cell_type": "code",
   "execution_count": 71,
   "metadata": {
    "collapsed": false
   },
   "outputs": [
    {
     "name": "stdout",
     "output_type": "stream",
     "text": [
      "[[  0.           0.           0.           0.        ]\n",
      " [  9.55838011   0.           0.           0.        ]\n",
      " [ 12.49256537   7.85849646   0.           0.        ]\n",
      " [ 11.12902151   4.99603282  12.75118492   0.        ]]\n",
      "[[  0.           0.           0.           0.        ]\n",
      " [  9.55838011   0.           0.           0.        ]\n",
      " [ 12.49256537   7.85849646   0.           0.        ]\n",
      " [ 11.12902151   4.99603282  12.75118492   0.        ]]\n"
     ]
    }
   ],
   "source": [
    "print(dn-ds1)\n",
    "print(dn-ds2)"
   ]
  },
  {
   "cell_type": "code",
   "execution_count": 65,
   "metadata": {
    "collapsed": false
   },
   "outputs": [
    {
     "name": "stdout",
     "output_type": "stream",
     "text": [
      "number of frames: 5\n",
      "number of atoms: 2048\n",
      ".....result =  0\n",
      "number of frames: 5\n",
      "number of atoms: 2048\n",
      ".....result =  0\n",
      "number of frames: 5\n",
      "number of atoms: 2048\n",
      ".....result =  0\n",
      "number of frames: 5\n",
      "number of atoms: 2048\n",
      ".....result =  0\n",
      "1 loop, best of 3: 717 ms per loop\n"
     ]
    }
   ],
   "source": [
    "%%timeit\n",
    "# fortran version\n",
    "dcd_file = mol.open_dcd_read(dcd_fname)\n",
    "\n",
    "n_atoms = mol.natoms()\n",
    "n_frames = dcd_file[2]\n",
    "\n",
    "print('number of frames: {}'.format(n_frames))\n",
    "print('number of atoms: {}'.format(n_atoms))\n",
    "\n",
    "dist = np.zeros([n_frames, n_atoms, n_atoms])\n",
    "\n",
    "for i in xrange(n_frames):\n",
    "    mol.read_dcd_step(dcd_file, i)\n",
    "    coor = mol.coor()[0]\n",
    "    dist[0] = distance(coor, dist[0])\n",
    "    \n",
    "mol.close_dcd_read(dcd_file[0])"
   ]
  },
  {
   "cell_type": "code",
   "execution_count": 75,
   "metadata": {
    "collapsed": false
   },
   "outputs": [
    {
     "name": "stdout",
     "output_type": "stream",
     "text": [
      "number of frames: 5\n",
      "number of atoms: 2048\n",
      ".....result =  0\n"
     ]
    }
   ],
   "source": [
    "# fortran version\n",
    "dcd_file = mol.open_dcd_read(dcd_fname)\n",
    "\n",
    "n_atoms = mol.natoms()\n",
    "n_frames = dcd_file[2]\n",
    "\n",
    "print('number of frames: {}'.format(n_frames))\n",
    "print('number of atoms: {}'.format(n_atoms))\n",
    "\n",
    "dist = np.zeros([n_frames, n_atoms, n_atoms])\n",
    "\n",
    "for i in xrange(n_frames):\n",
    "    mol.read_dcd_step(dcd_file, i)\n",
    "    coor = mol.coor()[0]\n",
    "    dist[i] = distance(coor, dist[0])\n",
    "    \n",
    "mol.close_dcd_read(dcd_file[0])\n",
    "\n",
    "df = dist[-1, :4, :4]"
   ]
  },
  {
   "cell_type": "code",
   "execution_count": 76,
   "metadata": {
    "collapsed": false
   },
   "outputs": [
    {
     "data": {
      "text/plain": [
       "(array([[  0.        ,   9.55838011,  12.49256537,  11.12902151],\n",
       "        [  9.55838011,   0.        ,   7.85849646,   4.99603282],\n",
       "        [ 12.49256537,   7.85849646,   0.        ,  12.75118492],\n",
       "        [ 11.12902151,   4.99603282,  12.75118492,   0.        ]]),\n",
       " array([[  0.        ,   9.55838011,  12.49256537,  11.12902151],\n",
       "        [  0.        ,   0.        ,   7.85849646,   4.99603282],\n",
       "        [  0.        ,   0.        ,   0.        ,  12.75118492],\n",
       "        [  0.        ,   0.        ,   0.        ,   0.        ]]))"
      ]
     },
     "execution_count": 76,
     "metadata": {},
     "output_type": "execute_result"
    }
   ],
   "source": [
    "dn, df"
   ]
  },
  {
   "cell_type": "code",
   "execution_count": 78,
   "metadata": {
    "collapsed": false
   },
   "outputs": [
    {
     "data": {
      "text/plain": [
       "array([[  0.        ,   0.        ,   0.        ,   0.        ],\n",
       "       [  9.55838011,   0.        ,   0.        ,   0.        ],\n",
       "       [ 12.49256537,   7.85849646,   0.        ,   0.        ],\n",
       "       [ 11.12902151,   4.99603282,  12.75118492,   0.        ]])"
      ]
     },
     "execution_count": 78,
     "metadata": {},
     "output_type": "execute_result"
    }
   ],
   "source": [
    "dn - df"
   ]
  },
  {
   "cell_type": "markdown",
   "metadata": {},
   "source": [
    "# Now with [Concurrent.futures](https://docs.python.org/3.2/library/concurrent.futures.html)"
   ]
  },
  {
   "cell_type": "code",
   "execution_count": 80,
   "metadata": {
    "collapsed": true
   },
   "outputs": [],
   "source": [
    "def get_dist(coor, dist, r):\n",
    "    dist[r[:, None] < r] = pdist(coor)"
   ]
  },
  {
   "cell_type": "code",
   "execution_count": 100,
   "metadata": {
    "collapsed": false
   },
   "outputs": [
    {
     "name": "stdout",
     "output_type": "stream",
     "text": [
      "number of frames: 5\n",
      "number of atoms: 2048\n",
      ".....result =  0\n",
      "number of frames: 5\n",
      "number of atoms: 2048\n",
      ".....result =  0\n",
      "number of frames: 5\n",
      "number of atoms: 2048\n",
      ".....result =  0\n",
      "number of frames: 5\n",
      "number of atoms: 2048\n",
      ".....result =  0\n",
      "number of frames: 5\n",
      "number of atoms: 2048\n",
      ".....result =  0\n",
      "number of frames: 5\n",
      "number of atoms: 2048\n",
      ".....result =  0\n",
      "number of frames: 5\n",
      "number of atoms: 2048\n",
      ".....result =  0\n",
      "number of frames: 5\n",
      "number of atoms: 2048\n",
      ".....result =  0\n",
      "number of frames: 5\n",
      "number of atoms: 2048\n",
      ".....result =  0\n",
      "number of frames: 5\n",
      "number of atoms: 2048\n",
      ".....result =  0\n",
      "number of frames: 5\n",
      "number of atoms: 2048\n",
      ".....result =  0\n",
      "number of frames: 5\n",
      "number of atoms: 2048\n",
      ".....result =  0\n",
      "number of frames: 5\n",
      "number of atoms: 2048\n",
      ".....result =  0\n",
      "number of frames: 5\n",
      "number of atoms: 2048\n",
      ".....result =  0\n",
      "number of frames: 5\n",
      "number of atoms: 2048\n",
      ".....result =  0\n",
      "number of frames: 5\n",
      "number of atoms: 2048\n",
      ".....result =  0\n",
      "number of frames: 5\n",
      "number of atoms: 2048\n",
      ".....result =  0\n",
      "number of frames: 5\n",
      "number of atoms: 2048\n",
      ".....result =  0\n",
      "number of frames: 5\n",
      "number of atoms: 2048\n",
      ".....result =  0\n",
      "number of frames: 5\n",
      "number of atoms: 2048\n",
      ".....result =  0\n",
      "number of frames: 5\n",
      "number of atoms: 2048\n",
      ".....result =  0\n",
      "number of frames: 5\n",
      "number of atoms: 2048\n",
      ".....result =  0\n",
      "number of frames: 5\n",
      "number of atoms: 2048\n",
      ".....result =  0\n",
      "number of frames: 5\n",
      "number of atoms: 2048\n",
      ".....result =  0\n",
      "number of frames: 5\n",
      "number of atoms: 2048\n",
      ".....result =  0\n",
      "number of frames: 5\n",
      "number of atoms: 2048\n",
      ".....result =  0\n",
      "number of frames: 5\n",
      "number of atoms: 2048\n",
      ".....result =  0\n",
      "number of frames: 5\n",
      "number of atoms: 2048\n",
      ".....result =  0\n",
      "number of frames: 5\n",
      "number of atoms: 2048\n",
      ".....result =  0\n",
      "number of frames: 5\n",
      "number of atoms: 2048\n",
      ".....result =  0\n",
      "number of frames: 5\n",
      "number of atoms: 2048\n",
      ".....result =  0\n",
      "number of frames: 5\n",
      "number of atoms: 2048\n",
      ".....result =  0\n",
      "number of frames: 5\n",
      "number of atoms: 2048\n",
      ".....result =  0\n",
      "number of frames: 5\n",
      "number of atoms: 2048\n",
      ".....result =  0\n",
      "number of frames: 5\n",
      "number of atoms: 2048\n",
      ".....result =  0\n",
      "number of frames: 5\n",
      "number of atoms: 2048\n",
      ".....result =  0\n",
      "number of frames: 5\n",
      "number of atoms: 2048\n",
      ".....result =  0\n",
      "number of frames: 5\n",
      "number of atoms: 2048\n",
      ".....result =  0\n",
      "number of frames: 5\n",
      "number of atoms: 2048\n",
      ".....result =  0\n",
      "number of frames: 5\n",
      "number of atoms: 2048\n",
      ".....result =  0\n",
      "number of frames: 5\n",
      "number of atoms: 2048\n",
      ".....result =  0\n",
      "10 loops, best of 3: 122 ms per loop\n"
     ]
    }
   ],
   "source": [
    "%%timeit\n",
    "# ThreadPoolExecutor.submit\n",
    "dcd_file = mol.open_dcd_read(dcd_fname)\n",
    "\n",
    "n_atoms = mol.natoms()\n",
    "n_frames = dcd_file[2]\n",
    "\n",
    "print('number of frames: {}'.format(n_frames))\n",
    "print('number of atoms: {}'.format(n_atoms))\n",
    "\n",
    "r = np.arange(n_atoms)\n",
    "dist = np.zeros([n_frames, n_atoms, n_atoms])\n",
    "with concurrent.futures.ThreadPoolExecutor(max_workers=n_cpu) as executor:\n",
    "    for i in xrange(n_frames):\n",
    "        mol.read_dcd_step(dcd_file, i)\n",
    "        coor = mol.coor()[0]\n",
    "        executor.submit(get_dist, coor, dist[i], r)\n",
    "    \n",
    "mol.close_dcd_read(dcd_file[0])"
   ]
  },
  {
   "cell_type": "code",
   "execution_count": 111,
   "metadata": {
    "collapsed": false
   },
   "outputs": [
    {
     "name": "stdout",
     "output_type": "stream",
     "text": [
      "number of frames: 5\n",
      "number of atoms: 2048\n",
      ".....result =  0\n",
      "number of frames: 5\n",
      "number of atoms: 2048\n",
      ".....result =  0\n",
      "number of frames: 5\n",
      "number of atoms: 2048\n",
      ".....result =  0\n",
      "number of frames: 5\n",
      "number of atoms: 2048\n",
      ".....result =  0\n",
      "1 loop, best of 3: 936 ms per loop\n"
     ]
    }
   ],
   "source": [
    "%%timeit\n",
    "# ThreadPoolExecutor.map\n",
    "dcd_file = mol.open_dcd_read(dcd_fname)\n",
    "\n",
    "n_atoms = mol.natoms()\n",
    "n_frames = dcd_file[2]\n",
    "\n",
    "print('number of frames: {}'.format(n_frames))\n",
    "print('number of atoms: {}'.format(n_atoms))\n",
    "\n",
    "r = np.arange(n_atoms)\n",
    "dist = np.zeros([n_frames, n_atoms, n_atoms])\n",
    "with concurrent.futures.ThreadPoolExecutor(max_workers=n_cpu) as executor:\n",
    "    for i in xrange(n_frames):\n",
    "        mol.read_dcd_step(dcd_file, i)\n",
    "        coor = mol.coor()[0]\n",
    "        executor.(get_dist, coor, dist[i], r)\n",
    "    \n",
    "mol.close_dcd_read(dcd_file[0])"
   ]
  },
  {
   "cell_type": "code",
   "execution_count": 92,
   "metadata": {
    "collapsed": false
   },
   "outputs": [
    {
     "name": "stdout",
     "output_type": "stream",
     "text": [
      "number of frames: 5\n",
      "number of atoms: 2048\n",
      ".....result =  0\n",
      "number of frames: 5\n",
      "number of atoms: 2048\n",
      ".....result =  0\n",
      "number of frames: 5\n",
      "number of atoms: 2048\n",
      ".....result =  0\n",
      "number of frames: 5\n",
      "number of atoms: 2048\n",
      ".....result =  0\n",
      "1 loop, best of 3: 764 ms per loop\n"
     ]
    }
   ],
   "source": [
    "%%timeit\n",
    "# ProcessPoolExecutor.submit\n",
    "dcd_file = mol.open_dcd_read(dcd_fname)\n",
    "\n",
    "n_atoms = mol.natoms()\n",
    "n_frames = dcd_file[2]\n",
    "\n",
    "print('number of frames: {}'.format(n_frames))\n",
    "print('number of atoms: {}'.format(n_atoms))\n",
    "\n",
    "r = np.arange(n_atoms)\n",
    "dist = np.zeros([n_frames, n_atoms, n_atoms])\n",
    "with concurrent.futures.ProcessPoolExecutor(max_workers=n_cpu) as executor:\n",
    "    for i in xrange(n_frames):\n",
    "        mol.read_dcd_step(dcd_file, i)\n",
    "        coor = mol.coor()[0]\n",
    "        executor.submit(get_dist, coor, dist[i], r)\n",
    "    \n",
    "mol.close_dcd_read(dcd_file[0])"
   ]
  },
  {
   "cell_type": "code",
   "execution_count": 93,
   "metadata": {
    "collapsed": false
   },
   "outputs": [
    {
     "name": "stdout",
     "output_type": "stream",
     "text": [
      "number of frames: 5\n",
      "number of atoms: 2048\n",
      ".....result =  0\n",
      "number of frames: 5\n",
      "number of atoms: 2048\n",
      "."
     ]
    },
    {
     "name": "stderr",
     "output_type": "stream",
     "text": [
      "Traceback (most recent call last):\n",
      "  File \"/Users/schowell/data/myPrograms/anaconda3/envs/sassie/lib/python2.7/multiprocessing/queues.py\", line 268, in _feed\n",
      "    send(obj)\n",
      "IOError: [Errno 32] Broken pipe\n"
     ]
    },
    {
     "name": "stdout",
     "output_type": "stream",
     "text": [
      "....result =  0\n",
      "number of frames: 5\n",
      "number of atoms: 2048\n",
      ".....result =  0\n",
      "number of frames: 5\n",
      "number of atoms: 2048\n",
      "."
     ]
    },
    {
     "name": "stderr",
     "output_type": "stream",
     "text": [
      "Traceback (most recent call last):\n",
      "  File \"/Users/schowell/data/myPrograms/anaconda3/envs/sassie/lib/python2.7/multiprocessing/queues.py\", line 268, in _feed\n",
      "    send(obj)\n",
      "IOError: [Errno 32] Broken pipe\n"
     ]
    },
    {
     "name": "stdout",
     "output_type": "stream",
     "text": [
      "....result =  0\n",
      "1 loop, best of 3: 2.23 s per loop\n"
     ]
    }
   ],
   "source": [
    "%%timeit\n",
    "# ProcessPoolExecutor.map\n",
    "dcd_file = mol.open_dcd_read(dcd_fname)\n",
    "\n",
    "n_atoms = mol.natoms()\n",
    "n_frames = dcd_file[2]\n",
    "\n",
    "print('number of frames: {}'.format(n_frames))\n",
    "print('number of atoms: {}'.format(n_atoms))\n",
    "\n",
    "r = np.arange(n_atoms)\n",
    "dist = np.zeros([n_frames, n_atoms, n_atoms])\n",
    "with concurrent.futures.ProcessPoolExecutor(max_workers=n_cpu) as executor:\n",
    "    for i in xrange(n_frames):\n",
    "        mol.read_dcd_step(dcd_file, i)\n",
    "        coor = mol.coor()[0]\n",
    "        executor.map(get_dist, coor, dist[i], r)\n",
    "    \n",
    "mol.close_dcd_read(dcd_file[0])"
   ]
  },
  {
   "cell_type": "markdown",
   "metadata": {},
   "source": [
    "`ThreadPoolExecutor` with `submit()` is much faster, probably because I did not setup iterators for `map()` (not sure about `ProcessPoolExecutor`)"
   ]
  },
  {
   "cell_type": "code",
   "execution_count": 28,
   "metadata": {
    "collapsed": false
   },
   "outputs": [
    {
     "name": "stdout",
     "output_type": "stream",
     "text": [
      "number of frames: 5\n",
      "number of atoms: 2048\n"
     ]
    },
    {
     "ename": "NameError",
     "evalue": "name 'concurrent' is not defined",
     "output_type": "error",
     "traceback": [
      "\u001b[0;31m---------------------------------------------------------------------------\u001b[0m",
      "\u001b[0;31mNameError\u001b[0m                                 Traceback (most recent call last)",
      "\u001b[0;32m<ipython-input-28-65f85e4e012c>\u001b[0m in \u001b[0;36m<module>\u001b[0;34m()\u001b[0m\n\u001b[1;32m     10\u001b[0m \u001b[0mr\u001b[0m \u001b[0;34m=\u001b[0m \u001b[0mnp\u001b[0m\u001b[0;34m.\u001b[0m\u001b[0marange\u001b[0m\u001b[0;34m(\u001b[0m\u001b[0mn_atoms\u001b[0m\u001b[0;34m)\u001b[0m\u001b[0;34m\u001b[0m\u001b[0m\n\u001b[1;32m     11\u001b[0m \u001b[0mdist\u001b[0m \u001b[0;34m=\u001b[0m \u001b[0mnp\u001b[0m\u001b[0;34m.\u001b[0m\u001b[0mzeros\u001b[0m\u001b[0;34m(\u001b[0m\u001b[0;34m[\u001b[0m\u001b[0mn_frames\u001b[0m\u001b[0;34m,\u001b[0m \u001b[0mn_atoms\u001b[0m\u001b[0;34m,\u001b[0m \u001b[0mn_atoms\u001b[0m\u001b[0;34m]\u001b[0m\u001b[0;34m)\u001b[0m\u001b[0;34m\u001b[0m\u001b[0m\n\u001b[0;32m---> 12\u001b[0;31m \u001b[0;32mwith\u001b[0m \u001b[0mconcurrent\u001b[0m\u001b[0;34m.\u001b[0m\u001b[0mfutures\u001b[0m\u001b[0;34m.\u001b[0m\u001b[0mThreadPoolExecutor\u001b[0m\u001b[0;34m(\u001b[0m\u001b[0mmax_workers\u001b[0m\u001b[0;34m=\u001b[0m\u001b[0mn_cpu\u001b[0m\u001b[0;34m)\u001b[0m \u001b[0;32mas\u001b[0m \u001b[0mexecutor\u001b[0m\u001b[0;34m:\u001b[0m\u001b[0;34m\u001b[0m\u001b[0m\n\u001b[0m\u001b[1;32m     13\u001b[0m     \u001b[0;32mfor\u001b[0m \u001b[0mi\u001b[0m \u001b[0;32min\u001b[0m \u001b[0mxrange\u001b[0m\u001b[0;34m(\u001b[0m\u001b[0mn_frames\u001b[0m\u001b[0;34m)\u001b[0m\u001b[0;34m:\u001b[0m\u001b[0;34m\u001b[0m\u001b[0m\n\u001b[1;32m     14\u001b[0m         \u001b[0mmol\u001b[0m\u001b[0;34m.\u001b[0m\u001b[0mread_dcd_step\u001b[0m\u001b[0;34m(\u001b[0m\u001b[0mdcd_file\u001b[0m\u001b[0;34m,\u001b[0m \u001b[0mi\u001b[0m\u001b[0;34m)\u001b[0m\u001b[0;34m\u001b[0m\u001b[0m\n",
      "\u001b[0;31mNameError\u001b[0m: name 'concurrent' is not defined"
     ]
    }
   ],
   "source": [
    "# ThreadPoolExecutor with submit\n",
    "dcd_file = mol.open_dcd_read(dcd_fname)\n",
    "\n",
    "n_atoms = mol.natoms()\n",
    "n_frames = dcd_file[2]\n",
    "\n",
    "print('number of frames: {}'.format(n_frames))\n",
    "print('number of atoms: {}'.format(n_atoms))\n",
    "\n",
    "r = np.arange(n_atoms)\n",
    "dist = np.zeros([n_frames, n_atoms, n_atoms])\n",
    "with concurrent.futures.ThreadPoolExecutor(max_workers=n_cpu) as executor:\n",
    "    for i in xrange(n_frames):\n",
    "        mol.read_dcd_step(dcd_file, i)\n",
    "        coor = mol.coor()[0]\n",
    "        executor.submit(get_dist, coor, dist[i], r)\n",
    "    \n",
    "mol.close_dcd_read(dcd_file[0])\n",
    "dc = dist[-1, :4, :4]"
   ]
  },
  {
   "cell_type": "code",
   "execution_count": 83,
   "metadata": {
    "collapsed": false
   },
   "outputs": [
    {
     "data": {
      "text/plain": [
       "(array([[  0.        ,   9.55838011,  12.49256537,  11.12902151],\n",
       "        [  9.55838011,   0.        ,   7.85849646,   4.99603282],\n",
       "        [ 12.49256537,   7.85849646,   0.        ,  12.75118492],\n",
       "        [ 11.12902151,   4.99603282,  12.75118492,   0.        ]]),\n",
       " array([[  0.        ,   9.55838011,  12.49256537,  11.12902151],\n",
       "        [  0.        ,   0.        ,   7.85849646,   4.99603282],\n",
       "        [  0.        ,   0.        ,   0.        ,  12.75118492],\n",
       "        [  0.        ,   0.        ,   0.        ,   0.        ]]))"
      ]
     },
     "execution_count": 83,
     "metadata": {},
     "output_type": "execute_result"
    }
   ],
   "source": [
    "dn, dc"
   ]
  },
  {
   "cell_type": "code",
   "execution_count": 84,
   "metadata": {
    "collapsed": false
   },
   "outputs": [
    {
     "data": {
      "text/plain": [
       "array([[  0.        ,   0.        ,   0.        ,   0.        ],\n",
       "       [  9.55838011,   0.        ,   0.        ,   0.        ],\n",
       "       [ 12.49256537,   7.85849646,   0.        ,   0.        ],\n",
       "       [ 11.12902151,   4.99603282,  12.75118492,   0.        ]])"
      ]
     },
     "execution_count": 84,
     "metadata": {},
     "output_type": "execute_result"
    }
   ],
   "source": [
    "dn - dc"
   ]
  },
  {
   "cell_type": "markdown",
   "metadata": {},
   "source": [
    "## Now with the real data set"
   ]
  },
  {
   "cell_type": "code",
   "execution_count": 46,
   "metadata": {
    "collapsed": false
   },
   "outputs": [
    {
     "name": "stdout",
     "output_type": "stream",
     "text": [
      "reading filename:  ../../simulations/lj_sphere_monomer/runs/p_0p14/output/run2.pdb\n",
      "num_atoms =  2048\n",
      ">>> found  1  model(s) or frame(s)\n",
      "finished reading frame =  1\n"
     ]
    }
   ],
   "source": [
    "# setup inputs\n",
    "\n",
    "run_path = '../../simulations/lj_sphere_monomer/runs/p_0p14/output'\n",
    "pdb_fname = 'run2.pdb'\n",
    "dcd_fname = 'run2.dcd'\n",
    "\n",
    "pdb_fname = op.join(run_path, pdb_fname)\n",
    "dcd_fname = op.join(run_path, dcd_fname)\n",
    "\n",
    "mol = sasmol.SasMol(0)\n",
    "mol.read_pdb(pdb_fname)"
   ]
  },
  {
   "cell_type": "code",
   "execution_count": 53,
   "metadata": {
    "collapsed": true
   },
   "outputs": [],
   "source": [
    "def get_dist(coor, dist, r):\n",
    "    dist[r[:, None] < r] = pdist(coor)"
   ]
  },
  {
   "cell_type": "code",
   "execution_count": null,
   "metadata": {
    "collapsed": false
   },
   "outputs": [
    {
     "name": "stdout",
     "output_type": "stream",
     "text": [
      "number of frames: 25001\n",
      "number of atoms: 2048\n",
      "........................................................................................................................................................................................................................................................................................................................................................................................................................................................................................................................................................................................................................................................................................................................................................................................................................................................................................................................................................................................................................................................................................................................................................................................................................................................................................................................................................................................................................................................................................................................................................................................................................................................................................................................................................................................................................................................................................................................................................................................................................................................................................................................................................................................................................................................................................................................................................................................................................................................................................................................................................................................................................................................................................................................................................................................................................................................................................................................................................................................................................................................................................................................................................................................................................................................................................................................................................................................................................................................................................................................................................................................................................................................................................................................................................................................................................................................................................................................................................................................................................................................................................................................................................................................................................................................................................................................................................................................................................................................................................................................................................................................................................................................................................................................................................................................................................................................................................................................................................................................................................................................................................................................................................................................................................................................................................................................................................................................................................................................................................................................................................................................................................................................................................................................................................................................................................................................................................................................................................................................................................................................................................................................................................................................................................................................................................................................................................................................................................................................................................................................................................................................................................................................................................................................................................................................................................................................................................................................................................................................................................................................................................................................................................................................................................................................................................................................................................................................................................................................................................................................................................................................................................................................................................................................................................................................................................................................................................................................................................................................................................................................................................................................................................................................................................................................................................................................................................................................................................................................................................................................................................................................................................................................................................................................................................................................................................................................................................................................................................................................................................................................................................................................................................................................................................................................................................................................................................................................................................................................................................................................................................................................................................................................................................................................................................................................................................................................................................................................................................................................................................................................................................................................................................................................................................................................................................................................................................................................................................................................................................................................................................................................................................................................................................................................................................................................................................................................................................................................................................................................................................................................................................................................................................................................................................................................................................................................................................................................................................................................................................................................................................................................................................................................................................................................................................................................................................................................................................................................................................................................................................................................................................................................................................................................................................................................................................................................................................................................................................................................................................................................................................................................................................................................................................................................................................................................................................................................................................................................................................................................................................................................................................................................................................................................................................................................................................................................................................................................................................................................................................................................................................................................................................................................................................................................................................................................................................................................................................................................................................................................................................................................................................................................................................................................................................................................................................................................................................................................................................................................................................................................................................................................................................................................................................................................................................................................................................................................................................................................................................................................................................................................................................................................................................................................................................................................................................................................................................................................................................................................................................................................................................................................................................................................................................................................................................................................................................................................................................................................................................................................................................................................................................................................................................................................................................................................................................................................................................................................................................................................................................................................................................................................................................................................................................................................................................................................................................................................................................................................................................................................................................................................................................................................................................................................................................................................................................................................................................................................................................................................................................................................................................................................................................................................................................................................................................................................................................................................................................................................................................................................................................................................................................................................................................................................................................................................................................................................................................................................................................................................................................................................................................................................................................................................................................................................................................................................................................................................................................................................................................................................................................................................................................................................................................................................................................................................................................................................................................................................................................................................................................................................................................................................................................................................................................................................................................................................................................................................................................................................................................................................................................................................................................................................................................................................................................................................................................................................................................................................................................................................................................................................................................................................................................................................................................................................................................................................................................................................................................................................................................................................................................................................................................................................................................................................................................................................................................................................................................................................................................................................................................................................................................................................................................................................................................................................................................................................................................................................................................................................................................................................................................................................................................................................................................................................................................................................................................................................................................................................................................................................................................................................................................................................................................................................................................................................................................................................................................................................................................................................................................................................................................................................................................................................................................................................................................................................................................................................................................................................................................................................................................................................................................................................................................................................................................................................................................................................................................................................................................................................................................................................................................................................................................................................................................................................................................................................................................................................................................................................................................................................................................................................................................................................................................................................................................................................................................................................................................................................................................................................................................................................................................................................................................................................................................................................................................................................................................................................................................................................................................................................................................................................................................................................................................................................................................................................................................................................................................................................................................................................................................................................................................................."
     ]
    }
   ],
   "source": [
    "dcd_file = mol.open_dcd_read(dcd_fname)\n",
    "\n",
    "n_atoms = mol.natoms()\n",
    "n_frames = dcd_file[2]\n",
    "\n",
    "print('number of frames: {}'.format(n_frames))\n",
    "print('number of atoms: {}'.format(n_atoms))\n",
    "\n",
    "r = np.arange(n_atoms)\n",
    "dist = np.zeros([n_frames, n_atoms, n_atoms])\n",
    "tic = time.time()\n",
    "with concurrent.futures.ThreadPoolExecutor(max_workers=n_cpu) as executor:\n",
    "    for i in xrange(n_frames):\n",
    "        mol.read_dcd_step(dcd_file, i)\n",
    "        coor = mol.coor()[0]\n",
    "        executor.submit(get_dist, coor, dist[i], r)\n",
    "\n",
    "toc = time.time() - tic    \n",
    "\n",
    "mol.close_dcd_read(dcd_file[0])\n",
    "\n",
    "print toc"
   ]
  },
  {
   "cell_type": "markdown",
   "metadata": {},
   "source": [
    "# Now with [Dask](http://dask.pydata.org/en/latest/)"
   ]
  },
  {
   "cell_type": "code",
   "execution_count": 33,
   "metadata": {
    "collapsed": true
   },
   "outputs": [],
   "source": [
    "def get_dist(coor, dist, r):\n",
    "    dist[r[:, None] < r] = pdist(coor)\n",
    "    return dist"
   ]
  },
  {
   "cell_type": "code",
   "execution_count": 39,
   "metadata": {
    "collapsed": true
   },
   "outputs": [],
   "source": [
    "from dask import delayed, compute"
   ]
  },
  {
   "cell_type": "code",
   "execution_count": 41,
   "metadata": {
    "collapsed": false
   },
   "outputs": [
    {
     "ename": "ValueError",
     "evalue": "A 2-dimensional array must be passed.\n\nTraceback\n---------\n  File \"/Users/schowell/data/myPrograms/anaconda3/envs/sassie/lib/python2.7/site-packages/dask/async.py\", line 263, in execute_task\n    result = _execute_task(task, data)\n  File \"/Users/schowell/data/myPrograms/anaconda3/envs/sassie/lib/python2.7/site-packages/dask/async.py\", line 245, in _execute_task\n    return func(*args2)\n  File \"/Users/schowell/data/myPrograms/anaconda3/envs/sassie/lib/python2.7/site-packages/scipy/spatial/distance.py\", line 1217, in pdist\n    raise ValueError('A 2-dimensional array must be passed.')\n",
     "output_type": "error",
     "traceback": [
      "\u001b[0;31m---------------------------------------------------------------------------\u001b[0m",
      "\u001b[0;31mValueError\u001b[0m                                Traceback (most recent call last)",
      "\u001b[0;32m<ipython-input-41-7d5f002f094c>\u001b[0m in \u001b[0;36m<module>\u001b[0;34m()\u001b[0m\n\u001b[1;32m      1\u001b[0m \u001b[0mslices\u001b[0m \u001b[0;34m=\u001b[0m \u001b[0;34m[\u001b[0m\u001b[0mcoor\u001b[0m\u001b[0;34m[\u001b[0m\u001b[0mi\u001b[0m\u001b[0;34m]\u001b[0m \u001b[0;32mfor\u001b[0m \u001b[0mi\u001b[0m \u001b[0;32min\u001b[0m \u001b[0mrange\u001b[0m\u001b[0;34m(\u001b[0m\u001b[0mcoor\u001b[0m\u001b[0;34m.\u001b[0m\u001b[0mshape\u001b[0m\u001b[0;34m[\u001b[0m\u001b[0;36m0\u001b[0m\u001b[0;34m]\u001b[0m\u001b[0;34m)\u001b[0m\u001b[0;34m]\u001b[0m \u001b[0;31m# create an iterator\u001b[0m\u001b[0;34m\u001b[0m\u001b[0m\n\u001b[1;32m      2\u001b[0m \u001b[0mslices2\u001b[0m \u001b[0;34m=\u001b[0m \u001b[0;34m[\u001b[0m\u001b[0mdelayed\u001b[0m\u001b[0;34m(\u001b[0m\u001b[0mpdist\u001b[0m\u001b[0;34m)\u001b[0m\u001b[0;34m(\u001b[0m\u001b[0mslice\u001b[0m\u001b[0;34m)\u001b[0m \u001b[0;32mfor\u001b[0m \u001b[0mslice\u001b[0m \u001b[0;32min\u001b[0m \u001b[0mslices\u001b[0m\u001b[0;34m]\u001b[0m\u001b[0;34m\u001b[0m\u001b[0m\n\u001b[0;32m----> 3\u001b[0;31m \u001b[0mresults\u001b[0m \u001b[0;34m=\u001b[0m \u001b[0mcompute\u001b[0m\u001b[0;34m(\u001b[0m\u001b[0;34m*\u001b[0m\u001b[0mslices2\u001b[0m\u001b[0;34m)\u001b[0m\u001b[0;34m\u001b[0m\u001b[0m\n\u001b[0m",
      "\u001b[0;32m/Users/schowell/data/myPrograms/anaconda3/envs/sassie/lib/python2.7/site-packages/dask/base.pyc\u001b[0m in \u001b[0;36mcompute\u001b[0;34m(*args, **kwargs)\u001b[0m\n\u001b[1;32m    169\u001b[0m         \u001b[0mdsk\u001b[0m \u001b[0;34m=\u001b[0m \u001b[0mmerge\u001b[0m\u001b[0;34m(\u001b[0m\u001b[0mvar\u001b[0m\u001b[0;34m.\u001b[0m\u001b[0mdask\u001b[0m \u001b[0;32mfor\u001b[0m \u001b[0mvar\u001b[0m \u001b[0;32min\u001b[0m \u001b[0mvariables\u001b[0m\u001b[0;34m)\u001b[0m\u001b[0;34m\u001b[0m\u001b[0m\n\u001b[1;32m    170\u001b[0m     \u001b[0mkeys\u001b[0m \u001b[0;34m=\u001b[0m \u001b[0;34m[\u001b[0m\u001b[0mvar\u001b[0m\u001b[0;34m.\u001b[0m\u001b[0m_keys\u001b[0m\u001b[0;34m(\u001b[0m\u001b[0;34m)\u001b[0m \u001b[0;32mfor\u001b[0m \u001b[0mvar\u001b[0m \u001b[0;32min\u001b[0m \u001b[0mvariables\u001b[0m\u001b[0;34m]\u001b[0m\u001b[0;34m\u001b[0m\u001b[0m\n\u001b[0;32m--> 171\u001b[0;31m     \u001b[0mresults\u001b[0m \u001b[0;34m=\u001b[0m \u001b[0mget\u001b[0m\u001b[0;34m(\u001b[0m\u001b[0mdsk\u001b[0m\u001b[0;34m,\u001b[0m \u001b[0mkeys\u001b[0m\u001b[0;34m,\u001b[0m \u001b[0;34m**\u001b[0m\u001b[0mkwargs\u001b[0m\u001b[0;34m)\u001b[0m\u001b[0;34m\u001b[0m\u001b[0m\n\u001b[0m\u001b[1;32m    172\u001b[0m \u001b[0;34m\u001b[0m\u001b[0m\n\u001b[1;32m    173\u001b[0m     \u001b[0mresults_iter\u001b[0m \u001b[0;34m=\u001b[0m \u001b[0miter\u001b[0m\u001b[0;34m(\u001b[0m\u001b[0mresults\u001b[0m\u001b[0;34m)\u001b[0m\u001b[0;34m\u001b[0m\u001b[0m\n",
      "\u001b[0;32m/Users/schowell/data/myPrograms/anaconda3/envs/sassie/lib/python2.7/site-packages/dask/threaded.pyc\u001b[0m in \u001b[0;36mget\u001b[0;34m(dsk, result, cache, num_workers, **kwargs)\u001b[0m\n\u001b[1;32m     69\u001b[0m     results = get_async(pool.apply_async, len(pool._pool), dsk, result,\n\u001b[1;32m     70\u001b[0m                         \u001b[0mcache\u001b[0m\u001b[0;34m=\u001b[0m\u001b[0mcache\u001b[0m\u001b[0;34m,\u001b[0m \u001b[0mqueue\u001b[0m\u001b[0;34m=\u001b[0m\u001b[0mqueue\u001b[0m\u001b[0;34m,\u001b[0m \u001b[0mget_id\u001b[0m\u001b[0;34m=\u001b[0m\u001b[0m_thread_get_id\u001b[0m\u001b[0;34m,\u001b[0m\u001b[0;34m\u001b[0m\u001b[0m\n\u001b[0;32m---> 71\u001b[0;31m                         **kwargs)\n\u001b[0m\u001b[1;32m     72\u001b[0m \u001b[0;34m\u001b[0m\u001b[0m\n\u001b[1;32m     73\u001b[0m     \u001b[0;31m# Cleanup pools associated to dead threads\u001b[0m\u001b[0;34m\u001b[0m\u001b[0;34m\u001b[0m\u001b[0m\n",
      "\u001b[0;32m/Users/schowell/data/myPrograms/anaconda3/envs/sassie/lib/python2.7/site-packages/dask/async.pyc\u001b[0m in \u001b[0;36mget_async\u001b[0;34m(apply_async, num_workers, dsk, result, cache, queue, get_id, raise_on_exception, rerun_exceptions_locally, callbacks, **kwargs)\u001b[0m\n\u001b[1;32m    479\u001b[0m                     \u001b[0m_execute_task\u001b[0m\u001b[0;34m(\u001b[0m\u001b[0mtask\u001b[0m\u001b[0;34m,\u001b[0m \u001b[0mdata\u001b[0m\u001b[0;34m)\u001b[0m  \u001b[0;31m# Re-execute locally\u001b[0m\u001b[0;34m\u001b[0m\u001b[0m\n\u001b[1;32m    480\u001b[0m                 \u001b[0;32melse\u001b[0m\u001b[0;34m:\u001b[0m\u001b[0;34m\u001b[0m\u001b[0m\n\u001b[0;32m--> 481\u001b[0;31m                     \u001b[0;32mraise\u001b[0m\u001b[0;34m(\u001b[0m\u001b[0mremote_exception\u001b[0m\u001b[0;34m(\u001b[0m\u001b[0mres\u001b[0m\u001b[0;34m,\u001b[0m \u001b[0mtb\u001b[0m\u001b[0;34m)\u001b[0m\u001b[0;34m)\u001b[0m\u001b[0;34m\u001b[0m\u001b[0m\n\u001b[0m\u001b[1;32m    482\u001b[0m             \u001b[0mstate\u001b[0m\u001b[0;34m[\u001b[0m\u001b[0;34m'cache'\u001b[0m\u001b[0;34m]\u001b[0m\u001b[0;34m[\u001b[0m\u001b[0mkey\u001b[0m\u001b[0;34m]\u001b[0m \u001b[0;34m=\u001b[0m \u001b[0mres\u001b[0m\u001b[0;34m\u001b[0m\u001b[0m\n\u001b[1;32m    483\u001b[0m             \u001b[0mfinish_task\u001b[0m\u001b[0;34m(\u001b[0m\u001b[0mdsk\u001b[0m\u001b[0;34m,\u001b[0m \u001b[0mkey\u001b[0m\u001b[0;34m,\u001b[0m \u001b[0mstate\u001b[0m\u001b[0;34m,\u001b[0m \u001b[0mresults\u001b[0m\u001b[0;34m,\u001b[0m \u001b[0mkeyorder\u001b[0m\u001b[0;34m.\u001b[0m\u001b[0mget\u001b[0m\u001b[0;34m)\u001b[0m\u001b[0;34m\u001b[0m\u001b[0m\n",
      "\u001b[0;31mValueError\u001b[0m: A 2-dimensional array must be passed.\n\nTraceback\n---------\n  File \"/Users/schowell/data/myPrograms/anaconda3/envs/sassie/lib/python2.7/site-packages/dask/async.py\", line 263, in execute_task\n    result = _execute_task(task, data)\n  File \"/Users/schowell/data/myPrograms/anaconda3/envs/sassie/lib/python2.7/site-packages/dask/async.py\", line 245, in _execute_task\n    return func(*args2)\n  File \"/Users/schowell/data/myPrograms/anaconda3/envs/sassie/lib/python2.7/site-packages/scipy/spatial/distance.py\", line 1217, in pdist\n    raise ValueError('A 2-dimensional array must be passed.')\n"
     ]
    }
   ],
   "source": [
    "slices = [coor[i] for i in range(coor.shape[0])] # create an iterator\n",
    "slices2 = [delayed(pdist)(slice) for slice in slices]\n",
    "results = compute(*slices2)"
   ]
  },
  {
   "cell_type": "code",
   "execution_count": 29,
   "metadata": {
    "collapsed": false
   },
   "outputs": [
    {
     "name": "stdout",
     "output_type": "stream",
     "text": [
      "number of frames: 5\n",
      "number of atoms: 2048\n",
      ".....result =  0\n"
     ]
    }
   ],
   "source": [
    "%%timeit\n",
    "# Dask with scipy version 2 (with boolean-indexing)\n",
    "dcd_file = mol.open_dcd_read(dcd_fname)\n",
    "\n",
    "n_atoms = mol.natoms()\n",
    "n_frames = dcd_file[2]\n",
    "\n",
    "print('number of frames: {}'.format(n_frames))\n",
    "print('number of atoms: {}'.format(n_atoms))\n",
    "\n",
    "r = np.arange(n_atoms)\n",
    "dist = np.zeros([n_frames, n_atoms, n_atoms])\n",
    "for i in xrange(n_frames):\n",
    "    mol.read_dcd_step(dcd_file, i)\n",
    "    coor = mol.coor()[0]\n",
    "    delayed(get_dist)(coor, dist[i], r)\n",
    "\n",
    "mol.close_dcd_read(dcd_file[0])"
   ]
  },
  {
   "cell_type": "code",
   "execution_count": 37,
   "metadata": {
    "collapsed": false
   },
   "outputs": [
    {
     "name": "stdout",
     "output_type": "stream",
     "text": [
      "number of frames: 5\n",
      "number of atoms: 2048\n",
      ".....result =  0\n"
     ]
    }
   ],
   "source": [
    "# Dask with scipy version 2 (with boolean-indexing)\n",
    "dcd_file = mol.open_dcd_read(dcd_fname)\n",
    "\n",
    "n_atoms = mol.natoms()\n",
    "n_frames = dcd_file[2]\n",
    "\n",
    "print('number of frames: {}'.format(n_frames))\n",
    "print('number of atoms: {}'.format(n_atoms))\n",
    "\n",
    "r = np.arange(n_atoms)\n",
    "dist = np.zeros([n_frames, n_atoms, n_atoms])\n",
    "res = []\n",
    "for i in xrange(n_frames):\n",
    "    mol.read_dcd_step(dcd_file, i)\n",
    "    coor = mol.coor()[0]\n",
    "    res.append(delayed(get_dist)(coor, dist[i], r))\n",
    "\n",
    "mol.close_dcd_read(dcd_file[0])\n",
    "test = [calc.compute for calc in res]\n",
    "dd = dist[-1, :4, :4]"
   ]
  },
  {
   "cell_type": "code",
   "execution_count": 38,
   "metadata": {
    "collapsed": false
   },
   "outputs": [
    {
     "data": {
      "text/plain": [
       "array([[ 0.,  0.,  0.,  0.],\n",
       "       [ 0.,  0.,  0.,  0.],\n",
       "       [ 0.,  0.,  0.,  0.],\n",
       "       [ 0.,  0.,  0.,  0.]])"
      ]
     },
     "execution_count": 38,
     "metadata": {},
     "output_type": "execute_result"
    }
   ],
   "source": [
    "dd"
   ]
  },
  {
   "cell_type": "code",
   "execution_count": 31,
   "metadata": {
    "collapsed": false
   },
   "outputs": [
    {
     "data": {
      "text/plain": [
       "array([[[ 0.,  0.,  0., ...,  0.,  0.,  0.],\n",
       "        [ 0.,  0.,  0., ...,  0.,  0.,  0.],\n",
       "        [ 0.,  0.,  0., ...,  0.,  0.,  0.],\n",
       "        ..., \n",
       "        [ 0.,  0.,  0., ...,  0.,  0.,  0.],\n",
       "        [ 0.,  0.,  0., ...,  0.,  0.,  0.],\n",
       "        [ 0.,  0.,  0., ...,  0.,  0.,  0.]],\n",
       "\n",
       "       [[ 0.,  0.,  0., ...,  0.,  0.,  0.],\n",
       "        [ 0.,  0.,  0., ...,  0.,  0.,  0.],\n",
       "        [ 0.,  0.,  0., ...,  0.,  0.,  0.],\n",
       "        ..., \n",
       "        [ 0.,  0.,  0., ...,  0.,  0.,  0.],\n",
       "        [ 0.,  0.,  0., ...,  0.,  0.,  0.],\n",
       "        [ 0.,  0.,  0., ...,  0.,  0.,  0.]],\n",
       "\n",
       "       [[ 0.,  0.,  0., ...,  0.,  0.,  0.],\n",
       "        [ 0.,  0.,  0., ...,  0.,  0.,  0.],\n",
       "        [ 0.,  0.,  0., ...,  0.,  0.,  0.],\n",
       "        ..., \n",
       "        [ 0.,  0.,  0., ...,  0.,  0.,  0.],\n",
       "        [ 0.,  0.,  0., ...,  0.,  0.,  0.],\n",
       "        [ 0.,  0.,  0., ...,  0.,  0.,  0.]],\n",
       "\n",
       "       [[ 0.,  0.,  0., ...,  0.,  0.,  0.],\n",
       "        [ 0.,  0.,  0., ...,  0.,  0.,  0.],\n",
       "        [ 0.,  0.,  0., ...,  0.,  0.,  0.],\n",
       "        ..., \n",
       "        [ 0.,  0.,  0., ...,  0.,  0.,  0.],\n",
       "        [ 0.,  0.,  0., ...,  0.,  0.,  0.],\n",
       "        [ 0.,  0.,  0., ...,  0.,  0.,  0.]],\n",
       "\n",
       "       [[ 0.,  0.,  0., ...,  0.,  0.,  0.],\n",
       "        [ 0.,  0.,  0., ...,  0.,  0.,  0.],\n",
       "        [ 0.,  0.,  0., ...,  0.,  0.,  0.],\n",
       "        ..., \n",
       "        [ 0.,  0.,  0., ...,  0.,  0.,  0.],\n",
       "        [ 0.,  0.,  0., ...,  0.,  0.,  0.],\n",
       "        [ 0.,  0.,  0., ...,  0.,  0.,  0.]]])"
      ]
     },
     "execution_count": 31,
     "metadata": {},
     "output_type": "execute_result"
    }
   ],
   "source": [
    "dist"
   ]
  },
  {
   "cell_type": "code",
   "execution_count": null,
   "metadata": {
    "collapsed": true
   },
   "outputs": [],
   "source": []
  }
 ],
 "metadata": {
  "anaconda-cloud": {},
  "kernelspec": {
   "display_name": "Python [conda env:sassie]",
   "language": "python",
   "name": "conda-env-sassie-py"
  },
  "language_info": {
   "codemirror_mode": {
    "name": "ipython",
    "version": 2
   },
   "file_extension": ".py",
   "mimetype": "text/x-python",
   "name": "python",
   "nbconvert_exporter": "python",
   "pygments_lexer": "ipython2",
   "version": "2.7.12"
  }
 },
 "nbformat": 4,
 "nbformat_minor": 1
}
