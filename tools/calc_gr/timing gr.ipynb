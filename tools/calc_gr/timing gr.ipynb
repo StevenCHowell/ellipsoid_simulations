{
 "cells": [
  {
   "cell_type": "markdown",
   "metadata": {},
   "source": [
    "# Speed up g(r) code"
   ]
  },
  {
   "cell_type": "markdown",
   "metadata": {},
   "source": [
    "I want to compare the timings for calculating the distances between many atoms.  This involves computing the double loop over all coordinates."
   ]
  },
  {
   "cell_type": "code",
   "execution_count": 1,
   "metadata": {
    "collapsed": true
   },
   "outputs": [],
   "source": [
    "from sasmol import sasmol"
   ]
  },
  {
   "cell_type": "code",
   "execution_count": 2,
   "metadata": {
    "collapsed": true
   },
   "outputs": [],
   "source": [
    "import numpy as np"
   ]
  },
  {
   "cell_type": "code",
   "execution_count": 3,
   "metadata": {
    "collapsed": true
   },
   "outputs": [],
   "source": [
    "from scipy.spatial.distance import pdist"
   ]
  },
  {
   "cell_type": "code",
   "execution_count": 4,
   "metadata": {
    "collapsed": true
   },
   "outputs": [],
   "source": [
    "from distance import distance"
   ]
  },
  {
   "cell_type": "code",
   "execution_count": 5,
   "metadata": {
    "collapsed": true
   },
   "outputs": [],
   "source": [
    "import dask.array as da"
   ]
  },
  {
   "cell_type": "code",
   "execution_count": 6,
   "metadata": {
    "collapsed": false
   },
   "outputs": [
    {
     "name": "stdout",
     "output_type": "stream",
     "text": [
      "reading filename:  test.pdb\n",
      "num_atoms =  2048\n",
      ">>> found  1  model(s) or frame(s)\n",
      "finished reading frame =  1\n"
     ]
    }
   ],
   "source": [
    "# setup coordinates\n",
    "pdb_fname = 'test.pdb'\n",
    "dcd_fname = 'test.dcd'\n",
    "mol = sasmol.SasMol(0)\n",
    "mol.read_pdb(pdb_fname)"
   ]
  },
  {
   "cell_type": "code",
   "execution_count": null,
   "metadata": {
    "collapsed": false
   },
   "outputs": [],
   "source": [
    "# confirm indexing\n",
    "n = 3\n",
    "d = np.zeros([n, n])\n",
    "for j in xrange(3):\n",
    "    for k in xrange(j+1, 3):\n",
    "        d[j, k] = 1\n",
    "print(d)"
   ]
  },
  {
   "cell_type": "code",
   "execution_count": null,
   "metadata": {
    "collapsed": false
   },
   "outputs": [],
   "source": [
    "# confirm products\n",
    "c1 = np.arange(3)\n",
    "c2 = np.arange(3)/10.0\n",
    "dsum = np.sqrt((c1[0] - c2[0]) ** 2  + (c1[1] - c2[1]) ** 2  + (c1[2] - c2[2]) ** 2)\n",
    "nsum = np.sqrt(np.sum((c1 - c2) ** 2))\n",
    "print(dsum, nsum)"
   ]
  },
  {
   "cell_type": "code",
   "execution_count": null,
   "metadata": {
    "collapsed": false
   },
   "outputs": [],
   "source": [
    "%%timeit\n",
    "# ignorant python\n",
    "dcd_file = mol.open_dcd_read(dcd_fname)\n",
    "\n",
    "n_atoms = mol.natoms()\n",
    "# n_frames = dcd_file[2]\n",
    "n_frames = 1\n",
    "\n",
    "print('number of frames: {}'.format(n_frames))\n",
    "print('number of atoms: {}'.format(n_atoms))\n",
    "\n",
    "dist = np.zeros([n_frames, n_atoms, n_atoms])\n",
    "for i in xrange(n_frames):\n",
    "    mol.read_dcd_step(dcd_file, i)\n",
    "    coor = mol.coor()[0]\n",
    "    for j in xrange(n_atoms):\n",
    "        for k in xrange(j+1, n_atoms):\n",
    "            dist[i, j, k] = np.sqrt(np.sum((coor[j] - coor[k]) ** 2))\n",
    "            \n",
    "mol.close_dcd_read(dcd_file[0])"
   ]
  },
  {
   "cell_type": "code",
   "execution_count": null,
   "metadata": {
    "collapsed": false
   },
   "outputs": [],
   "source": [
    "# ignorant python\n",
    "dcd_file = mol.open_dcd_read(dcd_fname)\n",
    "\n",
    "n_atoms = mol.natoms()\n",
    "# n_frames = dcd_file[2]\n",
    "n_frames = 1\n",
    "\n",
    "print('number of frames: {}'.format(n_frames))\n",
    "print('number of atoms: {}'.format(n_atoms))\n",
    "\n",
    "dist = np.zeros([n_frames, n_atoms, n_atoms])\n",
    "for i in xrange(n_frames):\n",
    "    mol.read_dcd_step(dcd_file, i)\n",
    "    coor = mol.coor()[0]\n",
    "    for j in xrange(n_atoms):\n",
    "        for k in xrange(j+1, n_atoms):\n",
    "            dist[i, j, k] = np.sqrt(np.sum((coor[j] - coor[k]) ** 2))\n",
    "            \n",
    "mol.close_dcd_read(dcd_file[0])\n",
    "\n",
    "dp = dist[0, :4, :4]"
   ]
  },
  {
   "cell_type": "code",
   "execution_count": null,
   "metadata": {
    "collapsed": false
   },
   "outputs": [],
   "source": [
    "dp"
   ]
  },
  {
   "cell_type": "code",
   "execution_count": null,
   "metadata": {
    "collapsed": false
   },
   "outputs": [],
   "source": [
    "%%timeit\n",
    "# numpy version\n",
    "dcd_file = mol.open_dcd_read(dcd_fname)\n",
    "\n",
    "n_atoms = mol.natoms()\n",
    "# n_frames = dcd_file[2]\n",
    "n_frames = 1\n",
    "\n",
    "print('number of frames: {}'.format(n_frames))\n",
    "print('number of atoms: {}'.format(n_atoms))\n",
    "\n",
    "dist = np.zeros([n_frames, n_atoms, n_atoms])\n",
    "for i in xrange(n_frames):\n",
    "    mol.read_dcd_step(dcd_file, i)\n",
    "    coor = mol.coor()[0]\n",
    "    dist[i] = np.sqrt(((coor[:, None, :] - coor) ** 2).sum(-1))\n",
    "    \n",
    "mol.close_dcd_read(dcd_file[0])"
   ]
  },
  {
   "cell_type": "code",
   "execution_count": null,
   "metadata": {
    "collapsed": false
   },
   "outputs": [],
   "source": [
    "# numpy version\n",
    "dcd_file = mol.open_dcd_read(dcd_fname)\n",
    "\n",
    "n_atoms = mol.natoms()\n",
    "# n_frames = dcd_file[2]\n",
    "n_frames = 1\n",
    "\n",
    "print('number of frames: {}'.format(n_frames))\n",
    "print('number of atoms: {}'.format(n_atoms))\n",
    "\n",
    "dist = np.zeros([n_frames, n_atoms, n_atoms])\n",
    "for i in xrange(n_frames):\n",
    "    mol.read_dcd_step(dcd_file, i)\n",
    "    coor = mol.coor()[0]\n",
    "    dist[i] = np.sqrt(((coor[:, None, :] - coor) ** 2).sum(-1))\n",
    "    \n",
    "mol.close_dcd_read(dcd_file[0])\n",
    "\n",
    "dn = dist[0, :4, :4]"
   ]
  },
  {
   "cell_type": "code",
   "execution_count": null,
   "metadata": {
    "collapsed": false
   },
   "outputs": [],
   "source": [
    "dp, dn"
   ]
  },
  {
   "cell_type": "code",
   "execution_count": null,
   "metadata": {
    "collapsed": false
   },
   "outputs": [],
   "source": [
    "print(dp-dn)"
   ]
  },
  {
   "cell_type": "markdown",
   "metadata": {},
   "source": [
    "Even though the NumPy version calculates the entire matrix, it is more than 2x faster."
   ]
  },
  {
   "cell_type": "code",
   "execution_count": null,
   "metadata": {
    "collapsed": false
   },
   "outputs": [],
   "source": [
    "%%timeit\n",
    "# scipy version 1\n",
    "dcd_file = mol.open_dcd_read(dcd_fname)\n",
    "\n",
    "n_atoms = mol.natoms()\n",
    "# n_frames = dcd_file[2]\n",
    "n_frames = 1\n",
    "\n",
    "print('number of frames: {}'.format(n_frames))\n",
    "print('number of atoms: {}'.format(n_atoms))\n",
    "\n",
    "dist = np.zeros([n_frames, n_atoms, n_atoms])\n",
    "\n",
    "for i in xrange(n_frames):\n",
    "    mol.read_dcd_step(dcd_file, i)\n",
    "    coor = mol.coor()[0]\n",
    "    row, col = np.triu_indices(n_atoms, 1)\n",
    "    dist[i, row, col] = pdist(coor)\n",
    "    \n",
    "mol.close_dcd_read(dcd_file[0])"
   ]
  },
  {
   "cell_type": "code",
   "execution_count": null,
   "metadata": {
    "collapsed": false
   },
   "outputs": [],
   "source": [
    "# scipy version 1\n",
    "dcd_file = mol.open_dcd_read(dcd_fname)\n",
    "\n",
    "n_atoms = mol.natoms()\n",
    "# n_frames = dcd_file[2]\n",
    "n_frames = 1\n",
    "\n",
    "print('number of frames: {}'.format(n_frames))\n",
    "print('number of atoms: {}'.format(n_atoms))\n",
    "\n",
    "dist = np.zeros([n_frames, n_atoms, n_atoms])\n",
    "\n",
    "for i in xrange(n_frames):\n",
    "    mol.read_dcd_step(dcd_file, i)\n",
    "    coor = mol.coor()[0]\n",
    "    row, col = np.triu_indices(n_atoms, 1)\n",
    "    dist[i, row, col] = pdist(coor)\n",
    "    \n",
    "mol.close_dcd_read(dcd_file[0])\n",
    "\n",
    "ds1 = dist[0, :4, :4]"
   ]
  },
  {
   "cell_type": "code",
   "execution_count": null,
   "metadata": {
    "collapsed": false
   },
   "outputs": [],
   "source": [
    "%%timeit\n",
    "# scipy version 2 (with boolean-indexing)\n",
    "dcd_file = mol.open_dcd_read(dcd_fname)\n",
    "\n",
    "n_atoms = mol.natoms()\n",
    "# n_frames = dcd_file[2]\n",
    "n_frames = 1\n",
    "\n",
    "print('number of frames: {}'.format(n_frames))\n",
    "print('number of atoms: {}'.format(n_atoms))\n",
    "\n",
    "dist = np.zeros([n_frames, n_atoms, n_atoms])\n",
    "\n",
    "for i in xrange(n_frames):\n",
    "    mol.read_dcd_step(dcd_file, i)\n",
    "    coor = mol.coor()[0]\n",
    "    r = np.arange(n_atoms)\n",
    "    dist[i, r[:, None] < r] = pdist(coor)\n",
    "    \n",
    "mol.close_dcd_read(dcd_file[0])"
   ]
  },
  {
   "cell_type": "code",
   "execution_count": null,
   "metadata": {
    "collapsed": false
   },
   "outputs": [],
   "source": [
    "# scipy version 2 (with boolean-indexing)\n",
    "dcd_file = mol.open_dcd_read(dcd_fname)\n",
    "\n",
    "n_atoms = mol.natoms()\n",
    "# n_frames = dcd_file[2]\n",
    "n_frames = 1\n",
    "\n",
    "print('number of frames: {}'.format(n_frames))\n",
    "print('number of atoms: {}'.format(n_atoms))\n",
    "\n",
    "dist = np.zeros([n_frames, n_atoms, n_atoms])\n",
    "\n",
    "for i in xrange(n_frames):\n",
    "    mol.read_dcd_step(dcd_file, i)\n",
    "    coor = mol.coor()[0]\n",
    "    r = np.arange(n_atoms)\n",
    "    dist[i, r[:, None] < r] = pdist(coor)\n",
    "    \n",
    "mol.close_dcd_read(dcd_file[0])\n",
    "\n",
    "ds2 = dist[0, :4, :4]"
   ]
  },
  {
   "cell_type": "code",
   "execution_count": null,
   "metadata": {
    "collapsed": false
   },
   "outputs": [],
   "source": [
    "dp, dn, ds1, ds2"
   ]
  },
  {
   "cell_type": "code",
   "execution_count": null,
   "metadata": {
    "collapsed": false
   },
   "outputs": [],
   "source": [
    "print(dp-ds1)\n",
    "print(dp-ds2)"
   ]
  },
  {
   "cell_type": "code",
   "execution_count": null,
   "metadata": {
    "collapsed": false
   },
   "outputs": [],
   "source": [
    "%%timeit\n",
    "# fortran version\n",
    "dcd_file = mol.open_dcd_read(dcd_fname)\n",
    "\n",
    "n_atoms = mol.natoms()\n",
    "# n_frames = dcd_file[2]\n",
    "n_frames = 1\n",
    "\n",
    "print('number of frames: {}'.format(n_frames))\n",
    "print('number of atoms: {}'.format(n_atoms))\n",
    "\n",
    "dist = np.zeros([n_frames, n_atoms, n_atoms])\n",
    "\n",
    "for i in xrange(n_frames):\n",
    "    mol.read_dcd_step(dcd_file, i)\n",
    "    coor = mol.coor()[0]\n",
    "    dist[0] = distance(coor, dist[0])\n",
    "    \n",
    "mol.close_dcd_read(dcd_file[0])"
   ]
  },
  {
   "cell_type": "code",
   "execution_count": null,
   "metadata": {
    "collapsed": false
   },
   "outputs": [],
   "source": [
    "# fortran version\n",
    "dcd_file = mol.open_dcd_read(dcd_fname)\n",
    "\n",
    "n_atoms = mol.natoms()\n",
    "# n_frames = dcd_file[2]\n",
    "n_frames = 1\n",
    "\n",
    "print('number of frames: {}'.format(n_frames))\n",
    "print('number of atoms: {}'.format(n_atoms))\n",
    "\n",
    "dist = np.zeros([n_frames, n_atoms, n_atoms])\n",
    "\n",
    "for i in xrange(n_frames):\n",
    "    mol.read_dcd_step(dcd_file, i)\n",
    "    coor = mol.coor()[0]\n",
    "    dist[0] = distance(coor, dist[0])\n",
    "    \n",
    "mol.close_dcd_read(dcd_file[0])\n",
    "\n",
    "df = dist[0, :4, :4]"
   ]
  },
  {
   "cell_type": "code",
   "execution_count": null,
   "metadata": {
    "collapsed": false
   },
   "outputs": [],
   "source": [
    "dp, df"
   ]
  },
  {
   "cell_type": "code",
   "execution_count": null,
   "metadata": {
    "collapsed": false
   },
   "outputs": [],
   "source": [
    "df - dp"
   ]
  },
  {
   "cell_type": "markdown",
   "metadata": {},
   "source": [
    "# Now with [Dask](http://dask.pydata.org/en/latest/)"
   ]
  },
  {
   "cell_type": "code",
   "execution_count": 18,
   "metadata": {
    "collapsed": false
   },
   "outputs": [
    {
     "name": "stdout",
     "output_type": "stream",
     "text": [
      "number of frames: 1002\n",
      "number of atoms: 2048\n",
      "..........................................................................................................................................................................................................................................................................................................................................................................................................................................................................................................................................................................................................................................................................................................................................................................................................................................................................................................................................................................................................................................result =  0\n"
     ]
    }
   ],
   "source": [
    "# Dask with scipy version 2 (with boolean-indexing)\n",
    "dcd_file = mol.open_dcd_read(dcd_fname)\n",
    "\n",
    "n_atoms = mol.natoms()\n",
    "n_frames = dcd_file[2]\n",
    "\n",
    "print('number of frames: {}'.format(n_frames))\n",
    "print('number of atoms: {}'.format(n_atoms))\n",
    "\n",
    "dist = np.zeros([n_frames, n_atoms, n_atoms])\n",
    "coor = []\n",
    "for i in xrange(n_frames):\n",
    "    mol.read_dcd_step(dcd_file, i)\n",
    "    coor.append(mol.coor()[0])\n",
    "    \n",
    "mol.close_dcd_read(dcd_file[0])"
   ]
  },
  {
   "cell_type": "code",
   "execution_count": null,
   "metadata": {
    "collapsed": false
   },
   "outputs": [],
   "source": [
    "%%timeit\n",
    "d_coor = da.from_array(np.array(coor), chunks=(1, n_atoms, 3))\n",
    "\n",
    "for i in xrange(n_frames):\n",
    "    r = np.arange(n_atoms)\n",
    "    dist[i, r[:, None] < r] = pdist(d_coor[i])\n",
    "    \n",
    "dd = dist[0, :4, :4]"
   ]
  },
  {
   "cell_type": "code",
   "execution_count": 16,
   "metadata": {
    "collapsed": false
   },
   "outputs": [
    {
     "name": "stdout",
     "output_type": "stream",
     "text": [
      "1 loop, best of 3: 411 ms per loop\n"
     ]
    }
   ],
   "source": [
    "%%timeit\n",
    "n_coor = np.array(coor)\n",
    "\n",
    "for i in xrange(n_frames):\n",
    "    r = np.arange(n_atoms)\n",
    "    dist[i, r[:, None] < r] = pdist(n_coor[i])\n",
    "    \n",
    "dd = dist[0, :4, :4]"
   ]
  },
  {
   "cell_type": "code",
   "execution_count": 17,
   "metadata": {
    "collapsed": true
   },
   "outputs": [],
   "source": [
    "import dask"
   ]
  },
  {
   "cell_type": "code",
   "execution_count": null,
   "metadata": {
    "collapsed": true
   },
   "outputs": [],
   "source": []
  }
 ],
 "metadata": {
  "kernelspec": {
   "display_name": "Python 2",
   "language": "python",
   "name": "python2"
  },
  "language_info": {
   "codemirror_mode": {
    "name": "ipython",
    "version": 2
   },
   "file_extension": ".py",
   "mimetype": "text/x-python",
   "name": "python",
   "nbconvert_exporter": "python",
   "pygments_lexer": "ipython2",
   "version": "2.7.12"
  }
 },
 "nbformat": 4,
 "nbformat_minor": 1
}
