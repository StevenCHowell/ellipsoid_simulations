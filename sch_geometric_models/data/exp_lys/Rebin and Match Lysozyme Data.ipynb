{
 "cells": [
  {
   "cell_type": "markdown",
   "metadata": {},
   "source": [
    "# Sampling experimental lysozyme data to a finer q-grid"
   ]
  },
  {
   "cell_type": "code",
   "execution_count": 1,
   "metadata": {
    "collapsed": true
   },
   "outputs": [],
   "source": [
    "import numpy as np"
   ]
  },
  {
   "cell_type": "code",
   "execution_count": 21,
   "metadata": {
    "collapsed": true
   },
   "outputs": [],
   "source": [
    "import logging\n",
    "logging.basicConfig(format='%(levelname)s: %(message)s', level=logging.DEBUG)"
   ]
  },
  {
   "cell_type": "code",
   "execution_count": 3,
   "metadata": {
    "collapsed": false
   },
   "outputs": [],
   "source": [
    "from bokeh.plotting import figure, show, output_notebook\n",
    "from bokeh.models import Range1d\n",
    "from bokeh.palettes import Dark2_5 as palette\n",
    "from bokeh.layouts import gridplot"
   ]
  },
  {
   "cell_type": "code",
   "execution_count": 4,
   "metadata": {
    "collapsed": false
   },
   "outputs": [
    {
     "data": {
      "text/html": [
       "\n",
       "    <div class=\"bk-root\">\n",
       "        <a href=\"http://bokeh.pydata.org\" target=\"_blank\" class=\"bk-logo bk-logo-small bk-logo-notebook\"></a>\n",
       "        <span id=\"c07a4856-03a0-4831-9b3e-7d3f96d011f4\">Loading BokehJS ...</span>\n",
       "    </div>"
      ]
     },
     "metadata": {},
     "output_type": "display_data"
    },
    {
     "data": {
      "application/javascript": [
       "\n",
       "(function(global) {\n",
       "  function now() {\n",
       "    return new Date();\n",
       "  }\n",
       "\n",
       "  var force = \"1\";\n",
       "\n",
       "  if (typeof (window._bokeh_onload_callbacks) === \"undefined\" || force !== \"\") {\n",
       "    window._bokeh_onload_callbacks = [];\n",
       "    window._bokeh_is_loading = undefined;\n",
       "  }\n",
       "\n",
       "\n",
       "  \n",
       "  if (typeof (window._bokeh_timeout) === \"undefined\" || force !== \"\") {\n",
       "    window._bokeh_timeout = Date.now() + 5000;\n",
       "    window._bokeh_failed_load = false;\n",
       "  }\n",
       "\n",
       "  var NB_LOAD_WARNING = {'data': {'text/html':\n",
       "     \"<div style='background-color: #fdd'>\\n\"+\n",
       "     \"<p>\\n\"+\n",
       "     \"BokehJS does not appear to have successfully loaded. If loading BokehJS from CDN, this \\n\"+\n",
       "     \"may be due to a slow or bad network connection. Possible fixes:\\n\"+\n",
       "     \"</p>\\n\"+\n",
       "     \"<ul>\\n\"+\n",
       "     \"<li>re-rerun `output_notebook()` to attempt to load from CDN again, or</li>\\n\"+\n",
       "     \"<li>use INLINE resources instead, as so:</li>\\n\"+\n",
       "     \"</ul>\\n\"+\n",
       "     \"<code>\\n\"+\n",
       "     \"from bokeh.resources import INLINE\\n\"+\n",
       "     \"output_notebook(resources=INLINE)\\n\"+\n",
       "     \"</code>\\n\"+\n",
       "     \"</div>\"}};\n",
       "\n",
       "  function display_loaded() {\n",
       "    if (window.Bokeh !== undefined) {\n",
       "      Bokeh.$(\"#c07a4856-03a0-4831-9b3e-7d3f96d011f4\").text(\"BokehJS successfully loaded.\");\n",
       "    } else if (Date.now() < window._bokeh_timeout) {\n",
       "      setTimeout(display_loaded, 100)\n",
       "    }\n",
       "  }\n",
       "\n",
       "  function run_callbacks() {\n",
       "    window._bokeh_onload_callbacks.forEach(function(callback) { callback() });\n",
       "    delete window._bokeh_onload_callbacks\n",
       "    console.info(\"Bokeh: all callbacks have finished\");\n",
       "  }\n",
       "\n",
       "  function load_libs(js_urls, callback) {\n",
       "    window._bokeh_onload_callbacks.push(callback);\n",
       "    if (window._bokeh_is_loading > 0) {\n",
       "      console.log(\"Bokeh: BokehJS is being loaded, scheduling callback at\", now());\n",
       "      return null;\n",
       "    }\n",
       "    if (js_urls == null || js_urls.length === 0) {\n",
       "      run_callbacks();\n",
       "      return null;\n",
       "    }\n",
       "    console.log(\"Bokeh: BokehJS not loaded, scheduling load and callback at\", now());\n",
       "    window._bokeh_is_loading = js_urls.length;\n",
       "    for (var i = 0; i < js_urls.length; i++) {\n",
       "      var url = js_urls[i];\n",
       "      var s = document.createElement('script');\n",
       "      s.src = url;\n",
       "      s.async = false;\n",
       "      s.onreadystatechange = s.onload = function() {\n",
       "        window._bokeh_is_loading--;\n",
       "        if (window._bokeh_is_loading === 0) {\n",
       "          console.log(\"Bokeh: all BokehJS libraries loaded\");\n",
       "          run_callbacks()\n",
       "        }\n",
       "      };\n",
       "      s.onerror = function() {\n",
       "        console.warn(\"failed to load library \" + url);\n",
       "      };\n",
       "      console.log(\"Bokeh: injecting script tag for BokehJS library: \", url);\n",
       "      document.getElementsByTagName(\"head\")[0].appendChild(s);\n",
       "    }\n",
       "  };var element = document.getElementById(\"c07a4856-03a0-4831-9b3e-7d3f96d011f4\");\n",
       "  if (element == null) {\n",
       "    console.log(\"Bokeh: ERROR: autoload.js configured with elementid 'c07a4856-03a0-4831-9b3e-7d3f96d011f4' but no matching script tag was found. \")\n",
       "    return false;\n",
       "  }\n",
       "\n",
       "  var js_urls = ['https://cdn.pydata.org/bokeh/release/bokeh-0.12.3.min.js', 'https://cdn.pydata.org/bokeh/release/bokeh-widgets-0.12.3.min.js'];\n",
       "\n",
       "  var inline_js = [\n",
       "    function(Bokeh) {\n",
       "      Bokeh.set_log_level(\"info\");\n",
       "    },\n",
       "    \n",
       "    function(Bokeh) {\n",
       "      \n",
       "      Bokeh.$(\"#c07a4856-03a0-4831-9b3e-7d3f96d011f4\").text(\"BokehJS is loading...\");\n",
       "    },\n",
       "    function(Bokeh) {\n",
       "      console.log(\"Bokeh: injecting CSS: https://cdn.pydata.org/bokeh/release/bokeh-0.12.3.min.css\");\n",
       "      Bokeh.embed.inject_css(\"https://cdn.pydata.org/bokeh/release/bokeh-0.12.3.min.css\");\n",
       "      console.log(\"Bokeh: injecting CSS: https://cdn.pydata.org/bokeh/release/bokeh-widgets-0.12.3.min.css\");\n",
       "      Bokeh.embed.inject_css(\"https://cdn.pydata.org/bokeh/release/bokeh-widgets-0.12.3.min.css\");\n",
       "    }\n",
       "  ];\n",
       "\n",
       "  function run_inline_js() {\n",
       "    \n",
       "    if ((window.Bokeh !== undefined) || (force === \"1\")) {\n",
       "      for (var i = 0; i < inline_js.length; i++) {\n",
       "        inline_js[i](window.Bokeh);\n",
       "      }if (force === \"1\") {\n",
       "        display_loaded();\n",
       "      }} else if (Date.now() < window._bokeh_timeout) {\n",
       "      setTimeout(run_inline_js, 100);\n",
       "    } else if (!window._bokeh_failed_load) {\n",
       "      console.log(\"Bokeh: BokehJS failed to load within specified timeout.\");\n",
       "      window._bokeh_failed_load = true;\n",
       "    } else if (!force) {\n",
       "      var cell = $(\"#c07a4856-03a0-4831-9b3e-7d3f96d011f4\").parents('.cell').data().cell;\n",
       "      cell.output_area.append_execute_result(NB_LOAD_WARNING)\n",
       "    }\n",
       "\n",
       "  }\n",
       "\n",
       "  if (window._bokeh_is_loading === 0) {\n",
       "    console.log(\"Bokeh: BokehJS loaded, going straight to plotting\");\n",
       "    run_inline_js();\n",
       "  } else {\n",
       "    load_libs(js_urls, function() {\n",
       "      console.log(\"Bokeh: BokehJS plotting callback run at\", now());\n",
       "      run_inline_js();\n",
       "    });\n",
       "  }\n",
       "}(this));"
      ]
     },
     "metadata": {},
     "output_type": "display_data"
    }
   ],
   "source": [
    "output_notebook()"
   ]
  },
  {
   "cell_type": "code",
   "execution_count": 5,
   "metadata": {
    "collapsed": true
   },
   "outputs": [],
   "source": [
    "raw = np.loadtxt('exp_data_lysozyme.dat')"
   ]
  },
  {
   "cell_type": "code",
   "execution_count": 6,
   "metadata": {
    "collapsed": true
   },
   "outputs": [],
   "source": [
    "def errorbar(fig, x, y, xerr=None, yerr=None, color='red', \n",
    "             point_kwargs={}, error_kwargs={}):\n",
    "\n",
    "    fig.circle(x, y, color=color, **point_kwargs)\n",
    "\n",
    "    if xerr is not None:\n",
    "        x_err_x = []\n",
    "        x_err_y = []\n",
    "        for px, py, err in zip(x, y, xerr):\n",
    "            x_err_x.append((px - err, px + err))\n",
    "            x_err_y.append((py, py))\n",
    "        fig.multi_line(x_err_x, x_err_y, color=color, **error_kwargs)\n",
    "\n",
    "    if yerr is not None:\n",
    "        y_err_x = []\n",
    "        y_err_y = []\n",
    "        for px, py, err in zip(x, y, yerr):\n",
    "            y_err_x.append((px, px))\n",
    "            y_err_y.append((py - err, py + err))\n",
    "        fig.multi_line(y_err_x, y_err_y, color=color, **error_kwargs)"
   ]
  },
  {
   "cell_type": "code",
   "execution_count": 7,
   "metadata": {
    "collapsed": false
   },
   "outputs": [
    {
     "data": {
      "text/html": [
       "\n",
       "\n",
       "    <div class=\"bk-root\">\n",
       "        <div class=\"plotdiv\" id=\"d1e051e1-cd50-4dfb-b451-476bc5310370\"></div>\n",
       "    </div>\n",
       "<script type=\"text/javascript\">\n",
       "  \n",
       "  (function(global) {\n",
       "    function now() {\n",
       "      return new Date();\n",
       "    }\n",
       "  \n",
       "    var force = \"\";\n",
       "  \n",
       "    if (typeof (window._bokeh_onload_callbacks) === \"undefined\" || force !== \"\") {\n",
       "      window._bokeh_onload_callbacks = [];\n",
       "      window._bokeh_is_loading = undefined;\n",
       "    }\n",
       "  \n",
       "  \n",
       "    \n",
       "    if (typeof (window._bokeh_timeout) === \"undefined\" || force !== \"\") {\n",
       "      window._bokeh_timeout = Date.now() + 0;\n",
       "      window._bokeh_failed_load = false;\n",
       "    }\n",
       "  \n",
       "    var NB_LOAD_WARNING = {'data': {'text/html':\n",
       "       \"<div style='background-color: #fdd'>\\n\"+\n",
       "       \"<p>\\n\"+\n",
       "       \"BokehJS does not appear to have successfully loaded. If loading BokehJS from CDN, this \\n\"+\n",
       "       \"may be due to a slow or bad network connection. Possible fixes:\\n\"+\n",
       "       \"</p>\\n\"+\n",
       "       \"<ul>\\n\"+\n",
       "       \"<li>re-rerun `output_notebook()` to attempt to load from CDN again, or</li>\\n\"+\n",
       "       \"<li>use INLINE resources instead, as so:</li>\\n\"+\n",
       "       \"</ul>\\n\"+\n",
       "       \"<code>\\n\"+\n",
       "       \"from bokeh.resources import INLINE\\n\"+\n",
       "       \"output_notebook(resources=INLINE)\\n\"+\n",
       "       \"</code>\\n\"+\n",
       "       \"</div>\"}};\n",
       "  \n",
       "    function display_loaded() {\n",
       "      if (window.Bokeh !== undefined) {\n",
       "        Bokeh.$(\"#d1e051e1-cd50-4dfb-b451-476bc5310370\").text(\"BokehJS successfully loaded.\");\n",
       "      } else if (Date.now() < window._bokeh_timeout) {\n",
       "        setTimeout(display_loaded, 100)\n",
       "      }\n",
       "    }\n",
       "  \n",
       "    function run_callbacks() {\n",
       "      window._bokeh_onload_callbacks.forEach(function(callback) { callback() });\n",
       "      delete window._bokeh_onload_callbacks\n",
       "      console.info(\"Bokeh: all callbacks have finished\");\n",
       "    }\n",
       "  \n",
       "    function load_libs(js_urls, callback) {\n",
       "      window._bokeh_onload_callbacks.push(callback);\n",
       "      if (window._bokeh_is_loading > 0) {\n",
       "        console.log(\"Bokeh: BokehJS is being loaded, scheduling callback at\", now());\n",
       "        return null;\n",
       "      }\n",
       "      if (js_urls == null || js_urls.length === 0) {\n",
       "        run_callbacks();\n",
       "        return null;\n",
       "      }\n",
       "      console.log(\"Bokeh: BokehJS not loaded, scheduling load and callback at\", now());\n",
       "      window._bokeh_is_loading = js_urls.length;\n",
       "      for (var i = 0; i < js_urls.length; i++) {\n",
       "        var url = js_urls[i];\n",
       "        var s = document.createElement('script');\n",
       "        s.src = url;\n",
       "        s.async = false;\n",
       "        s.onreadystatechange = s.onload = function() {\n",
       "          window._bokeh_is_loading--;\n",
       "          if (window._bokeh_is_loading === 0) {\n",
       "            console.log(\"Bokeh: all BokehJS libraries loaded\");\n",
       "            run_callbacks()\n",
       "          }\n",
       "        };\n",
       "        s.onerror = function() {\n",
       "          console.warn(\"failed to load library \" + url);\n",
       "        };\n",
       "        console.log(\"Bokeh: injecting script tag for BokehJS library: \", url);\n",
       "        document.getElementsByTagName(\"head\")[0].appendChild(s);\n",
       "      }\n",
       "    };var element = document.getElementById(\"d1e051e1-cd50-4dfb-b451-476bc5310370\");\n",
       "    if (element == null) {\n",
       "      console.log(\"Bokeh: ERROR: autoload.js configured with elementid 'd1e051e1-cd50-4dfb-b451-476bc5310370' but no matching script tag was found. \")\n",
       "      return false;\n",
       "    }\n",
       "  \n",
       "    var js_urls = [];\n",
       "  \n",
       "    var inline_js = [\n",
       "      function(Bokeh) {\n",
       "        Bokeh.$(function() {\n",
       "            var docs_json = {\"e7503acc-66ea-4b53-b4a0-7451b2cf5f05\":{\"roots\":{\"references\":[{\"attributes\":{\"plot\":{\"id\":\"38559091-974b-4617-b854-c74ba195a1ba\",\"subtype\":\"Figure\",\"type\":\"Plot\"}},\"id\":\"a1a66a5e-c081-4291-b440-286e78a76cb0\",\"type\":\"ResetTool\"},{\"attributes\":{\"overlay\":{\"id\":\"9eb2ec7d-2e23-4b44-a1ac-b34958780b5c\",\"type\":\"BoxAnnotation\"},\"plot\":{\"id\":\"e0a5b69d-a905-4d6f-82a7-591cfeee960b\",\"subtype\":\"Figure\",\"type\":\"Plot\"}},\"id\":\"bee7c9d2-c905-49e0-945c-fa4f85ccb0e2\",\"type\":\"BoxZoomTool\"},{\"attributes\":{\"line_color\":{\"value\":\"#1b9e77\"},\"xs\":{\"field\":\"xs\"},\"ys\":{\"field\":\"ys\"}},\"id\":\"0d871ea9-7f7d-4a95-837f-1a24679bfb26\",\"type\":\"MultiLine\"},{\"attributes\":{\"bottom_units\":\"screen\",\"fill_alpha\":{\"value\":0.5},\"fill_color\":{\"value\":\"lightgrey\"},\"left_units\":\"screen\",\"level\":\"overlay\",\"line_alpha\":{\"value\":1.0},\"line_color\":{\"value\":\"black\"},\"line_dash\":[4,4],\"line_width\":{\"value\":2},\"plot\":null,\"render_mode\":\"css\",\"right_units\":\"screen\",\"top_units\":\"screen\"},\"id\":\"8b16bd83-e427-43bd-bee4-f17325b36293\",\"type\":\"BoxAnnotation\"},{\"attributes\":{\"ticker\":null},\"id\":\"cde40c70-8e3b-4305-a40e-d5f8c2257db8\",\"type\":\"LogTickFormatter\"},{\"attributes\":{},\"id\":\"6eac73d1-aa45-455c-a6fc-b94abf540d55\",\"type\":\"BasicTickFormatter\"},{\"attributes\":{\"data_source\":{\"id\":\"a401747c-fa02-4bd3-b49a-d4811c8d616b\",\"type\":\"ColumnDataSource\"},\"glyph\":{\"id\":\"e5c0de5b-85da-4f2c-8b79-9f826f4c9263\",\"type\":\"Circle\"},\"hover_glyph\":null,\"nonselection_glyph\":{\"id\":\"100504d1-37da-4fd4-991d-0f229196fc8a\",\"type\":\"Circle\"},\"selection_glyph\":null},\"id\":\"44f6b05b-2813-4222-94b9-708fec5788e1\",\"type\":\"GlyphRenderer\"},{\"attributes\":{\"num_minor_ticks\":10},\"id\":\"d5351bd7-e79f-4fca-b881-48691e459766\",\"type\":\"LogTicker\"},{\"attributes\":{\"plot\":{\"id\":\"e0a5b69d-a905-4d6f-82a7-591cfeee960b\",\"subtype\":\"Figure\",\"type\":\"Plot\"}},\"id\":\"7d0e1f41-3cfc-4108-9bce-0d440cc4f797\",\"type\":\"PanTool\"},{\"attributes\":{\"ticker\":null},\"id\":\"bd5288e9-f3b2-4979-aa91-4b4704d63171\",\"type\":\"LogTickFormatter\"},{\"attributes\":{\"axis_label\":\"I(q)\",\"formatter\":{\"id\":\"cde40c70-8e3b-4305-a40e-d5f8c2257db8\",\"type\":\"LogTickFormatter\"},\"plot\":{\"id\":\"e0a5b69d-a905-4d6f-82a7-591cfeee960b\",\"subtype\":\"Figure\",\"type\":\"Plot\"},\"ticker\":{\"id\":\"151ffe13-9703-4cf5-a26e-8192dc894140\",\"type\":\"LogTicker\"}},\"id\":\"349b5c82-5be9-4748-96c2-abd2851553df\",\"type\":\"LogAxis\"},{\"attributes\":{\"data_source\":{\"id\":\"663d260c-4f15-4049-a34d-37cd30fb1966\",\"type\":\"ColumnDataSource\"},\"glyph\":{\"id\":\"68fab1d8-c54a-4ae7-b435-63eb9b336ab4\",\"type\":\"Circle\"},\"hover_glyph\":null,\"nonselection_glyph\":{\"id\":\"5d69de3b-4a4f-424c-b40c-4e5b8f8218e4\",\"type\":\"Circle\"},\"selection_glyph\":null},\"id\":\"ed7f12b3-7e64-4021-88cf-ffd017d49244\",\"type\":\"GlyphRenderer\"},{\"attributes\":{\"below\":[{\"id\":\"bef40338-9dd5-45c6-825d-a173d50ad1c5\",\"type\":\"LogAxis\"}],\"left\":[{\"id\":\"349b5c82-5be9-4748-96c2-abd2851553df\",\"type\":\"LogAxis\"}],\"plot_height\":400,\"plot_width\":400,\"renderers\":[{\"id\":\"bef40338-9dd5-45c6-825d-a173d50ad1c5\",\"type\":\"LogAxis\"},{\"id\":\"07fcb935-b775-4a03-8eca-8ae278e45b24\",\"type\":\"Grid\"},{\"id\":\"349b5c82-5be9-4748-96c2-abd2851553df\",\"type\":\"LogAxis\"},{\"id\":\"fe5a4bdf-4675-4753-8857-42942e2458db\",\"type\":\"Grid\"},{\"id\":\"9eb2ec7d-2e23-4b44-a1ac-b34958780b5c\",\"type\":\"BoxAnnotation\"},{\"id\":\"ed7f12b3-7e64-4021-88cf-ffd017d49244\",\"type\":\"GlyphRenderer\"},{\"id\":\"79d4e974-34d2-4f92-9b7b-37a877841ffb\",\"type\":\"GlyphRenderer\"}],\"title\":{\"id\":\"20327fa3-96d8-4cec-96dd-5fcb32c6d83e\",\"type\":\"Title\"},\"tool_events\":{\"id\":\"26f27bc7-54da-42c2-b571-d6b7347780a4\",\"type\":\"ToolEvents\"},\"toolbar\":{\"id\":\"684e26a6-c36b-432d-afb9-5d38728ff8e2\",\"type\":\"Toolbar\"},\"toolbar_location\":null,\"x_mapper_type\":\"log\",\"x_range\":{\"id\":\"bbbc9f7a-b56e-4104-8e93-cb2deb8107a3\",\"type\":\"Range1d\"},\"y_mapper_type\":\"log\",\"y_range\":{\"id\":\"e239b70a-0a71-4b08-9ff2-abe8625e0182\",\"type\":\"Range1d\"}},\"id\":\"e0a5b69d-a905-4d6f-82a7-591cfeee960b\",\"subtype\":\"Figure\",\"type\":\"Plot\"},{\"attributes\":{\"data_source\":{\"id\":\"f09f338e-efa2-4205-b448-a87df91d1660\",\"type\":\"ColumnDataSource\"},\"glyph\":{\"id\":\"0d871ea9-7f7d-4a95-837f-1a24679bfb26\",\"type\":\"MultiLine\"},\"hover_glyph\":null,\"nonselection_glyph\":{\"id\":\"ad7755f0-dc50-4e5e-9dfa-e6e49ffe2f4c\",\"type\":\"MultiLine\"},\"selection_glyph\":null},\"id\":\"67c80f86-20ac-4b6e-8fc0-cb6355f4c6cd\",\"type\":\"GlyphRenderer\"},{\"attributes\":{\"axis_label\":\"q (1/A)\",\"formatter\":{\"id\":\"6eac73d1-aa45-455c-a6fc-b94abf540d55\",\"type\":\"BasicTickFormatter\"},\"plot\":{\"id\":\"38559091-974b-4617-b854-c74ba195a1ba\",\"subtype\":\"Figure\",\"type\":\"Plot\"},\"ticker\":{\"id\":\"54cda616-a74f-47e2-8d49-488a5ebbdc6d\",\"type\":\"BasicTicker\"}},\"id\":\"06582861-08a9-4573-b0fc-5122d68b9754\",\"type\":\"LinearAxis\"},{\"attributes\":{\"callback\":null,\"end\":0.3972,\"start\":0.03014},\"id\":\"bbbc9f7a-b56e-4104-8e93-cb2deb8107a3\",\"type\":\"Range1d\"},{\"attributes\":{\"plot\":{\"id\":\"e0a5b69d-a905-4d6f-82a7-591cfeee960b\",\"subtype\":\"Figure\",\"type\":\"Plot\"},\"ticker\":{\"id\":\"d5351bd7-e79f-4fca-b881-48691e459766\",\"type\":\"LogTicker\"}},\"id\":\"07fcb935-b775-4a03-8eca-8ae278e45b24\",\"type\":\"Grid\"},{\"attributes\":{\"plot\":{\"id\":\"e0a5b69d-a905-4d6f-82a7-591cfeee960b\",\"subtype\":\"Figure\",\"type\":\"Plot\"}},\"id\":\"27c79547-bb81-480b-8152-8488aaec531a\",\"type\":\"HelpTool\"},{\"attributes\":{\"axis_label\":\"I(q)\",\"formatter\":{\"id\":\"8dd50d78-4ce3-4d5d-986a-0b5b356cfff9\",\"type\":\"BasicTickFormatter\"},\"plot\":{\"id\":\"38559091-974b-4617-b854-c74ba195a1ba\",\"subtype\":\"Figure\",\"type\":\"Plot\"},\"ticker\":{\"id\":\"d1a4edb9-9f4f-4558-9bc1-c1a742ba9d02\",\"type\":\"BasicTicker\"}},\"id\":\"75ae4f5f-00a9-499a-ab03-14d6607fea3a\",\"type\":\"LinearAxis\"},{\"attributes\":{\"plot\":{\"id\":\"e0a5b69d-a905-4d6f-82a7-591cfeee960b\",\"subtype\":\"Figure\",\"type\":\"Plot\"}},\"id\":\"05e16427-208f-466e-9db0-9961b012fae8\",\"type\":\"SaveTool\"},{\"attributes\":{\"active_drag\":\"auto\",\"active_scroll\":\"auto\",\"active_tap\":\"auto\",\"tools\":[{\"id\":\"c3d45a39-20d0-4b95-ade2-1c817c53fecc\",\"type\":\"PanTool\"},{\"id\":\"4f9127a6-03ec-4649-a2ba-d1ed73b3f793\",\"type\":\"WheelZoomTool\"},{\"id\":\"fdc4633b-9e88-42ea-ae10-3488383527a0\",\"type\":\"BoxZoomTool\"},{\"id\":\"57088dff-7528-4dbd-9f43-959931a3d4af\",\"type\":\"SaveTool\"},{\"id\":\"a1a66a5e-c081-4291-b440-286e78a76cb0\",\"type\":\"ResetTool\"},{\"id\":\"c6d5c735-be75-440a-9a76-1883810a7901\",\"type\":\"HelpTool\"}]},\"id\":\"28df6166-e989-4a8e-b72b-4466f5ca6abf\",\"type\":\"Toolbar\"},{\"attributes\":{\"plot\":{\"id\":\"e0a5b69d-a905-4d6f-82a7-591cfeee960b\",\"subtype\":\"Figure\",\"type\":\"Plot\"}},\"id\":\"d5069d25-b608-452a-9a7c-155c38b6226e\",\"type\":\"WheelZoomTool\"},{\"attributes\":{\"dimension\":1,\"plot\":{\"id\":\"38559091-974b-4617-b854-c74ba195a1ba\",\"subtype\":\"Figure\",\"type\":\"Plot\"},\"ticker\":{\"id\":\"d1a4edb9-9f4f-4558-9bc1-c1a742ba9d02\",\"type\":\"BasicTicker\"}},\"id\":\"77813318-aefc-43b1-be43-5e794f4c5f8d\",\"type\":\"Grid\"},{\"attributes\":{\"plot\":{\"id\":\"38559091-974b-4617-b854-c74ba195a1ba\",\"subtype\":\"Figure\",\"type\":\"Plot\"}},\"id\":\"c3d45a39-20d0-4b95-ade2-1c817c53fecc\",\"type\":\"PanTool\"},{\"attributes\":{\"plot\":{\"id\":\"38559091-974b-4617-b854-c74ba195a1ba\",\"subtype\":\"Figure\",\"type\":\"Plot\"},\"ticker\":{\"id\":\"54cda616-a74f-47e2-8d49-488a5ebbdc6d\",\"type\":\"BasicTicker\"}},\"id\":\"3c84807b-eda9-48ee-b936-f3e007208ada\",\"type\":\"Grid\"},{\"attributes\":{\"num_minor_ticks\":10},\"id\":\"151ffe13-9703-4cf5-a26e-8192dc894140\",\"type\":\"LogTicker\"},{\"attributes\":{\"children\":[{\"id\":\"40685cbf-5d7e-4960-af96-7c4428d8ca34\",\"type\":\"ToolbarBox\"},{\"id\":\"da194baf-7b7b-4578-97d2-67c3487b70eb\",\"type\":\"Column\"}]},\"id\":\"545cccd3-26bf-440a-8908-ece938d35689\",\"type\":\"Column\"},{\"attributes\":{},\"id\":\"54cda616-a74f-47e2-8d49-488a5ebbdc6d\",\"type\":\"BasicTicker\"},{\"attributes\":{\"dimension\":1,\"plot\":{\"id\":\"e0a5b69d-a905-4d6f-82a7-591cfeee960b\",\"subtype\":\"Figure\",\"type\":\"Plot\"},\"ticker\":{\"id\":\"151ffe13-9703-4cf5-a26e-8192dc894140\",\"type\":\"LogTicker\"}},\"id\":\"fe5a4bdf-4675-4753-8857-42942e2458db\",\"type\":\"Grid\"},{\"attributes\":{\"overlay\":{\"id\":\"8b16bd83-e427-43bd-bee4-f17325b36293\",\"type\":\"BoxAnnotation\"},\"plot\":{\"id\":\"38559091-974b-4617-b854-c74ba195a1ba\",\"subtype\":\"Figure\",\"type\":\"Plot\"}},\"id\":\"fdc4633b-9e88-42ea-ae10-3488383527a0\",\"type\":\"BoxZoomTool\"},{\"attributes\":{\"fill_color\":{\"value\":\"#1b9e77\"},\"line_color\":{\"value\":\"#1b9e77\"},\"x\":{\"field\":\"x\"},\"y\":{\"field\":\"y\"}},\"id\":\"68fab1d8-c54a-4ae7-b435-63eb9b336ab4\",\"type\":\"Circle\"},{\"attributes\":{\"children\":[{\"id\":\"38559091-974b-4617-b854-c74ba195a1ba\",\"subtype\":\"Figure\",\"type\":\"Plot\"},{\"id\":\"e0a5b69d-a905-4d6f-82a7-591cfeee960b\",\"subtype\":\"Figure\",\"type\":\"Plot\"}]},\"id\":\"9b761b51-3eca-434b-8f60-af821d0216ce\",\"type\":\"Row\"},{\"attributes\":{},\"id\":\"2e23ffea-e883-426f-9967-a39fbfba5c0c\",\"type\":\"ToolEvents\"},{\"attributes\":{\"plot\":{\"id\":\"38559091-974b-4617-b854-c74ba195a1ba\",\"subtype\":\"Figure\",\"type\":\"Plot\"}},\"id\":\"57088dff-7528-4dbd-9f43-959931a3d4af\",\"type\":\"SaveTool\"},{\"attributes\":{\"line_alpha\":{\"value\":0.1},\"line_color\":{\"value\":\"#1f77b4\"},\"xs\":{\"field\":\"xs\"},\"ys\":{\"field\":\"ys\"}},\"id\":\"ad7755f0-dc50-4e5e-9dfa-e6e49ffe2f4c\",\"type\":\"MultiLine\"},{\"attributes\":{\"callback\":null,\"column_names\":[\"xs\",\"ys\"],\"data\":{\"xs\":[[0.02659,0.02659],[0.03014,0.03014],[0.03368,0.03368],[0.03722,0.03722],[0.04076,0.04076],[0.0443,0.0443],[0.04784,0.04784],[0.05138,0.05138],[0.05491,0.05491],[0.05845,0.05845],[0.06198,0.06198],[0.06551,0.06551],[0.06904,0.06904],[0.07257,0.07257],[0.0761,0.0761],[0.07962,0.07962],[0.08315,0.08315],[0.08667,0.08667],[0.09018,0.09018],[0.0937,0.0937],[0.09721,0.09721],[0.1007,0.1007],[0.1042,0.1042],[0.1077,0.1077],[0.1112,0.1112],[0.1147,0.1147],[0.1182,0.1182],[0.1217,0.1217],[0.1252,0.1252],[0.1287,0.1287],[0.1322,0.1322],[0.1357,0.1357],[0.1392,0.1392],[0.1426,0.1426],[0.1461,0.1461],[0.1496,0.1496],[0.153,0.153],[0.1565,0.1565],[0.16,0.16],[0.1634,0.1634],[0.1669,0.1669],[0.1703,0.1703],[0.1737,0.1737],[0.1772,0.1772],[0.1806,0.1806],[0.184,0.184],[0.1875,0.1875],[0.1909,0.1909],[0.1943,0.1943],[0.1977,0.1977],[0.2011,0.2011],[0.2045,0.2045],[0.2079,0.2079],[0.2113,0.2113],[0.2147,0.2147],[0.218,0.218],[0.2214,0.2214],[0.2248,0.2248],[0.2281,0.2281],[0.2315,0.2315],[0.2349,0.2349],[0.2382,0.2382],[0.2415,0.2415],[0.2449,0.2449],[0.2482,0.2482],[0.2515,0.2515],[0.2548,0.2548],[0.2582,0.2582],[0.2615,0.2615],[0.2648,0.2648],[0.2681,0.2681],[0.2713,0.2713],[0.2746,0.2746],[0.2779,0.2779],[0.2812,0.2812],[0.2844,0.2844],[0.2877,0.2877],[0.2909,0.2909],[0.2942,0.2942],[0.2974,0.2974],[0.3006,0.3006],[0.3039,0.3039],[0.3071,0.3071],[0.3103,0.3103],[0.3135,0.3135],[0.3167,0.3167],[0.3199,0.3199],[0.3231,0.3231],[0.3262,0.3262],[0.3294,0.3294],[0.3326,0.3326],[0.3357,0.3357],[0.3389,0.3389],[0.342,0.342],[0.3451,0.3451],[0.3483,0.3483],[0.3514,0.3514],[0.3545,0.3545],[0.3576,0.3576],[0.3607,0.3607],[0.3638,0.3638],[0.3669,0.3669],[0.3699,0.3699],[0.373,0.373],[0.3761,0.3761],[0.3791,0.3791],[0.3821,0.3821],[0.3852,0.3852],[0.3882,0.3882],[0.3912,0.3912],[0.3942,0.3942],[0.3972,0.3972]],\"ys\":[[0.010214077,0.011627923],[0.010533853,0.011354547],[0.010477176999999999,0.011315423],[0.010407488,0.011121512],[0.00994871,0.01069409],[0.009616541999999999,0.010288498],[0.009311774,0.009964806000000001],[0.009165446,0.009782774000000001],[0.009382169000000001,0.009935471],[0.008875882,0.009472337999999999],[0.008398752,0.008986188],[0.008407412,0.008996668],[0.008353136,0.008916244],[0.007963401,0.008528079],[0.007665787,0.008220313],[0.007214028,0.007765732],[0.007070317,0.007616843],[0.006527862999999999,0.007121517],[0.006279692,0.006818248000000001],[0.006168494,0.006667226],[0.005842979,0.0063316810000000005],[0.005782347,0.006334433],[0.0052126590000000006,0.005680841],[0.0049967349999999995,0.005493785],[0.004861522,0.005387958],[0.00471163,0.00518207],[0.00441034,0.0048949],[0.004419104,0.004869316],[0.003917535999999999,0.004397224],[0.003581566,0.004062514],[0.003547999,0.004026761],[0.003231857,0.0036681030000000002],[0.003118903,0.003554797],[0.00280506,0.0032771],[0.002461079,0.0029335809999999998],[0.002291219,0.002758161],[0.002284776,0.0027058440000000002],[0.001919085,0.002348175],[0.002019059,0.0024873409999999997],[0.001762152,0.002203288],[0.001612499,0.002039081],[0.0014716010000000001,0.001922199],[0.001153254,0.001536326],[0.001199838,0.001607622],[0.001096922,0.0014968779999999999],[0.0009297420000000001,0.001325018],[0.000743602,0.001180778],[0.000837338,0.001203862],[0.0005854390000000001,0.000950577],[0.00046941500000000004,0.000874965],[0.000405387,0.000801011],[0.000337713,0.000745609],[0.00038091899999999996,0.000785677],[0.000335802,0.0007654059999999999],[0.000174561,0.0005834729999999999],[0.0002395,0.00065007],[5.757000000000006e-06,0.000401699],[9.692600000000003e-05,0.000522264],[-7.6301e-05,0.000351161],[2.370600000000002e-05,0.000449236],[-3.6327000000000006e-05,0.000431385],[0.00012010900000000003,0.000606487],[-9.5401e-05,0.000375649],[9.710000000000014e-07,0.000493129],[-0.000336686,0.000112702],[-0.00015256299999999998,0.000379159],[-0.0001260184,0.0003201176],[5.777000000000001e-05,0.000530942],[7.7911e-05,0.000559361],[-0.000104836,0.00036634000000000005],[-0.00018879900000000002,0.000290303],[1.5130000000000026e-05,0.000505316],[-0.00018400949999999996,0.0003066705],[-0.00047564899999999997,-8.335000000000021e-06],[-0.0001742132,0.0002788908],[-9.700100000000002e-05,0.00038686899999999997],[1.5170000000000006e-05,0.000516052],[-0.000287985,0.000170547],[-4.109399999999998e-05,0.000493176],[-0.000104986,0.000382258],[-0.00023415780000000003,0.0002608522],[-0.0002241919,0.0002446381],[-0.000638036,-0.00011315400000000002],[-0.000138122,0.00033982399999999996],[-0.000497897,1.8245000000000013e-05],[-0.00010526399999999999,0.00039099999999999996],[-0.000121833,0.000356131],[-0.00042255099999999996,6.607099999999998e-05],[-0.00010649300000000001,0.000365021],[-0.00019753769999999998,0.0003085623],[-0.0003244268,0.00017112119999999998],[-0.00020954250000000002,0.0002384515],[-0.00024118681999999998,0.00025432718],[-0.0001972603,0.00030299570000000004],[-0.00044148799999999997,6.943799999999998e-05],[-0.0002328978,0.00027873220000000003],[-0.0002430167,0.0002077933],[3.8748000000000016e-05,0.000609202],[-0.00024209549999999996,0.0003110045],[-0.000634179,-1.1721000000000019e-05],[-0.0007768359999999999,-0.00011233799999999997],[-0.000548481,0.00012786900000000002],[-0.00026166000000000004,0.000591726],[-0.000804695,7.168699999999997e-05],[-0.0003935664,0.0004543096],[-0.000950631,5.636700000000004e-05],[-0.0004931695,0.0005158305],[-1.0160999999999959e-05,0.001168789],[-0.0007203239999999999,0.000562886],[-0.001013392,0.000649508],[-0.00046146500000000004,0.000770375],[-0.001837782,-5.515800000000003e-05]]}},\"id\":\"e3fb7efd-346b-4908-9dd5-b71064c4a572\",\"type\":\"ColumnDataSource\"},{\"attributes\":{\"plot\":{\"id\":\"e0a5b69d-a905-4d6f-82a7-591cfeee960b\",\"subtype\":\"Figure\",\"type\":\"Plot\"}},\"id\":\"3813a40f-9505-4ba2-aec8-9ff70fda2902\",\"type\":\"ResetTool\"},{\"attributes\":{\"callback\":null,\"column_names\":[\"xs\",\"ys\"],\"data\":{\"xs\":[[0.02659,0.02659],[0.03014,0.03014],[0.03368,0.03368],[0.03722,0.03722],[0.04076,0.04076],[0.0443,0.0443],[0.04784,0.04784],[0.05138,0.05138],[0.05491,0.05491],[0.05845,0.05845],[0.06198,0.06198],[0.06551,0.06551],[0.06904,0.06904],[0.07257,0.07257],[0.0761,0.0761],[0.07962,0.07962],[0.08315,0.08315],[0.08667,0.08667],[0.09018,0.09018],[0.0937,0.0937],[0.09721,0.09721],[0.1007,0.1007],[0.1042,0.1042],[0.1077,0.1077],[0.1112,0.1112],[0.1147,0.1147],[0.1182,0.1182],[0.1217,0.1217],[0.1252,0.1252],[0.1287,0.1287],[0.1322,0.1322],[0.1357,0.1357],[0.1392,0.1392],[0.1426,0.1426],[0.1461,0.1461],[0.1496,0.1496],[0.153,0.153],[0.1565,0.1565],[0.16,0.16],[0.1634,0.1634],[0.1669,0.1669],[0.1703,0.1703],[0.1737,0.1737],[0.1772,0.1772],[0.1806,0.1806],[0.184,0.184],[0.1875,0.1875],[0.1909,0.1909],[0.1943,0.1943],[0.1977,0.1977],[0.2011,0.2011],[0.2045,0.2045],[0.2079,0.2079],[0.2113,0.2113],[0.2147,0.2147],[0.218,0.218],[0.2214,0.2214],[0.2248,0.2248],[0.2281,0.2281],[0.2315,0.2315],[0.2349,0.2349],[0.2382,0.2382],[0.2415,0.2415],[0.2449,0.2449],[0.2482,0.2482],[0.2515,0.2515],[0.2548,0.2548],[0.2582,0.2582],[0.2615,0.2615],[0.2648,0.2648],[0.2681,0.2681],[0.2713,0.2713],[0.2746,0.2746],[0.2779,0.2779],[0.2812,0.2812],[0.2844,0.2844],[0.2877,0.2877],[0.2909,0.2909],[0.2942,0.2942],[0.2974,0.2974],[0.3006,0.3006],[0.3039,0.3039],[0.3071,0.3071],[0.3103,0.3103],[0.3135,0.3135],[0.3167,0.3167],[0.3199,0.3199],[0.3231,0.3231],[0.3262,0.3262],[0.3294,0.3294],[0.3326,0.3326],[0.3357,0.3357],[0.3389,0.3389],[0.342,0.342],[0.3451,0.3451],[0.3483,0.3483],[0.3514,0.3514],[0.3545,0.3545],[0.3576,0.3576],[0.3607,0.3607],[0.3638,0.3638],[0.3669,0.3669],[0.3699,0.3699],[0.373,0.373],[0.3761,0.3761],[0.3791,0.3791],[0.3821,0.3821],[0.3852,0.3852],[0.3882,0.3882],[0.3912,0.3912],[0.3942,0.3942],[0.3972,0.3972]],\"ys\":[[0.010214077,0.011627923],[0.010533853,0.011354547],[0.010477176999999999,0.011315423],[0.010407488,0.011121512],[0.00994871,0.01069409],[0.009616541999999999,0.010288498],[0.009311774,0.009964806000000001],[0.009165446,0.009782774000000001],[0.009382169000000001,0.009935471],[0.008875882,0.009472337999999999],[0.008398752,0.008986188],[0.008407412,0.008996668],[0.008353136,0.008916244],[0.007963401,0.008528079],[0.007665787,0.008220313],[0.007214028,0.007765732],[0.007070317,0.007616843],[0.006527862999999999,0.007121517],[0.006279692,0.006818248000000001],[0.006168494,0.006667226],[0.005842979,0.0063316810000000005],[0.005782347,0.006334433],[0.0052126590000000006,0.005680841],[0.0049967349999999995,0.005493785],[0.004861522,0.005387958],[0.00471163,0.00518207],[0.00441034,0.0048949],[0.004419104,0.004869316],[0.003917535999999999,0.004397224],[0.003581566,0.004062514],[0.003547999,0.004026761],[0.003231857,0.0036681030000000002],[0.003118903,0.003554797],[0.00280506,0.0032771],[0.002461079,0.0029335809999999998],[0.002291219,0.002758161],[0.002284776,0.0027058440000000002],[0.001919085,0.002348175],[0.002019059,0.0024873409999999997],[0.001762152,0.002203288],[0.001612499,0.002039081],[0.0014716010000000001,0.001922199],[0.001153254,0.001536326],[0.001199838,0.001607622],[0.001096922,0.0014968779999999999],[0.0009297420000000001,0.001325018],[0.000743602,0.001180778],[0.000837338,0.001203862],[0.0005854390000000001,0.000950577],[0.00046941500000000004,0.000874965],[0.000405387,0.000801011],[0.000337713,0.000745609],[0.00038091899999999996,0.000785677],[0.000335802,0.0007654059999999999],[0.000174561,0.0005834729999999999],[0.0002395,0.00065007],[5.757000000000006e-06,0.000401699],[9.692600000000003e-05,0.000522264],[-7.6301e-05,0.000351161],[2.370600000000002e-05,0.000449236],[-3.6327000000000006e-05,0.000431385],[0.00012010900000000003,0.000606487],[-9.5401e-05,0.000375649],[9.710000000000014e-07,0.000493129],[-0.000336686,0.000112702],[-0.00015256299999999998,0.000379159],[-0.0001260184,0.0003201176],[5.777000000000001e-05,0.000530942],[7.7911e-05,0.000559361],[-0.000104836,0.00036634000000000005],[-0.00018879900000000002,0.000290303],[1.5130000000000026e-05,0.000505316],[-0.00018400949999999996,0.0003066705],[-0.00047564899999999997,-8.335000000000021e-06],[-0.0001742132,0.0002788908],[-9.700100000000002e-05,0.00038686899999999997],[1.5170000000000006e-05,0.000516052],[-0.000287985,0.000170547],[-4.109399999999998e-05,0.000493176],[-0.000104986,0.000382258],[-0.00023415780000000003,0.0002608522],[-0.0002241919,0.0002446381],[-0.000638036,-0.00011315400000000002],[-0.000138122,0.00033982399999999996],[-0.000497897,1.8245000000000013e-05],[-0.00010526399999999999,0.00039099999999999996],[-0.000121833,0.000356131],[-0.00042255099999999996,6.607099999999998e-05],[-0.00010649300000000001,0.000365021],[-0.00019753769999999998,0.0003085623],[-0.0003244268,0.00017112119999999998],[-0.00020954250000000002,0.0002384515],[-0.00024118681999999998,0.00025432718],[-0.0001972603,0.00030299570000000004],[-0.00044148799999999997,6.943799999999998e-05],[-0.0002328978,0.00027873220000000003],[-0.0002430167,0.0002077933],[3.8748000000000016e-05,0.000609202],[-0.00024209549999999996,0.0003110045],[-0.000634179,-1.1721000000000019e-05],[-0.0007768359999999999,-0.00011233799999999997],[-0.000548481,0.00012786900000000002],[-0.00026166000000000004,0.000591726],[-0.000804695,7.168699999999997e-05],[-0.0003935664,0.0004543096],[-0.000950631,5.636700000000004e-05],[-0.0004931695,0.0005158305],[-1.0160999999999959e-05,0.001168789],[-0.0007203239999999999,0.000562886],[-0.001013392,0.000649508],[-0.00046146500000000004,0.000770375],[-0.001837782,-5.515800000000003e-05]]}},\"id\":\"f09f338e-efa2-4205-b448-a87df91d1660\",\"type\":\"ColumnDataSource\"},{\"attributes\":{\"below\":[{\"id\":\"06582861-08a9-4573-b0fc-5122d68b9754\",\"type\":\"LinearAxis\"}],\"left\":[{\"id\":\"75ae4f5f-00a9-499a-ab03-14d6607fea3a\",\"type\":\"LinearAxis\"}],\"plot_height\":400,\"plot_width\":400,\"renderers\":[{\"id\":\"06582861-08a9-4573-b0fc-5122d68b9754\",\"type\":\"LinearAxis\"},{\"id\":\"3c84807b-eda9-48ee-b936-f3e007208ada\",\"type\":\"Grid\"},{\"id\":\"75ae4f5f-00a9-499a-ab03-14d6607fea3a\",\"type\":\"LinearAxis\"},{\"id\":\"77813318-aefc-43b1-be43-5e794f4c5f8d\",\"type\":\"Grid\"},{\"id\":\"8b16bd83-e427-43bd-bee4-f17325b36293\",\"type\":\"BoxAnnotation\"},{\"id\":\"44f6b05b-2813-4222-94b9-708fec5788e1\",\"type\":\"GlyphRenderer\"},{\"id\":\"67c80f86-20ac-4b6e-8fc0-cb6355f4c6cd\",\"type\":\"GlyphRenderer\"}],\"title\":{\"id\":\"7c6b17fb-3ca2-4f5e-a3c9-98035b2198bd\",\"type\":\"Title\"},\"tool_events\":{\"id\":\"2e23ffea-e883-426f-9967-a39fbfba5c0c\",\"type\":\"ToolEvents\"},\"toolbar\":{\"id\":\"28df6166-e989-4a8e-b72b-4466f5ca6abf\",\"type\":\"Toolbar\"},\"toolbar_location\":null,\"x_range\":{\"id\":\"bbbc9f7a-b56e-4104-8e93-cb2deb8107a3\",\"type\":\"Range1d\"},\"y_range\":{\"id\":\"e239b70a-0a71-4b08-9ff2-abe8625e0182\",\"type\":\"Range1d\"}},\"id\":\"38559091-974b-4617-b854-c74ba195a1ba\",\"subtype\":\"Figure\",\"type\":\"Plot\"},{\"attributes\":{\"active_drag\":\"auto\",\"active_scroll\":\"auto\",\"active_tap\":\"auto\",\"tools\":[{\"id\":\"7d0e1f41-3cfc-4108-9bce-0d440cc4f797\",\"type\":\"PanTool\"},{\"id\":\"d5069d25-b608-452a-9a7c-155c38b6226e\",\"type\":\"WheelZoomTool\"},{\"id\":\"bee7c9d2-c905-49e0-945c-fa4f85ccb0e2\",\"type\":\"BoxZoomTool\"},{\"id\":\"05e16427-208f-466e-9db0-9961b012fae8\",\"type\":\"SaveTool\"},{\"id\":\"3813a40f-9505-4ba2-aec8-9ff70fda2902\",\"type\":\"ResetTool\"},{\"id\":\"27c79547-bb81-480b-8152-8488aaec531a\",\"type\":\"HelpTool\"}]},\"id\":\"684e26a6-c36b-432d-afb9-5d38728ff8e2\",\"type\":\"Toolbar\"},{\"attributes\":{\"plot\":null,\"text\":\"Original Data, Linear Scale\"},\"id\":\"7c6b17fb-3ca2-4f5e-a3c9-98035b2198bd\",\"type\":\"Title\"},{\"attributes\":{\"fill_alpha\":{\"value\":0.1},\"fill_color\":{\"value\":\"#1f77b4\"},\"line_alpha\":{\"value\":0.1},\"line_color\":{\"value\":\"#1f77b4\"},\"x\":{\"field\":\"x\"},\"y\":{\"field\":\"y\"}},\"id\":\"5d69de3b-4a4f-424c-b40c-4e5b8f8218e4\",\"type\":\"Circle\"},{\"attributes\":{\"children\":[{\"id\":\"9b761b51-3eca-434b-8f60-af821d0216ce\",\"type\":\"Row\"}]},\"id\":\"da194baf-7b7b-4578-97d2-67c3487b70eb\",\"type\":\"Column\"},{\"attributes\":{\"bottom_units\":\"screen\",\"fill_alpha\":{\"value\":0.5},\"fill_color\":{\"value\":\"lightgrey\"},\"left_units\":\"screen\",\"level\":\"overlay\",\"line_alpha\":{\"value\":1.0},\"line_color\":{\"value\":\"black\"},\"line_dash\":[4,4],\"line_width\":{\"value\":2},\"plot\":null,\"render_mode\":\"css\",\"right_units\":\"screen\",\"top_units\":\"screen\"},\"id\":\"9eb2ec7d-2e23-4b44-a1ac-b34958780b5c\",\"type\":\"BoxAnnotation\"},{\"attributes\":{},\"id\":\"d1a4edb9-9f4f-4558-9bc1-c1a742ba9d02\",\"type\":\"BasicTicker\"},{\"attributes\":{},\"id\":\"26f27bc7-54da-42c2-b571-d6b7347780a4\",\"type\":\"ToolEvents\"},{\"attributes\":{\"fill_alpha\":{\"value\":0.1},\"fill_color\":{\"value\":\"#1f77b4\"},\"line_alpha\":{\"value\":0.1},\"line_color\":{\"value\":\"#1f77b4\"},\"x\":{\"field\":\"x\"},\"y\":{\"field\":\"y\"}},\"id\":\"100504d1-37da-4fd4-991d-0f229196fc8a\",\"type\":\"Circle\"},{\"attributes\":{\"axis_label\":\"q (1/A)\",\"formatter\":{\"id\":\"bd5288e9-f3b2-4979-aa91-4b4704d63171\",\"type\":\"LogTickFormatter\"},\"plot\":{\"id\":\"e0a5b69d-a905-4d6f-82a7-591cfeee960b\",\"subtype\":\"Figure\",\"type\":\"Plot\"},\"ticker\":{\"id\":\"d5351bd7-e79f-4fca-b881-48691e459766\",\"type\":\"LogTicker\"}},\"id\":\"bef40338-9dd5-45c6-825d-a173d50ad1c5\",\"type\":\"LogAxis\"},{\"attributes\":{\"plot\":null,\"text\":\"Original Data, Log Scale\"},\"id\":\"20327fa3-96d8-4cec-96dd-5fcb32c6d83e\",\"type\":\"Title\"},{\"attributes\":{\"callback\":null,\"end\":0.016416299999999998,\"start\":3.28509e-06},\"id\":\"e239b70a-0a71-4b08-9ff2-abe8625e0182\",\"type\":\"Range1d\"},{\"attributes\":{\"callback\":null,\"column_names\":[\"y\",\"x\"],\"data\":{\"x\":[0.02659,0.03014,0.03368,0.03722,0.04076,0.0443,0.04784,0.05138,0.05491,0.05845,0.06198,0.06551,0.06904,0.07257,0.0761,0.07962,0.08315,0.08667,0.09018,0.0937,0.09721,0.1007,0.1042,0.1077,0.1112,0.1147,0.1182,0.1217,0.1252,0.1287,0.1322,0.1357,0.1392,0.1426,0.1461,0.1496,0.153,0.1565,0.16,0.1634,0.1669,0.1703,0.1737,0.1772,0.1806,0.184,0.1875,0.1909,0.1943,0.1977,0.2011,0.2045,0.2079,0.2113,0.2147,0.218,0.2214,0.2248,0.2281,0.2315,0.2349,0.2382,0.2415,0.2449,0.2482,0.2515,0.2548,0.2582,0.2615,0.2648,0.2681,0.2713,0.2746,0.2779,0.2812,0.2844,0.2877,0.2909,0.2942,0.2974,0.3006,0.3039,0.3071,0.3103,0.3135,0.3167,0.3199,0.3231,0.3262,0.3294,0.3326,0.3357,0.3389,0.342,0.3451,0.3483,0.3514,0.3545,0.3576,0.3607,0.3638,0.3669,0.3699,0.373,0.3761,0.3791,0.3821,0.3852,0.3882,0.3912,0.3942,0.3972],\"y\":[0.010921,0.0109442,0.0108963,0.0107645,0.0103214,0.00995252,0.00963829,0.00947411,0.00965882,0.00917411,0.00869247,0.00870204,0.00863469,0.00824574,0.00794305,0.00748988,0.00734358,0.00682469,0.00654897,0.00641786,0.00608733,0.00605839,0.00544675,0.00524526,0.00512474,0.00494685,0.00465262,0.00464421,0.00415738,0.00382204,0.00378738,0.00344998,0.00333685,0.00304108,0.00269733,0.00252469,0.00249531,0.00213363,0.0022532,0.00198272,0.00182579,0.0016969,0.00134479,0.00140373,0.0012969,0.00112738,0.00096219,0.0010206,0.000768008,0.00067219,0.000603199,0.000541661,0.000583298,0.000550604,0.000379017,0.000444785,0.000203728,0.000309595,0.00013743,0.000236471,0.000197529,0.000363298,0.000140124,0.00024705,-0.000111992,0.000113298,9.70496e-05,0.000294356,0.000318636,0.000130752,5.0752e-05,0.000260223,6.13305e-05,-0.000241992,5.23388e-05,0.000144934,0.000265611,-5.8719e-05,0.000226041,0.000138636,1.33472e-05,1.02231e-05,-0.000375595,0.000100851,-0.000239826,0.000142868,0.000117149,-0.00017824,0.000129264,5.55123e-05,-7.66528e-05,1.44545e-05,6.57018e-06,5.28677e-05,-0.000186025,2.29172e-05,-1.76117e-05,0.000323975,3.44545e-05,-0.00032295,-0.000444587,-0.000210306,0.000165033,-0.000366504,3.03716e-05,-0.000447132,1.13305e-05,0.000579314,-7.8719e-05,-0.000181942,0.000154455,-0.00094647]}},\"id\":\"a401747c-fa02-4bd3-b49a-d4811c8d616b\",\"type\":\"ColumnDataSource\"},{\"attributes\":{},\"id\":\"8dd50d78-4ce3-4d5d-986a-0b5b356cfff9\",\"type\":\"BasicTickFormatter\"},{\"attributes\":{\"line_color\":{\"value\":\"#1b9e77\"},\"xs\":{\"field\":\"xs\"},\"ys\":{\"field\":\"ys\"}},\"id\":\"7c8a31f8-354f-4ce0-a271-34d967f26b3e\",\"type\":\"MultiLine\"},{\"attributes\":{\"callback\":null,\"column_names\":[\"y\",\"x\"],\"data\":{\"x\":[0.02659,0.03014,0.03368,0.03722,0.04076,0.0443,0.04784,0.05138,0.05491,0.05845,0.06198,0.06551,0.06904,0.07257,0.0761,0.07962,0.08315,0.08667,0.09018,0.0937,0.09721,0.1007,0.1042,0.1077,0.1112,0.1147,0.1182,0.1217,0.1252,0.1287,0.1322,0.1357,0.1392,0.1426,0.1461,0.1496,0.153,0.1565,0.16,0.1634,0.1669,0.1703,0.1737,0.1772,0.1806,0.184,0.1875,0.1909,0.1943,0.1977,0.2011,0.2045,0.2079,0.2113,0.2147,0.218,0.2214,0.2248,0.2281,0.2315,0.2349,0.2382,0.2415,0.2449,0.2482,0.2515,0.2548,0.2582,0.2615,0.2648,0.2681,0.2713,0.2746,0.2779,0.2812,0.2844,0.2877,0.2909,0.2942,0.2974,0.3006,0.3039,0.3071,0.3103,0.3135,0.3167,0.3199,0.3231,0.3262,0.3294,0.3326,0.3357,0.3389,0.342,0.3451,0.3483,0.3514,0.3545,0.3576,0.3607,0.3638,0.3669,0.3699,0.373,0.3761,0.3791,0.3821,0.3852,0.3882,0.3912,0.3942,0.3972],\"y\":[0.010921,0.0109442,0.0108963,0.0107645,0.0103214,0.00995252,0.00963829,0.00947411,0.00965882,0.00917411,0.00869247,0.00870204,0.00863469,0.00824574,0.00794305,0.00748988,0.00734358,0.00682469,0.00654897,0.00641786,0.00608733,0.00605839,0.00544675,0.00524526,0.00512474,0.00494685,0.00465262,0.00464421,0.00415738,0.00382204,0.00378738,0.00344998,0.00333685,0.00304108,0.00269733,0.00252469,0.00249531,0.00213363,0.0022532,0.00198272,0.00182579,0.0016969,0.00134479,0.00140373,0.0012969,0.00112738,0.00096219,0.0010206,0.000768008,0.00067219,0.000603199,0.000541661,0.000583298,0.000550604,0.000379017,0.000444785,0.000203728,0.000309595,0.00013743,0.000236471,0.000197529,0.000363298,0.000140124,0.00024705,-0.000111992,0.000113298,9.70496e-05,0.000294356,0.000318636,0.000130752,5.0752e-05,0.000260223,6.13305e-05,-0.000241992,5.23388e-05,0.000144934,0.000265611,-5.8719e-05,0.000226041,0.000138636,1.33472e-05,1.02231e-05,-0.000375595,0.000100851,-0.000239826,0.000142868,0.000117149,-0.00017824,0.000129264,5.55123e-05,-7.66528e-05,1.44545e-05,6.57018e-06,5.28677e-05,-0.000186025,2.29172e-05,-1.76117e-05,0.000323975,3.44545e-05,-0.00032295,-0.000444587,-0.000210306,0.000165033,-0.000366504,3.03716e-05,-0.000447132,1.13305e-05,0.000579314,-7.8719e-05,-0.000181942,0.000154455,-0.00094647]}},\"id\":\"663d260c-4f15-4049-a34d-37cd30fb1966\",\"type\":\"ColumnDataSource\"},{\"attributes\":{\"plot\":{\"id\":\"38559091-974b-4617-b854-c74ba195a1ba\",\"subtype\":\"Figure\",\"type\":\"Plot\"}},\"id\":\"4f9127a6-03ec-4649-a2ba-d1ed73b3f793\",\"type\":\"WheelZoomTool\"},{\"attributes\":{\"fill_color\":{\"value\":\"#1b9e77\"},\"line_color\":{\"value\":\"#1b9e77\"},\"x\":{\"field\":\"x\"},\"y\":{\"field\":\"y\"}},\"id\":\"e5c0de5b-85da-4f2c-8b79-9f826f4c9263\",\"type\":\"Circle\"},{\"attributes\":{\"data_source\":{\"id\":\"e3fb7efd-346b-4908-9dd5-b71064c4a572\",\"type\":\"ColumnDataSource\"},\"glyph\":{\"id\":\"7c8a31f8-354f-4ce0-a271-34d967f26b3e\",\"type\":\"MultiLine\"},\"hover_glyph\":null,\"nonselection_glyph\":{\"id\":\"fa3949dd-a2d3-4b1c-ab4d-3dbc237fc6a8\",\"type\":\"MultiLine\"},\"selection_glyph\":null},\"id\":\"79d4e974-34d2-4f92-9b7b-37a877841ffb\",\"type\":\"GlyphRenderer\"},{\"attributes\":{\"sizing_mode\":\"scale_width\",\"toolbar_location\":\"above\",\"tools\":[{\"id\":\"c3d45a39-20d0-4b95-ade2-1c817c53fecc\",\"type\":\"PanTool\"},{\"id\":\"4f9127a6-03ec-4649-a2ba-d1ed73b3f793\",\"type\":\"WheelZoomTool\"},{\"id\":\"fdc4633b-9e88-42ea-ae10-3488383527a0\",\"type\":\"BoxZoomTool\"},{\"id\":\"57088dff-7528-4dbd-9f43-959931a3d4af\",\"type\":\"SaveTool\"},{\"id\":\"a1a66a5e-c081-4291-b440-286e78a76cb0\",\"type\":\"ResetTool\"},{\"id\":\"c6d5c735-be75-440a-9a76-1883810a7901\",\"type\":\"HelpTool\"},{\"id\":\"7d0e1f41-3cfc-4108-9bce-0d440cc4f797\",\"type\":\"PanTool\"},{\"id\":\"d5069d25-b608-452a-9a7c-155c38b6226e\",\"type\":\"WheelZoomTool\"},{\"id\":\"bee7c9d2-c905-49e0-945c-fa4f85ccb0e2\",\"type\":\"BoxZoomTool\"},{\"id\":\"05e16427-208f-466e-9db0-9961b012fae8\",\"type\":\"SaveTool\"},{\"id\":\"3813a40f-9505-4ba2-aec8-9ff70fda2902\",\"type\":\"ResetTool\"},{\"id\":\"27c79547-bb81-480b-8152-8488aaec531a\",\"type\":\"HelpTool\"}]},\"id\":\"40685cbf-5d7e-4960-af96-7c4428d8ca34\",\"type\":\"ToolbarBox\"},{\"attributes\":{\"plot\":{\"id\":\"38559091-974b-4617-b854-c74ba195a1ba\",\"subtype\":\"Figure\",\"type\":\"Plot\"}},\"id\":\"c6d5c735-be75-440a-9a76-1883810a7901\",\"type\":\"HelpTool\"},{\"attributes\":{\"line_alpha\":{\"value\":0.1},\"line_color\":{\"value\":\"#1f77b4\"},\"xs\":{\"field\":\"xs\"},\"ys\":{\"field\":\"ys\"}},\"id\":\"fa3949dd-a2d3-4b1c-ab4d-3dbc237fc6a8\",\"type\":\"MultiLine\"}],\"root_ids\":[\"545cccd3-26bf-440a-8908-ece938d35689\"]},\"title\":\"Bokeh Application\",\"version\":\"0.12.3\"}};\n",
       "            var render_items = [{\"docid\":\"e7503acc-66ea-4b53-b4a0-7451b2cf5f05\",\"elementid\":\"d1e051e1-cd50-4dfb-b451-476bc5310370\",\"modelid\":\"545cccd3-26bf-440a-8908-ece938d35689\"}];\n",
       "            \n",
       "            Bokeh.embed.embed_items(docs_json, render_items);\n",
       "        });\n",
       "      },\n",
       "      function(Bokeh) {\n",
       "      }\n",
       "    ];\n",
       "  \n",
       "    function run_inline_js() {\n",
       "      \n",
       "      if ((window.Bokeh !== undefined) || (force === \"1\")) {\n",
       "        for (var i = 0; i < inline_js.length; i++) {\n",
       "          inline_js[i](window.Bokeh);\n",
       "        }if (force === \"1\") {\n",
       "          display_loaded();\n",
       "        }} else if (Date.now() < window._bokeh_timeout) {\n",
       "        setTimeout(run_inline_js, 100);\n",
       "      } else if (!window._bokeh_failed_load) {\n",
       "        console.log(\"Bokeh: BokehJS failed to load within specified timeout.\");\n",
       "        window._bokeh_failed_load = true;\n",
       "      } else if (!force) {\n",
       "        var cell = $(\"#d1e051e1-cd50-4dfb-b451-476bc5310370\").parents('.cell').data().cell;\n",
       "        cell.output_area.append_execute_result(NB_LOAD_WARNING)\n",
       "      }\n",
       "  \n",
       "    }\n",
       "  \n",
       "    if (window._bokeh_is_loading === 0) {\n",
       "      console.log(\"Bokeh: BokehJS loaded, going straight to plotting\");\n",
       "      run_inline_js();\n",
       "    } else {\n",
       "      load_libs(js_urls, function() {\n",
       "        console.log(\"Bokeh: BokehJS plotting callback run at\", now());\n",
       "        run_inline_js();\n",
       "      });\n",
       "    }\n",
       "  }(this));\n",
       "</script>"
      ]
     },
     "metadata": {},
     "output_type": "display_data"
    }
   ],
   "source": [
    "p1 = figure(title='Original Data, Linear Scale', x_axis_label='q (1/A)', y_axis_label='I(q)',\n",
    "            width=400, height=400)\n",
    "p2 = figure(title='Original Data, Log Scale', x_axis_label='q (1/A)', y_axis_label='I(q)', \n",
    "            width=400, height=400, x_axis_type='log', y_axis_type='log')\n",
    "\n",
    "errorbar(p1, raw[:, 0], raw[:, 1], yerr=raw[:, 2], color=palette[0])\n",
    "# p2.circle(raw[:, 0], raw[:, 1], color=palette[0]) #, yerr=raw[:, 2])\n",
    "errorbar(p2, raw[:, 0], raw[:, 1], color=palette[0], yerr=raw[:, 2])\n",
    "\n",
    "x_range = raw[1, 0], raw[-1, 0]\n",
    "y_range = min(raw[raw[:, 1]>0, 1]) * 0.5, raw[1, 1] * 1.5\n",
    "p1.x_range = Range1d(*x_range)\n",
    "p1.y_range = Range1d(*y_range)\n",
    "p2.x_range = p1.x_range\n",
    "p2.y_range = p1.y_range\n",
    "\n",
    "fig = gridplot([[p1, p2]])\n",
    "show(fig)"
   ]
  },
  {
   "cell_type": "code",
   "execution_count": 9,
   "metadata": {
    "collapsed": true
   },
   "outputs": [],
   "source": [
    "def rebin(data, q_grid, i0=None, er_i0=None):\n",
    "    '''\n",
    "    rebin data with error, follows white paper hosted here:\n",
    "    http://isi.ssl.berkeley.edu/~tatebe/whitepapers/Combining%20Errors.pdf\n",
    "    \n",
    "    this is based on the following 2 assumptions regarding the number\n",
    "    of pixels binned into the input data points, N\n",
    "        1. N is roughly equal between neighboring point\n",
    "        2. N is very large\n",
    "    '''\n",
    "    \n",
    "    # verify the new q_grid is evenly spaced\n",
    "    dq = q_grid[1:] - q_grid[:-1]\n",
    "    if np.alltrue(np.isclose(dq - dq[0], 0)):\n",
    "        dq = dq[0]\n",
    "        logging.info('rebinning to evenly spaced grid, dq = {}'.format(dq))\n",
    "    else:\n",
    "        raise ValueError('unevenly spaced grid not yet supported')\n",
    "    \n",
    "    # create array for rebinned data\n",
    "    new_data = np.empty((len(q_grid), 3))\n",
    "    new_data[:, 0] = q_grid\n",
    "    \n",
    "    # rebin the data to the new q_grid\n",
    "    bins = np.append(q_grid - dq/2, q_grid[-1] + dq/2)\n",
    "    inds = np.digitize(data[:, 0], bins)\n",
    "    \n",
    "    for ind in set(inds):\n",
    "        # get the average scattering intensity\n",
    "        new_data[ind-1, 1] = np.mean(data[inds==ind, 1])\n",
    "\n",
    "        # calculate the error in quadrature, based on unknown bin counts\n",
    "        new_data[ind-1, 2] = np.sqrt(np.mean(data[inds==ind, 2] ** 2))\n",
    "    \n",
    "    # populate the q=0 scattering intensty\n",
    "    if i0:\n",
    "        new_data[0, 1] = i0\n",
    "    else:\n",
    "        logging.warning('I(0) unknown')\n",
    "        \n",
    "    if er_i0:\n",
    "        new_data[0, 2] = er_i0\n",
    "    else:\n",
    "        logging.warning('I(0) error unknown')\n",
    "        \n",
    "    return new_data"
   ]
  },
  {
   "cell_type": "code",
   "execution_count": 38,
   "metadata": {
    "collapsed": false
   },
   "outputs": [
    {
     "name": "stdout",
     "output_type": "stream",
     "text": [
      "n_q = 6.0\n"
     ]
    }
   ],
   "source": [
    "q_max = 0.4\n",
    "q_min = 0.0\n",
    "d_max = 45\n",
    "n_q = np.round((q_max - q_min) * d_max / np.pi)\n",
    "logging.debug('n_q = {}'.format(n_q))\n",
    "print('n_q = {}'.format(n_q))"
   ]
  },
  {
   "cell_type": "code",
   "execution_count": 39,
   "metadata": {
    "collapsed": false
   },
   "outputs": [
    {
     "data": {
      "text/plain": [
       "6.0"
      ]
     },
     "execution_count": 39,
     "metadata": {},
     "output_type": "execute_result"
    }
   ],
   "source": [
    "dq = np.pi/d_max\n",
    "round(q_max/dq)"
   ]
  },
  {
   "cell_type": "code",
   "execution_count": 40,
   "metadata": {
    "collapsed": false
   },
   "outputs": [],
   "source": [
    "q_grid = np.linspace(0, 0.4, n_q)\n",
    "new_data = rebin(raw, q_grid, i0=0.0116)"
   ]
  },
  {
   "cell_type": "code",
   "execution_count": 41,
   "metadata": {
    "collapsed": false
   },
   "outputs": [
    {
     "data": {
      "text/plain": [
       "array([ 0.  ,  0.08,  0.16,  0.24,  0.32,  0.4 ])"
      ]
     },
     "execution_count": 41,
     "metadata": {},
     "output_type": "execute_result"
    }
   ],
   "source": [
    "q_grid"
   ]
  },
  {
   "cell_type": "code",
   "execution_count": 42,
   "metadata": {
    "collapsed": false
   },
   "outputs": [
    {
     "data": {
      "text/html": [
       "\n",
       "\n",
       "    <div class=\"bk-root\">\n",
       "        <div class=\"plotdiv\" id=\"19e35878-f16a-4758-baa2-137809721b06\"></div>\n",
       "    </div>\n",
       "<script type=\"text/javascript\">\n",
       "  \n",
       "  (function(global) {\n",
       "    function now() {\n",
       "      return new Date();\n",
       "    }\n",
       "  \n",
       "    var force = \"\";\n",
       "  \n",
       "    if (typeof (window._bokeh_onload_callbacks) === \"undefined\" || force !== \"\") {\n",
       "      window._bokeh_onload_callbacks = [];\n",
       "      window._bokeh_is_loading = undefined;\n",
       "    }\n",
       "  \n",
       "  \n",
       "    \n",
       "    if (typeof (window._bokeh_timeout) === \"undefined\" || force !== \"\") {\n",
       "      window._bokeh_timeout = Date.now() + 0;\n",
       "      window._bokeh_failed_load = false;\n",
       "    }\n",
       "  \n",
       "    var NB_LOAD_WARNING = {'data': {'text/html':\n",
       "       \"<div style='background-color: #fdd'>\\n\"+\n",
       "       \"<p>\\n\"+\n",
       "       \"BokehJS does not appear to have successfully loaded. If loading BokehJS from CDN, this \\n\"+\n",
       "       \"may be due to a slow or bad network connection. Possible fixes:\\n\"+\n",
       "       \"</p>\\n\"+\n",
       "       \"<ul>\\n\"+\n",
       "       \"<li>re-rerun `output_notebook()` to attempt to load from CDN again, or</li>\\n\"+\n",
       "       \"<li>use INLINE resources instead, as so:</li>\\n\"+\n",
       "       \"</ul>\\n\"+\n",
       "       \"<code>\\n\"+\n",
       "       \"from bokeh.resources import INLINE\\n\"+\n",
       "       \"output_notebook(resources=INLINE)\\n\"+\n",
       "       \"</code>\\n\"+\n",
       "       \"</div>\"}};\n",
       "  \n",
       "    function display_loaded() {\n",
       "      if (window.Bokeh !== undefined) {\n",
       "        Bokeh.$(\"#19e35878-f16a-4758-baa2-137809721b06\").text(\"BokehJS successfully loaded.\");\n",
       "      } else if (Date.now() < window._bokeh_timeout) {\n",
       "        setTimeout(display_loaded, 100)\n",
       "      }\n",
       "    }\n",
       "  \n",
       "    function run_callbacks() {\n",
       "      window._bokeh_onload_callbacks.forEach(function(callback) { callback() });\n",
       "      delete window._bokeh_onload_callbacks\n",
       "      console.info(\"Bokeh: all callbacks have finished\");\n",
       "    }\n",
       "  \n",
       "    function load_libs(js_urls, callback) {\n",
       "      window._bokeh_onload_callbacks.push(callback);\n",
       "      if (window._bokeh_is_loading > 0) {\n",
       "        console.log(\"Bokeh: BokehJS is being loaded, scheduling callback at\", now());\n",
       "        return null;\n",
       "      }\n",
       "      if (js_urls == null || js_urls.length === 0) {\n",
       "        run_callbacks();\n",
       "        return null;\n",
       "      }\n",
       "      console.log(\"Bokeh: BokehJS not loaded, scheduling load and callback at\", now());\n",
       "      window._bokeh_is_loading = js_urls.length;\n",
       "      for (var i = 0; i < js_urls.length; i++) {\n",
       "        var url = js_urls[i];\n",
       "        var s = document.createElement('script');\n",
       "        s.src = url;\n",
       "        s.async = false;\n",
       "        s.onreadystatechange = s.onload = function() {\n",
       "          window._bokeh_is_loading--;\n",
       "          if (window._bokeh_is_loading === 0) {\n",
       "            console.log(\"Bokeh: all BokehJS libraries loaded\");\n",
       "            run_callbacks()\n",
       "          }\n",
       "        };\n",
       "        s.onerror = function() {\n",
       "          console.warn(\"failed to load library \" + url);\n",
       "        };\n",
       "        console.log(\"Bokeh: injecting script tag for BokehJS library: \", url);\n",
       "        document.getElementsByTagName(\"head\")[0].appendChild(s);\n",
       "      }\n",
       "    };var element = document.getElementById(\"19e35878-f16a-4758-baa2-137809721b06\");\n",
       "    if (element == null) {\n",
       "      console.log(\"Bokeh: ERROR: autoload.js configured with elementid '19e35878-f16a-4758-baa2-137809721b06' but no matching script tag was found. \")\n",
       "      return false;\n",
       "    }\n",
       "  \n",
       "    var js_urls = [];\n",
       "  \n",
       "    var inline_js = [\n",
       "      function(Bokeh) {\n",
       "        Bokeh.$(function() {\n",
       "            var docs_json = {\"10d40d7d-1486-4b66-b57a-71b2225a19f6\":{\"roots\":{\"references\":[{\"attributes\":{\"plot\":null,\"text\":\"Linear Scale\"},\"id\":\"ccc2c875-7202-490e-ac92-04b2cca85fc5\",\"type\":\"Title\"},{\"attributes\":{\"callback\":null,\"column_names\":[\"xs\",\"ys\"],\"data\":{\"xs\":[[0.03014,0.03014],[0.03368,0.03368],[0.03722,0.03722],[0.04076,0.04076],[0.0443,0.0443],[0.04784,0.04784],[0.05138,0.05138],[0.05491,0.05491],[0.05845,0.05845],[0.06198,0.06198],[0.06551,0.06551],[0.06904,0.06904],[0.07257,0.07257],[0.0761,0.0761],[0.07962,0.07962],[0.08315,0.08315],[0.08667,0.08667],[0.09018,0.09018],[0.0937,0.0937],[0.09721,0.09721],[0.1007,0.1007],[0.1042,0.1042],[0.1077,0.1077],[0.1112,0.1112],[0.1147,0.1147],[0.1182,0.1182],[0.1217,0.1217],[0.1252,0.1252],[0.1287,0.1287],[0.1322,0.1322],[0.1357,0.1357],[0.1392,0.1392],[0.1426,0.1426],[0.1461,0.1461],[0.1496,0.1496],[0.153,0.153],[0.1565,0.1565],[0.16,0.16],[0.1634,0.1634],[0.1669,0.1669],[0.1703,0.1703],[0.1737,0.1737],[0.1772,0.1772],[0.1806,0.1806],[0.184,0.184],[0.1875,0.1875],[0.1909,0.1909],[0.1943,0.1943],[0.1977,0.1977],[0.2011,0.2011],[0.2045,0.2045],[0.2079,0.2079],[0.2113,0.2113],[0.2147,0.2147],[0.218,0.218],[0.2214,0.2214],[0.2248,0.2248],[0.2281,0.2281],[0.2315,0.2315],[0.2349,0.2349],[0.2382,0.2382],[0.2415,0.2415],[0.2449,0.2449],[0.2482,0.2482],[0.2515,0.2515],[0.2548,0.2548],[0.2582,0.2582],[0.2615,0.2615],[0.2648,0.2648],[0.2681,0.2681],[0.2713,0.2713],[0.2746,0.2746],[0.2779,0.2779],[0.2812,0.2812],[0.2844,0.2844],[0.2877,0.2877],[0.2909,0.2909],[0.2942,0.2942],[0.2974,0.2974],[0.3006,0.3006],[0.3039,0.3039],[0.3071,0.3071],[0.3103,0.3103],[0.3135,0.3135],[0.3167,0.3167],[0.3199,0.3199],[0.3231,0.3231],[0.3262,0.3262],[0.3294,0.3294],[0.3326,0.3326],[0.3357,0.3357],[0.3389,0.3389],[0.342,0.342],[0.3451,0.3451],[0.3483,0.3483],[0.3514,0.3514],[0.3545,0.3545],[0.3576,0.3576],[0.3607,0.3607],[0.3638,0.3638],[0.3669,0.3669],[0.3699,0.3699],[0.373,0.373],[0.3761,0.3761],[0.3791,0.3791],[0.3821,0.3821],[0.3852,0.3852],[0.3882,0.3882],[0.3912,0.3912],[0.3942,0.3942],[0.3972,0.3972]],\"ys\":[[0.010533853,0.011354547],[0.010477176999999999,0.011315423],[0.010407488,0.011121512],[0.00994871,0.01069409],[0.009616541999999999,0.010288498],[0.009311774,0.009964806000000001],[0.009165446,0.009782774000000001],[0.009382169000000001,0.009935471],[0.008875882,0.009472337999999999],[0.008398752,0.008986188],[0.008407412,0.008996668],[0.008353136,0.008916244],[0.007963401,0.008528079],[0.007665787,0.008220313],[0.007214028,0.007765732],[0.007070317,0.007616843],[0.006527862999999999,0.007121517],[0.006279692,0.006818248000000001],[0.006168494,0.006667226],[0.005842979,0.0063316810000000005],[0.005782347,0.006334433],[0.0052126590000000006,0.005680841],[0.0049967349999999995,0.005493785],[0.004861522,0.005387958],[0.00471163,0.00518207],[0.00441034,0.0048949],[0.004419104,0.004869316],[0.003917535999999999,0.004397224],[0.003581566,0.004062514],[0.003547999,0.004026761],[0.003231857,0.0036681030000000002],[0.003118903,0.003554797],[0.00280506,0.0032771],[0.002461079,0.0029335809999999998],[0.002291219,0.002758161],[0.002284776,0.0027058440000000002],[0.001919085,0.002348175],[0.002019059,0.0024873409999999997],[0.001762152,0.002203288],[0.001612499,0.002039081],[0.0014716010000000001,0.001922199],[0.001153254,0.001536326],[0.001199838,0.001607622],[0.001096922,0.0014968779999999999],[0.0009297420000000001,0.001325018],[0.000743602,0.001180778],[0.000837338,0.001203862],[0.0005854390000000001,0.000950577],[0.00046941500000000004,0.000874965],[0.000405387,0.000801011],[0.000337713,0.000745609],[0.00038091899999999996,0.000785677],[0.000335802,0.0007654059999999999],[0.000174561,0.0005834729999999999],[0.0002395,0.00065007],[5.757000000000006e-06,0.000401699],[9.692600000000003e-05,0.000522264],[-7.6301e-05,0.000351161],[2.370600000000002e-05,0.000449236],[-3.6327000000000006e-05,0.000431385],[0.00012010900000000003,0.000606487],[-9.5401e-05,0.000375649],[9.710000000000014e-07,0.000493129],[-0.000336686,0.000112702],[-0.00015256299999999998,0.000379159],[-0.0001260184,0.0003201176],[5.777000000000001e-05,0.000530942],[7.7911e-05,0.000559361],[-0.000104836,0.00036634000000000005],[-0.00018879900000000002,0.000290303],[1.5130000000000026e-05,0.000505316],[-0.00018400949999999996,0.0003066705],[-0.00047564899999999997,-8.335000000000021e-06],[-0.0001742132,0.0002788908],[-9.700100000000002e-05,0.00038686899999999997],[1.5170000000000006e-05,0.000516052],[-0.000287985,0.000170547],[-4.109399999999998e-05,0.000493176],[-0.000104986,0.000382258],[-0.00023415780000000003,0.0002608522],[-0.0002241919,0.0002446381],[-0.000638036,-0.00011315400000000002],[-0.000138122,0.00033982399999999996],[-0.000497897,1.8245000000000013e-05],[-0.00010526399999999999,0.00039099999999999996],[-0.000121833,0.000356131],[-0.00042255099999999996,6.607099999999998e-05],[-0.00010649300000000001,0.000365021],[-0.00019753769999999998,0.0003085623],[-0.0003244268,0.00017112119999999998],[-0.00020954250000000002,0.0002384515],[-0.00024118681999999998,0.00025432718],[-0.0001972603,0.00030299570000000004],[-0.00044148799999999997,6.943799999999998e-05],[-0.0002328978,0.00027873220000000003],[-0.0002430167,0.0002077933],[3.8748000000000016e-05,0.000609202],[-0.00024209549999999996,0.0003110045],[-0.000634179,-1.1721000000000019e-05],[-0.0007768359999999999,-0.00011233799999999997],[-0.000548481,0.00012786900000000002],[-0.00026166000000000004,0.000591726],[-0.000804695,7.168699999999997e-05],[-0.0003935664,0.0004543096],[-0.000950631,5.636700000000004e-05],[-0.0004931695,0.0005158305],[-1.0160999999999959e-05,0.001168789],[-0.0007203239999999999,0.000562886],[-0.001013392,0.000649508],[-0.00046146500000000004,0.000770375],[-0.001837782,-5.515800000000003e-05]]}},\"id\":\"825d7b54-b420-43a8-bced-a64f66d354eb\",\"type\":\"ColumnDataSource\"},{\"attributes\":{\"axis_label\":\"q (1/A)\",\"formatter\":{\"id\":\"fd3d05ad-1bf9-4710-8f02-7da8d65a36c2\",\"type\":\"BasicTickFormatter\"},\"plot\":{\"id\":\"e8cce062-5769-473b-bbea-8002958787bd\",\"subtype\":\"Figure\",\"type\":\"Plot\"},\"ticker\":{\"id\":\"acaae7e0-fe1a-4bc4-8e92-931295ea46a7\",\"type\":\"BasicTicker\"}},\"id\":\"cbaa8996-9ed8-4267-b1a7-8a72997982ab\",\"type\":\"LinearAxis\"},{\"attributes\":{\"data_source\":{\"id\":\"5c71616b-4a2d-4ac0-a13c-459f13c32075\",\"type\":\"ColumnDataSource\"},\"glyph\":{\"id\":\"3f56f90f-549a-4bf0-bf47-a5c278a05a16\",\"type\":\"Circle\"},\"hover_glyph\":null,\"nonselection_glyph\":{\"id\":\"521b6c9e-e51f-4f30-841f-fa75a5538e3e\",\"type\":\"Circle\"},\"selection_glyph\":null},\"id\":\"0a03bba2-ce6c-47db-aaee-f342a5cfc9e7\",\"type\":\"GlyphRenderer\"},{\"attributes\":{\"children\":[{\"id\":\"d4535d92-c159-4e2d-871a-2900b8b6d3a0\",\"type\":\"ToolbarBox\"},{\"id\":\"3492d5e4-5d49-4918-b5cd-63bfe0885b13\",\"type\":\"Column\"}]},\"id\":\"94098b77-b7f2-4600-a3ca-ae3ebda9f2ab\",\"type\":\"Column\"},{\"attributes\":{\"line_color\":{\"value\":\"#1b9e77\"},\"xs\":{\"field\":\"xs\"},\"ys\":{\"field\":\"ys\"}},\"id\":\"3fa4ba7b-1b61-4c81-abc6-36ab93aed8b1\",\"type\":\"MultiLine\"},{\"attributes\":{\"data_source\":{\"id\":\"7ecb4874-b6f4-4870-b75a-5e1113fc9d4b\",\"type\":\"ColumnDataSource\"},\"glyph\":{\"id\":\"344e8c4c-002a-4235-9668-23d0dacbff16\",\"type\":\"Circle\"},\"hover_glyph\":null,\"nonselection_glyph\":{\"id\":\"6a998a07-ade5-4e5b-ba59-23a698383a0f\",\"type\":\"Circle\"},\"selection_glyph\":null},\"id\":\"d357812f-e782-47be-b836-c18a55c369b6\",\"type\":\"GlyphRenderer\"},{\"attributes\":{\"plot\":{\"id\":\"1e05146f-cd2f-461c-949c-8c1a975d0953\",\"subtype\":\"Figure\",\"type\":\"Plot\"}},\"id\":\"8373ae0e-a241-4f7d-95d4-d0f22e8e2253\",\"type\":\"SaveTool\"},{\"attributes\":{\"plot\":{\"id\":\"1e05146f-cd2f-461c-949c-8c1a975d0953\",\"subtype\":\"Figure\",\"type\":\"Plot\"}},\"id\":\"56b4b863-ae28-4787-a13e-8fa4abdf0e1c\",\"type\":\"WheelZoomTool\"},{\"attributes\":{\"axis_label\":\"I(q)\",\"formatter\":{\"id\":\"667d7a44-626b-4acd-bdd8-c588b4d45c9b\",\"type\":\"LogTickFormatter\"},\"plot\":{\"id\":\"1e05146f-cd2f-461c-949c-8c1a975d0953\",\"subtype\":\"Figure\",\"type\":\"Plot\"},\"ticker\":{\"id\":\"9b5a895e-bcdc-49a3-859e-1f6783c11ad3\",\"type\":\"LogTicker\"}},\"id\":\"4e2a6a32-fb18-4df2-a6e9-9def41d4dc9c\",\"type\":\"LogAxis\"},{\"attributes\":{\"active_drag\":\"auto\",\"active_scroll\":\"auto\",\"active_tap\":\"auto\",\"tools\":[{\"id\":\"c2496d74-da8c-43d2-8069-13424a39c9f4\",\"type\":\"PanTool\"},{\"id\":\"56b4b863-ae28-4787-a13e-8fa4abdf0e1c\",\"type\":\"WheelZoomTool\"},{\"id\":\"d8957a42-8031-4d98-8d14-dbeb32c57ab0\",\"type\":\"BoxZoomTool\"},{\"id\":\"8373ae0e-a241-4f7d-95d4-d0f22e8e2253\",\"type\":\"SaveTool\"},{\"id\":\"e6258497-0817-4059-8fc0-3c17015fadf1\",\"type\":\"ResetTool\"},{\"id\":\"c539520a-9e71-4e1b-a582-dd34f7e9d406\",\"type\":\"HelpTool\"}]},\"id\":\"deb245d2-b53b-4616-b096-4f7f3f7778e9\",\"type\":\"Toolbar\"},{\"attributes\":{\"callback\":null,\"column_names\":[\"y\",\"x\"],\"data\":{\"x\":[0.08,0.16,0.24,0.32,0.4],\"y\":[0.0075053982608695655,0.002280186,0.00024625842083333336,2.8773799199999996e-05,-0.00015831583846153847]}},\"id\":\"7ecb4874-b6f4-4870-b75a-5e1113fc9d4b\",\"type\":\"ColumnDataSource\"},{\"attributes\":{\"ticker\":null},\"id\":\"e3d01a4e-d075-4b42-8345-8ef20866daa3\",\"type\":\"LogTickFormatter\"},{\"attributes\":{\"line_alpha\":{\"value\":0.1},\"line_color\":{\"value\":\"#1f77b4\"},\"xs\":{\"field\":\"xs\"},\"ys\":{\"field\":\"ys\"}},\"id\":\"4eb688c5-e864-4bbc-8819-e292d75dfc13\",\"type\":\"MultiLine\"},{\"attributes\":{\"fill_alpha\":{\"value\":0.1},\"fill_color\":{\"value\":\"#1f77b4\"},\"line_alpha\":{\"value\":0.1},\"line_color\":{\"value\":\"#1f77b4\"},\"x\":{\"field\":\"x\"},\"y\":{\"field\":\"y\"}},\"id\":\"6a998a07-ade5-4e5b-ba59-23a698383a0f\",\"type\":\"Circle\"},{\"attributes\":{\"overlay\":{\"id\":\"f52855b7-c8b9-44ea-99af-f6d2692730b6\",\"type\":\"BoxAnnotation\"},\"plot\":{\"id\":\"1e05146f-cd2f-461c-949c-8c1a975d0953\",\"subtype\":\"Figure\",\"type\":\"Plot\"}},\"id\":\"d8957a42-8031-4d98-8d14-dbeb32c57ab0\",\"type\":\"BoxZoomTool\"},{\"attributes\":{\"bottom_units\":\"screen\",\"fill_alpha\":{\"value\":0.5},\"fill_color\":{\"value\":\"lightgrey\"},\"left_units\":\"screen\",\"level\":\"overlay\",\"line_alpha\":{\"value\":1.0},\"line_color\":{\"value\":\"black\"},\"line_dash\":[4,4],\"line_width\":{\"value\":2},\"plot\":null,\"render_mode\":\"css\",\"right_units\":\"screen\",\"top_units\":\"screen\"},\"id\":\"7bd4839c-bd04-42cf-8cb6-f694dfd9a9a3\",\"type\":\"BoxAnnotation\"},{\"attributes\":{\"fill_alpha\":{\"value\":0.1},\"fill_color\":{\"value\":\"#1f77b4\"},\"line_alpha\":{\"value\":0.1},\"line_color\":{\"value\":\"#1f77b4\"},\"x\":{\"field\":\"x\"},\"y\":{\"field\":\"y\"}},\"id\":\"36ee690a-f548-4895-834e-cb74d90a334d\",\"type\":\"Circle\"},{\"attributes\":{\"children\":[{\"id\":\"e8cce062-5769-473b-bbea-8002958787bd\",\"subtype\":\"Figure\",\"type\":\"Plot\"},{\"id\":\"1e05146f-cd2f-461c-949c-8c1a975d0953\",\"subtype\":\"Figure\",\"type\":\"Plot\"}]},\"id\":\"0cdcc925-527e-4d1d-8326-6ad2788f8436\",\"type\":\"Row\"},{\"attributes\":{\"active_drag\":\"auto\",\"active_scroll\":\"auto\",\"active_tap\":\"auto\",\"tools\":[{\"id\":\"d332b9e1-2a5e-408d-a073-8db3aefeef9a\",\"type\":\"PanTool\"},{\"id\":\"2f469f70-9efa-435e-aef2-2196ddfbdbdc\",\"type\":\"WheelZoomTool\"},{\"id\":\"1b91d874-7042-48bc-8bbc-1b629df8e5f2\",\"type\":\"BoxZoomTool\"},{\"id\":\"64a5b1ea-5d46-4c1e-b11c-c77ef41c6679\",\"type\":\"SaveTool\"},{\"id\":\"3ea82240-dfee-45b1-ab89-d4b436f42abe\",\"type\":\"ResetTool\"},{\"id\":\"4fd9092b-63e7-4b3a-b3e6-2fb05373ecf6\",\"type\":\"HelpTool\"}]},\"id\":\"eba1646b-ac68-465e-91d2-528821985130\",\"type\":\"Toolbar\"},{\"attributes\":{},\"id\":\"2173b50f-a7f5-4704-b54a-181e50cf454e\",\"type\":\"BasicTicker\"},{\"attributes\":{\"data_source\":{\"id\":\"1f589c32-7936-4f5f-a004-c8d50d7f6848\",\"type\":\"ColumnDataSource\"},\"glyph\":{\"id\":\"79f5e7b5-c7c9-4b85-931b-c1be3b296f18\",\"type\":\"MultiLine\"},\"hover_glyph\":null,\"nonselection_glyph\":{\"id\":\"59adf358-8897-427d-b626-ccddd631a225\",\"type\":\"MultiLine\"},\"selection_glyph\":null},\"id\":\"59773ebf-8b9b-4dec-be5b-dfd5de35cbc3\",\"type\":\"GlyphRenderer\"},{\"attributes\":{\"plot\":{\"id\":\"e8cce062-5769-473b-bbea-8002958787bd\",\"subtype\":\"Figure\",\"type\":\"Plot\"}},\"id\":\"2f469f70-9efa-435e-aef2-2196ddfbdbdc\",\"type\":\"WheelZoomTool\"},{\"attributes\":{\"fill_color\":{\"value\":\"#d95f02\"},\"line_color\":{\"value\":\"#d95f02\"},\"x\":{\"field\":\"x\"},\"y\":{\"field\":\"y\"}},\"id\":\"344e8c4c-002a-4235-9668-23d0dacbff16\",\"type\":\"Circle\"},{\"attributes\":{\"plot\":{\"id\":\"1e05146f-cd2f-461c-949c-8c1a975d0953\",\"subtype\":\"Figure\",\"type\":\"Plot\"}},\"id\":\"c539520a-9e71-4e1b-a582-dd34f7e9d406\",\"type\":\"HelpTool\"},{\"attributes\":{\"fill_alpha\":{\"value\":0.1},\"fill_color\":{\"value\":\"#1f77b4\"},\"line_alpha\":{\"value\":0.1},\"line_color\":{\"value\":\"#1f77b4\"},\"x\":{\"field\":\"x\"},\"y\":{\"field\":\"y\"}},\"id\":\"35cf4134-7b02-47a5-ae2d-4be24a94b538\",\"type\":\"Circle\"},{\"attributes\":{\"num_minor_ticks\":10},\"id\":\"a4f558a5-bfd8-44f6-a061-f8599235e615\",\"type\":\"LogTicker\"},{\"attributes\":{\"below\":[{\"id\":\"6196f7be-ef02-4890-bf8c-4a5fecb4be10\",\"type\":\"LogAxis\"}],\"left\":[{\"id\":\"4e2a6a32-fb18-4df2-a6e9-9def41d4dc9c\",\"type\":\"LogAxis\"}],\"plot_height\":400,\"plot_width\":400,\"renderers\":[{\"id\":\"6196f7be-ef02-4890-bf8c-4a5fecb4be10\",\"type\":\"LogAxis\"},{\"id\":\"9fd9ad6a-56f5-44d3-9926-dd02908cbbae\",\"type\":\"Grid\"},{\"id\":\"4e2a6a32-fb18-4df2-a6e9-9def41d4dc9c\",\"type\":\"LogAxis\"},{\"id\":\"927ca8e6-1ad2-4f2e-9ee0-d723d51190e1\",\"type\":\"Grid\"},{\"id\":\"f52855b7-c8b9-44ea-99af-f6d2692730b6\",\"type\":\"BoxAnnotation\"},{\"id\":\"0a03bba2-ce6c-47db-aaee-f342a5cfc9e7\",\"type\":\"GlyphRenderer\"},{\"id\":\"df95a74e-4508-49d1-8920-dde111844b94\",\"type\":\"GlyphRenderer\"},{\"id\":\"d357812f-e782-47be-b836-c18a55c369b6\",\"type\":\"GlyphRenderer\"},{\"id\":\"d1767e49-220e-4ac3-abe6-5eb5c7d60aaa\",\"type\":\"GlyphRenderer\"}],\"title\":{\"id\":\"1c5fe743-89bd-43b5-8d56-680c1a1028b3\",\"type\":\"Title\"},\"tool_events\":{\"id\":\"51a8f5f4-28dc-4f0c-8e5e-c78d56ca48ce\",\"type\":\"ToolEvents\"},\"toolbar\":{\"id\":\"deb245d2-b53b-4616-b096-4f7f3f7778e9\",\"type\":\"Toolbar\"},\"toolbar_location\":null,\"x_mapper_type\":\"log\",\"x_range\":{\"id\":\"59230b45-3e06-47b5-b7f6-07dd4203634a\",\"type\":\"Range1d\"},\"y_mapper_type\":\"log\",\"y_range\":{\"id\":\"75ed0f9b-4fd7-46cd-9c17-4256ba49c5ff\",\"type\":\"Range1d\"}},\"id\":\"1e05146f-cd2f-461c-949c-8c1a975d0953\",\"subtype\":\"Figure\",\"type\":\"Plot\"},{\"attributes\":{\"plot\":{\"id\":\"1e05146f-cd2f-461c-949c-8c1a975d0953\",\"subtype\":\"Figure\",\"type\":\"Plot\"},\"ticker\":{\"id\":\"a4f558a5-bfd8-44f6-a061-f8599235e615\",\"type\":\"LogTicker\"}},\"id\":\"9fd9ad6a-56f5-44d3-9926-dd02908cbbae\",\"type\":\"Grid\"},{\"attributes\":{\"bottom_units\":\"screen\",\"fill_alpha\":{\"value\":0.5},\"fill_color\":{\"value\":\"lightgrey\"},\"left_units\":\"screen\",\"level\":\"overlay\",\"line_alpha\":{\"value\":1.0},\"line_color\":{\"value\":\"black\"},\"line_dash\":[4,4],\"line_width\":{\"value\":2},\"plot\":null,\"render_mode\":\"css\",\"right_units\":\"screen\",\"top_units\":\"screen\"},\"id\":\"f52855b7-c8b9-44ea-99af-f6d2692730b6\",\"type\":\"BoxAnnotation\"},{\"attributes\":{\"dimension\":1,\"plot\":{\"id\":\"1e05146f-cd2f-461c-949c-8c1a975d0953\",\"subtype\":\"Figure\",\"type\":\"Plot\"},\"ticker\":{\"id\":\"9b5a895e-bcdc-49a3-859e-1f6783c11ad3\",\"type\":\"LogTicker\"}},\"id\":\"927ca8e6-1ad2-4f2e-9ee0-d723d51190e1\",\"type\":\"Grid\"},{\"attributes\":{\"fill_color\":{\"value\":\"#d95f02\"},\"line_color\":{\"value\":\"#d95f02\"},\"x\":{\"field\":\"x\"},\"y\":{\"field\":\"y\"}},\"id\":\"c8385558-a94b-4e26-b136-373221fd7272\",\"type\":\"Circle\"},{\"attributes\":{\"line_alpha\":{\"value\":0.1},\"line_color\":{\"value\":\"#1f77b4\"},\"xs\":{\"field\":\"xs\"},\"ys\":{\"field\":\"ys\"}},\"id\":\"01090fb3-9ac1-45ad-81c4-635f6945d7d0\",\"type\":\"MultiLine\"},{\"attributes\":{\"ticker\":null},\"id\":\"667d7a44-626b-4acd-bdd8-c588b4d45c9b\",\"type\":\"LogTickFormatter\"},{\"attributes\":{\"data_source\":{\"id\":\"ae0cee60-56a9-48f4-83c8-fa46a7f6fdc6\",\"type\":\"ColumnDataSource\"},\"glyph\":{\"id\":\"c8385558-a94b-4e26-b136-373221fd7272\",\"type\":\"Circle\"},\"hover_glyph\":null,\"nonselection_glyph\":{\"id\":\"36ee690a-f548-4895-834e-cb74d90a334d\",\"type\":\"Circle\"},\"selection_glyph\":null},\"id\":\"6b924373-a254-4c2c-8c8c-daf62ff71459\",\"type\":\"GlyphRenderer\"},{\"attributes\":{\"plot\":{\"id\":\"1e05146f-cd2f-461c-949c-8c1a975d0953\",\"subtype\":\"Figure\",\"type\":\"Plot\"}},\"id\":\"c2496d74-da8c-43d2-8069-13424a39c9f4\",\"type\":\"PanTool\"},{\"attributes\":{\"children\":[{\"id\":\"0cdcc925-527e-4d1d-8326-6ad2788f8436\",\"type\":\"Row\"}]},\"id\":\"3492d5e4-5d49-4918-b5cd-63bfe0885b13\",\"type\":\"Column\"},{\"attributes\":{\"callback\":null,\"column_names\":[\"xs\",\"ys\"],\"data\":{\"xs\":[[0.02659,0.02659],[0.03014,0.03014],[0.03368,0.03368],[0.03722,0.03722],[0.04076,0.04076],[0.0443,0.0443],[0.04784,0.04784],[0.05138,0.05138],[0.05491,0.05491],[0.05845,0.05845],[0.06198,0.06198],[0.06551,0.06551],[0.06904,0.06904],[0.07257,0.07257],[0.0761,0.0761],[0.07962,0.07962],[0.08315,0.08315],[0.08667,0.08667],[0.09018,0.09018],[0.0937,0.0937],[0.09721,0.09721],[0.1007,0.1007],[0.1042,0.1042],[0.1077,0.1077],[0.1112,0.1112],[0.1147,0.1147],[0.1182,0.1182],[0.1217,0.1217],[0.1252,0.1252],[0.1287,0.1287],[0.1322,0.1322],[0.1357,0.1357],[0.1392,0.1392],[0.1426,0.1426],[0.1461,0.1461],[0.1496,0.1496],[0.153,0.153],[0.1565,0.1565],[0.16,0.16],[0.1634,0.1634],[0.1669,0.1669],[0.1703,0.1703],[0.1737,0.1737],[0.1772,0.1772],[0.1806,0.1806],[0.184,0.184],[0.1875,0.1875],[0.1909,0.1909],[0.1943,0.1943],[0.1977,0.1977],[0.2011,0.2011],[0.2045,0.2045],[0.2079,0.2079],[0.2113,0.2113],[0.2147,0.2147],[0.218,0.218],[0.2214,0.2214],[0.2248,0.2248],[0.2281,0.2281],[0.2315,0.2315],[0.2349,0.2349],[0.2382,0.2382],[0.2415,0.2415],[0.2449,0.2449],[0.2482,0.2482],[0.2515,0.2515],[0.2548,0.2548],[0.2582,0.2582],[0.2615,0.2615],[0.2648,0.2648],[0.2681,0.2681],[0.2713,0.2713],[0.2746,0.2746],[0.2779,0.2779],[0.2812,0.2812],[0.2844,0.2844],[0.2877,0.2877],[0.2909,0.2909],[0.2942,0.2942],[0.2974,0.2974],[0.3006,0.3006],[0.3039,0.3039],[0.3071,0.3071],[0.3103,0.3103],[0.3135,0.3135],[0.3167,0.3167],[0.3199,0.3199],[0.3231,0.3231],[0.3262,0.3262],[0.3294,0.3294],[0.3326,0.3326],[0.3357,0.3357],[0.3389,0.3389],[0.342,0.342],[0.3451,0.3451],[0.3483,0.3483],[0.3514,0.3514],[0.3545,0.3545],[0.3576,0.3576],[0.3607,0.3607],[0.3638,0.3638],[0.3669,0.3669],[0.3699,0.3699],[0.373,0.373],[0.3761,0.3761],[0.3791,0.3791],[0.3821,0.3821],[0.3852,0.3852],[0.3882,0.3882],[0.3912,0.3912],[0.3942,0.3942],[0.3972,0.3972]],\"ys\":[[0.010214077,0.011627923],[0.010533853,0.011354547],[0.010477176999999999,0.011315423],[0.010407488,0.011121512],[0.00994871,0.01069409],[0.009616541999999999,0.010288498],[0.009311774,0.009964806000000001],[0.009165446,0.009782774000000001],[0.009382169000000001,0.009935471],[0.008875882,0.009472337999999999],[0.008398752,0.008986188],[0.008407412,0.008996668],[0.008353136,0.008916244],[0.007963401,0.008528079],[0.007665787,0.008220313],[0.007214028,0.007765732],[0.007070317,0.007616843],[0.006527862999999999,0.007121517],[0.006279692,0.006818248000000001],[0.006168494,0.006667226],[0.005842979,0.0063316810000000005],[0.005782347,0.006334433],[0.0052126590000000006,0.005680841],[0.0049967349999999995,0.005493785],[0.004861522,0.005387958],[0.00471163,0.00518207],[0.00441034,0.0048949],[0.004419104,0.004869316],[0.003917535999999999,0.004397224],[0.003581566,0.004062514],[0.003547999,0.004026761],[0.003231857,0.0036681030000000002],[0.003118903,0.003554797],[0.00280506,0.0032771],[0.002461079,0.0029335809999999998],[0.002291219,0.002758161],[0.002284776,0.0027058440000000002],[0.001919085,0.002348175],[0.002019059,0.0024873409999999997],[0.001762152,0.002203288],[0.001612499,0.002039081],[0.0014716010000000001,0.001922199],[0.001153254,0.001536326],[0.001199838,0.001607622],[0.001096922,0.0014968779999999999],[0.0009297420000000001,0.001325018],[0.000743602,0.001180778],[0.000837338,0.001203862],[0.0005854390000000001,0.000950577],[0.00046941500000000004,0.000874965],[0.000405387,0.000801011],[0.000337713,0.000745609],[0.00038091899999999996,0.000785677],[0.000335802,0.0007654059999999999],[0.000174561,0.0005834729999999999],[0.0002395,0.00065007],[5.757000000000006e-06,0.000401699],[9.692600000000003e-05,0.000522264],[-7.6301e-05,0.000351161],[2.370600000000002e-05,0.000449236],[-3.6327000000000006e-05,0.000431385],[0.00012010900000000003,0.000606487],[-9.5401e-05,0.000375649],[9.710000000000014e-07,0.000493129],[-0.000336686,0.000112702],[-0.00015256299999999998,0.000379159],[-0.0001260184,0.0003201176],[5.777000000000001e-05,0.000530942],[7.7911e-05,0.000559361],[-0.000104836,0.00036634000000000005],[-0.00018879900000000002,0.000290303],[1.5130000000000026e-05,0.000505316],[-0.00018400949999999996,0.0003066705],[-0.00047564899999999997,-8.335000000000021e-06],[-0.0001742132,0.0002788908],[-9.700100000000002e-05,0.00038686899999999997],[1.5170000000000006e-05,0.000516052],[-0.000287985,0.000170547],[-4.109399999999998e-05,0.000493176],[-0.000104986,0.000382258],[-0.00023415780000000003,0.0002608522],[-0.0002241919,0.0002446381],[-0.000638036,-0.00011315400000000002],[-0.000138122,0.00033982399999999996],[-0.000497897,1.8245000000000013e-05],[-0.00010526399999999999,0.00039099999999999996],[-0.000121833,0.000356131],[-0.00042255099999999996,6.607099999999998e-05],[-0.00010649300000000001,0.000365021],[-0.00019753769999999998,0.0003085623],[-0.0003244268,0.00017112119999999998],[-0.00020954250000000002,0.0002384515],[-0.00024118681999999998,0.00025432718],[-0.0001972603,0.00030299570000000004],[-0.00044148799999999997,6.943799999999998e-05],[-0.0002328978,0.00027873220000000003],[-0.0002430167,0.0002077933],[3.8748000000000016e-05,0.000609202],[-0.00024209549999999996,0.0003110045],[-0.000634179,-1.1721000000000019e-05],[-0.0007768359999999999,-0.00011233799999999997],[-0.000548481,0.00012786900000000002],[-0.00026166000000000004,0.000591726],[-0.000804695,7.168699999999997e-05],[-0.0003935664,0.0004543096],[-0.000950631,5.636700000000004e-05],[-0.0004931695,0.0005158305],[-1.0160999999999959e-05,0.001168789],[-0.0007203239999999999,0.000562886],[-0.001013392,0.000649508],[-0.00046146500000000004,0.000770375],[-0.001837782,-5.515800000000003e-05]]}},\"id\":\"10b6111d-b52a-4af2-9ea6-273ccffbeed8\",\"type\":\"ColumnDataSource\"},{\"attributes\":{\"callback\":null,\"column_names\":[\"xs\",\"ys\"],\"data\":{\"xs\":[[0.08,0.08],[0.16,0.16],[0.24,0.24],[0.32,0.32],[0.4,0.4]],\"ys\":[[0.007222753217076579,0.007788043304662552],[0.0020627263657028456,0.0024976456342971545],[1.9911786018314895e-05,0.00047260505564835183],[-0.0002192174793530975,0.0002767650777530975],[-0.0007135489697147363,0.0003969172927916593]]}},\"id\":\"da8d90b7-2071-425b-874e-d2e0ab5390d7\",\"type\":\"ColumnDataSource\"},{\"attributes\":{},\"id\":\"acaae7e0-fe1a-4bc4-8e92-931295ea46a7\",\"type\":\"BasicTicker\"},{\"attributes\":{\"data_source\":{\"id\":\"da8d90b7-2071-425b-874e-d2e0ab5390d7\",\"type\":\"ColumnDataSource\"},\"glyph\":{\"id\":\"670fdef4-56a9-4cb2-9a4c-26c1d8b08e54\",\"type\":\"MultiLine\"},\"hover_glyph\":null,\"nonselection_glyph\":{\"id\":\"4eb688c5-e864-4bbc-8819-e292d75dfc13\",\"type\":\"MultiLine\"},\"selection_glyph\":null},\"id\":\"d1767e49-220e-4ac3-abe6-5eb5c7d60aaa\",\"type\":\"GlyphRenderer\"},{\"attributes\":{},\"id\":\"fd3d05ad-1bf9-4710-8f02-7da8d65a36c2\",\"type\":\"BasicTickFormatter\"},{\"attributes\":{\"line_alpha\":{\"value\":0.1},\"line_color\":{\"value\":\"#1f77b4\"},\"xs\":{\"field\":\"xs\"},\"ys\":{\"field\":\"ys\"}},\"id\":\"2fb9743b-b1b6-45f5-a839-a172e7020b7f\",\"type\":\"MultiLine\"},{\"attributes\":{\"plot\":null,\"text\":\"Log Scale\"},\"id\":\"1c5fe743-89bd-43b5-8d56-680c1a1028b3\",\"type\":\"Title\"},{\"attributes\":{\"plot\":{\"id\":\"1e05146f-cd2f-461c-949c-8c1a975d0953\",\"subtype\":\"Figure\",\"type\":\"Plot\"}},\"id\":\"e6258497-0817-4059-8fc0-3c17015fadf1\",\"type\":\"ResetTool\"},{\"attributes\":{\"num_minor_ticks\":10},\"id\":\"9b5a895e-bcdc-49a3-859e-1f6783c11ad3\",\"type\":\"LogTicker\"},{\"attributes\":{\"plot\":{\"id\":\"e8cce062-5769-473b-bbea-8002958787bd\",\"subtype\":\"Figure\",\"type\":\"Plot\"}},\"id\":\"3ea82240-dfee-45b1-ab89-d4b436f42abe\",\"type\":\"ResetTool\"},{\"attributes\":{\"data_source\":{\"id\":\"825d7b54-b420-43a8-bced-a64f66d354eb\",\"type\":\"ColumnDataSource\"},\"glyph\":{\"id\":\"c44e7583-d378-46b0-ab93-6e80629cb5fa\",\"type\":\"MultiLine\"},\"hover_glyph\":null,\"nonselection_glyph\":{\"id\":\"2fb9743b-b1b6-45f5-a839-a172e7020b7f\",\"type\":\"MultiLine\"},\"selection_glyph\":null},\"id\":\"505873b8-e24b-4705-8ebf-a31c4f20d22b\",\"type\":\"GlyphRenderer\"},{\"attributes\":{\"callback\":null,\"column_names\":[\"xs\",\"ys\"],\"data\":{\"xs\":[[0.0,0.0],[0.08,0.08],[0.16,0.16],[0.24,0.24],[0.32,0.32],[0.4,0.4]],\"ys\":[[0.011107240818043184,0.012092759181956814],[0.007222753217076579,0.007788043304662552],[0.0020627263657028456,0.0024976456342971545],[1.9911786018314895e-05,0.00047260505564835183],[-0.0002192174793530975,0.0002767650777530975],[-0.0007135489697147363,0.0003969172927916593]]}},\"id\":\"1f589c32-7936-4f5f-a004-c8d50d7f6848\",\"type\":\"ColumnDataSource\"},{\"attributes\":{\"callback\":null,\"column_names\":[\"y\",\"x\"],\"data\":{\"x\":[0.0,0.08,0.16,0.24,0.32,0.4],\"y\":[0.0116,0.0075053982608695655,0.002280186,0.00024625842083333336,2.8773799199999996e-05,-0.00015831583846153847]}},\"id\":\"ae0cee60-56a9-48f4-83c8-fa46a7f6fdc6\",\"type\":\"ColumnDataSource\"},{\"attributes\":{\"sizing_mode\":\"scale_width\",\"toolbar_location\":\"above\",\"tools\":[{\"id\":\"d332b9e1-2a5e-408d-a073-8db3aefeef9a\",\"type\":\"PanTool\"},{\"id\":\"2f469f70-9efa-435e-aef2-2196ddfbdbdc\",\"type\":\"WheelZoomTool\"},{\"id\":\"1b91d874-7042-48bc-8bbc-1b629df8e5f2\",\"type\":\"BoxZoomTool\"},{\"id\":\"64a5b1ea-5d46-4c1e-b11c-c77ef41c6679\",\"type\":\"SaveTool\"},{\"id\":\"3ea82240-dfee-45b1-ab89-d4b436f42abe\",\"type\":\"ResetTool\"},{\"id\":\"4fd9092b-63e7-4b3a-b3e6-2fb05373ecf6\",\"type\":\"HelpTool\"},{\"id\":\"c2496d74-da8c-43d2-8069-13424a39c9f4\",\"type\":\"PanTool\"},{\"id\":\"56b4b863-ae28-4787-a13e-8fa4abdf0e1c\",\"type\":\"WheelZoomTool\"},{\"id\":\"d8957a42-8031-4d98-8d14-dbeb32c57ab0\",\"type\":\"BoxZoomTool\"},{\"id\":\"8373ae0e-a241-4f7d-95d4-d0f22e8e2253\",\"type\":\"SaveTool\"},{\"id\":\"e6258497-0817-4059-8fc0-3c17015fadf1\",\"type\":\"ResetTool\"},{\"id\":\"c539520a-9e71-4e1b-a582-dd34f7e9d406\",\"type\":\"HelpTool\"}]},\"id\":\"d4535d92-c159-4e2d-871a-2900b8b6d3a0\",\"type\":\"ToolbarBox\"},{\"attributes\":{\"callback\":null,\"end\":0.3972,\"start\":0.03014},\"id\":\"59230b45-3e06-47b5-b7f6-07dd4203634a\",\"type\":\"Range1d\"},{\"attributes\":{},\"id\":\"51a8f5f4-28dc-4f0c-8e5e-c78d56ca48ce\",\"type\":\"ToolEvents\"},{\"attributes\":{\"data_source\":{\"id\":\"929357b1-b382-4824-a450-801f261ad365\",\"type\":\"ColumnDataSource\"},\"glyph\":{\"id\":\"1f481a66-d8b3-468b-8d32-0d11485cf8df\",\"type\":\"Circle\"},\"hover_glyph\":null,\"nonselection_glyph\":{\"id\":\"35cf4134-7b02-47a5-ae2d-4be24a94b538\",\"type\":\"Circle\"},\"selection_glyph\":null},\"id\":\"fa028655-6ce9-4133-a075-8d152a1e0440\",\"type\":\"GlyphRenderer\"},{\"attributes\":{\"dimension\":1,\"plot\":{\"id\":\"e8cce062-5769-473b-bbea-8002958787bd\",\"subtype\":\"Figure\",\"type\":\"Plot\"},\"ticker\":{\"id\":\"2173b50f-a7f5-4704-b54a-181e50cf454e\",\"type\":\"BasicTicker\"}},\"id\":\"09b78660-c604-4087-bd47-df866b1e36d6\",\"type\":\"Grid\"},{\"attributes\":{\"below\":[{\"id\":\"cbaa8996-9ed8-4267-b1a7-8a72997982ab\",\"type\":\"LinearAxis\"}],\"left\":[{\"id\":\"ccc24066-8e5e-4ac0-b582-32a71cc517eb\",\"type\":\"LinearAxis\"}],\"plot_height\":400,\"plot_width\":400,\"renderers\":[{\"id\":\"cbaa8996-9ed8-4267-b1a7-8a72997982ab\",\"type\":\"LinearAxis\"},{\"id\":\"38e61a85-934b-426a-9393-5f095ffe3f3e\",\"type\":\"Grid\"},{\"id\":\"ccc24066-8e5e-4ac0-b582-32a71cc517eb\",\"type\":\"LinearAxis\"},{\"id\":\"09b78660-c604-4087-bd47-df866b1e36d6\",\"type\":\"Grid\"},{\"id\":\"7bd4839c-bd04-42cf-8cb6-f694dfd9a9a3\",\"type\":\"BoxAnnotation\"},{\"id\":\"fa028655-6ce9-4133-a075-8d152a1e0440\",\"type\":\"GlyphRenderer\"},{\"id\":\"505873b8-e24b-4705-8ebf-a31c4f20d22b\",\"type\":\"GlyphRenderer\"},{\"id\":\"6b924373-a254-4c2c-8c8c-daf62ff71459\",\"type\":\"GlyphRenderer\"},{\"id\":\"59773ebf-8b9b-4dec-be5b-dfd5de35cbc3\",\"type\":\"GlyphRenderer\"}],\"title\":{\"id\":\"ccc2c875-7202-490e-ac92-04b2cca85fc5\",\"type\":\"Title\"},\"tool_events\":{\"id\":\"e7fe940e-90e8-40bb-a084-8d43ee194433\",\"type\":\"ToolEvents\"},\"toolbar\":{\"id\":\"eba1646b-ac68-465e-91d2-528821985130\",\"type\":\"Toolbar\"},\"toolbar_location\":null,\"x_range\":{\"id\":\"59230b45-3e06-47b5-b7f6-07dd4203634a\",\"type\":\"Range1d\"},\"y_range\":{\"id\":\"75ed0f9b-4fd7-46cd-9c17-4256ba49c5ff\",\"type\":\"Range1d\"}},\"id\":\"e8cce062-5769-473b-bbea-8002958787bd\",\"subtype\":\"Figure\",\"type\":\"Plot\"},{\"attributes\":{},\"id\":\"e7fe940e-90e8-40bb-a084-8d43ee194433\",\"type\":\"ToolEvents\"},{\"attributes\":{\"plot\":{\"id\":\"e8cce062-5769-473b-bbea-8002958787bd\",\"subtype\":\"Figure\",\"type\":\"Plot\"}},\"id\":\"4fd9092b-63e7-4b3a-b3e6-2fb05373ecf6\",\"type\":\"HelpTool\"},{\"attributes\":{\"overlay\":{\"id\":\"7bd4839c-bd04-42cf-8cb6-f694dfd9a9a3\",\"type\":\"BoxAnnotation\"},\"plot\":{\"id\":\"e8cce062-5769-473b-bbea-8002958787bd\",\"subtype\":\"Figure\",\"type\":\"Plot\"}},\"id\":\"1b91d874-7042-48bc-8bbc-1b629df8e5f2\",\"type\":\"BoxZoomTool\"},{\"attributes\":{\"axis_label\":\"I(q)\",\"formatter\":{\"id\":\"7f4feb09-ca06-452a-9246-e20708a353bb\",\"type\":\"BasicTickFormatter\"},\"plot\":{\"id\":\"e8cce062-5769-473b-bbea-8002958787bd\",\"subtype\":\"Figure\",\"type\":\"Plot\"},\"ticker\":{\"id\":\"2173b50f-a7f5-4704-b54a-181e50cf454e\",\"type\":\"BasicTicker\"}},\"id\":\"ccc24066-8e5e-4ac0-b582-32a71cc517eb\",\"type\":\"LinearAxis\"},{\"attributes\":{\"plot\":{\"id\":\"e8cce062-5769-473b-bbea-8002958787bd\",\"subtype\":\"Figure\",\"type\":\"Plot\"}},\"id\":\"d332b9e1-2a5e-408d-a073-8db3aefeef9a\",\"type\":\"PanTool\"},{\"attributes\":{\"callback\":null,\"end\":0.016416299999999998,\"start\":3.28509e-06},\"id\":\"75ed0f9b-4fd7-46cd-9c17-4256ba49c5ff\",\"type\":\"Range1d\"},{\"attributes\":{\"line_color\":{\"value\":\"#1b9e77\"},\"xs\":{\"field\":\"xs\"},\"ys\":{\"field\":\"ys\"}},\"id\":\"c44e7583-d378-46b0-ab93-6e80629cb5fa\",\"type\":\"MultiLine\"},{\"attributes\":{\"plot\":{\"id\":\"e8cce062-5769-473b-bbea-8002958787bd\",\"subtype\":\"Figure\",\"type\":\"Plot\"},\"ticker\":{\"id\":\"acaae7e0-fe1a-4bc4-8e92-931295ea46a7\",\"type\":\"BasicTicker\"}},\"id\":\"38e61a85-934b-426a-9393-5f095ffe3f3e\",\"type\":\"Grid\"},{\"attributes\":{},\"id\":\"7f4feb09-ca06-452a-9246-e20708a353bb\",\"type\":\"BasicTickFormatter\"},{\"attributes\":{\"callback\":null,\"column_names\":[\"y\",\"x\"],\"data\":{\"x\":[0.03014,0.03368,0.03722,0.04076,0.0443,0.04784,0.05138,0.05491,0.05845,0.06198,0.06551,0.06904,0.07257,0.0761,0.07962,0.08315,0.08667,0.09018,0.0937,0.09721,0.1007,0.1042,0.1077,0.1112,0.1147,0.1182,0.1217,0.1252,0.1287,0.1322,0.1357,0.1392,0.1426,0.1461,0.1496,0.153,0.1565,0.16,0.1634,0.1669,0.1703,0.1737,0.1772,0.1806,0.184,0.1875,0.1909,0.1943,0.1977,0.2011,0.2045,0.2079,0.2113,0.2147,0.218,0.2214,0.2248,0.2281,0.2315,0.2349,0.2382,0.2415,0.2449,0.2482,0.2515,0.2548,0.2582,0.2615,0.2648,0.2681,0.2713,0.2746,0.2779,0.2812,0.2844,0.2877,0.2909,0.2942,0.2974,0.3006,0.3039,0.3071,0.3103,0.3135,0.3167,0.3199,0.3231,0.3262,0.3294,0.3326,0.3357,0.3389,0.342,0.3451,0.3483,0.3514,0.3545,0.3576,0.3607,0.3638,0.3669,0.3699,0.373,0.3761,0.3791,0.3821,0.3852,0.3882,0.3912,0.3942,0.3972],\"y\":[0.0109442,0.0108963,0.0107645,0.0103214,0.00995252,0.00963829,0.00947411,0.00965882,0.00917411,0.00869247,0.00870204,0.00863469,0.00824574,0.00794305,0.00748988,0.00734358,0.00682469,0.00654897,0.00641786,0.00608733,0.00605839,0.00544675,0.00524526,0.00512474,0.00494685,0.00465262,0.00464421,0.00415738,0.00382204,0.00378738,0.00344998,0.00333685,0.00304108,0.00269733,0.00252469,0.00249531,0.00213363,0.0022532,0.00198272,0.00182579,0.0016969,0.00134479,0.00140373,0.0012969,0.00112738,0.00096219,0.0010206,0.000768008,0.00067219,0.000603199,0.000541661,0.000583298,0.000550604,0.000379017,0.000444785,0.000203728,0.000309595,0.00013743,0.000236471,0.000197529,0.000363298,0.000140124,0.00024705,-0.000111992,0.000113298,9.70496e-05,0.000294356,0.000318636,0.000130752,5.0752e-05,0.000260223,6.13305e-05,-0.000241992,5.23388e-05,0.000144934,0.000265611,-5.8719e-05,0.000226041,0.000138636,1.33472e-05,1.02231e-05,-0.000375595,0.000100851,-0.000239826,0.000142868,0.000117149,-0.00017824,0.000129264,5.55123e-05,-7.66528e-05,1.44545e-05,6.57018e-06,5.28677e-05,-0.000186025,2.29172e-05,-1.76117e-05,0.000323975,3.44545e-05,-0.00032295,-0.000444587,-0.000210306,0.000165033,-0.000366504,3.03716e-05,-0.000447132,1.13305e-05,0.000579314,-7.8719e-05,-0.000181942,0.000154455,-0.00094647]}},\"id\":\"929357b1-b382-4824-a450-801f261ad365\",\"type\":\"ColumnDataSource\"},{\"attributes\":{\"fill_color\":{\"value\":\"#1b9e77\"},\"line_color\":{\"value\":\"#1b9e77\"},\"x\":{\"field\":\"x\"},\"y\":{\"field\":\"y\"}},\"id\":\"3f56f90f-549a-4bf0-bf47-a5c278a05a16\",\"type\":\"Circle\"},{\"attributes\":{\"callback\":null,\"column_names\":[\"y\",\"x\"],\"data\":{\"x\":[0.02659,0.03014,0.03368,0.03722,0.04076,0.0443,0.04784,0.05138,0.05491,0.05845,0.06198,0.06551,0.06904,0.07257,0.0761,0.07962,0.08315,0.08667,0.09018,0.0937,0.09721,0.1007,0.1042,0.1077,0.1112,0.1147,0.1182,0.1217,0.1252,0.1287,0.1322,0.1357,0.1392,0.1426,0.1461,0.1496,0.153,0.1565,0.16,0.1634,0.1669,0.1703,0.1737,0.1772,0.1806,0.184,0.1875,0.1909,0.1943,0.1977,0.2011,0.2045,0.2079,0.2113,0.2147,0.218,0.2214,0.2248,0.2281,0.2315,0.2349,0.2382,0.2415,0.2449,0.2482,0.2515,0.2548,0.2582,0.2615,0.2648,0.2681,0.2713,0.2746,0.2779,0.2812,0.2844,0.2877,0.2909,0.2942,0.2974,0.3006,0.3039,0.3071,0.3103,0.3135,0.3167,0.3199,0.3231,0.3262,0.3294,0.3326,0.3357,0.3389,0.342,0.3451,0.3483,0.3514,0.3545,0.3576,0.3607,0.3638,0.3669,0.3699,0.373,0.3761,0.3791,0.3821,0.3852,0.3882,0.3912,0.3942,0.3972],\"y\":[0.010921,0.0109442,0.0108963,0.0107645,0.0103214,0.00995252,0.00963829,0.00947411,0.00965882,0.00917411,0.00869247,0.00870204,0.00863469,0.00824574,0.00794305,0.00748988,0.00734358,0.00682469,0.00654897,0.00641786,0.00608733,0.00605839,0.00544675,0.00524526,0.00512474,0.00494685,0.00465262,0.00464421,0.00415738,0.00382204,0.00378738,0.00344998,0.00333685,0.00304108,0.00269733,0.00252469,0.00249531,0.00213363,0.0022532,0.00198272,0.00182579,0.0016969,0.00134479,0.00140373,0.0012969,0.00112738,0.00096219,0.0010206,0.000768008,0.00067219,0.000603199,0.000541661,0.000583298,0.000550604,0.000379017,0.000444785,0.000203728,0.000309595,0.00013743,0.000236471,0.000197529,0.000363298,0.000140124,0.00024705,-0.000111992,0.000113298,9.70496e-05,0.000294356,0.000318636,0.000130752,5.0752e-05,0.000260223,6.13305e-05,-0.000241992,5.23388e-05,0.000144934,0.000265611,-5.8719e-05,0.000226041,0.000138636,1.33472e-05,1.02231e-05,-0.000375595,0.000100851,-0.000239826,0.000142868,0.000117149,-0.00017824,0.000129264,5.55123e-05,-7.66528e-05,1.44545e-05,6.57018e-06,5.28677e-05,-0.000186025,2.29172e-05,-1.76117e-05,0.000323975,3.44545e-05,-0.00032295,-0.000444587,-0.000210306,0.000165033,-0.000366504,3.03716e-05,-0.000447132,1.13305e-05,0.000579314,-7.8719e-05,-0.000181942,0.000154455,-0.00094647]}},\"id\":\"5c71616b-4a2d-4ac0-a13c-459f13c32075\",\"type\":\"ColumnDataSource\"},{\"attributes\":{\"fill_color\":{\"value\":\"#1b9e77\"},\"line_color\":{\"value\":\"#1b9e77\"},\"x\":{\"field\":\"x\"},\"y\":{\"field\":\"y\"}},\"id\":\"1f481a66-d8b3-468b-8d32-0d11485cf8df\",\"type\":\"Circle\"},{\"attributes\":{\"line_alpha\":{\"value\":0.1},\"line_color\":{\"value\":\"#1f77b4\"},\"xs\":{\"field\":\"xs\"},\"ys\":{\"field\":\"ys\"}},\"id\":\"59adf358-8897-427d-b626-ccddd631a225\",\"type\":\"MultiLine\"},{\"attributes\":{\"fill_alpha\":{\"value\":0.1},\"fill_color\":{\"value\":\"#1f77b4\"},\"line_alpha\":{\"value\":0.1},\"line_color\":{\"value\":\"#1f77b4\"},\"x\":{\"field\":\"x\"},\"y\":{\"field\":\"y\"}},\"id\":\"521b6c9e-e51f-4f30-841f-fa75a5538e3e\",\"type\":\"Circle\"},{\"attributes\":{\"axis_label\":\"q (1/A)\",\"formatter\":{\"id\":\"e3d01a4e-d075-4b42-8345-8ef20866daa3\",\"type\":\"LogTickFormatter\"},\"plot\":{\"id\":\"1e05146f-cd2f-461c-949c-8c1a975d0953\",\"subtype\":\"Figure\",\"type\":\"Plot\"},\"ticker\":{\"id\":\"a4f558a5-bfd8-44f6-a061-f8599235e615\",\"type\":\"LogTicker\"}},\"id\":\"6196f7be-ef02-4890-bf8c-4a5fecb4be10\",\"type\":\"LogAxis\"},{\"attributes\":{\"line_color\":{\"value\":\"#d95f02\"},\"xs\":{\"field\":\"xs\"},\"ys\":{\"field\":\"ys\"}},\"id\":\"79f5e7b5-c7c9-4b85-931b-c1be3b296f18\",\"type\":\"MultiLine\"},{\"attributes\":{\"plot\":{\"id\":\"e8cce062-5769-473b-bbea-8002958787bd\",\"subtype\":\"Figure\",\"type\":\"Plot\"}},\"id\":\"64a5b1ea-5d46-4c1e-b11c-c77ef41c6679\",\"type\":\"SaveTool\"},{\"attributes\":{\"line_color\":{\"value\":\"#d95f02\"},\"xs\":{\"field\":\"xs\"},\"ys\":{\"field\":\"ys\"}},\"id\":\"670fdef4-56a9-4cb2-9a4c-26c1d8b08e54\",\"type\":\"MultiLine\"},{\"attributes\":{\"data_source\":{\"id\":\"10b6111d-b52a-4af2-9ea6-273ccffbeed8\",\"type\":\"ColumnDataSource\"},\"glyph\":{\"id\":\"3fa4ba7b-1b61-4c81-abc6-36ab93aed8b1\",\"type\":\"MultiLine\"},\"hover_glyph\":null,\"nonselection_glyph\":{\"id\":\"01090fb3-9ac1-45ad-81c4-635f6945d7d0\",\"type\":\"MultiLine\"},\"selection_glyph\":null},\"id\":\"df95a74e-4508-49d1-8920-dde111844b94\",\"type\":\"GlyphRenderer\"}],\"root_ids\":[\"94098b77-b7f2-4600-a3ca-ae3ebda9f2ab\"]},\"title\":\"Bokeh Application\",\"version\":\"0.12.3\"}};\n",
       "            var render_items = [{\"docid\":\"10d40d7d-1486-4b66-b57a-71b2225a19f6\",\"elementid\":\"19e35878-f16a-4758-baa2-137809721b06\",\"modelid\":\"94098b77-b7f2-4600-a3ca-ae3ebda9f2ab\"}];\n",
       "            \n",
       "            Bokeh.embed.embed_items(docs_json, render_items);\n",
       "        });\n",
       "      },\n",
       "      function(Bokeh) {\n",
       "      }\n",
       "    ];\n",
       "  \n",
       "    function run_inline_js() {\n",
       "      \n",
       "      if ((window.Bokeh !== undefined) || (force === \"1\")) {\n",
       "        for (var i = 0; i < inline_js.length; i++) {\n",
       "          inline_js[i](window.Bokeh);\n",
       "        }if (force === \"1\") {\n",
       "          display_loaded();\n",
       "        }} else if (Date.now() < window._bokeh_timeout) {\n",
       "        setTimeout(run_inline_js, 100);\n",
       "      } else if (!window._bokeh_failed_load) {\n",
       "        console.log(\"Bokeh: BokehJS failed to load within specified timeout.\");\n",
       "        window._bokeh_failed_load = true;\n",
       "      } else if (!force) {\n",
       "        var cell = $(\"#19e35878-f16a-4758-baa2-137809721b06\").parents('.cell').data().cell;\n",
       "        cell.output_area.append_execute_result(NB_LOAD_WARNING)\n",
       "      }\n",
       "  \n",
       "    }\n",
       "  \n",
       "    if (window._bokeh_is_loading === 0) {\n",
       "      console.log(\"Bokeh: BokehJS loaded, going straight to plotting\");\n",
       "      run_inline_js();\n",
       "    } else {\n",
       "      load_libs(js_urls, function() {\n",
       "        console.log(\"Bokeh: BokehJS plotting callback run at\", now());\n",
       "        run_inline_js();\n",
       "      });\n",
       "    }\n",
       "  }(this));\n",
       "</script>"
      ]
     },
     "metadata": {},
     "output_type": "display_data"
    }
   ],
   "source": [
    "p1 = figure(title='Linear Scale', x_axis_label='q (1/A)', y_axis_label='I(q)',\n",
    "            width=400, height=400)\n",
    "p2 = figure(title='Log Scale', x_axis_label='q (1/A)', y_axis_label='I(q)', \n",
    "            width=400, height=400, x_axis_type='log', y_axis_type='log')\n",
    "\n",
    "errorbar(p1, raw[1:, 0], raw[1:, 1], yerr=raw[1:, 2], color=palette[0])\n",
    "errorbar(p1, new_data[:, 0], new_data[:, 1], yerr=new_data[:, 2], color=palette[1])\n",
    "\n",
    "# p2.circle(raw[:, 0], raw[:, 1], color=palette[0]) #, yerr=raw[:, 2])\n",
    "errorbar(p2, raw[:, 0], raw[:, 1], color=palette[0], yerr=raw[:, 2])\n",
    "errorbar(p2, new_data[1:, 0], new_data[1:, 1], yerr=new_data[1:, 2], color=palette[1])\n",
    "\n",
    "x_range = raw[1, 0], raw[-1, 0]\n",
    "y_range = min(raw[raw[:, 1]>0, 1]) * 0.5, raw[1, 1] * 1.5\n",
    "p1.x_range = Range1d(*x_range)\n",
    "p1.y_range = Range1d(*y_range)\n",
    "p2.x_range = p1.x_range\n",
    "p2.y_range = p1.y_range\n",
    "\n",
    "fig = gridplot([[p1, p2]])\n",
    "show(fig)"
   ]
  },
  {
   "cell_type": "code",
   "execution_count": 43,
   "metadata": {
    "collapsed": false
   },
   "outputs": [
    {
     "data": {
      "text/html": [
       "<div style=\"display: table;\"><div style=\"display: table-row;\"><div style=\"display: table-cell;\"><b title=\"bokeh.models.renderers.GlyphRenderer\">GlyphRenderer</b>(</div><div style=\"display: table-cell;\">id&nbsp;=&nbsp;'86afac34-0a95-4bd7-b811-71117ea296ab', <span id=\"d57996b4-c847-48a1-861f-3240607912da\" style=\"cursor: pointer;\">&hellip;)</span></div></div><div class=\"3d926202-33f7-46a4-b444-d06a8fed4ff2\" style=\"display: none;\"><div style=\"display: table-cell;\"></div><div style=\"display: table-cell;\">data_source&nbsp;=&nbsp;ColumnDataSource(id='89cba01e-5134-4fb8-b0ac-8f893794e47d', ...),</div></div><div class=\"3d926202-33f7-46a4-b444-d06a8fed4ff2\" style=\"display: none;\"><div style=\"display: table-cell;\"></div><div style=\"display: table-cell;\">glyph&nbsp;=&nbsp;Circle(id='03ee2185-8fa7-4aee-8cae-787c05a41027', ...),</div></div><div class=\"3d926202-33f7-46a4-b444-d06a8fed4ff2\" style=\"display: none;\"><div style=\"display: table-cell;\"></div><div style=\"display: table-cell;\">hover_glyph&nbsp;=&nbsp;None,</div></div><div class=\"3d926202-33f7-46a4-b444-d06a8fed4ff2\" style=\"display: none;\"><div style=\"display: table-cell;\"></div><div style=\"display: table-cell;\">level&nbsp;=&nbsp;'glyph',</div></div><div class=\"3d926202-33f7-46a4-b444-d06a8fed4ff2\" style=\"display: none;\"><div style=\"display: table-cell;\"></div><div style=\"display: table-cell;\">name&nbsp;=&nbsp;None,</div></div><div class=\"3d926202-33f7-46a4-b444-d06a8fed4ff2\" style=\"display: none;\"><div style=\"display: table-cell;\"></div><div style=\"display: table-cell;\">nonselection_glyph&nbsp;=&nbsp;Circle(id='cd5640d1-d2bd-4820-a60d-02c20a061456', ...),</div></div><div class=\"3d926202-33f7-46a4-b444-d06a8fed4ff2\" style=\"display: none;\"><div style=\"display: table-cell;\"></div><div style=\"display: table-cell;\">selection_glyph&nbsp;=&nbsp;None,</div></div><div class=\"3d926202-33f7-46a4-b444-d06a8fed4ff2\" style=\"display: none;\"><div style=\"display: table-cell;\"></div><div style=\"display: table-cell;\">tags&nbsp;=&nbsp;[],</div></div><div class=\"3d926202-33f7-46a4-b444-d06a8fed4ff2\" style=\"display: none;\"><div style=\"display: table-cell;\"></div><div style=\"display: table-cell;\">visible&nbsp;=&nbsp;True,</div></div><div class=\"3d926202-33f7-46a4-b444-d06a8fed4ff2\" style=\"display: none;\"><div style=\"display: table-cell;\"></div><div style=\"display: table-cell;\">x_range_name&nbsp;=&nbsp;'default',</div></div><div class=\"3d926202-33f7-46a4-b444-d06a8fed4ff2\" style=\"display: none;\"><div style=\"display: table-cell;\"></div><div style=\"display: table-cell;\">y_range_name&nbsp;=&nbsp;'default')</div></div></div>\n",
       "<script>\n",
       "(function() {\n",
       "  var expanded = false;\n",
       "  var ellipsis = document.getElementById(\"d57996b4-c847-48a1-861f-3240607912da\");\n",
       "  ellipsis.addEventListener(\"click\", function() {\n",
       "    var rows = document.getElementsByClassName(\"3d926202-33f7-46a4-b444-d06a8fed4ff2\");\n",
       "    for (var i = 0; i < rows.length; i++) {\n",
       "      var el = rows[i];\n",
       "      el.style.display = expanded ? \"none\" : \"table-row\";\n",
       "    }\n",
       "    ellipsis.innerHTML = expanded ? \"&hellip;)\" : \"&lsaquo;&lsaquo;&lsaquo;\";\n",
       "    expanded = !expanded;\n",
       "  });\n",
       "})();\n",
       "</script>\n"
      ],
      "text/plain": [
       "GlyphRenderer(id='86afac34-0a95-4bd7-b811-71117ea296ab', ...)"
      ]
     },
     "execution_count": 43,
     "metadata": {},
     "output_type": "execute_result"
    }
   ],
   "source": [
    "# guinier plot\n",
    "p1 = figure(title='Guinier Plot', x_axis_label='q^2 (1/A^2)', y_axis_label='ln[I(q)]')\n",
    "p1.circle(raw[:, 0] ** 2, np.log(raw[:, 1]), color=palette[0])\n",
    "#show(p1)"
   ]
  },
  {
   "cell_type": "markdown",
   "metadata": {},
   "source": [
    "# Fit ellipsoid to experimental data"
   ]
  },
  {
   "cell_type": "code",
   "execution_count": null,
   "metadata": {
    "collapsed": true
   },
   "outputs": [],
   "source": []
  }
 ],
 "metadata": {
  "kernelspec": {
   "display_name": "Python [Root]",
   "language": "python",
   "name": "Python [Root]"
  },
  "language_info": {
   "codemirror_mode": {
    "name": "ipython",
    "version": 2
   },
   "file_extension": ".py",
   "mimetype": "text/x-python",
   "name": "python",
   "nbconvert_exporter": "python",
   "pygments_lexer": "ipython2",
   "version": "2.7.12"
  }
 },
 "nbformat": 4,
 "nbformat_minor": 1
}
