{
 "cells": [
  {
   "cell_type": "markdown",
   "metadata": {},
   "source": [
    "# The [Modified Benedict-Webb-Rubin equation of state](https://en.wikipedia.org/wiki/Benedict–Webb–Rubin_equation) \n",
    "[Johnson, Zllweg, Gubbins, \n",
    "\"The Lennard-Jones equation of state revisited\",\n",
    "Molecular Physics, 1993](Johnson_Lennard-Jones_1993.pdf)\n",
    "\n",
    "implementing the parameters from Table 10"
   ]
  },
  {
   "cell_type": "code",
   "execution_count": 1,
   "metadata": {
    "collapsed": true
   },
   "outputs": [],
   "source": [
    "import numpy as np\n",
    "np.set_printoptions(suppress=True)"
   ]
  },
  {
   "cell_type": "code",
   "execution_count": 2,
   "metadata": {
    "collapsed": false
   },
   "outputs": [
    {
     "name": "stderr",
     "output_type": "stream",
     "text": [
      "/Users/schowell/data/myPrograms/anaconda3/envs/sassie/lib/python2.7/site-packages/matplotlib/__init__.py:878: UserWarning: axes.color_cycle is deprecated and replaced with axes.prop_cycle; please use the latter.\n",
      "  warnings.warn(self.msg_depr % (key, alt_key))\n"
     ]
    },
    {
     "data": {
      "text/html": [
       "\n",
       "    <div class=\"bk-root\">\n",
       "        <a href=\"http://bokeh.pydata.org\" target=\"_blank\" class=\"bk-logo bk-logo-small bk-logo-notebook\"></a>\n",
       "        <span id=\"1abc202c-f297-4c70-90db-8b999c7a1077\">Loading BokehJS ...</span>\n",
       "    </div>"
      ]
     },
     "metadata": {},
     "output_type": "display_data"
    },
    {
     "data": {
      "application/javascript": [
       "\n",
       "(function(global) {\n",
       "  function now() {\n",
       "    return new Date();\n",
       "  }\n",
       "\n",
       "  var force = \"1\";\n",
       "\n",
       "  if (typeof (window._bokeh_onload_callbacks) === \"undefined\" || force !== \"\") {\n",
       "    window._bokeh_onload_callbacks = [];\n",
       "    window._bokeh_is_loading = undefined;\n",
       "  }\n",
       "\n",
       "\n",
       "  \n",
       "  if (typeof (window._bokeh_timeout) === \"undefined\" || force !== \"\") {\n",
       "    window._bokeh_timeout = Date.now() + 5000;\n",
       "    window._bokeh_failed_load = false;\n",
       "  }\n",
       "\n",
       "  var NB_LOAD_WARNING = {'data': {'text/html':\n",
       "     \"<div style='background-color: #fdd'>\\n\"+\n",
       "     \"<p>\\n\"+\n",
       "     \"BokehJS does not appear to have successfully loaded. If loading BokehJS from CDN, this \\n\"+\n",
       "     \"may be due to a slow or bad network connection. Possible fixes:\\n\"+\n",
       "     \"</p>\\n\"+\n",
       "     \"<ul>\\n\"+\n",
       "     \"<li>re-rerun `output_notebook()` to attempt to load from CDN again, or</li>\\n\"+\n",
       "     \"<li>use INLINE resources instead, as so:</li>\\n\"+\n",
       "     \"</ul>\\n\"+\n",
       "     \"<code>\\n\"+\n",
       "     \"from bokeh.resources import INLINE\\n\"+\n",
       "     \"output_notebook(resources=INLINE)\\n\"+\n",
       "     \"</code>\\n\"+\n",
       "     \"</div>\"}};\n",
       "\n",
       "  function display_loaded() {\n",
       "    if (window.Bokeh !== undefined) {\n",
       "      Bokeh.$(\"#1abc202c-f297-4c70-90db-8b999c7a1077\").text(\"BokehJS successfully loaded.\");\n",
       "    } else if (Date.now() < window._bokeh_timeout) {\n",
       "      setTimeout(display_loaded, 100)\n",
       "    }\n",
       "  }\n",
       "\n",
       "  function run_callbacks() {\n",
       "    window._bokeh_onload_callbacks.forEach(function(callback) { callback() });\n",
       "    delete window._bokeh_onload_callbacks\n",
       "    console.info(\"Bokeh: all callbacks have finished\");\n",
       "  }\n",
       "\n",
       "  function load_libs(js_urls, callback) {\n",
       "    window._bokeh_onload_callbacks.push(callback);\n",
       "    if (window._bokeh_is_loading > 0) {\n",
       "      console.log(\"Bokeh: BokehJS is being loaded, scheduling callback at\", now());\n",
       "      return null;\n",
       "    }\n",
       "    if (js_urls == null || js_urls.length === 0) {\n",
       "      run_callbacks();\n",
       "      return null;\n",
       "    }\n",
       "    console.log(\"Bokeh: BokehJS not loaded, scheduling load and callback at\", now());\n",
       "    window._bokeh_is_loading = js_urls.length;\n",
       "    for (var i = 0; i < js_urls.length; i++) {\n",
       "      var url = js_urls[i];\n",
       "      var s = document.createElement('script');\n",
       "      s.src = url;\n",
       "      s.async = false;\n",
       "      s.onreadystatechange = s.onload = function() {\n",
       "        window._bokeh_is_loading--;\n",
       "        if (window._bokeh_is_loading === 0) {\n",
       "          console.log(\"Bokeh: all BokehJS libraries loaded\");\n",
       "          run_callbacks()\n",
       "        }\n",
       "      };\n",
       "      s.onerror = function() {\n",
       "        console.warn(\"failed to load library \" + url);\n",
       "      };\n",
       "      console.log(\"Bokeh: injecting script tag for BokehJS library: \", url);\n",
       "      document.getElementsByTagName(\"head\")[0].appendChild(s);\n",
       "    }\n",
       "  };var element = document.getElementById(\"1abc202c-f297-4c70-90db-8b999c7a1077\");\n",
       "  if (element == null) {\n",
       "    console.log(\"Bokeh: ERROR: autoload.js configured with elementid '1abc202c-f297-4c70-90db-8b999c7a1077' but no matching script tag was found. \")\n",
       "    return false;\n",
       "  }\n",
       "\n",
       "  var js_urls = ['https://cdn.pydata.org/bokeh/release/bokeh-0.12.2.min.js', 'https://cdn.pydata.org/bokeh/release/bokeh-widgets-0.12.2.min.js', 'https://cdn.pydata.org/bokeh/release/bokeh-compiler-0.12.2.min.js'];\n",
       "\n",
       "  var inline_js = [\n",
       "    function(Bokeh) {\n",
       "      Bokeh.set_log_level(\"info\");\n",
       "    },\n",
       "    \n",
       "    function(Bokeh) {\n",
       "      \n",
       "      Bokeh.$(\"#1abc202c-f297-4c70-90db-8b999c7a1077\").text(\"BokehJS is loading...\");\n",
       "    },\n",
       "    function(Bokeh) {\n",
       "      console.log(\"Bokeh: injecting CSS: https://cdn.pydata.org/bokeh/release/bokeh-0.12.2.min.css\");\n",
       "      Bokeh.embed.inject_css(\"https://cdn.pydata.org/bokeh/release/bokeh-0.12.2.min.css\");\n",
       "      console.log(\"Bokeh: injecting CSS: https://cdn.pydata.org/bokeh/release/bokeh-widgets-0.12.2.min.css\");\n",
       "      Bokeh.embed.inject_css(\"https://cdn.pydata.org/bokeh/release/bokeh-widgets-0.12.2.min.css\");\n",
       "    }\n",
       "  ];\n",
       "\n",
       "  function run_inline_js() {\n",
       "    \n",
       "    if ((window.Bokeh !== undefined) || (force === \"1\")) {\n",
       "      for (var i = 0; i < inline_js.length; i++) {\n",
       "        inline_js[i](window.Bokeh);\n",
       "      }if (force === \"1\") {\n",
       "        display_loaded();\n",
       "      }} else if (Date.now() < window._bokeh_timeout) {\n",
       "      setTimeout(run_inline_js, 100);\n",
       "    } else if (!window._bokeh_failed_load) {\n",
       "      console.log(\"Bokeh: BokehJS failed to load within specified timeout.\");\n",
       "      window._bokeh_failed_load = true;\n",
       "    } else if (!force) {\n",
       "      var cell = $(\"#1abc202c-f297-4c70-90db-8b999c7a1077\").parents('.cell').data().cell;\n",
       "      cell.output_area.append_execute_result(NB_LOAD_WARNING)\n",
       "    }\n",
       "\n",
       "  }\n",
       "\n",
       "  if (window._bokeh_is_loading === 0) {\n",
       "    console.log(\"Bokeh: BokehJS loaded, going straight to plotting\");\n",
       "    run_inline_js();\n",
       "  } else {\n",
       "    load_libs(js_urls, function() {\n",
       "      console.log(\"Bokeh: BokehJS plotting callback run at\", now());\n",
       "      run_inline_js();\n",
       "    });\n",
       "  }\n",
       "}(this));"
      ]
     },
     "metadata": {},
     "output_type": "display_data"
    }
   ],
   "source": [
    "from bokeh.plotting import figure, output_notebook, show\n",
    "output_notebook()"
   ]
  },
  {
   "cell_type": "markdown",
   "metadata": {},
   "source": [
    "**Reduced Units:**\n",
    "  - residual Helmholtz free energy: $A^*_r = A_r/N\\epsilon$\n",
    "  - pressure: $P^* = P\\sigma^3/\\epsilon$\n",
    "  - temperature: \n",
    "  \n",
    "| Quantity    | Reduced Units      | ------- Real Units --------      |\n",
    "|-------------|--------------------|----------------------------------|\n",
    "| temperature | $T^*=1$            | $T=119.8$ K                      |\n",
    "| density     | $\\rho^*=1.0$       | $\\rho=1680$ kg/m$^3$             |\n",
    "| time        | $\\Delta t^*=0.005$ | $\\Delta t=1.09\\times 10^{-14}$ s |\n",
    "| pressure    | $P^*=1$            | $P=41.9$ MPa                     |"
   ]
  },
  {
   "cell_type": "markdown",
   "metadata": {},
   "source": [
    "$T^*=2.0$, to match Frenkel & Smit, figure 6.2"
   ]
  },
  {
   "cell_type": "code",
   "execution_count": 3,
   "metadata": {
    "collapsed": true
   },
   "outputs": [],
   "source": [
    "T = 2.0"
   ]
  },
  {
   "cell_type": "markdown",
   "metadata": {},
   "source": [
    "Modified Benedict-Webb-Rubin (MBWR) equation of state, Johnson et al. 1993, eq. (7):\n",
    "$$ P^* = \\rho^* T^* + \\sum_{i=1}^8 a_i \\rho^{*(i+1)} + \\exp\\left(-\\gamma\\rho^{*2}\\right)\\sum_{i=1}^{6}b_i \\rho^{*(2i+1)} $$"
   ]
  },
  {
   "cell_type": "markdown",
   "metadata": {},
   "source": [
    "1 nonlinear parameter:\n",
    "  - $\\gamma = 3$"
   ]
  },
  {
   "cell_type": "code",
   "execution_count": 4,
   "metadata": {
    "collapsed": true
   },
   "outputs": [],
   "source": [
    "gamma = 3"
   ]
  },
  {
   "cell_type": "code",
   "execution_count": 5,
   "metadata": {
    "collapsed": false
   },
   "outputs": [],
   "source": [
    "parameters = np.loadtxt('mbwr_eos.dat')\n",
    "x = np.empty(len(parameters)+1) \n",
    "x[1:] = parameters[:, 1] # use 1 indexing for clarity\n",
    "# print x"
   ]
  },
  {
   "cell_type": "markdown",
   "metadata": {},
   "source": [
    "First 19 parameters, $a_1, \\dots, a_8$:\n",
    "  - $a_1 = x_1 T^* + x_2 \\sqrt{T} + x_3 + x_4/T^* + x_5/T^{*2}$\n",
    "  - $a_2 = x_6 T^* + x_7 + x_8/T^* + x_9/T^{*2}$\n",
    "  - $a_3 = x_{10} T^* + x_{11} + x_{12}/T^*$\n",
    "  - $a_4 = x_{13}$\n",
    "  - $a_5 = x_{14}/T^* + x_{15}/T^{*2}$\n",
    "  - $a_6 = x_{16}/T^*$\n",
    "  - $a_7 = x_{17}/T^* + x_{18}/T^{*2}$\n",
    "  - $a_8 = x_{19}/T^{*2}$"
   ]
  },
  {
   "cell_type": "code",
   "execution_count": 6,
   "metadata": {
    "collapsed": false
   },
   "outputs": [],
   "source": [
    "a1 = x[1]*T + x[2]*np.sqrt(T) + x[3] + x[4]/T + x[5]/T**2\n",
    "a2 = x[6]*T + x[7] + x[8]/T + x[9]/T**2\n",
    "a3 = x[10]*T + x[11] + x[12]/T\n",
    "a4 = x[13]\n",
    "a5 = x[14]/T + x[15]/T**2\n",
    "a6 = x[16]/T\n",
    "a7 = x[17]/T + x[18]/T**2\n",
    "a8 = x[19]/T**2\n",
    "a = np.empty(8)\n",
    "a[:] = [a1, a2, a3, a4, a5, a6, a7, a8]"
   ]
  },
  {
   "cell_type": "markdown",
   "metadata": {},
   "source": [
    "Last 13 parameters, $b_1, \\dots, b_6$:\n",
    "  - $b_1 = x_{20}/T^{*2} + x_{21}/T^{*3}$\n",
    "  - $b_2 = x_{22}/T^{*2} + x_{23}/T^{*4}$\n",
    "  - $b_3 = x_{24}/T^{*2} + x_{25}/T^{*3}$\n",
    "  - $b_4 = x_{26}/T^{*2} + x_{27}/T^{*4}$\n",
    "  - $b_5 = x_{28}/T^{*2} + x_{29}/T^{*3}$\n",
    "  - $b_6 = x_{30}/T^{*2} + x_{31}/T^{*3} + x_{32}/T^{*4}$"
   ]
  },
  {
   "cell_type": "code",
   "execution_count": 7,
   "metadata": {
    "collapsed": false
   },
   "outputs": [],
   "source": [
    "b1 = x[20]/T**2 + x[21]/T**3\n",
    "b2 = x[22]/T**2 + x[23]/T**4\n",
    "b3 = x[24]/T**2 + x[25]/T**3\n",
    "b4 = x[26]/T**2 + x[27]/T**4\n",
    "b5 = x[28]/T**2 + x[29]/T**3\n",
    "b6 = x[30]/T**2 + x[31]/T**3 + x[32]/T**4\n",
    "b = np.empty(6)\n",
    "b[:] = [b1, b2, b3, b4, b5, b6]"
   ]
  },
  {
   "cell_type": "markdown",
   "metadata": {},
   "source": [
    "Modified Benedict-Webb-Rubin (MBWR) equation of state, Johnson et al. 1993, eq. (7):\n",
    "$$ P^* = \\rho^* T^* + \\sum_{i=1}^8 a_i \\rho^{*(i+1)} + \\exp\\left(-\\gamma\\rho^{*2}\\right)\\sum_{i=1}^{6}b_i \\rho^{*(2i+1)} $$"
   ]
  },
  {
   "cell_type": "code",
   "execution_count": 8,
   "metadata": {
    "collapsed": false
   },
   "outputs": [],
   "source": [
    "density = np.linspace(0.1, 0.9)\n",
    "f = np.exp(-gamma * density**2)"
   ]
  },
  {
   "cell_type": "code",
   "execution_count": 9,
   "metadata": {
    "collapsed": true
   },
   "outputs": [],
   "source": [
    "pressure200 = (\n",
    "    density * T + \n",
    "    a1 * density**2 + \n",
    "    a2 * density**3 +\n",
    "    a3 * density**4 + \n",
    "    a4 * density**5 +\n",
    "    a5 * density**6 +\n",
    "    a6 * density**7 +\n",
    "    a7 * density**8 +\n",
    "    a8 * density**9 +\n",
    "    f * b1 * density**3 +\n",
    "    f * b2 * density**5 +\n",
    "    f * b3 * density**7 +\n",
    "    f * b4 * density**9 +\n",
    "    f * b5 * density**11 +\n",
    "    f * b6 * density**13    \n",
    ")"
   ]
  },
  {
   "cell_type": "markdown",
   "metadata": {},
   "source": [
    "Validating implentation against Frenkel Smit, Figure 6.2"
   ]
  },
  {
   "cell_type": "code",
   "execution_count": 10,
   "metadata": {
    "collapsed": true
   },
   "outputs": [],
   "source": [
    "np.loadtxt?"
   ]
  },
  {
   "cell_type": "code",
   "execution_count": 11,
   "metadata": {
    "collapsed": false
   },
   "outputs": [],
   "source": [
    "eos = np.loadtxt('fs_eos_t2.csv', delimiter=',')\n",
    "mc = np.loadtxt('fs_mc_t2.csv', delimiter=',')\n",
    "md = np.loadtxt('fs_md_t2.csv', delimiter=',')"
   ]
  },
  {
   "cell_type": "code",
   "execution_count": 25,
   "metadata": {
    "collapsed": false
   },
   "outputs": [
    {
     "data": {
      "text/html": [
       "\n",
       "\n",
       "    <div class=\"bk-root\">\n",
       "        <div class=\"plotdiv\" id=\"e4598801-167f-43ef-aba0-27b8fb0d4905\"></div>\n",
       "    </div>\n",
       "<script type=\"text/javascript\">\n",
       "  \n",
       "  (function(global) {\n",
       "    function now() {\n",
       "      return new Date();\n",
       "    }\n",
       "  \n",
       "    var force = \"\";\n",
       "  \n",
       "    if (typeof (window._bokeh_onload_callbacks) === \"undefined\" || force !== \"\") {\n",
       "      window._bokeh_onload_callbacks = [];\n",
       "      window._bokeh_is_loading = undefined;\n",
       "    }\n",
       "  \n",
       "  \n",
       "    \n",
       "    if (typeof (window._bokeh_timeout) === \"undefined\" || force !== \"\") {\n",
       "      window._bokeh_timeout = Date.now() + 0;\n",
       "      window._bokeh_failed_load = false;\n",
       "    }\n",
       "  \n",
       "    var NB_LOAD_WARNING = {'data': {'text/html':\n",
       "       \"<div style='background-color: #fdd'>\\n\"+\n",
       "       \"<p>\\n\"+\n",
       "       \"BokehJS does not appear to have successfully loaded. If loading BokehJS from CDN, this \\n\"+\n",
       "       \"may be due to a slow or bad network connection. Possible fixes:\\n\"+\n",
       "       \"</p>\\n\"+\n",
       "       \"<ul>\\n\"+\n",
       "       \"<li>re-rerun `output_notebook()` to attempt to load from CDN again, or</li>\\n\"+\n",
       "       \"<li>use INLINE resources instead, as so:</li>\\n\"+\n",
       "       \"</ul>\\n\"+\n",
       "       \"<code>\\n\"+\n",
       "       \"from bokeh.resources import INLINE\\n\"+\n",
       "       \"output_notebook(resources=INLINE)\\n\"+\n",
       "       \"</code>\\n\"+\n",
       "       \"</div>\"}};\n",
       "  \n",
       "    function display_loaded() {\n",
       "      if (window.Bokeh !== undefined) {\n",
       "        Bokeh.$(\"#e4598801-167f-43ef-aba0-27b8fb0d4905\").text(\"BokehJS successfully loaded.\");\n",
       "      } else if (Date.now() < window._bokeh_timeout) {\n",
       "        setTimeout(display_loaded, 100)\n",
       "      }\n",
       "    }\n",
       "  \n",
       "    function run_callbacks() {\n",
       "      window._bokeh_onload_callbacks.forEach(function(callback) { callback() });\n",
       "      delete window._bokeh_onload_callbacks\n",
       "      console.info(\"Bokeh: all callbacks have finished\");\n",
       "    }\n",
       "  \n",
       "    function load_libs(js_urls, callback) {\n",
       "      window._bokeh_onload_callbacks.push(callback);\n",
       "      if (window._bokeh_is_loading > 0) {\n",
       "        console.log(\"Bokeh: BokehJS is being loaded, scheduling callback at\", now());\n",
       "        return null;\n",
       "      }\n",
       "      if (js_urls == null || js_urls.length === 0) {\n",
       "        run_callbacks();\n",
       "        return null;\n",
       "      }\n",
       "      console.log(\"Bokeh: BokehJS not loaded, scheduling load and callback at\", now());\n",
       "      window._bokeh_is_loading = js_urls.length;\n",
       "      for (var i = 0; i < js_urls.length; i++) {\n",
       "        var url = js_urls[i];\n",
       "        var s = document.createElement('script');\n",
       "        s.src = url;\n",
       "        s.async = false;\n",
       "        s.onreadystatechange = s.onload = function() {\n",
       "          window._bokeh_is_loading--;\n",
       "          if (window._bokeh_is_loading === 0) {\n",
       "            console.log(\"Bokeh: all BokehJS libraries loaded\");\n",
       "            run_callbacks()\n",
       "          }\n",
       "        };\n",
       "        s.onerror = function() {\n",
       "          console.warn(\"failed to load library \" + url);\n",
       "        };\n",
       "        console.log(\"Bokeh: injecting script tag for BokehJS library: \", url);\n",
       "        document.getElementsByTagName(\"head\")[0].appendChild(s);\n",
       "      }\n",
       "    };var element = document.getElementById(\"e4598801-167f-43ef-aba0-27b8fb0d4905\");\n",
       "    if (element == null) {\n",
       "      console.log(\"Bokeh: ERROR: autoload.js configured with elementid 'e4598801-167f-43ef-aba0-27b8fb0d4905' but no matching script tag was found. \")\n",
       "      return false;\n",
       "    }\n",
       "  \n",
       "    var js_urls = [];\n",
       "  \n",
       "    var inline_js = [\n",
       "      function(Bokeh) {\n",
       "        Bokeh.$(function() {\n",
       "            var docs_json = {\"c9375bfe-6175-4d09-b4aa-c22a31177f7f\":{\"roots\":{\"references\":[{\"attributes\":{\"active_drag\":\"auto\",\"active_scroll\":\"auto\",\"active_tap\":\"auto\",\"tools\":[{\"id\":\"7c62879a-3b72-4fbf-b5d3-c56acad0da26\",\"type\":\"PanTool\"},{\"id\":\"2322063c-02cd-447e-bf2c-53c366294fad\",\"type\":\"WheelZoomTool\"},{\"id\":\"f2772fbc-5df0-4aeb-816f-11ce9451fbe4\",\"type\":\"BoxZoomTool\"},{\"id\":\"1489e8f1-52f5-4b18-a367-8e26f3fa4623\",\"type\":\"SaveTool\"},{\"id\":\"327a8a77-9b12-4af9-9786-2f696f237e8c\",\"type\":\"ResetTool\"},{\"id\":\"8490422f-e559-4975-b11a-2c31d04b9983\",\"type\":\"HelpTool\"}]},\"id\":\"3efd9718-a008-4c39-beeb-68f30ebd5dcb\",\"type\":\"Toolbar\"},{\"attributes\":{\"bottom_units\":\"screen\",\"fill_alpha\":{\"value\":0.5},\"fill_color\":{\"value\":\"lightgrey\"},\"left_units\":\"screen\",\"level\":\"overlay\",\"line_alpha\":{\"value\":1.0},\"line_color\":{\"value\":\"black\"},\"line_dash\":[4,4],\"line_width\":{\"value\":2},\"plot\":null,\"render_mode\":\"css\",\"right_units\":\"screen\",\"top_units\":\"screen\"},\"id\":\"2b24a612-265f-4815-8ca7-c47966c83f7d\",\"type\":\"BoxAnnotation\"},{\"attributes\":{\"dimension\":1,\"plot\":{\"id\":\"070ed96c-8973-4613-9913-f1728a473748\",\"subtype\":\"Figure\",\"type\":\"Plot\"},\"ticker\":{\"id\":\"473ce463-9b6f-4391-a124-39f6670caf3e\",\"type\":\"BasicTicker\"}},\"id\":\"e6d0db55-2103-44dc-8edd-0d0d5c18a6b3\",\"type\":\"Grid\"},{\"attributes\":{\"line_alpha\":{\"value\":0.1},\"line_color\":{\"value\":\"#1f77b4\"},\"line_dash\":[2,2],\"line_width\":{\"value\":2},\"x\":{\"field\":\"x\"},\"y\":{\"field\":\"y\"}},\"id\":\"2c9b5692-a7f5-4812-b29e-9e3936aa03d6\",\"type\":\"Line\"},{\"attributes\":{\"plot\":{\"id\":\"070ed96c-8973-4613-9913-f1728a473748\",\"subtype\":\"Figure\",\"type\":\"Plot\"}},\"id\":\"8490422f-e559-4975-b11a-2c31d04b9983\",\"type\":\"HelpTool\"},{\"attributes\":{\"callback\":null,\"column_names\":[\"y\",\"x\"],\"data\":{\"x\":[0.09996760865496745,0.19916694259293916,0.29990642500323916,0.3998665956456434,0.499796534366017,0.6004318846004345,0.699426313289089,0.7997576647519782,0.8998018129555785],\"y\":[0.16784475188229742,0.3313082744290696,0.48599974086924114,0.6931124003666191,1.057431054422258,1.753609835451968,2.98258065444913,5.259553047425728,9.029982388705738]}},\"id\":\"65604b03-177d-46a6-9fe7-a96655b5890b\",\"type\":\"ColumnDataSource\"},{\"attributes\":{\"fill_alpha\":{\"value\":0.1},\"fill_color\":{\"value\":\"#1f77b4\"},\"line_alpha\":{\"value\":0.1},\"line_color\":{\"value\":\"#1f77b4\"},\"line_width\":{\"value\":2},\"size\":{\"units\":\"screen\",\"value\":12},\"x\":{\"field\":\"x\"},\"y\":{\"field\":\"y\"}},\"id\":\"7458babe-df51-432b-8d2d-27808095fb92\",\"type\":\"Circle\"},{\"attributes\":{\"callback\":null,\"column_names\":[\"y\",\"x\"],\"data\":{\"x\":[0.10999999999999999,0.12000000000000005,0.13,0.14,0.15000000000000002,0.16000000000000003,0.17000000000000004,0.18000000000000005,0.19000000000000006,0.20000000000000012,0.21000000000000002,0.22000000000000008,0.23000000000000004,0.24000000000000016,0.2500000000000001,0.2600000000000002,0.2700000000000001,0.2800000000000002,0.2900000000000002,0.3000000000000002,0.3100000000000001,0.3200000000000001,0.3300000000000001,0.34000000000000014,0.35000000000000014,0.36000000000000015,0.37000000000000016,0.38000000000000017,0.3900000000000002,0.4000000000000002,0.4100000000000002,0.4200000000000002,0.4300000000000002,0.44000000000000034,0.45000000000000023,0.46000000000000024,0.47000000000000036,0.48000000000000037,0.49000000000000027,0.5000000000000002,0.5100000000000002,0.5200000000000002,0.5300000000000002,0.5400000000000003,0.5500000000000003,0.5600000000000005,0.5700000000000003,0.5800000000000003,0.5900000000000005,0.6000000000000005,0.6100000000000003,0.6200000000000006,0.6300000000000006,0.6400000000000006,0.6500000000000004,0.6600000000000004,0.6700000000000004,0.6800000000000004,0.6900000000000004,0.7000000000000006,0.7100000000000004,0.7200000000000006,0.7300000000000004,0.7400000000000004,0.7500000000000007,0.7600000000000007,0.7700000000000005,0.7800000000000005,0.7900000000000005,0.8000000000000007,0.8100000000000005,0.8200000000000005,0.8300000000000005,0.8400000000000005,0.8500000000000005,0.8600000000000005,0.8700000000000006,0.8800000000000006,0.8900000000000006,0.9000000000000006],\"y\":[0.19365729225231476,0.21583826672407014,0.21758116175057474,0.23714933394134619,0.2599509689096653,0.28208925807308916,0.294139536279328,0.31138324500344616,0.3236192061965433,0.3359821068351341,0.348499299836055,0.36177850251038635,0.37751110083397243,0.3924898207408454,0.411172816358528,0.42974224317502063,0.444605258028302,0.45806545522733266,0.4756292223003129,0.4906600706299624,0.5054998319418402,0.5278881295401767,0.5492668649866328,0.5751194653470204,0.6010810333243484,0.6266396160206966,0.6476737442761067,0.6569838878978231,0.6812979730864548,0.7126160414220433,0.7434520328207572,0.7773910996289484,0.7998419072472789,0.8354889628924269,0.8739219014558497,0.9114671213429357,0.9444036935411386,0.9873674330022713,1.0410734797817387,1.1039639560629482,1.1655874666755999,1.208380703346947,1.244845284639176,1.3097787649906891,1.3919766610316753,1.4670887882945447,1.5132384393708485,1.586214545351302,1.674978762188987,1.7916605827564975,1.9016710325084674,1.9728645750591198,2.0856306415369676,2.183591595227634,2.349411591123136,2.500009077977875,2.5976579836563296,2.7588648251020613,2.8696132147227376,3.083006466859172,3.276814564383737,3.4219945858931613,3.620090766919171,3.7947762300774572,4.084919862489677,4.3865468546179045,4.527865423193575,4.793043330767862,5.019761209449574,5.336208161824547,5.6596000537536595,5.95612387804848,6.279602456481135,6.606809047228475,7.04495476350249,7.379390269791271,7.815579032319844,8.22092242227897,8.63551007412561,9.1633125514726]}},\"id\":\"9b53ab44-aa80-41cb-83bd-925948e65aa6\",\"type\":\"ColumnDataSource\"},{\"attributes\":{\"axis_label\":\"Pressure\",\"formatter\":{\"id\":\"78913efc-baeb-43c9-960f-43fc3ff84bfb\",\"type\":\"BasicTickFormatter\"},\"plot\":{\"id\":\"070ed96c-8973-4613-9913-f1728a473748\",\"subtype\":\"Figure\",\"type\":\"Plot\"},\"ticker\":{\"id\":\"473ce463-9b6f-4391-a124-39f6670caf3e\",\"type\":\"BasicTicker\"}},\"id\":\"322d3aa0-081e-441e-afac-52942b598d93\",\"type\":\"LinearAxis\"},{\"attributes\":{\"line_color\":{\"value\":\"#1f77b4\"},\"line_width\":{\"value\":2},\"x\":{\"field\":\"x\"},\"y\":{\"field\":\"y\"}},\"id\":\"7c43bf67-474b-45e3-a2c0-6b9a85a7b7fe\",\"type\":\"Line\"},{\"attributes\":{\"plot\":{\"id\":\"070ed96c-8973-4613-9913-f1728a473748\",\"subtype\":\"Figure\",\"type\":\"Plot\"},\"ticker\":{\"id\":\"9485911e-4a89-4fef-9c35-ab140e0f4324\",\"type\":\"BasicTicker\"}},\"id\":\"b7af83de-99a3-4d4e-9524-1cb7dd83682f\",\"type\":\"Grid\"},{\"attributes\":{},\"id\":\"78913efc-baeb-43c9-960f-43fc3ff84bfb\",\"type\":\"BasicTickFormatter\"},{\"attributes\":{\"plot\":{\"id\":\"070ed96c-8973-4613-9913-f1728a473748\",\"subtype\":\"Figure\",\"type\":\"Plot\"}},\"id\":\"1489e8f1-52f5-4b18-a367-8e26f3fa4623\",\"type\":\"SaveTool\"},{\"attributes\":{\"overlay\":{\"id\":\"2b24a612-265f-4815-8ca7-c47966c83f7d\",\"type\":\"BoxAnnotation\"},\"plot\":{\"id\":\"070ed96c-8973-4613-9913-f1728a473748\",\"subtype\":\"Figure\",\"type\":\"Plot\"}},\"id\":\"f2772fbc-5df0-4aeb-816f-11ce9451fbe4\",\"type\":\"BoxZoomTool\"},{\"attributes\":{\"plot\":{\"id\":\"070ed96c-8973-4613-9913-f1728a473748\",\"subtype\":\"Figure\",\"type\":\"Plot\"}},\"id\":\"7c62879a-3b72-4fbf-b5d3-c56acad0da26\",\"type\":\"PanTool\"},{\"attributes\":{\"data_source\":{\"id\":\"86dc5b09-6daf-424b-b0fc-5b79b3dbbf1b\",\"type\":\"ColumnDataSource\"},\"glyph\":{\"id\":\"dac4a439-760b-484f-98b7-0cbe95973136\",\"type\":\"Circle\"},\"hover_glyph\":null,\"nonselection_glyph\":{\"id\":\"7458babe-df51-432b-8d2d-27808095fb92\",\"type\":\"Circle\"},\"selection_glyph\":null},\"id\":\"b623bc45-8945-4b0c-b407-ffbe714d75cb\",\"type\":\"GlyphRenderer\"},{\"attributes\":{},\"id\":\"9485911e-4a89-4fef-9c35-ab140e0f4324\",\"type\":\"BasicTicker\"},{\"attributes\":{\"data_source\":{\"id\":\"709a2987-f7ba-46d3-9340-d76f4223745f\",\"type\":\"ColumnDataSource\"},\"glyph\":{\"id\":\"7c43bf67-474b-45e3-a2c0-6b9a85a7b7fe\",\"type\":\"Line\"},\"hover_glyph\":null,\"nonselection_glyph\":{\"id\":\"64d37f77-4b8e-4b29-8403-ffaaddf7719d\",\"type\":\"Line\"},\"selection_glyph\":null},\"id\":\"07ebb46d-5b5d-4b29-b37b-f6a962a97b1e\",\"type\":\"GlyphRenderer\"},{\"attributes\":{\"line_alpha\":{\"value\":0.1},\"line_color\":{\"value\":\"#1f77b4\"},\"line_width\":{\"value\":2},\"x\":{\"field\":\"x\"},\"y\":{\"field\":\"y\"}},\"id\":\"64d37f77-4b8e-4b29-8403-ffaaddf7719d\",\"type\":\"Line\"},{\"attributes\":{\"plot\":null,\"text\":null},\"id\":\"d6757020-14ef-4aa8-a5ac-9285cfb7d04a\",\"type\":\"Title\"},{\"attributes\":{\"fill_alpha\":{\"value\":0},\"fill_color\":{\"value\":\"#1f77b4\"},\"line_color\":{\"value\":\"orange\"},\"line_width\":{\"value\":2},\"size\":{\"units\":\"screen\",\"value\":12},\"x\":{\"field\":\"x\"},\"y\":{\"field\":\"y\"}},\"id\":\"dac4a439-760b-484f-98b7-0cbe95973136\",\"type\":\"Circle\"},{\"attributes\":{\"data_source\":{\"id\":\"9b53ab44-aa80-41cb-83bd-925948e65aa6\",\"type\":\"ColumnDataSource\"},\"glyph\":{\"id\":\"89459bf7-05ba-48e3-8f5e-749464b9ced4\",\"type\":\"Line\"},\"hover_glyph\":null,\"nonselection_glyph\":{\"id\":\"2c9b5692-a7f5-4812-b29e-9e3936aa03d6\",\"type\":\"Line\"},\"selection_glyph\":null},\"id\":\"2696aabf-052c-4469-a6be-970edf28cbb7\",\"type\":\"GlyphRenderer\"},{\"attributes\":{\"fill_alpha\":{\"value\":0},\"fill_color\":{\"value\":\"#1f77b4\"},\"line_color\":{\"value\":\"yellow\"},\"line_width\":{\"value\":2},\"size\":{\"units\":\"screen\",\"value\":12},\"x\":{\"field\":\"x\"},\"y\":{\"field\":\"y\"}},\"id\":\"b7e4620e-2e7e-4ef8-abb7-b5510495c1be\",\"type\":\"Square\"},{\"attributes\":{\"axis_label\":\"Density\",\"formatter\":{\"id\":\"8a629600-a7c3-40bc-9410-b03fde56bf54\",\"type\":\"BasicTickFormatter\"},\"plot\":{\"id\":\"070ed96c-8973-4613-9913-f1728a473748\",\"subtype\":\"Figure\",\"type\":\"Plot\"},\"ticker\":{\"id\":\"9485911e-4a89-4fef-9c35-ab140e0f4324\",\"type\":\"BasicTicker\"}},\"id\":\"fccbc193-b82b-4bbc-8394-65212b5628e1\",\"type\":\"LinearAxis\"},{\"attributes\":{\"legends\":[[\"eos Johnson\",[{\"id\":\"07ebb46d-5b5d-4b29-b37b-f6a962a97b1e\",\"type\":\"GlyphRenderer\"}]],[\"eos F&S\",[{\"id\":\"2696aabf-052c-4469-a6be-970edf28cbb7\",\"type\":\"GlyphRenderer\"}]],[\"MC F&S\",[{\"id\":\"b623bc45-8945-4b0c-b407-ffbe714d75cb\",\"type\":\"GlyphRenderer\"}]],[\"MD F&S\",[{\"id\":\"5aa7c7d1-dacb-48fd-8be4-fad22fd0f24f\",\"type\":\"GlyphRenderer\"}]]],\"location\":\"top_left\",\"plot\":{\"id\":\"070ed96c-8973-4613-9913-f1728a473748\",\"subtype\":\"Figure\",\"type\":\"Plot\"}},\"id\":\"15d4dc0b-96b3-4b1b-9f5a-eb6a26e960e8\",\"type\":\"Legend\"},{\"attributes\":{\"fill_alpha\":{\"value\":0.1},\"fill_color\":{\"value\":\"#1f77b4\"},\"line_alpha\":{\"value\":0.1},\"line_color\":{\"value\":\"#1f77b4\"},\"line_width\":{\"value\":2},\"size\":{\"units\":\"screen\",\"value\":12},\"x\":{\"field\":\"x\"},\"y\":{\"field\":\"y\"}},\"id\":\"2e7e81cb-98af-4654-81b7-1bf7fc73958e\",\"type\":\"Square\"},{\"attributes\":{},\"id\":\"473ce463-9b6f-4391-a124-39f6670caf3e\",\"type\":\"BasicTicker\"},{\"attributes\":{\"plot\":{\"id\":\"070ed96c-8973-4613-9913-f1728a473748\",\"subtype\":\"Figure\",\"type\":\"Plot\"}},\"id\":\"2322063c-02cd-447e-bf2c-53c366294fad\",\"type\":\"WheelZoomTool\"},{\"attributes\":{\"callback\":null,\"column_names\":[\"y\",\"x\"],\"data\":{\"x\":[0.1,0.1163265306122449,0.1326530612244898,0.1489795918367347,0.1653061224489796,0.1816326530612245,0.1979591836734694,0.2142857142857143,0.2306122448979592,0.2469387755102041,0.263265306122449,0.2795918367346939,0.29591836734693877,0.3122448979591837,0.3285714285714286,0.3448979591836735,0.36122448979591837,0.37755102040816324,0.3938775510204082,0.4102040816326531,0.42653061224489797,0.44285714285714284,0.4591836734693878,0.4755102040816327,0.49183673469387756,0.5081632653061224,0.5244897959183674,0.5408163265306123,0.5571428571428572,0.573469387755102,0.589795918367347,0.6061224489795919,0.6224489795918368,0.6387755102040816,0.6551020408163265,0.6714285714285715,0.6877551020408164,0.7040816326530612,0.7204081632653062,0.7367346938775511,0.753061224489796,0.7693877551020408,0.7857142857142857,0.8020408163265307,0.8183673469387756,0.8346938775510204,0.8510204081632654,0.8673469387755103,0.8836734693877552,0.9],\"y\":[0.17842231972194172,0.20438518697354804,0.22976067643392048,0.25467420694660337,0.27926026392842646,0.30366289235107036,0.328036066424595,0.3525441207621962,0.37736240254163894,0.4026782782960374,0.4286926023543927,0.45562172639760373,0.48370010086799387,0.5131834889237225,0.5443527823047842,0.5775183762030777,0.6130250276965256,0.6512570906175019,0.6926439903927124,0.737665777297683,0.7868585778665328,0.8408197541660773,0.9002125814925311,0.9657702687003281,1.038299173218524,1.1186811054652943,1.2078746744712305,1.3069156965274435,1.416916768777321,1.5390661957537124,1.6746265435585101,1.824933177256637,1.9913932048420866,2.175485298148272,2.37876087959237,2.602847146491812,2.849452345718813,3.1203736061351064,3.4175074821676388,3.7428631592069954,4.098578023330402,4.4869350104360155,4.910380832661864,5.371543845575569,5.873249983429283,6.418534869560558,7.010649924272938,7.653060063621876,8.349430429967686,9.103599538380124]}},\"id\":\"709a2987-f7ba-46d3-9340-d76f4223745f\",\"type\":\"ColumnDataSource\"},{\"attributes\":{\"data_source\":{\"id\":\"65604b03-177d-46a6-9fe7-a96655b5890b\",\"type\":\"ColumnDataSource\"},\"glyph\":{\"id\":\"b7e4620e-2e7e-4ef8-abb7-b5510495c1be\",\"type\":\"Square\"},\"hover_glyph\":null,\"nonselection_glyph\":{\"id\":\"2e7e81cb-98af-4654-81b7-1bf7fc73958e\",\"type\":\"Square\"},\"selection_glyph\":null},\"id\":\"5aa7c7d1-dacb-48fd-8be4-fad22fd0f24f\",\"type\":\"GlyphRenderer\"},{\"attributes\":{\"line_color\":{\"value\":\"firebrick\"},\"line_dash\":[2,2],\"line_width\":{\"value\":2},\"x\":{\"field\":\"x\"},\"y\":{\"field\":\"y\"}},\"id\":\"89459bf7-05ba-48e3-8f5e-749464b9ced4\",\"type\":\"Line\"},{\"attributes\":{},\"id\":\"e7ddf265-b8e5-4643-837b-21f8e05261bd\",\"type\":\"ToolEvents\"},{\"attributes\":{\"callback\":null},\"id\":\"e6c8ab2b-bdbb-4d6c-b592-089b5c4e4d70\",\"type\":\"DataRange1d\"},{\"attributes\":{\"below\":[{\"id\":\"fccbc193-b82b-4bbc-8394-65212b5628e1\",\"type\":\"LinearAxis\"}],\"left\":[{\"id\":\"322d3aa0-081e-441e-afac-52942b598d93\",\"type\":\"LinearAxis\"}],\"plot_height\":500,\"plot_width\":500,\"renderers\":[{\"id\":\"fccbc193-b82b-4bbc-8394-65212b5628e1\",\"type\":\"LinearAxis\"},{\"id\":\"b7af83de-99a3-4d4e-9524-1cb7dd83682f\",\"type\":\"Grid\"},{\"id\":\"322d3aa0-081e-441e-afac-52942b598d93\",\"type\":\"LinearAxis\"},{\"id\":\"e6d0db55-2103-44dc-8edd-0d0d5c18a6b3\",\"type\":\"Grid\"},{\"id\":\"2b24a612-265f-4815-8ca7-c47966c83f7d\",\"type\":\"BoxAnnotation\"},{\"id\":\"15d4dc0b-96b3-4b1b-9f5a-eb6a26e960e8\",\"type\":\"Legend\"},{\"id\":\"07ebb46d-5b5d-4b29-b37b-f6a962a97b1e\",\"type\":\"GlyphRenderer\"},{\"id\":\"2696aabf-052c-4469-a6be-970edf28cbb7\",\"type\":\"GlyphRenderer\"},{\"id\":\"b623bc45-8945-4b0c-b407-ffbe714d75cb\",\"type\":\"GlyphRenderer\"},{\"id\":\"5aa7c7d1-dacb-48fd-8be4-fad22fd0f24f\",\"type\":\"GlyphRenderer\"}],\"title\":{\"id\":\"d6757020-14ef-4aa8-a5ac-9285cfb7d04a\",\"type\":\"Title\"},\"tool_events\":{\"id\":\"e7ddf265-b8e5-4643-837b-21f8e05261bd\",\"type\":\"ToolEvents\"},\"toolbar\":{\"id\":\"3efd9718-a008-4c39-beeb-68f30ebd5dcb\",\"type\":\"Toolbar\"},\"x_range\":{\"id\":\"9c1b6c4c-5a17-449b-ba49-5cf944b7e156\",\"type\":\"DataRange1d\"},\"y_range\":{\"id\":\"e6c8ab2b-bdbb-4d6c-b592-089b5c4e4d70\",\"type\":\"DataRange1d\"}},\"id\":\"070ed96c-8973-4613-9913-f1728a473748\",\"subtype\":\"Figure\",\"type\":\"Plot\"},{\"attributes\":{\"callback\":null,\"column_names\":[\"y\",\"x\"],\"data\":{\"x\":[0.1491818186180653,0.249153746119037,0.3491189554151132,0.44982988545460656,0.5489737942021893,0.6487861643368891,0.7492233275268849,0.8433067484368175],\"y\":[0.25395294377342026,0.3999299387203781,0.5808415991247085,0.8840053937587893,1.3356799063290268,2.3113552058889884,4.038106617911695,6.804317886260792]}},\"id\":\"86dc5b09-6daf-424b-b0fc-5b79b3dbbf1b\",\"type\":\"ColumnDataSource\"},{\"attributes\":{\"callback\":null},\"id\":\"9c1b6c4c-5a17-449b-ba49-5cf944b7e156\",\"type\":\"DataRange1d\"},{\"attributes\":{\"plot\":{\"id\":\"070ed96c-8973-4613-9913-f1728a473748\",\"subtype\":\"Figure\",\"type\":\"Plot\"}},\"id\":\"327a8a77-9b12-4af9-9786-2f696f237e8c\",\"type\":\"ResetTool\"},{\"attributes\":{},\"id\":\"8a629600-a7c3-40bc-9410-b03fde56bf54\",\"type\":\"BasicTickFormatter\"}],\"root_ids\":[\"070ed96c-8973-4613-9913-f1728a473748\"]},\"title\":\"Bokeh Application\",\"version\":\"0.12.2\"}};\n",
       "            var render_items = [{\"docid\":\"c9375bfe-6175-4d09-b4aa-c22a31177f7f\",\"elementid\":\"e4598801-167f-43ef-aba0-27b8fb0d4905\",\"modelid\":\"070ed96c-8973-4613-9913-f1728a473748\"}];\n",
       "            \n",
       "            Bokeh.embed.embed_items(docs_json, render_items);\n",
       "        });\n",
       "      },\n",
       "      function(Bokeh) {\n",
       "      }\n",
       "    ];\n",
       "  \n",
       "    function run_inline_js() {\n",
       "      \n",
       "      if ((window.Bokeh !== undefined) || (force === \"1\")) {\n",
       "        for (var i = 0; i < inline_js.length; i++) {\n",
       "          inline_js[i](window.Bokeh);\n",
       "        }if (force === \"1\") {\n",
       "          display_loaded();\n",
       "        }} else if (Date.now() < window._bokeh_timeout) {\n",
       "        setTimeout(run_inline_js, 100);\n",
       "      } else if (!window._bokeh_failed_load) {\n",
       "        console.log(\"Bokeh: BokehJS failed to load within specified timeout.\");\n",
       "        window._bokeh_failed_load = true;\n",
       "      } else if (!force) {\n",
       "        var cell = $(\"#e4598801-167f-43ef-aba0-27b8fb0d4905\").parents('.cell').data().cell;\n",
       "        cell.output_area.append_execute_result(NB_LOAD_WARNING)\n",
       "      }\n",
       "  \n",
       "    }\n",
       "  \n",
       "    if (window._bokeh_is_loading === 0) {\n",
       "      console.log(\"Bokeh: BokehJS loaded, going straight to plotting\");\n",
       "      run_inline_js();\n",
       "    } else {\n",
       "      load_libs(js_urls, function() {\n",
       "        console.log(\"Bokeh: BokehJS plotting callback run at\", now());\n",
       "        run_inline_js();\n",
       "      });\n",
       "    }\n",
       "  }(this));\n",
       "</script>"
      ]
     },
     "metadata": {},
     "output_type": "display_data"
    }
   ],
   "source": [
    "p = figure(width=500, height=500, x_axis_label='Density',\n",
    "           y_axis_label='Pressure')\n",
    "p.line(density, pressure200, legend='eos Johnson', line_width=2)\n",
    "p.line(eos[:,0], eos[:,1], legend='eos F&S', line_dash=[2, 2], \n",
    "       line_width=2, color='firebrick')\n",
    "p.circle(mc[:,0], mc[:,1], legend='MC F&S', size=12, \n",
    "         line_width=2, fill_alpha=0, line_color='orange')\n",
    "p.square(md[:,0], md[:,1], legend='MD F&S', size=12, \n",
    "         line_width=2, fill_alpha=0, line_color='yellow')\n",
    "p.legend.location = 'top_left'\n",
    "show(p)"
   ]
  },
  {
   "cell_type": "markdown",
   "metadata": {},
   "source": [
    "Repeat using $T^*=0.71$ ($T=85$ K), to match Liquid Argon data published by [Yarnell et al.](Yarnell_Structure_1973.pdf)"
   ]
  },
  {
   "cell_type": "code",
   "execution_count": 15,
   "metadata": {
    "collapsed": true
   },
   "outputs": [],
   "source": [
    "T = 0.71"
   ]
  },
  {
   "cell_type": "code",
   "execution_count": 16,
   "metadata": {
    "collapsed": false
   },
   "outputs": [],
   "source": [
    "a1 = x[1]*T + x[2]*np.sqrt(T) + x[3] + x[4]/T + x[5]/T**2\n",
    "a2 = x[6]*T + x[7] + x[8]/T + x[9]/T**2\n",
    "a3 = x[10]*T + x[11] + x[12]/T\n",
    "a4 = x[13]\n",
    "a5 = x[14]/T + x[15]/T**2\n",
    "a6 = x[16]/T\n",
    "a7 = x[17]/T + x[18]/T**2\n",
    "a8 = x[19]/T**2"
   ]
  },
  {
   "cell_type": "code",
   "execution_count": 17,
   "metadata": {
    "collapsed": false
   },
   "outputs": [],
   "source": [
    "b1 = x[20]/T**2 + x[21]/T**3\n",
    "b2 = x[22]/T**2 + x[23]/T**4\n",
    "b3 = x[24]/T**2 + x[25]/T**3\n",
    "b4 = x[26]/T**2 + x[27]/T**4\n",
    "b5 = x[28]/T**2 + x[29]/T**3\n",
    "b6 = x[30]/T**2 + x[31]/T**3 + x[32]/T**4"
   ]
  },
  {
   "cell_type": "code",
   "execution_count": 18,
   "metadata": {
    "collapsed": true
   },
   "outputs": [],
   "source": [
    "pressure071 = (\n",
    "    density * T + \n",
    "    a1 * density**2 + \n",
    "    a2 * density**3 +\n",
    "    a3 * density**4 + \n",
    "    a4 * density**5 +\n",
    "    a5 * density**6 +\n",
    "    a6 * density**7 +\n",
    "    a7 * density**8 +\n",
    "    a8 * density**9 +\n",
    "    f * b1 * density**3 +\n",
    "    f * b2 * density**5 +\n",
    "    f * b3 * density**7 +\n",
    "    f * b4 * density**9 +\n",
    "    f * b5 * density**11 +\n",
    "    f * b6 * density**13    \n",
    ")"
   ]
  },
  {
   "cell_type": "code",
   "execution_count": 28,
   "metadata": {
    "collapsed": false
   },
   "outputs": [
    {
     "data": {
      "text/html": [
       "\n",
       "\n",
       "    <div class=\"bk-root\">\n",
       "        <div class=\"plotdiv\" id=\"13b504b8-2c7f-4627-b9f3-ac2affa938d7\"></div>\n",
       "    </div>\n",
       "<script type=\"text/javascript\">\n",
       "  \n",
       "  (function(global) {\n",
       "    function now() {\n",
       "      return new Date();\n",
       "    }\n",
       "  \n",
       "    var force = \"\";\n",
       "  \n",
       "    if (typeof (window._bokeh_onload_callbacks) === \"undefined\" || force !== \"\") {\n",
       "      window._bokeh_onload_callbacks = [];\n",
       "      window._bokeh_is_loading = undefined;\n",
       "    }\n",
       "  \n",
       "  \n",
       "    \n",
       "    if (typeof (window._bokeh_timeout) === \"undefined\" || force !== \"\") {\n",
       "      window._bokeh_timeout = Date.now() + 0;\n",
       "      window._bokeh_failed_load = false;\n",
       "    }\n",
       "  \n",
       "    var NB_LOAD_WARNING = {'data': {'text/html':\n",
       "       \"<div style='background-color: #fdd'>\\n\"+\n",
       "       \"<p>\\n\"+\n",
       "       \"BokehJS does not appear to have successfully loaded. If loading BokehJS from CDN, this \\n\"+\n",
       "       \"may be due to a slow or bad network connection. Possible fixes:\\n\"+\n",
       "       \"</p>\\n\"+\n",
       "       \"<ul>\\n\"+\n",
       "       \"<li>re-rerun `output_notebook()` to attempt to load from CDN again, or</li>\\n\"+\n",
       "       \"<li>use INLINE resources instead, as so:</li>\\n\"+\n",
       "       \"</ul>\\n\"+\n",
       "       \"<code>\\n\"+\n",
       "       \"from bokeh.resources import INLINE\\n\"+\n",
       "       \"output_notebook(resources=INLINE)\\n\"+\n",
       "       \"</code>\\n\"+\n",
       "       \"</div>\"}};\n",
       "  \n",
       "    function display_loaded() {\n",
       "      if (window.Bokeh !== undefined) {\n",
       "        Bokeh.$(\"#13b504b8-2c7f-4627-b9f3-ac2affa938d7\").text(\"BokehJS successfully loaded.\");\n",
       "      } else if (Date.now() < window._bokeh_timeout) {\n",
       "        setTimeout(display_loaded, 100)\n",
       "      }\n",
       "    }\n",
       "  \n",
       "    function run_callbacks() {\n",
       "      window._bokeh_onload_callbacks.forEach(function(callback) { callback() });\n",
       "      delete window._bokeh_onload_callbacks\n",
       "      console.info(\"Bokeh: all callbacks have finished\");\n",
       "    }\n",
       "  \n",
       "    function load_libs(js_urls, callback) {\n",
       "      window._bokeh_onload_callbacks.push(callback);\n",
       "      if (window._bokeh_is_loading > 0) {\n",
       "        console.log(\"Bokeh: BokehJS is being loaded, scheduling callback at\", now());\n",
       "        return null;\n",
       "      }\n",
       "      if (js_urls == null || js_urls.length === 0) {\n",
       "        run_callbacks();\n",
       "        return null;\n",
       "      }\n",
       "      console.log(\"Bokeh: BokehJS not loaded, scheduling load and callback at\", now());\n",
       "      window._bokeh_is_loading = js_urls.length;\n",
       "      for (var i = 0; i < js_urls.length; i++) {\n",
       "        var url = js_urls[i];\n",
       "        var s = document.createElement('script');\n",
       "        s.src = url;\n",
       "        s.async = false;\n",
       "        s.onreadystatechange = s.onload = function() {\n",
       "          window._bokeh_is_loading--;\n",
       "          if (window._bokeh_is_loading === 0) {\n",
       "            console.log(\"Bokeh: all BokehJS libraries loaded\");\n",
       "            run_callbacks()\n",
       "          }\n",
       "        };\n",
       "        s.onerror = function() {\n",
       "          console.warn(\"failed to load library \" + url);\n",
       "        };\n",
       "        console.log(\"Bokeh: injecting script tag for BokehJS library: \", url);\n",
       "        document.getElementsByTagName(\"head\")[0].appendChild(s);\n",
       "      }\n",
       "    };var element = document.getElementById(\"13b504b8-2c7f-4627-b9f3-ac2affa938d7\");\n",
       "    if (element == null) {\n",
       "      console.log(\"Bokeh: ERROR: autoload.js configured with elementid '13b504b8-2c7f-4627-b9f3-ac2affa938d7' but no matching script tag was found. \")\n",
       "      return false;\n",
       "    }\n",
       "  \n",
       "    var js_urls = [];\n",
       "  \n",
       "    var inline_js = [\n",
       "      function(Bokeh) {\n",
       "        Bokeh.$(function() {\n",
       "            var docs_json = {\"df0d9255-83f6-4020-beea-0977d193c63f\":{\"roots\":{\"references\":[{\"attributes\":{\"data_source\":{\"id\":\"dd686543-64b5-45c9-9d4d-d428ab8a70c4\",\"type\":\"ColumnDataSource\"},\"glyph\":{\"id\":\"44abc3c0-5d3c-44ba-a240-52494ef7689e\",\"type\":\"Line\"},\"hover_glyph\":null,\"nonselection_glyph\":{\"id\":\"7935022c-5ce1-47be-93ae-b197507ef00c\",\"type\":\"Line\"},\"selection_glyph\":null},\"id\":\"d9b3e80a-8339-42af-8f3b-13548b5d5db9\",\"type\":\"GlyphRenderer\"},{\"attributes\":{\"legends\":[[\"T=2.00\",[{\"id\":\"82771209-aaf2-4038-bb0c-c75133fe82ab\",\"type\":\"GlyphRenderer\"}]],[\"T=0.71\",[{\"id\":\"d9b3e80a-8339-42af-8f3b-13548b5d5db9\",\"type\":\"GlyphRenderer\"}]]],\"location\":\"top_left\",\"plot\":{\"id\":\"fb69970a-e84a-4e33-9551-30494e4351c1\",\"subtype\":\"Figure\",\"type\":\"Plot\"}},\"id\":\"86c8fa2c-3d22-4613-b36f-d5231941ffe5\",\"type\":\"Legend\"},{\"attributes\":{\"overlay\":{\"id\":\"bb5c00b5-44ff-4b4e-8932-3b89e0e6a8c0\",\"type\":\"BoxAnnotation\"},\"plot\":{\"id\":\"fb69970a-e84a-4e33-9551-30494e4351c1\",\"subtype\":\"Figure\",\"type\":\"Plot\"}},\"id\":\"651493d7-8425-4b74-bf90-d4c6c5555eff\",\"type\":\"BoxZoomTool\"},{\"attributes\":{},\"id\":\"aeb1f80c-ee77-4dc5-869f-d62737553df6\",\"type\":\"ToolEvents\"},{\"attributes\":{},\"id\":\"c91bb06a-a9fe-427e-9fe4-920fe4e3df3c\",\"type\":\"BasicTickFormatter\"},{\"attributes\":{},\"id\":\"d7685663-0ef5-41ff-b9b3-4b60ebb85f82\",\"type\":\"BasicTicker\"},{\"attributes\":{\"plot\":{\"id\":\"fb69970a-e84a-4e33-9551-30494e4351c1\",\"subtype\":\"Figure\",\"type\":\"Plot\"}},\"id\":\"3dd0c1e2-7f60-46e6-8b3c-4cc11bbecee9\",\"type\":\"SaveTool\"},{\"attributes\":{\"data_source\":{\"id\":\"15e8f47a-82fc-4758-bc5f-03a4c696ae7f\",\"type\":\"ColumnDataSource\"},\"glyph\":{\"id\":\"da140787-c297-4224-a4e9-8c9e3bee9fdc\",\"type\":\"Line\"},\"hover_glyph\":null,\"nonselection_glyph\":{\"id\":\"07f6bf75-2227-4cec-8194-ad4e6f5fc56f\",\"type\":\"Line\"},\"selection_glyph\":null},\"id\":\"82771209-aaf2-4038-bb0c-c75133fe82ab\",\"type\":\"GlyphRenderer\"},{\"attributes\":{\"bottom_units\":\"screen\",\"fill_alpha\":{\"value\":0.5},\"fill_color\":{\"value\":\"lightgrey\"},\"left_units\":\"screen\",\"level\":\"overlay\",\"line_alpha\":{\"value\":1.0},\"line_color\":{\"value\":\"black\"},\"line_dash\":[4,4],\"line_width\":{\"value\":2},\"plot\":null,\"render_mode\":\"css\",\"right_units\":\"screen\",\"top_units\":\"screen\"},\"id\":\"bb5c00b5-44ff-4b4e-8932-3b89e0e6a8c0\",\"type\":\"BoxAnnotation\"},{\"attributes\":{\"line_alpha\":{\"value\":0.1},\"line_color\":{\"value\":\"#1f77b4\"},\"x\":{\"field\":\"x\"},\"y\":{\"field\":\"y\"}},\"id\":\"07f6bf75-2227-4cec-8194-ad4e6f5fc56f\",\"type\":\"Line\"},{\"attributes\":{\"dimension\":1,\"plot\":{\"id\":\"fb69970a-e84a-4e33-9551-30494e4351c1\",\"subtype\":\"Figure\",\"type\":\"Plot\"},\"ticker\":{\"id\":\"d7685663-0ef5-41ff-b9b3-4b60ebb85f82\",\"type\":\"BasicTicker\"}},\"id\":\"61eab017-eb56-4453-a89f-99ea95b95d75\",\"type\":\"Grid\"},{\"attributes\":{\"callback\":null,\"column_names\":[\"y\",\"x\"],\"data\":{\"x\":[0.1,0.1163265306122449,0.1326530612244898,0.1489795918367347,0.1653061224489796,0.1816326530612245,0.1979591836734694,0.2142857142857143,0.2306122448979592,0.2469387755102041,0.263265306122449,0.2795918367346939,0.29591836734693877,0.3122448979591837,0.3285714285714286,0.3448979591836735,0.36122448979591837,0.37755102040816324,0.3938775510204082,0.4102040816326531,0.42653061224489797,0.44285714285714284,0.4591836734693878,0.4755102040816327,0.49183673469387756,0.5081632653061224,0.5244897959183674,0.5408163265306123,0.5571428571428572,0.573469387755102,0.589795918367347,0.6061224489795919,0.6224489795918368,0.6387755102040816,0.6551020408163265,0.6714285714285715,0.6877551020408164,0.7040816326530612,0.7204081632653062,0.7367346938775511,0.753061224489796,0.7693877551020408,0.7857142857142857,0.8020408163265307,0.8183673469387756,0.8346938775510204,0.8510204081632654,0.8673469387755103,0.8836734693877552,0.9],\"y\":[0.003145675105982319,-0.008271531279691538,-0.022234939327326637,-0.03824180338907683,-0.05573374437556959,-0.07412632560861226,-0.09284162313169571,-0.11134179352268521,-0.12916173275357637,-0.14593902547593565,-0.16143951364096937,-0.17557697589291488,-0.18842561383835404,-0.20022429574211256,-0.21137181725331713,-0.2224128030956512,-0.23401428872432578,-0.24693347623482517,-0.2619776375549996,-0.27995761740490444,-0.3016368408372796,-0.3276781238585898,-0.35859088759755364,-0.3946815544262195,-0.43600992973290137,-0.4823542235016239,-0.5331870286020317,-0.58766404651932,-0.6446266486290837,-0.7026185091574844,-0.7599155867906786,-0.8145677217018656,-0.8644491219515915,-0.9073141152430697,-0.9408538217738087,-0.9627489443731019,-0.9707137515416786,-0.9625266150003036,-0.9360432072091847,-0.8891896961666426,-0.8199349988342668,-0.7262433457993254,-0.6060110124102138,-0.45699399785003436,-0.27673656598261687,-0.06251375543949678,0.18869594571921766,0.4801887659294124,0.8154433418889653,1.197934971055588]}},\"id\":\"dd686543-64b5-45c9-9d4d-d428ab8a70c4\",\"type\":\"ColumnDataSource\"},{\"attributes\":{},\"id\":\"ee517c96-832a-4207-b9ad-24604f753ef9\",\"type\":\"BasicTickFormatter\"},{\"attributes\":{\"axis_label\":\"Pressure\",\"formatter\":{\"id\":\"ee517c96-832a-4207-b9ad-24604f753ef9\",\"type\":\"BasicTickFormatter\"},\"plot\":{\"id\":\"fb69970a-e84a-4e33-9551-30494e4351c1\",\"subtype\":\"Figure\",\"type\":\"Plot\"},\"ticker\":{\"id\":\"d7685663-0ef5-41ff-b9b3-4b60ebb85f82\",\"type\":\"BasicTicker\"}},\"id\":\"cbbfec38-9288-428a-9264-5a3bada6b9ba\",\"type\":\"LinearAxis\"},{\"attributes\":{\"plot\":{\"id\":\"fb69970a-e84a-4e33-9551-30494e4351c1\",\"subtype\":\"Figure\",\"type\":\"Plot\"},\"ticker\":{\"id\":\"2cedd63c-bf17-4203-8b7a-875021243747\",\"type\":\"BasicTicker\"}},\"id\":\"260e52f2-4086-4127-8453-b09c043390b2\",\"type\":\"Grid\"},{\"attributes\":{\"line_alpha\":{\"value\":0.1},\"line_color\":{\"value\":\"#1f77b4\"},\"x\":{\"field\":\"x\"},\"y\":{\"field\":\"y\"}},\"id\":\"7935022c-5ce1-47be-93ae-b197507ef00c\",\"type\":\"Line\"},{\"attributes\":{\"plot\":{\"id\":\"fb69970a-e84a-4e33-9551-30494e4351c1\",\"subtype\":\"Figure\",\"type\":\"Plot\"}},\"id\":\"1f69df59-6e57-405c-8e5c-0210ea84012d\",\"type\":\"PanTool\"},{\"attributes\":{\"callback\":null},\"id\":\"e16caeb7-2031-4725-93a5-0ae92fce75cc\",\"type\":\"DataRange1d\"},{\"attributes\":{\"below\":[{\"id\":\"ea799d01-1325-4982-8fb4-7fb7b41ff1eb\",\"type\":\"LinearAxis\"}],\"left\":[{\"id\":\"cbbfec38-9288-428a-9264-5a3bada6b9ba\",\"type\":\"LinearAxis\"}],\"plot_height\":500,\"plot_width\":500,\"renderers\":[{\"id\":\"ea799d01-1325-4982-8fb4-7fb7b41ff1eb\",\"type\":\"LinearAxis\"},{\"id\":\"260e52f2-4086-4127-8453-b09c043390b2\",\"type\":\"Grid\"},{\"id\":\"cbbfec38-9288-428a-9264-5a3bada6b9ba\",\"type\":\"LinearAxis\"},{\"id\":\"61eab017-eb56-4453-a89f-99ea95b95d75\",\"type\":\"Grid\"},{\"id\":\"bb5c00b5-44ff-4b4e-8932-3b89e0e6a8c0\",\"type\":\"BoxAnnotation\"},{\"id\":\"86c8fa2c-3d22-4613-b36f-d5231941ffe5\",\"type\":\"Legend\"},{\"id\":\"82771209-aaf2-4038-bb0c-c75133fe82ab\",\"type\":\"GlyphRenderer\"},{\"id\":\"d9b3e80a-8339-42af-8f3b-13548b5d5db9\",\"type\":\"GlyphRenderer\"}],\"title\":{\"id\":\"fa4d6816-ea37-4351-8736-5feb3d156d0e\",\"type\":\"Title\"},\"tool_events\":{\"id\":\"aeb1f80c-ee77-4dc5-869f-d62737553df6\",\"type\":\"ToolEvents\"},\"toolbar\":{\"id\":\"f69f847a-c9b4-4f12-8872-433f882ea624\",\"type\":\"Toolbar\"},\"x_range\":{\"id\":\"e16caeb7-2031-4725-93a5-0ae92fce75cc\",\"type\":\"DataRange1d\"},\"y_range\":{\"id\":\"83162875-4d0c-4b4c-94c1-5bb2d63cf5c6\",\"type\":\"DataRange1d\"}},\"id\":\"fb69970a-e84a-4e33-9551-30494e4351c1\",\"subtype\":\"Figure\",\"type\":\"Plot\"},{\"attributes\":{\"line_color\":{\"value\":\"#1f77b4\"},\"x\":{\"field\":\"x\"},\"y\":{\"field\":\"y\"}},\"id\":\"da140787-c297-4224-a4e9-8c9e3bee9fdc\",\"type\":\"Line\"},{\"attributes\":{\"active_drag\":\"auto\",\"active_scroll\":\"auto\",\"active_tap\":\"auto\",\"tools\":[{\"id\":\"1f69df59-6e57-405c-8e5c-0210ea84012d\",\"type\":\"PanTool\"},{\"id\":\"465b38bc-d555-42a7-8c15-7c0b1e7a78d5\",\"type\":\"WheelZoomTool\"},{\"id\":\"651493d7-8425-4b74-bf90-d4c6c5555eff\",\"type\":\"BoxZoomTool\"},{\"id\":\"3dd0c1e2-7f60-46e6-8b3c-4cc11bbecee9\",\"type\":\"SaveTool\"},{\"id\":\"d2205eaa-7e98-4343-a3f6-ce6c7af17b15\",\"type\":\"ResetTool\"},{\"id\":\"0afb6e97-7deb-49b5-a88e-2ebe0101a44b\",\"type\":\"HelpTool\"}]},\"id\":\"f69f847a-c9b4-4f12-8872-433f882ea624\",\"type\":\"Toolbar\"},{\"attributes\":{\"plot\":{\"id\":\"fb69970a-e84a-4e33-9551-30494e4351c1\",\"subtype\":\"Figure\",\"type\":\"Plot\"}},\"id\":\"0afb6e97-7deb-49b5-a88e-2ebe0101a44b\",\"type\":\"HelpTool\"},{\"attributes\":{},\"id\":\"2cedd63c-bf17-4203-8b7a-875021243747\",\"type\":\"BasicTicker\"},{\"attributes\":{\"callback\":null,\"column_names\":[\"y\",\"x\"],\"data\":{\"x\":[0.1,0.1163265306122449,0.1326530612244898,0.1489795918367347,0.1653061224489796,0.1816326530612245,0.1979591836734694,0.2142857142857143,0.2306122448979592,0.2469387755102041,0.263265306122449,0.2795918367346939,0.29591836734693877,0.3122448979591837,0.3285714285714286,0.3448979591836735,0.36122448979591837,0.37755102040816324,0.3938775510204082,0.4102040816326531,0.42653061224489797,0.44285714285714284,0.4591836734693878,0.4755102040816327,0.49183673469387756,0.5081632653061224,0.5244897959183674,0.5408163265306123,0.5571428571428572,0.573469387755102,0.589795918367347,0.6061224489795919,0.6224489795918368,0.6387755102040816,0.6551020408163265,0.6714285714285715,0.6877551020408164,0.7040816326530612,0.7204081632653062,0.7367346938775511,0.753061224489796,0.7693877551020408,0.7857142857142857,0.8020408163265307,0.8183673469387756,0.8346938775510204,0.8510204081632654,0.8673469387755103,0.8836734693877552,0.9],\"y\":[0.17842231972194172,0.20438518697354804,0.22976067643392048,0.25467420694660337,0.27926026392842646,0.30366289235107036,0.328036066424595,0.3525441207621962,0.37736240254163894,0.4026782782960374,0.4286926023543927,0.45562172639760373,0.48370010086799387,0.5131834889237225,0.5443527823047842,0.5775183762030777,0.6130250276965256,0.6512570906175019,0.6926439903927124,0.737665777297683,0.7868585778665328,0.8408197541660773,0.9002125814925311,0.9657702687003281,1.038299173218524,1.1186811054652943,1.2078746744712305,1.3069156965274435,1.416916768777321,1.5390661957537124,1.6746265435585101,1.824933177256637,1.9913932048420866,2.175485298148272,2.37876087959237,2.602847146491812,2.849452345718813,3.1203736061351064,3.4175074821676388,3.7428631592069954,4.098578023330402,4.4869350104360155,4.910380832661864,5.371543845575569,5.873249983429283,6.418534869560558,7.010649924272938,7.653060063621876,8.349430429967686,9.103599538380124]}},\"id\":\"15e8f47a-82fc-4758-bc5f-03a4c696ae7f\",\"type\":\"ColumnDataSource\"},{\"attributes\":{\"plot\":{\"id\":\"fb69970a-e84a-4e33-9551-30494e4351c1\",\"subtype\":\"Figure\",\"type\":\"Plot\"}},\"id\":\"d2205eaa-7e98-4343-a3f6-ce6c7af17b15\",\"type\":\"ResetTool\"},{\"attributes\":{\"line_color\":{\"value\":\"firebrick\"},\"x\":{\"field\":\"x\"},\"y\":{\"field\":\"y\"}},\"id\":\"44abc3c0-5d3c-44ba-a240-52494ef7689e\",\"type\":\"Line\"},{\"attributes\":{\"axis_label\":\"Density\",\"formatter\":{\"id\":\"c91bb06a-a9fe-427e-9fe4-920fe4e3df3c\",\"type\":\"BasicTickFormatter\"},\"plot\":{\"id\":\"fb69970a-e84a-4e33-9551-30494e4351c1\",\"subtype\":\"Figure\",\"type\":\"Plot\"},\"ticker\":{\"id\":\"2cedd63c-bf17-4203-8b7a-875021243747\",\"type\":\"BasicTicker\"}},\"id\":\"ea799d01-1325-4982-8fb4-7fb7b41ff1eb\",\"type\":\"LinearAxis\"},{\"attributes\":{\"plot\":{\"id\":\"fb69970a-e84a-4e33-9551-30494e4351c1\",\"subtype\":\"Figure\",\"type\":\"Plot\"}},\"id\":\"465b38bc-d555-42a7-8c15-7c0b1e7a78d5\",\"type\":\"WheelZoomTool\"},{\"attributes\":{\"plot\":null,\"text\":null},\"id\":\"fa4d6816-ea37-4351-8736-5feb3d156d0e\",\"type\":\"Title\"},{\"attributes\":{\"callback\":null},\"id\":\"83162875-4d0c-4b4c-94c1-5bb2d63cf5c6\",\"type\":\"DataRange1d\"}],\"root_ids\":[\"fb69970a-e84a-4e33-9551-30494e4351c1\"]},\"title\":\"Bokeh Application\",\"version\":\"0.12.2\"}};\n",
       "            var render_items = [{\"docid\":\"df0d9255-83f6-4020-beea-0977d193c63f\",\"elementid\":\"13b504b8-2c7f-4627-b9f3-ac2affa938d7\",\"modelid\":\"fb69970a-e84a-4e33-9551-30494e4351c1\"}];\n",
       "            \n",
       "            Bokeh.embed.embed_items(docs_json, render_items);\n",
       "        });\n",
       "      },\n",
       "      function(Bokeh) {\n",
       "      }\n",
       "    ];\n",
       "  \n",
       "    function run_inline_js() {\n",
       "      \n",
       "      if ((window.Bokeh !== undefined) || (force === \"1\")) {\n",
       "        for (var i = 0; i < inline_js.length; i++) {\n",
       "          inline_js[i](window.Bokeh);\n",
       "        }if (force === \"1\") {\n",
       "          display_loaded();\n",
       "        }} else if (Date.now() < window._bokeh_timeout) {\n",
       "        setTimeout(run_inline_js, 100);\n",
       "      } else if (!window._bokeh_failed_load) {\n",
       "        console.log(\"Bokeh: BokehJS failed to load within specified timeout.\");\n",
       "        window._bokeh_failed_load = true;\n",
       "      } else if (!force) {\n",
       "        var cell = $(\"#13b504b8-2c7f-4627-b9f3-ac2affa938d7\").parents('.cell').data().cell;\n",
       "        cell.output_area.append_execute_result(NB_LOAD_WARNING)\n",
       "      }\n",
       "  \n",
       "    }\n",
       "  \n",
       "    if (window._bokeh_is_loading === 0) {\n",
       "      console.log(\"Bokeh: BokehJS loaded, going straight to plotting\");\n",
       "      run_inline_js();\n",
       "    } else {\n",
       "      load_libs(js_urls, function() {\n",
       "        console.log(\"Bokeh: BokehJS plotting callback run at\", now());\n",
       "        run_inline_js();\n",
       "      });\n",
       "    }\n",
       "  }(this));\n",
       "</script>"
      ]
     },
     "metadata": {},
     "output_type": "display_data"
    }
   ],
   "source": [
    "p = figure(width=500, height=500, x_axis_label='Density', \n",
    "           y_axis_label='Pressure')\n",
    "p.line(density, pressure200, legend=\"T=2.00\")\n",
    "p.line(density, pressure071, legend=\"T=0.71\", line_color=\"firebrick\")\n",
    "p.legend.location='top_left'\n",
    "show(p)"
   ]
  },
  {
   "cell_type": "markdown",
   "metadata": {},
   "source": [
    "While the $T=2.0$ case matches Figure 6.2 in Frenkel & Smit, I am skeptical about the $T=0.71$ case.  I do not understand a negative pressure.  Their article says, \"Parameters for the MBWR equation of state for the LJ fluid have been regressed for the temperature range $0.7\\leq T^*\\leq 6$ and covering the entire fluid range of densities.\""
   ]
  },
  {
   "cell_type": "code",
   "execution_count": null,
   "metadata": {
    "collapsed": true
   },
   "outputs": [],
   "source": []
  }
 ],
 "metadata": {
  "kernelspec": {
   "display_name": "Python 2",
   "language": "python",
   "name": "python2"
  },
  "language_info": {
   "codemirror_mode": {
    "name": "ipython",
    "version": 2
   },
   "file_extension": ".py",
   "mimetype": "text/x-python",
   "name": "python",
   "nbconvert_exporter": "python",
   "pygments_lexer": "ipython2",
   "version": "2.7.12"
  }
 },
 "nbformat": 4,
 "nbformat_minor": 1
}
