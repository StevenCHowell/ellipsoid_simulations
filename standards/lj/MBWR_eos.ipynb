{
 "cells": [
  {
   "cell_type": "markdown",
   "metadata": {},
   "source": [
    "# The [Modified Benedict-Webb-Rubin equation of state](https://en.wikipedia.org/wiki/Benedict–Webb–Rubin_equation) \n",
    "[Johnson, Zllweg, Gubbins, \n",
    "\"The Lennard-Jones equation of state revisited\",\n",
    "Molecular Physics, 1993](Johnson_Lennard-Jones_1993.pdf)\n",
    "\n",
    "implementing the parameters from Table 10"
   ]
  },
  {
   "cell_type": "code",
   "execution_count": 1,
   "metadata": {
    "collapsed": true
   },
   "outputs": [],
   "source": [
    "import numpy as np\n",
    "np.set_printoptions(suppress=True)"
   ]
  },
  {
   "cell_type": "code",
   "execution_count": 2,
   "metadata": {
    "collapsed": false
   },
   "outputs": [
    {
     "name": "stderr",
     "output_type": "stream",
     "text": [
      "/home/schowell/data/myPrograms/anaconda3/envs/sassie/lib/python2.7/site-packages/matplotlib/__init__.py:878: UserWarning: axes.color_cycle is deprecated and replaced with axes.prop_cycle; please use the latter.\n",
      "  warnings.warn(self.msg_depr % (key, alt_key))\n"
     ]
    },
    {
     "data": {
      "text/html": [
       "\n",
       "    <div class=\"bk-root\">\n",
       "        <a href=\"http://bokeh.pydata.org\" target=\"_blank\" class=\"bk-logo bk-logo-small bk-logo-notebook\"></a>\n",
       "        <span id=\"ffa59ed7-bb22-4147-93fa-39810481c42f\">Loading BokehJS ...</span>\n",
       "    </div>"
      ]
     },
     "metadata": {},
     "output_type": "display_data"
    },
    {
     "data": {
      "application/javascript": [
       "\n",
       "(function(global) {\n",
       "  function now() {\n",
       "    return new Date();\n",
       "  }\n",
       "\n",
       "  var force = \"1\";\n",
       "\n",
       "  if (typeof (window._bokeh_onload_callbacks) === \"undefined\" || force !== \"\") {\n",
       "    window._bokeh_onload_callbacks = [];\n",
       "    window._bokeh_is_loading = undefined;\n",
       "  }\n",
       "\n",
       "\n",
       "  \n",
       "  if (typeof (window._bokeh_timeout) === \"undefined\" || force !== \"\") {\n",
       "    window._bokeh_timeout = Date.now() + 5000;\n",
       "    window._bokeh_failed_load = false;\n",
       "  }\n",
       "\n",
       "  var NB_LOAD_WARNING = {'data': {'text/html':\n",
       "     \"<div style='background-color: #fdd'>\\n\"+\n",
       "     \"<p>\\n\"+\n",
       "     \"BokehJS does not appear to have successfully loaded. If loading BokehJS from CDN, this \\n\"+\n",
       "     \"may be due to a slow or bad network connection. Possible fixes:\\n\"+\n",
       "     \"</p>\\n\"+\n",
       "     \"<ul>\\n\"+\n",
       "     \"<li>re-rerun `output_notebook()` to attempt to load from CDN again, or</li>\\n\"+\n",
       "     \"<li>use INLINE resources instead, as so:</li>\\n\"+\n",
       "     \"</ul>\\n\"+\n",
       "     \"<code>\\n\"+\n",
       "     \"from bokeh.resources import INLINE\\n\"+\n",
       "     \"output_notebook(resources=INLINE)\\n\"+\n",
       "     \"</code>\\n\"+\n",
       "     \"</div>\"}};\n",
       "\n",
       "  function display_loaded() {\n",
       "    if (window.Bokeh !== undefined) {\n",
       "      Bokeh.$(\"#ffa59ed7-bb22-4147-93fa-39810481c42f\").text(\"BokehJS successfully loaded.\");\n",
       "    } else if (Date.now() < window._bokeh_timeout) {\n",
       "      setTimeout(display_loaded, 100)\n",
       "    }\n",
       "  }\n",
       "\n",
       "  function run_callbacks() {\n",
       "    window._bokeh_onload_callbacks.forEach(function(callback) { callback() });\n",
       "    delete window._bokeh_onload_callbacks\n",
       "    console.info(\"Bokeh: all callbacks have finished\");\n",
       "  }\n",
       "\n",
       "  function load_libs(js_urls, callback) {\n",
       "    window._bokeh_onload_callbacks.push(callback);\n",
       "    if (window._bokeh_is_loading > 0) {\n",
       "      console.log(\"Bokeh: BokehJS is being loaded, scheduling callback at\", now());\n",
       "      return null;\n",
       "    }\n",
       "    if (js_urls == null || js_urls.length === 0) {\n",
       "      run_callbacks();\n",
       "      return null;\n",
       "    }\n",
       "    console.log(\"Bokeh: BokehJS not loaded, scheduling load and callback at\", now());\n",
       "    window._bokeh_is_loading = js_urls.length;\n",
       "    for (var i = 0; i < js_urls.length; i++) {\n",
       "      var url = js_urls[i];\n",
       "      var s = document.createElement('script');\n",
       "      s.src = url;\n",
       "      s.async = false;\n",
       "      s.onreadystatechange = s.onload = function() {\n",
       "        window._bokeh_is_loading--;\n",
       "        if (window._bokeh_is_loading === 0) {\n",
       "          console.log(\"Bokeh: all BokehJS libraries loaded\");\n",
       "          run_callbacks()\n",
       "        }\n",
       "      };\n",
       "      s.onerror = function() {\n",
       "        console.warn(\"failed to load library \" + url);\n",
       "      };\n",
       "      console.log(\"Bokeh: injecting script tag for BokehJS library: \", url);\n",
       "      document.getElementsByTagName(\"head\")[0].appendChild(s);\n",
       "    }\n",
       "  };var element = document.getElementById(\"ffa59ed7-bb22-4147-93fa-39810481c42f\");\n",
       "  if (element == null) {\n",
       "    console.log(\"Bokeh: ERROR: autoload.js configured with elementid 'ffa59ed7-bb22-4147-93fa-39810481c42f' but no matching script tag was found. \")\n",
       "    return false;\n",
       "  }\n",
       "\n",
       "  var js_urls = ['https://cdn.pydata.org/bokeh/release/bokeh-0.12.2.min.js', 'https://cdn.pydata.org/bokeh/release/bokeh-widgets-0.12.2.min.js', 'https://cdn.pydata.org/bokeh/release/bokeh-compiler-0.12.2.min.js'];\n",
       "\n",
       "  var inline_js = [\n",
       "    function(Bokeh) {\n",
       "      Bokeh.set_log_level(\"info\");\n",
       "    },\n",
       "    \n",
       "    function(Bokeh) {\n",
       "      \n",
       "      Bokeh.$(\"#ffa59ed7-bb22-4147-93fa-39810481c42f\").text(\"BokehJS is loading...\");\n",
       "    },\n",
       "    function(Bokeh) {\n",
       "      console.log(\"Bokeh: injecting CSS: https://cdn.pydata.org/bokeh/release/bokeh-0.12.2.min.css\");\n",
       "      Bokeh.embed.inject_css(\"https://cdn.pydata.org/bokeh/release/bokeh-0.12.2.min.css\");\n",
       "      console.log(\"Bokeh: injecting CSS: https://cdn.pydata.org/bokeh/release/bokeh-widgets-0.12.2.min.css\");\n",
       "      Bokeh.embed.inject_css(\"https://cdn.pydata.org/bokeh/release/bokeh-widgets-0.12.2.min.css\");\n",
       "    }\n",
       "  ];\n",
       "\n",
       "  function run_inline_js() {\n",
       "    \n",
       "    if ((window.Bokeh !== undefined) || (force === \"1\")) {\n",
       "      for (var i = 0; i < inline_js.length; i++) {\n",
       "        inline_js[i](window.Bokeh);\n",
       "      }if (force === \"1\") {\n",
       "        display_loaded();\n",
       "      }} else if (Date.now() < window._bokeh_timeout) {\n",
       "      setTimeout(run_inline_js, 100);\n",
       "    } else if (!window._bokeh_failed_load) {\n",
       "      console.log(\"Bokeh: BokehJS failed to load within specified timeout.\");\n",
       "      window._bokeh_failed_load = true;\n",
       "    } else if (!force) {\n",
       "      var cell = $(\"#ffa59ed7-bb22-4147-93fa-39810481c42f\").parents('.cell').data().cell;\n",
       "      cell.output_area.append_execute_result(NB_LOAD_WARNING)\n",
       "    }\n",
       "\n",
       "  }\n",
       "\n",
       "  if (window._bokeh_is_loading === 0) {\n",
       "    console.log(\"Bokeh: BokehJS loaded, going straight to plotting\");\n",
       "    run_inline_js();\n",
       "  } else {\n",
       "    load_libs(js_urls, function() {\n",
       "      console.log(\"Bokeh: BokehJS plotting callback run at\", now());\n",
       "      run_inline_js();\n",
       "    });\n",
       "  }\n",
       "}(this));"
      ]
     },
     "metadata": {},
     "output_type": "display_data"
    }
   ],
   "source": [
    "from bokeh.plotting import figure, output_notebook, show\n",
    "output_notebook()"
   ]
  },
  {
   "cell_type": "markdown",
   "metadata": {},
   "source": [
    "**Reduced Units:**\n",
    "  - residual Helmholtz free energy: $A^*_r = A_r/N\\epsilon$\n",
    "  - pressure: $P^* = P\\sigma^3/\\epsilon$\n",
    "  - temperature: \n",
    "  \n",
    "| Quantity    | Reduced Units      | ------- Real Units --------      |\n",
    "|-------------|--------------------|----------------------------------|\n",
    "| temperature | $T^*=1$            | $T=119.8$ K                      |\n",
    "| density     | $\\rho^*=1.0$       | $\\rho=1680$ kg/m$^3$             |\n",
    "| time        | $\\Delta t^*=0.005$ | $\\Delta t=1.09\\times 10^{-14}$ s |\n",
    "| pressure    | $P^*=1$            | $P=41.9$ MPa                     |"
   ]
  },
  {
   "cell_type": "markdown",
   "metadata": {},
   "source": [
    "$T^*=2.0$, to match Frenkel & Smit, figure 6.2"
   ]
  },
  {
   "cell_type": "code",
   "execution_count": 3,
   "metadata": {
    "collapsed": true
   },
   "outputs": [],
   "source": [
    "T = 2.0"
   ]
  },
  {
   "cell_type": "markdown",
   "metadata": {},
   "source": [
    "Modified Benedict-Webb-Rubin (MBWR) equation of state, Johnson et al. 1993, eq. (7):\n",
    "$$ P^* = \\rho^* T^* + \\sum_{i=1}^8 a_i \\rho^{*(i+1)} + \\exp\\left(-\\gamma\\rho^{*2}\\right)\\sum_{i=1}^{6}b_i \\rho^{*(2i+1)} $$"
   ]
  },
  {
   "cell_type": "markdown",
   "metadata": {},
   "source": [
    "1 nonlinear parameter:\n",
    "  - $\\gamma = 3$"
   ]
  },
  {
   "cell_type": "code",
   "execution_count": 4,
   "metadata": {
    "collapsed": true
   },
   "outputs": [],
   "source": [
    "gamma = 3"
   ]
  },
  {
   "cell_type": "code",
   "execution_count": 5,
   "metadata": {
    "collapsed": false
   },
   "outputs": [],
   "source": [
    "parameters = np.loadtxt('mbwr_eos.dat')\n",
    "x = np.empty(len(parameters)+1) \n",
    "x[1:] = parameters[:, 1] # use 1 indexing for clarity\n",
    "# print x"
   ]
  },
  {
   "cell_type": "markdown",
   "metadata": {},
   "source": [
    "First 19 parameters, $a_1, \\dots, a_8$:\n",
    "  - $a_1 = x_1 T^* + x_2 \\sqrt{T} + x_3 + x_4/T^* + x_5/T^{*2}$\n",
    "  - $a_2 = x_6 T^* + x_7 + x_8/T^* + x_9/T^{*2}$\n",
    "  - $a_3 = x_{10} T^* + x_{11} + x_{12}/T^*$\n",
    "  - $a_4 = x_{13}$\n",
    "  - $a_5 = x_{14}/T^* + x_{15}/T^{*2}$\n",
    "  - $a_6 = x_{16}/T^*$\n",
    "  - $a_7 = x_{17}/T^* + x_{18}/T^{*2}$\n",
    "  - $a_8 = x_{19}/T^{*2}$"
   ]
  },
  {
   "cell_type": "code",
   "execution_count": 6,
   "metadata": {
    "collapsed": false
   },
   "outputs": [],
   "source": [
    "a1 = x[1]*T + x[2]*np.sqrt(T) + x[3] + x[4]/T + x[5]/T**2\n",
    "a2 = x[6]*T + x[7] + x[8]/T + x[9]/T**2\n",
    "a3 = x[10]*T + x[11] + x[12]/T\n",
    "a4 = x[13]\n",
    "a5 = x[14]/T + x[15]/T**2\n",
    "a6 = x[16]/T\n",
    "a7 = x[17]/T + x[18]/T**2\n",
    "a8 = x[19]/T**2\n",
    "a = np.empty(8)\n",
    "a[:] = [a1, a2, a3, a4, a5, a6, a7, a8]"
   ]
  },
  {
   "cell_type": "markdown",
   "metadata": {},
   "source": [
    "Last 13 parameters, $b_1, \\dots, b_6$:\n",
    "  - $b_1 = x_{20}/T^{*2} + x_{21}/T^{*3}$\n",
    "  - $b_2 = x_{22}/T^{*2} + x_{23}/T^{*4}$\n",
    "  - $b_3 = x_{24}/T^{*2} + x_{25}/T^{*3}$\n",
    "  - $b_4 = x_{26}/T^{*2} + x_{27}/T^{*4}$\n",
    "  - $b_5 = x_{28}/T^{*2} + x_{29}/T^{*3}$\n",
    "  - $b_6 = x_{30}/T^{*2} + x_{31}/T^{*3} + x_{32}/T^{*4}$"
   ]
  },
  {
   "cell_type": "code",
   "execution_count": 7,
   "metadata": {
    "collapsed": false
   },
   "outputs": [],
   "source": [
    "b1 = x[20]/T**2 + x[21]/T**3\n",
    "b2 = x[22]/T**2 + x[23]/T**4\n",
    "b3 = x[24]/T**2 + x[25]/T**3\n",
    "b4 = x[26]/T**2 + x[27]/T**4\n",
    "b5 = x[28]/T**2 + x[29]/T**3\n",
    "b6 = x[30]/T**2 + x[31]/T**3 + x[32]/T**4\n",
    "b = np.empty(6)\n",
    "b[:] = [b1, b2, b3, b4, b5, b6]"
   ]
  },
  {
   "cell_type": "markdown",
   "metadata": {},
   "source": [
    "Modified Benedict-Webb-Rubin (MBWR) equation of state, Johnson et al. 1993, eq. (7):\n",
    "$$ P^* = \\rho^* T^* + \\sum_{i=1}^8 a_i \\rho^{*(i+1)} + \\exp\\left(-\\gamma\\rho^{*2}\\right)\\sum_{i=1}^{6}b_i \\rho^{*(2i+1)} $$"
   ]
  },
  {
   "cell_type": "code",
   "execution_count": 8,
   "metadata": {
    "collapsed": false
   },
   "outputs": [],
   "source": [
    "density = np.linspace(0.1, 0.9)\n",
    "f = np.exp(-gamma * density**2)"
   ]
  },
  {
   "cell_type": "code",
   "execution_count": 9,
   "metadata": {
    "collapsed": true
   },
   "outputs": [],
   "source": [
    "pressure200 = (\n",
    "    density * T + \n",
    "    a1 * density**2 + \n",
    "    a2 * density**3 +\n",
    "    a3 * density**4 + \n",
    "    a4 * density**5 +\n",
    "    a5 * density**6 +\n",
    "    a6 * density**7 +\n",
    "    a7 * density**8 +\n",
    "    a8 * density**9 +\n",
    "    f * b1 * density**3 +\n",
    "    f * b2 * density**5 +\n",
    "    f * b3 * density**7 +\n",
    "    f * b4 * density**9 +\n",
    "    f * b5 * density**11 +\n",
    "    f * b6 * density**13    \n",
    ")"
   ]
  },
  {
   "cell_type": "markdown",
   "metadata": {},
   "source": [
    "Validating implentation against Frenkel Smit, Figure 6.2"
   ]
  },
  {
   "cell_type": "code",
   "execution_count": 11,
   "metadata": {
    "collapsed": false
   },
   "outputs": [],
   "source": [
    "eos = np.loadtxt('fs_eos_t2.csv', delimiter=',')\n",
    "mc = np.loadtxt('fs_mc_t2.csv', delimiter=',')\n",
    "md = np.loadtxt('fs_md_t2.csv', delimiter=',')"
   ]
  },
  {
   "cell_type": "code",
   "execution_count": 12,
   "metadata": {
    "collapsed": false
   },
   "outputs": [
    {
     "data": {
      "text/html": [
       "\n",
       "\n",
       "    <div class=\"bk-root\">\n",
       "        <div class=\"plotdiv\" id=\"8f0e72c6-5a5d-4c11-a850-42d0b3f0c2b9\"></div>\n",
       "    </div>\n",
       "<script type=\"text/javascript\">\n",
       "  \n",
       "  (function(global) {\n",
       "    function now() {\n",
       "      return new Date();\n",
       "    }\n",
       "  \n",
       "    var force = \"\";\n",
       "  \n",
       "    if (typeof (window._bokeh_onload_callbacks) === \"undefined\" || force !== \"\") {\n",
       "      window._bokeh_onload_callbacks = [];\n",
       "      window._bokeh_is_loading = undefined;\n",
       "    }\n",
       "  \n",
       "  \n",
       "    \n",
       "    if (typeof (window._bokeh_timeout) === \"undefined\" || force !== \"\") {\n",
       "      window._bokeh_timeout = Date.now() + 0;\n",
       "      window._bokeh_failed_load = false;\n",
       "    }\n",
       "  \n",
       "    var NB_LOAD_WARNING = {'data': {'text/html':\n",
       "       \"<div style='background-color: #fdd'>\\n\"+\n",
       "       \"<p>\\n\"+\n",
       "       \"BokehJS does not appear to have successfully loaded. If loading BokehJS from CDN, this \\n\"+\n",
       "       \"may be due to a slow or bad network connection. Possible fixes:\\n\"+\n",
       "       \"</p>\\n\"+\n",
       "       \"<ul>\\n\"+\n",
       "       \"<li>re-rerun `output_notebook()` to attempt to load from CDN again, or</li>\\n\"+\n",
       "       \"<li>use INLINE resources instead, as so:</li>\\n\"+\n",
       "       \"</ul>\\n\"+\n",
       "       \"<code>\\n\"+\n",
       "       \"from bokeh.resources import INLINE\\n\"+\n",
       "       \"output_notebook(resources=INLINE)\\n\"+\n",
       "       \"</code>\\n\"+\n",
       "       \"</div>\"}};\n",
       "  \n",
       "    function display_loaded() {\n",
       "      if (window.Bokeh !== undefined) {\n",
       "        Bokeh.$(\"#8f0e72c6-5a5d-4c11-a850-42d0b3f0c2b9\").text(\"BokehJS successfully loaded.\");\n",
       "      } else if (Date.now() < window._bokeh_timeout) {\n",
       "        setTimeout(display_loaded, 100)\n",
       "      }\n",
       "    }\n",
       "  \n",
       "    function run_callbacks() {\n",
       "      window._bokeh_onload_callbacks.forEach(function(callback) { callback() });\n",
       "      delete window._bokeh_onload_callbacks\n",
       "      console.info(\"Bokeh: all callbacks have finished\");\n",
       "    }\n",
       "  \n",
       "    function load_libs(js_urls, callback) {\n",
       "      window._bokeh_onload_callbacks.push(callback);\n",
       "      if (window._bokeh_is_loading > 0) {\n",
       "        console.log(\"Bokeh: BokehJS is being loaded, scheduling callback at\", now());\n",
       "        return null;\n",
       "      }\n",
       "      if (js_urls == null || js_urls.length === 0) {\n",
       "        run_callbacks();\n",
       "        return null;\n",
       "      }\n",
       "      console.log(\"Bokeh: BokehJS not loaded, scheduling load and callback at\", now());\n",
       "      window._bokeh_is_loading = js_urls.length;\n",
       "      for (var i = 0; i < js_urls.length; i++) {\n",
       "        var url = js_urls[i];\n",
       "        var s = document.createElement('script');\n",
       "        s.src = url;\n",
       "        s.async = false;\n",
       "        s.onreadystatechange = s.onload = function() {\n",
       "          window._bokeh_is_loading--;\n",
       "          if (window._bokeh_is_loading === 0) {\n",
       "            console.log(\"Bokeh: all BokehJS libraries loaded\");\n",
       "            run_callbacks()\n",
       "          }\n",
       "        };\n",
       "        s.onerror = function() {\n",
       "          console.warn(\"failed to load library \" + url);\n",
       "        };\n",
       "        console.log(\"Bokeh: injecting script tag for BokehJS library: \", url);\n",
       "        document.getElementsByTagName(\"head\")[0].appendChild(s);\n",
       "      }\n",
       "    };var element = document.getElementById(\"8f0e72c6-5a5d-4c11-a850-42d0b3f0c2b9\");\n",
       "    if (element == null) {\n",
       "      console.log(\"Bokeh: ERROR: autoload.js configured with elementid '8f0e72c6-5a5d-4c11-a850-42d0b3f0c2b9' but no matching script tag was found. \")\n",
       "      return false;\n",
       "    }\n",
       "  \n",
       "    var js_urls = [];\n",
       "  \n",
       "    var inline_js = [\n",
       "      function(Bokeh) {\n",
       "        Bokeh.$(function() {\n",
       "            var docs_json = {\"10996505-f518-40a7-bfc2-4f89350b0fd0\":{\"roots\":{\"references\":[{\"attributes\":{\"callback\":null},\"id\":\"ab3a7415-aeaa-4ecb-84cd-35a78cd1847d\",\"type\":\"DataRange1d\"},{\"attributes\":{\"plot\":{\"id\":\"de93763d-7d5a-4f44-993a-248ee0592884\",\"subtype\":\"Figure\",\"type\":\"Plot\"}},\"id\":\"4f57c6d6-3cc0-4f4c-bc2f-38356baa5b7a\",\"type\":\"WheelZoomTool\"},{\"attributes\":{\"plot\":{\"id\":\"de93763d-7d5a-4f44-993a-248ee0592884\",\"subtype\":\"Figure\",\"type\":\"Plot\"}},\"id\":\"c8e73974-b0ec-4a22-a967-f77f50df0f35\",\"type\":\"HelpTool\"},{\"attributes\":{},\"id\":\"ec64076b-fbe0-40f7-8668-a9db1c7f8b81\",\"type\":\"BasicTickFormatter\"},{\"attributes\":{},\"id\":\"6c89d13a-20c5-49a5-9059-06e39ed4060d\",\"type\":\"BasicTicker\"},{\"attributes\":{\"fill_alpha\":{\"value\":0.1},\"fill_color\":{\"value\":\"#1f77b4\"},\"line_alpha\":{\"value\":0.1},\"line_color\":{\"value\":\"#1f77b4\"},\"line_width\":{\"value\":2},\"size\":{\"units\":\"screen\",\"value\":12},\"x\":{\"field\":\"x\"},\"y\":{\"field\":\"y\"}},\"id\":\"5ddc8218-a131-4bc3-b4cf-60ea3ce3ebe3\",\"type\":\"Circle\"},{\"attributes\":{\"bottom_units\":\"screen\",\"fill_alpha\":{\"value\":0.5},\"fill_color\":{\"value\":\"lightgrey\"},\"left_units\":\"screen\",\"level\":\"overlay\",\"line_alpha\":{\"value\":1.0},\"line_color\":{\"value\":\"black\"},\"line_dash\":[4,4],\"line_width\":{\"value\":2},\"plot\":null,\"render_mode\":\"css\",\"right_units\":\"screen\",\"top_units\":\"screen\"},\"id\":\"e9f9e9c4-18da-4779-a931-ca0b28b305e2\",\"type\":\"BoxAnnotation\"},{\"attributes\":{},\"id\":\"237e61c3-a352-4753-8a21-a24157a84779\",\"type\":\"ToolEvents\"},{\"attributes\":{\"callback\":null,\"column_names\":[\"y\",\"x\"],\"data\":{\"x\":[0.10999999999999999,0.12000000000000005,0.13,0.14,0.15000000000000002,0.16000000000000003,0.17000000000000004,0.18000000000000005,0.19000000000000006,0.20000000000000012,0.21000000000000002,0.22000000000000008,0.23000000000000004,0.24000000000000016,0.2500000000000001,0.2600000000000002,0.2700000000000001,0.2800000000000002,0.2900000000000002,0.3000000000000002,0.3100000000000001,0.3200000000000001,0.3300000000000001,0.34000000000000014,0.35000000000000014,0.36000000000000015,0.37000000000000016,0.38000000000000017,0.3900000000000002,0.4000000000000002,0.4100000000000002,0.4200000000000002,0.4300000000000002,0.44000000000000034,0.45000000000000023,0.46000000000000024,0.47000000000000036,0.48000000000000037,0.49000000000000027,0.5000000000000002,0.5100000000000002,0.5200000000000002,0.5300000000000002,0.5400000000000003,0.5500000000000003,0.5600000000000005,0.5700000000000003,0.5800000000000003,0.5900000000000005,0.6000000000000005,0.6100000000000003,0.6200000000000006,0.6300000000000006,0.6400000000000006,0.6500000000000004,0.6600000000000004,0.6700000000000004,0.6800000000000004,0.6900000000000004,0.7000000000000006,0.7100000000000004,0.7200000000000006,0.7300000000000004,0.7400000000000004,0.7500000000000007,0.7600000000000007,0.7700000000000005,0.7800000000000005,0.7900000000000005,0.8000000000000007,0.8100000000000005,0.8200000000000005,0.8300000000000005,0.8400000000000005,0.8500000000000005,0.8600000000000005,0.8700000000000006,0.8800000000000006,0.8900000000000006,0.9000000000000006],\"y\":[0.19365729225231476,0.21583826672407014,0.21758116175057474,0.23714933394134619,0.2599509689096653,0.28208925807308916,0.294139536279328,0.31138324500344616,0.3236192061965433,0.3359821068351341,0.348499299836055,0.36177850251038635,0.37751110083397243,0.3924898207408454,0.411172816358528,0.42974224317502063,0.444605258028302,0.45806545522733266,0.4756292223003129,0.4906600706299624,0.5054998319418402,0.5278881295401767,0.5492668649866328,0.5751194653470204,0.6010810333243484,0.6266396160206966,0.6476737442761067,0.6569838878978231,0.6812979730864548,0.7126160414220433,0.7434520328207572,0.7773910996289484,0.7998419072472789,0.8354889628924269,0.8739219014558497,0.9114671213429357,0.9444036935411386,0.9873674330022713,1.0410734797817387,1.1039639560629482,1.1655874666755999,1.208380703346947,1.244845284639176,1.3097787649906891,1.3919766610316753,1.4670887882945447,1.5132384393708485,1.586214545351302,1.674978762188987,1.7916605827564975,1.9016710325084674,1.9728645750591198,2.0856306415369676,2.183591595227634,2.349411591123136,2.500009077977875,2.5976579836563296,2.7588648251020613,2.8696132147227376,3.083006466859172,3.276814564383737,3.4219945858931613,3.620090766919171,3.7947762300774572,4.084919862489677,4.3865468546179045,4.527865423193575,4.793043330767862,5.019761209449574,5.336208161824547,5.6596000537536595,5.95612387804848,6.279602456481135,6.606809047228475,7.04495476350249,7.379390269791271,7.815579032319844,8.22092242227897,8.63551007412561,9.1633125514726]}},\"id\":\"dfece314-aabd-495a-8e67-0f33db865fc1\",\"type\":\"ColumnDataSource\"},{\"attributes\":{\"data_source\":{\"id\":\"66f08c59-16cd-41c3-bd39-a386dd21a461\",\"type\":\"ColumnDataSource\"},\"glyph\":{\"id\":\"077940ba-e50a-4915-9fd6-c26a3d46d5e4\",\"type\":\"Square\"},\"hover_glyph\":null,\"nonselection_glyph\":{\"id\":\"35463cc9-bd89-4c1a-9ed6-f08c811f2d6e\",\"type\":\"Square\"},\"selection_glyph\":null},\"id\":\"7dde9d4f-c339-4e09-a73f-78bde73c4626\",\"type\":\"GlyphRenderer\"},{\"attributes\":{\"axis_label\":\"Density\",\"formatter\":{\"id\":\"a5451b10-80e2-43a7-ad19-c112f26183a1\",\"type\":\"BasicTickFormatter\"},\"plot\":{\"id\":\"de93763d-7d5a-4f44-993a-248ee0592884\",\"subtype\":\"Figure\",\"type\":\"Plot\"},\"ticker\":{\"id\":\"6c89d13a-20c5-49a5-9059-06e39ed4060d\",\"type\":\"BasicTicker\"}},\"id\":\"de9a1b1e-d0a5-43d3-b881-7f261c8d1bc5\",\"type\":\"LinearAxis\"},{\"attributes\":{\"plot\":{\"id\":\"de93763d-7d5a-4f44-993a-248ee0592884\",\"subtype\":\"Figure\",\"type\":\"Plot\"}},\"id\":\"8821c9d9-7094-4bca-8fea-77fb98375880\",\"type\":\"SaveTool\"},{\"attributes\":{\"line_alpha\":{\"value\":0.1},\"line_color\":{\"value\":\"#1f77b4\"},\"line_width\":{\"value\":2},\"x\":{\"field\":\"x\"},\"y\":{\"field\":\"y\"}},\"id\":\"59fd2fa5-abd1-4a38-99bb-032edf0d16a2\",\"type\":\"Line\"},{\"attributes\":{\"legends\":[[\"eos Johnson\",[{\"id\":\"5e0a0288-6b81-4800-b626-62183b3efc24\",\"type\":\"GlyphRenderer\"}]],[\"eos F&S\",[{\"id\":\"5e6aa70a-8231-42d1-9c72-163133830a3e\",\"type\":\"GlyphRenderer\"}]],[\"MC F&S\",[{\"id\":\"61ee1e6b-9343-4401-99b0-07c87315cd66\",\"type\":\"GlyphRenderer\"}]],[\"MD F&S\",[{\"id\":\"7dde9d4f-c339-4e09-a73f-78bde73c4626\",\"type\":\"GlyphRenderer\"}]]],\"location\":\"top_left\",\"plot\":{\"id\":\"de93763d-7d5a-4f44-993a-248ee0592884\",\"subtype\":\"Figure\",\"type\":\"Plot\"}},\"id\":\"50d2c0fa-25ff-4c57-aa2c-93bcafec1f66\",\"type\":\"Legend\"},{\"attributes\":{},\"id\":\"1e14337b-c148-4b83-be0f-e5da218e0f7c\",\"type\":\"BasicTicker\"},{\"attributes\":{\"callback\":null,\"column_names\":[\"y\",\"x\"],\"data\":{\"x\":[0.09996760865496745,0.19916694259293916,0.29990642500323916,0.3998665956456434,0.499796534366017,0.6004318846004345,0.699426313289089,0.7997576647519782,0.8998018129555785],\"y\":[0.16784475188229742,0.3313082744290696,0.48599974086924114,0.6931124003666191,1.057431054422258,1.753609835451968,2.98258065444913,5.259553047425728,9.029982388705738]}},\"id\":\"66f08c59-16cd-41c3-bd39-a386dd21a461\",\"type\":\"ColumnDataSource\"},{\"attributes\":{\"callback\":null,\"column_names\":[\"y\",\"x\"],\"data\":{\"x\":[0.1,0.1163265306122449,0.1326530612244898,0.1489795918367347,0.1653061224489796,0.1816326530612245,0.1979591836734694,0.2142857142857143,0.2306122448979592,0.2469387755102041,0.263265306122449,0.2795918367346939,0.29591836734693877,0.3122448979591837,0.3285714285714286,0.3448979591836735,0.36122448979591837,0.37755102040816324,0.3938775510204082,0.4102040816326531,0.42653061224489797,0.44285714285714284,0.4591836734693878,0.4755102040816327,0.49183673469387756,0.5081632653061224,0.5244897959183674,0.5408163265306123,0.5571428571428572,0.573469387755102,0.589795918367347,0.6061224489795919,0.6224489795918368,0.6387755102040816,0.6551020408163265,0.6714285714285715,0.6877551020408164,0.7040816326530612,0.7204081632653062,0.7367346938775511,0.753061224489796,0.7693877551020408,0.7857142857142857,0.8020408163265307,0.8183673469387756,0.8346938775510204,0.8510204081632654,0.8673469387755103,0.8836734693877552,0.9],\"y\":[0.17842231972194172,0.20438518697354804,0.22976067643392048,0.25467420694660337,0.27926026392842646,0.30366289235107036,0.328036066424595,0.3525441207621962,0.37736240254163894,0.4026782782960374,0.4286926023543927,0.45562172639760373,0.48370010086799387,0.5131834889237225,0.5443527823047842,0.5775183762030777,0.6130250276965256,0.6512570906175019,0.6926439903927124,0.737665777297683,0.7868585778665328,0.8408197541660773,0.9002125814925311,0.9657702687003281,1.038299173218524,1.1186811054652943,1.2078746744712305,1.3069156965274435,1.416916768777321,1.5390661957537124,1.6746265435585101,1.824933177256637,1.9913932048420866,2.175485298148272,2.37876087959237,2.602847146491812,2.849452345718813,3.1203736061351064,3.4175074821676388,3.7428631592069954,4.098578023330402,4.4869350104360155,4.910380832661864,5.371543845575569,5.873249983429283,6.418534869560558,7.010649924272938,7.653060063621876,8.349430429967686,9.103599538380124]}},\"id\":\"d5073eb4-bc74-49f5-bdf1-4a63663b1f3f\",\"type\":\"ColumnDataSource\"},{\"attributes\":{\"overlay\":{\"id\":\"e9f9e9c4-18da-4779-a931-ca0b28b305e2\",\"type\":\"BoxAnnotation\"},\"plot\":{\"id\":\"de93763d-7d5a-4f44-993a-248ee0592884\",\"subtype\":\"Figure\",\"type\":\"Plot\"}},\"id\":\"5570f1e4-583d-463f-ad5d-dd936d9c2d67\",\"type\":\"BoxZoomTool\"},{\"attributes\":{\"fill_alpha\":{\"value\":0},\"fill_color\":{\"value\":\"#1f77b4\"},\"line_color\":{\"value\":\"yellow\"},\"line_width\":{\"value\":2},\"size\":{\"units\":\"screen\",\"value\":12},\"x\":{\"field\":\"x\"},\"y\":{\"field\":\"y\"}},\"id\":\"077940ba-e50a-4915-9fd6-c26a3d46d5e4\",\"type\":\"Square\"},{\"attributes\":{\"data_source\":{\"id\":\"d5073eb4-bc74-49f5-bdf1-4a63663b1f3f\",\"type\":\"ColumnDataSource\"},\"glyph\":{\"id\":\"2322641c-67cb-4739-b89e-544e2936a28c\",\"type\":\"Line\"},\"hover_glyph\":null,\"nonselection_glyph\":{\"id\":\"59fd2fa5-abd1-4a38-99bb-032edf0d16a2\",\"type\":\"Line\"},\"selection_glyph\":null},\"id\":\"5e0a0288-6b81-4800-b626-62183b3efc24\",\"type\":\"GlyphRenderer\"},{\"attributes\":{\"fill_alpha\":{\"value\":0.1},\"fill_color\":{\"value\":\"#1f77b4\"},\"line_alpha\":{\"value\":0.1},\"line_color\":{\"value\":\"#1f77b4\"},\"line_width\":{\"value\":2},\"size\":{\"units\":\"screen\",\"value\":12},\"x\":{\"field\":\"x\"},\"y\":{\"field\":\"y\"}},\"id\":\"35463cc9-bd89-4c1a-9ed6-f08c811f2d6e\",\"type\":\"Square\"},{\"attributes\":{\"plot\":null,\"text\":null},\"id\":\"fd231007-d1c8-4a8d-8834-77afda36386e\",\"type\":\"Title\"},{\"attributes\":{\"plot\":{\"id\":\"de93763d-7d5a-4f44-993a-248ee0592884\",\"subtype\":\"Figure\",\"type\":\"Plot\"},\"ticker\":{\"id\":\"6c89d13a-20c5-49a5-9059-06e39ed4060d\",\"type\":\"BasicTicker\"}},\"id\":\"a043c60d-ca4e-44bf-a402-a339002ff134\",\"type\":\"Grid\"},{\"attributes\":{\"fill_alpha\":{\"value\":0},\"fill_color\":{\"value\":\"#1f77b4\"},\"line_color\":{\"value\":\"orange\"},\"line_width\":{\"value\":2},\"size\":{\"units\":\"screen\",\"value\":12},\"x\":{\"field\":\"x\"},\"y\":{\"field\":\"y\"}},\"id\":\"d9930b90-977a-4001-b79c-574f2e85a0a7\",\"type\":\"Circle\"},{\"attributes\":{\"callback\":null,\"column_names\":[\"y\",\"x\"],\"data\":{\"x\":[0.1491818186180653,0.249153746119037,0.3491189554151132,0.44982988545460656,0.5489737942021893,0.6487861643368891,0.7492233275268849,0.8433067484368175],\"y\":[0.25395294377342026,0.3999299387203781,0.5808415991247085,0.8840053937587893,1.3356799063290268,2.3113552058889884,4.038106617911695,6.804317886260792]}},\"id\":\"22637cab-499a-44f5-a6da-a50550461bf9\",\"type\":\"ColumnDataSource\"},{\"attributes\":{\"below\":[{\"id\":\"de9a1b1e-d0a5-43d3-b881-7f261c8d1bc5\",\"type\":\"LinearAxis\"}],\"left\":[{\"id\":\"52732b61-b217-408e-846f-799c9e288677\",\"type\":\"LinearAxis\"}],\"plot_height\":500,\"plot_width\":500,\"renderers\":[{\"id\":\"de9a1b1e-d0a5-43d3-b881-7f261c8d1bc5\",\"type\":\"LinearAxis\"},{\"id\":\"a043c60d-ca4e-44bf-a402-a339002ff134\",\"type\":\"Grid\"},{\"id\":\"52732b61-b217-408e-846f-799c9e288677\",\"type\":\"LinearAxis\"},{\"id\":\"2b442747-9b19-42fb-9584-8c588fc8cc34\",\"type\":\"Grid\"},{\"id\":\"e9f9e9c4-18da-4779-a931-ca0b28b305e2\",\"type\":\"BoxAnnotation\"},{\"id\":\"50d2c0fa-25ff-4c57-aa2c-93bcafec1f66\",\"type\":\"Legend\"},{\"id\":\"5e0a0288-6b81-4800-b626-62183b3efc24\",\"type\":\"GlyphRenderer\"},{\"id\":\"5e6aa70a-8231-42d1-9c72-163133830a3e\",\"type\":\"GlyphRenderer\"},{\"id\":\"61ee1e6b-9343-4401-99b0-07c87315cd66\",\"type\":\"GlyphRenderer\"},{\"id\":\"7dde9d4f-c339-4e09-a73f-78bde73c4626\",\"type\":\"GlyphRenderer\"}],\"title\":{\"id\":\"fd231007-d1c8-4a8d-8834-77afda36386e\",\"type\":\"Title\"},\"tool_events\":{\"id\":\"237e61c3-a352-4753-8a21-a24157a84779\",\"type\":\"ToolEvents\"},\"toolbar\":{\"id\":\"c3557036-61b3-4a61-9eeb-d8c37313e10b\",\"type\":\"Toolbar\"},\"x_range\":{\"id\":\"7654934f-8480-4731-b472-88abbd8cfa1f\",\"type\":\"DataRange1d\"},\"y_range\":{\"id\":\"ab3a7415-aeaa-4ecb-84cd-35a78cd1847d\",\"type\":\"DataRange1d\"}},\"id\":\"de93763d-7d5a-4f44-993a-248ee0592884\",\"subtype\":\"Figure\",\"type\":\"Plot\"},{\"attributes\":{\"callback\":null},\"id\":\"7654934f-8480-4731-b472-88abbd8cfa1f\",\"type\":\"DataRange1d\"},{\"attributes\":{},\"id\":\"a5451b10-80e2-43a7-ad19-c112f26183a1\",\"type\":\"BasicTickFormatter\"},{\"attributes\":{\"line_color\":{\"value\":\"firebrick\"},\"line_dash\":[2,2],\"line_width\":{\"value\":2},\"x\":{\"field\":\"x\"},\"y\":{\"field\":\"y\"}},\"id\":\"9053a595-5b15-4df3-ad13-a4d578d3876c\",\"type\":\"Line\"},{\"attributes\":{\"line_color\":{\"value\":\"#1f77b4\"},\"line_width\":{\"value\":2},\"x\":{\"field\":\"x\"},\"y\":{\"field\":\"y\"}},\"id\":\"2322641c-67cb-4739-b89e-544e2936a28c\",\"type\":\"Line\"},{\"attributes\":{\"axis_label\":\"Pressure\",\"formatter\":{\"id\":\"ec64076b-fbe0-40f7-8668-a9db1c7f8b81\",\"type\":\"BasicTickFormatter\"},\"plot\":{\"id\":\"de93763d-7d5a-4f44-993a-248ee0592884\",\"subtype\":\"Figure\",\"type\":\"Plot\"},\"ticker\":{\"id\":\"1e14337b-c148-4b83-be0f-e5da218e0f7c\",\"type\":\"BasicTicker\"}},\"id\":\"52732b61-b217-408e-846f-799c9e288677\",\"type\":\"LinearAxis\"},{\"attributes\":{\"dimension\":1,\"plot\":{\"id\":\"de93763d-7d5a-4f44-993a-248ee0592884\",\"subtype\":\"Figure\",\"type\":\"Plot\"},\"ticker\":{\"id\":\"1e14337b-c148-4b83-be0f-e5da218e0f7c\",\"type\":\"BasicTicker\"}},\"id\":\"2b442747-9b19-42fb-9584-8c588fc8cc34\",\"type\":\"Grid\"},{\"attributes\":{\"plot\":{\"id\":\"de93763d-7d5a-4f44-993a-248ee0592884\",\"subtype\":\"Figure\",\"type\":\"Plot\"}},\"id\":\"8e84afc1-5a06-4f85-880d-d4d28107e202\",\"type\":\"PanTool\"},{\"attributes\":{\"line_alpha\":{\"value\":0.1},\"line_color\":{\"value\":\"#1f77b4\"},\"line_dash\":[2,2],\"line_width\":{\"value\":2},\"x\":{\"field\":\"x\"},\"y\":{\"field\":\"y\"}},\"id\":\"482b55c6-84ad-48e6-935a-49145947928d\",\"type\":\"Line\"},{\"attributes\":{\"data_source\":{\"id\":\"22637cab-499a-44f5-a6da-a50550461bf9\",\"type\":\"ColumnDataSource\"},\"glyph\":{\"id\":\"d9930b90-977a-4001-b79c-574f2e85a0a7\",\"type\":\"Circle\"},\"hover_glyph\":null,\"nonselection_glyph\":{\"id\":\"5ddc8218-a131-4bc3-b4cf-60ea3ce3ebe3\",\"type\":\"Circle\"},\"selection_glyph\":null},\"id\":\"61ee1e6b-9343-4401-99b0-07c87315cd66\",\"type\":\"GlyphRenderer\"},{\"attributes\":{\"data_source\":{\"id\":\"dfece314-aabd-495a-8e67-0f33db865fc1\",\"type\":\"ColumnDataSource\"},\"glyph\":{\"id\":\"9053a595-5b15-4df3-ad13-a4d578d3876c\",\"type\":\"Line\"},\"hover_glyph\":null,\"nonselection_glyph\":{\"id\":\"482b55c6-84ad-48e6-935a-49145947928d\",\"type\":\"Line\"},\"selection_glyph\":null},\"id\":\"5e6aa70a-8231-42d1-9c72-163133830a3e\",\"type\":\"GlyphRenderer\"},{\"attributes\":{\"plot\":{\"id\":\"de93763d-7d5a-4f44-993a-248ee0592884\",\"subtype\":\"Figure\",\"type\":\"Plot\"}},\"id\":\"da28fb84-6c9b-40f8-9cae-fcaefd01bda0\",\"type\":\"ResetTool\"},{\"attributes\":{\"active_drag\":\"auto\",\"active_scroll\":\"auto\",\"active_tap\":\"auto\",\"tools\":[{\"id\":\"8e84afc1-5a06-4f85-880d-d4d28107e202\",\"type\":\"PanTool\"},{\"id\":\"4f57c6d6-3cc0-4f4c-bc2f-38356baa5b7a\",\"type\":\"WheelZoomTool\"},{\"id\":\"5570f1e4-583d-463f-ad5d-dd936d9c2d67\",\"type\":\"BoxZoomTool\"},{\"id\":\"8821c9d9-7094-4bca-8fea-77fb98375880\",\"type\":\"SaveTool\"},{\"id\":\"da28fb84-6c9b-40f8-9cae-fcaefd01bda0\",\"type\":\"ResetTool\"},{\"id\":\"c8e73974-b0ec-4a22-a967-f77f50df0f35\",\"type\":\"HelpTool\"}]},\"id\":\"c3557036-61b3-4a61-9eeb-d8c37313e10b\",\"type\":\"Toolbar\"}],\"root_ids\":[\"de93763d-7d5a-4f44-993a-248ee0592884\"]},\"title\":\"Bokeh Application\",\"version\":\"0.12.2\"}};\n",
       "            var render_items = [{\"docid\":\"10996505-f518-40a7-bfc2-4f89350b0fd0\",\"elementid\":\"8f0e72c6-5a5d-4c11-a850-42d0b3f0c2b9\",\"modelid\":\"de93763d-7d5a-4f44-993a-248ee0592884\"}];\n",
       "            \n",
       "            Bokeh.embed.embed_items(docs_json, render_items);\n",
       "        });\n",
       "      },\n",
       "      function(Bokeh) {\n",
       "      }\n",
       "    ];\n",
       "  \n",
       "    function run_inline_js() {\n",
       "      \n",
       "      if ((window.Bokeh !== undefined) || (force === \"1\")) {\n",
       "        for (var i = 0; i < inline_js.length; i++) {\n",
       "          inline_js[i](window.Bokeh);\n",
       "        }if (force === \"1\") {\n",
       "          display_loaded();\n",
       "        }} else if (Date.now() < window._bokeh_timeout) {\n",
       "        setTimeout(run_inline_js, 100);\n",
       "      } else if (!window._bokeh_failed_load) {\n",
       "        console.log(\"Bokeh: BokehJS failed to load within specified timeout.\");\n",
       "        window._bokeh_failed_load = true;\n",
       "      } else if (!force) {\n",
       "        var cell = $(\"#8f0e72c6-5a5d-4c11-a850-42d0b3f0c2b9\").parents('.cell').data().cell;\n",
       "        cell.output_area.append_execute_result(NB_LOAD_WARNING)\n",
       "      }\n",
       "  \n",
       "    }\n",
       "  \n",
       "    if (window._bokeh_is_loading === 0) {\n",
       "      console.log(\"Bokeh: BokehJS loaded, going straight to plotting\");\n",
       "      run_inline_js();\n",
       "    } else {\n",
       "      load_libs(js_urls, function() {\n",
       "        console.log(\"Bokeh: BokehJS plotting callback run at\", now());\n",
       "        run_inline_js();\n",
       "      });\n",
       "    }\n",
       "  }(this));\n",
       "</script>"
      ]
     },
     "metadata": {},
     "output_type": "display_data"
    }
   ],
   "source": [
    "p = figure(width=500, height=500, x_axis_label='Density',\n",
    "           y_axis_label='Pressure')\n",
    "p.line(density, pressure200, legend='eos Johnson', line_width=2)\n",
    "p.line(eos[:,0], eos[:,1], legend='eos F&S', line_dash=[2, 2], \n",
    "       line_width=2, color='firebrick')\n",
    "p.circle(mc[:,0], mc[:,1], legend='MC F&S', size=12, \n",
    "         line_width=2, fill_alpha=0, line_color='orange')\n",
    "p.square(md[:,0], md[:,1], legend='MD F&S', size=12, \n",
    "         line_width=2, fill_alpha=0, line_color='yellow')\n",
    "p.legend.location = 'top_left'\n",
    "show(p)"
   ]
  },
  {
   "cell_type": "markdown",
   "metadata": {},
   "source": [
    "Repeat using $T^*=0.71$ ($T=85$ K), to match Liquid Argon data published by [Yarnell et al.](Yarnell_Structure_1973.pdf)"
   ]
  },
  {
   "cell_type": "code",
   "execution_count": 13,
   "metadata": {
    "collapsed": true
   },
   "outputs": [],
   "source": [
    "T = 0.71"
   ]
  },
  {
   "cell_type": "code",
   "execution_count": 14,
   "metadata": {
    "collapsed": false
   },
   "outputs": [],
   "source": [
    "a1 = x[1]*T + x[2]*np.sqrt(T) + x[3] + x[4]/T + x[5]/T**2\n",
    "a2 = x[6]*T + x[7] + x[8]/T + x[9]/T**2\n",
    "a3 = x[10]*T + x[11] + x[12]/T\n",
    "a4 = x[13]\n",
    "a5 = x[14]/T + x[15]/T**2\n",
    "a6 = x[16]/T\n",
    "a7 = x[17]/T + x[18]/T**2\n",
    "a8 = x[19]/T**2"
   ]
  },
  {
   "cell_type": "code",
   "execution_count": 15,
   "metadata": {
    "collapsed": false
   },
   "outputs": [],
   "source": [
    "b1 = x[20]/T**2 + x[21]/T**3\n",
    "b2 = x[22]/T**2 + x[23]/T**4\n",
    "b3 = x[24]/T**2 + x[25]/T**3\n",
    "b4 = x[26]/T**2 + x[27]/T**4\n",
    "b5 = x[28]/T**2 + x[29]/T**3\n",
    "b6 = x[30]/T**2 + x[31]/T**3 + x[32]/T**4"
   ]
  },
  {
   "cell_type": "code",
   "execution_count": 16,
   "metadata": {
    "collapsed": true
   },
   "outputs": [],
   "source": [
    "pressure071 = (\n",
    "    density * T + \n",
    "    a1 * density**2 + \n",
    "    a2 * density**3 +\n",
    "    a3 * density**4 + \n",
    "    a4 * density**5 +\n",
    "    a5 * density**6 +\n",
    "    a6 * density**7 +\n",
    "    a7 * density**8 +\n",
    "    a8 * density**9 +\n",
    "    f * b1 * density**3 +\n",
    "    f * b2 * density**5 +\n",
    "    f * b3 * density**7 +\n",
    "    f * b4 * density**9 +\n",
    "    f * b5 * density**11 +\n",
    "    f * b6 * density**13    \n",
    ")"
   ]
  },
  {
   "cell_type": "code",
   "execution_count": 17,
   "metadata": {
    "collapsed": false
   },
   "outputs": [
    {
     "data": {
      "text/html": [
       "\n",
       "\n",
       "    <div class=\"bk-root\">\n",
       "        <div class=\"plotdiv\" id=\"3bfe06e6-81a4-481d-914d-c7d06e7f7ae2\"></div>\n",
       "    </div>\n",
       "<script type=\"text/javascript\">\n",
       "  \n",
       "  (function(global) {\n",
       "    function now() {\n",
       "      return new Date();\n",
       "    }\n",
       "  \n",
       "    var force = \"\";\n",
       "  \n",
       "    if (typeof (window._bokeh_onload_callbacks) === \"undefined\" || force !== \"\") {\n",
       "      window._bokeh_onload_callbacks = [];\n",
       "      window._bokeh_is_loading = undefined;\n",
       "    }\n",
       "  \n",
       "  \n",
       "    \n",
       "    if (typeof (window._bokeh_timeout) === \"undefined\" || force !== \"\") {\n",
       "      window._bokeh_timeout = Date.now() + 0;\n",
       "      window._bokeh_failed_load = false;\n",
       "    }\n",
       "  \n",
       "    var NB_LOAD_WARNING = {'data': {'text/html':\n",
       "       \"<div style='background-color: #fdd'>\\n\"+\n",
       "       \"<p>\\n\"+\n",
       "       \"BokehJS does not appear to have successfully loaded. If loading BokehJS from CDN, this \\n\"+\n",
       "       \"may be due to a slow or bad network connection. Possible fixes:\\n\"+\n",
       "       \"</p>\\n\"+\n",
       "       \"<ul>\\n\"+\n",
       "       \"<li>re-rerun `output_notebook()` to attempt to load from CDN again, or</li>\\n\"+\n",
       "       \"<li>use INLINE resources instead, as so:</li>\\n\"+\n",
       "       \"</ul>\\n\"+\n",
       "       \"<code>\\n\"+\n",
       "       \"from bokeh.resources import INLINE\\n\"+\n",
       "       \"output_notebook(resources=INLINE)\\n\"+\n",
       "       \"</code>\\n\"+\n",
       "       \"</div>\"}};\n",
       "  \n",
       "    function display_loaded() {\n",
       "      if (window.Bokeh !== undefined) {\n",
       "        Bokeh.$(\"#3bfe06e6-81a4-481d-914d-c7d06e7f7ae2\").text(\"BokehJS successfully loaded.\");\n",
       "      } else if (Date.now() < window._bokeh_timeout) {\n",
       "        setTimeout(display_loaded, 100)\n",
       "      }\n",
       "    }\n",
       "  \n",
       "    function run_callbacks() {\n",
       "      window._bokeh_onload_callbacks.forEach(function(callback) { callback() });\n",
       "      delete window._bokeh_onload_callbacks\n",
       "      console.info(\"Bokeh: all callbacks have finished\");\n",
       "    }\n",
       "  \n",
       "    function load_libs(js_urls, callback) {\n",
       "      window._bokeh_onload_callbacks.push(callback);\n",
       "      if (window._bokeh_is_loading > 0) {\n",
       "        console.log(\"Bokeh: BokehJS is being loaded, scheduling callback at\", now());\n",
       "        return null;\n",
       "      }\n",
       "      if (js_urls == null || js_urls.length === 0) {\n",
       "        run_callbacks();\n",
       "        return null;\n",
       "      }\n",
       "      console.log(\"Bokeh: BokehJS not loaded, scheduling load and callback at\", now());\n",
       "      window._bokeh_is_loading = js_urls.length;\n",
       "      for (var i = 0; i < js_urls.length; i++) {\n",
       "        var url = js_urls[i];\n",
       "        var s = document.createElement('script');\n",
       "        s.src = url;\n",
       "        s.async = false;\n",
       "        s.onreadystatechange = s.onload = function() {\n",
       "          window._bokeh_is_loading--;\n",
       "          if (window._bokeh_is_loading === 0) {\n",
       "            console.log(\"Bokeh: all BokehJS libraries loaded\");\n",
       "            run_callbacks()\n",
       "          }\n",
       "        };\n",
       "        s.onerror = function() {\n",
       "          console.warn(\"failed to load library \" + url);\n",
       "        };\n",
       "        console.log(\"Bokeh: injecting script tag for BokehJS library: \", url);\n",
       "        document.getElementsByTagName(\"head\")[0].appendChild(s);\n",
       "      }\n",
       "    };var element = document.getElementById(\"3bfe06e6-81a4-481d-914d-c7d06e7f7ae2\");\n",
       "    if (element == null) {\n",
       "      console.log(\"Bokeh: ERROR: autoload.js configured with elementid '3bfe06e6-81a4-481d-914d-c7d06e7f7ae2' but no matching script tag was found. \")\n",
       "      return false;\n",
       "    }\n",
       "  \n",
       "    var js_urls = [];\n",
       "  \n",
       "    var inline_js = [\n",
       "      function(Bokeh) {\n",
       "        Bokeh.$(function() {\n",
       "            var docs_json = {\"277e6da0-e68e-457e-9171-2b2c2776e825\":{\"roots\":{\"references\":[{\"attributes\":{\"plot\":{\"id\":\"38045241-cf5b-4856-a6a5-0c6d931919a2\",\"subtype\":\"Figure\",\"type\":\"Plot\"}},\"id\":\"8c8796da-f405-4d6b-a1ff-626b8a4deb60\",\"type\":\"ResetTool\"},{\"attributes\":{\"plot\":{\"id\":\"38045241-cf5b-4856-a6a5-0c6d931919a2\",\"subtype\":\"Figure\",\"type\":\"Plot\"}},\"id\":\"5fd7f181-eff1-4ad9-920e-9693f1641a9d\",\"type\":\"SaveTool\"},{\"attributes\":{\"plot\":{\"id\":\"38045241-cf5b-4856-a6a5-0c6d931919a2\",\"subtype\":\"Figure\",\"type\":\"Plot\"}},\"id\":\"f760330b-bf4d-42c0-9b58-44c8d2c00876\",\"type\":\"HelpTool\"},{\"attributes\":{\"axis_label\":\"Pressure\",\"formatter\":{\"id\":\"837ca5c1-7ae3-45dd-8540-8ca60d018cd0\",\"type\":\"BasicTickFormatter\"},\"plot\":{\"id\":\"38045241-cf5b-4856-a6a5-0c6d931919a2\",\"subtype\":\"Figure\",\"type\":\"Plot\"},\"ticker\":{\"id\":\"5c6232d2-15b7-4b07-b315-49526b0db075\",\"type\":\"BasicTicker\"}},\"id\":\"d6952586-3eca-4652-bf1f-5526dcc280a2\",\"type\":\"LinearAxis\"},{\"attributes\":{},\"id\":\"738dc9c7-5beb-4b4c-a29b-db60a5d30562\",\"type\":\"BasicTickFormatter\"},{\"attributes\":{\"callback\":null},\"id\":\"7a9f2ae5-6f4c-446c-b580-472457d76470\",\"type\":\"DataRange1d\"},{\"attributes\":{\"below\":[{\"id\":\"2c667b8c-22ae-4eb2-8adf-e12091b73d5e\",\"type\":\"LinearAxis\"}],\"left\":[{\"id\":\"d6952586-3eca-4652-bf1f-5526dcc280a2\",\"type\":\"LinearAxis\"}],\"plot_height\":500,\"plot_width\":500,\"renderers\":[{\"id\":\"2c667b8c-22ae-4eb2-8adf-e12091b73d5e\",\"type\":\"LinearAxis\"},{\"id\":\"0c814ad6-aba4-430e-8a2c-dc6a78dafd00\",\"type\":\"Grid\"},{\"id\":\"d6952586-3eca-4652-bf1f-5526dcc280a2\",\"type\":\"LinearAxis\"},{\"id\":\"57f99e82-d20e-4bda-b486-67fe66b28399\",\"type\":\"Grid\"},{\"id\":\"d04f0f40-8d62-43d9-9a0c-cdc34bfc6752\",\"type\":\"BoxAnnotation\"},{\"id\":\"c366389a-3183-4e3f-ac69-1083636578f1\",\"type\":\"Legend\"},{\"id\":\"3b56dc12-04a7-42e2-acda-a47b46ddd7b0\",\"type\":\"GlyphRenderer\"},{\"id\":\"b140200d-4a95-40db-b3a1-07bca8a1a9c9\",\"type\":\"GlyphRenderer\"}],\"title\":{\"id\":\"f76ba573-40c0-44f0-b39b-15f022dd19cd\",\"type\":\"Title\"},\"tool_events\":{\"id\":\"96e95d09-bb6c-47c4-a5a8-590042c0da21\",\"type\":\"ToolEvents\"},\"toolbar\":{\"id\":\"a190b7e8-8caa-4789-bc7a-e52763536d4b\",\"type\":\"Toolbar\"},\"x_range\":{\"id\":\"7a9f2ae5-6f4c-446c-b580-472457d76470\",\"type\":\"DataRange1d\"},\"y_range\":{\"id\":\"506acd71-4126-4a88-885f-26fd0dbfad47\",\"type\":\"DataRange1d\"}},\"id\":\"38045241-cf5b-4856-a6a5-0c6d931919a2\",\"subtype\":\"Figure\",\"type\":\"Plot\"},{\"attributes\":{\"plot\":{\"id\":\"38045241-cf5b-4856-a6a5-0c6d931919a2\",\"subtype\":\"Figure\",\"type\":\"Plot\"}},\"id\":\"31a2ec31-ffb3-498c-aad7-6bec20a0bc5e\",\"type\":\"WheelZoomTool\"},{\"attributes\":{\"line_color\":{\"value\":\"#1f77b4\"},\"x\":{\"field\":\"x\"},\"y\":{\"field\":\"y\"}},\"id\":\"0ffb0dff-a9e8-4a43-90a7-031a5c807f68\",\"type\":\"Line\"},{\"attributes\":{\"line_alpha\":{\"value\":0.1},\"line_color\":{\"value\":\"#1f77b4\"},\"x\":{\"field\":\"x\"},\"y\":{\"field\":\"y\"}},\"id\":\"a818c56f-7872-4e30-9f80-74cf38366063\",\"type\":\"Line\"},{\"attributes\":{\"plot\":null,\"text\":null},\"id\":\"f76ba573-40c0-44f0-b39b-15f022dd19cd\",\"type\":\"Title\"},{\"attributes\":{\"data_source\":{\"id\":\"b39a84f4-687a-4e5a-b351-7575361bf96f\",\"type\":\"ColumnDataSource\"},\"glyph\":{\"id\":\"0ffb0dff-a9e8-4a43-90a7-031a5c807f68\",\"type\":\"Line\"},\"hover_glyph\":null,\"nonselection_glyph\":{\"id\":\"a818c56f-7872-4e30-9f80-74cf38366063\",\"type\":\"Line\"},\"selection_glyph\":null},\"id\":\"3b56dc12-04a7-42e2-acda-a47b46ddd7b0\",\"type\":\"GlyphRenderer\"},{\"attributes\":{},\"id\":\"a03d9349-c66b-4d27-b18e-13e5baed897b\",\"type\":\"BasicTicker\"},{\"attributes\":{\"line_color\":{\"value\":\"firebrick\"},\"x\":{\"field\":\"x\"},\"y\":{\"field\":\"y\"}},\"id\":\"9e000d30-7171-4a12-9d56-a265ff9b2516\",\"type\":\"Line\"},{\"attributes\":{\"plot\":{\"id\":\"38045241-cf5b-4856-a6a5-0c6d931919a2\",\"subtype\":\"Figure\",\"type\":\"Plot\"}},\"id\":\"d2a9affe-a5c5-4f72-8d3a-96e7a3f26d73\",\"type\":\"PanTool\"},{\"attributes\":{\"line_alpha\":{\"value\":0.1},\"line_color\":{\"value\":\"#1f77b4\"},\"x\":{\"field\":\"x\"},\"y\":{\"field\":\"y\"}},\"id\":\"d9d5648d-a5d3-49fd-ab54-831a1ebc3437\",\"type\":\"Line\"},{\"attributes\":{\"dimension\":1,\"plot\":{\"id\":\"38045241-cf5b-4856-a6a5-0c6d931919a2\",\"subtype\":\"Figure\",\"type\":\"Plot\"},\"ticker\":{\"id\":\"5c6232d2-15b7-4b07-b315-49526b0db075\",\"type\":\"BasicTicker\"}},\"id\":\"57f99e82-d20e-4bda-b486-67fe66b28399\",\"type\":\"Grid\"},{\"attributes\":{\"callback\":null},\"id\":\"506acd71-4126-4a88-885f-26fd0dbfad47\",\"type\":\"DataRange1d\"},{\"attributes\":{\"callback\":null,\"column_names\":[\"y\",\"x\"],\"data\":{\"x\":[0.1,0.1163265306122449,0.1326530612244898,0.1489795918367347,0.1653061224489796,0.1816326530612245,0.1979591836734694,0.2142857142857143,0.2306122448979592,0.2469387755102041,0.263265306122449,0.2795918367346939,0.29591836734693877,0.3122448979591837,0.3285714285714286,0.3448979591836735,0.36122448979591837,0.37755102040816324,0.3938775510204082,0.4102040816326531,0.42653061224489797,0.44285714285714284,0.4591836734693878,0.4755102040816327,0.49183673469387756,0.5081632653061224,0.5244897959183674,0.5408163265306123,0.5571428571428572,0.573469387755102,0.589795918367347,0.6061224489795919,0.6224489795918368,0.6387755102040816,0.6551020408163265,0.6714285714285715,0.6877551020408164,0.7040816326530612,0.7204081632653062,0.7367346938775511,0.753061224489796,0.7693877551020408,0.7857142857142857,0.8020408163265307,0.8183673469387756,0.8346938775510204,0.8510204081632654,0.8673469387755103,0.8836734693877552,0.9],\"y\":[0.17842231972194172,0.20438518697354804,0.22976067643392048,0.25467420694660337,0.27926026392842646,0.30366289235107036,0.328036066424595,0.3525441207621962,0.37736240254163894,0.4026782782960374,0.4286926023543927,0.45562172639760373,0.48370010086799387,0.5131834889237225,0.5443527823047842,0.5775183762030777,0.6130250276965256,0.6512570906175019,0.6926439903927124,0.737665777297683,0.7868585778665328,0.8408197541660773,0.9002125814925311,0.9657702687003281,1.038299173218524,1.1186811054652943,1.2078746744712305,1.3069156965274435,1.416916768777321,1.5390661957537124,1.6746265435585101,1.824933177256637,1.9913932048420866,2.175485298148272,2.37876087959237,2.602847146491812,2.849452345718813,3.1203736061351064,3.4175074821676388,3.7428631592069954,4.098578023330402,4.4869350104360155,4.910380832661864,5.371543845575569,5.873249983429283,6.418534869560558,7.010649924272938,7.653060063621876,8.349430429967686,9.103599538380124]}},\"id\":\"b39a84f4-687a-4e5a-b351-7575361bf96f\",\"type\":\"ColumnDataSource\"},{\"attributes\":{\"legends\":[[\"T=2.00\",[{\"id\":\"3b56dc12-04a7-42e2-acda-a47b46ddd7b0\",\"type\":\"GlyphRenderer\"}]],[\"T=0.71\",[{\"id\":\"b140200d-4a95-40db-b3a1-07bca8a1a9c9\",\"type\":\"GlyphRenderer\"}]]],\"location\":\"top_left\",\"plot\":{\"id\":\"38045241-cf5b-4856-a6a5-0c6d931919a2\",\"subtype\":\"Figure\",\"type\":\"Plot\"}},\"id\":\"c366389a-3183-4e3f-ac69-1083636578f1\",\"type\":\"Legend\"},{\"attributes\":{\"overlay\":{\"id\":\"d04f0f40-8d62-43d9-9a0c-cdc34bfc6752\",\"type\":\"BoxAnnotation\"},\"plot\":{\"id\":\"38045241-cf5b-4856-a6a5-0c6d931919a2\",\"subtype\":\"Figure\",\"type\":\"Plot\"}},\"id\":\"c88ea84e-7c48-4b65-bf21-7588a560e304\",\"type\":\"BoxZoomTool\"},{\"attributes\":{\"data_source\":{\"id\":\"41166918-1f53-4a80-868f-36258dfc32c0\",\"type\":\"ColumnDataSource\"},\"glyph\":{\"id\":\"9e000d30-7171-4a12-9d56-a265ff9b2516\",\"type\":\"Line\"},\"hover_glyph\":null,\"nonselection_glyph\":{\"id\":\"d9d5648d-a5d3-49fd-ab54-831a1ebc3437\",\"type\":\"Line\"},\"selection_glyph\":null},\"id\":\"b140200d-4a95-40db-b3a1-07bca8a1a9c9\",\"type\":\"GlyphRenderer\"},{\"attributes\":{\"axis_label\":\"Density\",\"formatter\":{\"id\":\"738dc9c7-5beb-4b4c-a29b-db60a5d30562\",\"type\":\"BasicTickFormatter\"},\"plot\":{\"id\":\"38045241-cf5b-4856-a6a5-0c6d931919a2\",\"subtype\":\"Figure\",\"type\":\"Plot\"},\"ticker\":{\"id\":\"a03d9349-c66b-4d27-b18e-13e5baed897b\",\"type\":\"BasicTicker\"}},\"id\":\"2c667b8c-22ae-4eb2-8adf-e12091b73d5e\",\"type\":\"LinearAxis\"},{\"attributes\":{\"plot\":{\"id\":\"38045241-cf5b-4856-a6a5-0c6d931919a2\",\"subtype\":\"Figure\",\"type\":\"Plot\"},\"ticker\":{\"id\":\"a03d9349-c66b-4d27-b18e-13e5baed897b\",\"type\":\"BasicTicker\"}},\"id\":\"0c814ad6-aba4-430e-8a2c-dc6a78dafd00\",\"type\":\"Grid\"},{\"attributes\":{},\"id\":\"837ca5c1-7ae3-45dd-8540-8ca60d018cd0\",\"type\":\"BasicTickFormatter\"},{\"attributes\":{},\"id\":\"96e95d09-bb6c-47c4-a5a8-590042c0da21\",\"type\":\"ToolEvents\"},{\"attributes\":{},\"id\":\"5c6232d2-15b7-4b07-b315-49526b0db075\",\"type\":\"BasicTicker\"},{\"attributes\":{\"callback\":null,\"column_names\":[\"y\",\"x\"],\"data\":{\"x\":[0.1,0.1163265306122449,0.1326530612244898,0.1489795918367347,0.1653061224489796,0.1816326530612245,0.1979591836734694,0.2142857142857143,0.2306122448979592,0.2469387755102041,0.263265306122449,0.2795918367346939,0.29591836734693877,0.3122448979591837,0.3285714285714286,0.3448979591836735,0.36122448979591837,0.37755102040816324,0.3938775510204082,0.4102040816326531,0.42653061224489797,0.44285714285714284,0.4591836734693878,0.4755102040816327,0.49183673469387756,0.5081632653061224,0.5244897959183674,0.5408163265306123,0.5571428571428572,0.573469387755102,0.589795918367347,0.6061224489795919,0.6224489795918368,0.6387755102040816,0.6551020408163265,0.6714285714285715,0.6877551020408164,0.7040816326530612,0.7204081632653062,0.7367346938775511,0.753061224489796,0.7693877551020408,0.7857142857142857,0.8020408163265307,0.8183673469387756,0.8346938775510204,0.8510204081632654,0.8673469387755103,0.8836734693877552,0.9],\"y\":[0.003145675105982319,-0.008271531279691538,-0.022234939327326637,-0.03824180338907683,-0.05573374437556959,-0.07412632560861226,-0.09284162313169571,-0.11134179352268521,-0.12916173275357637,-0.14593902547593565,-0.16143951364096937,-0.17557697589291488,-0.18842561383835404,-0.20022429574211256,-0.21137181725331713,-0.2224128030956512,-0.23401428872432578,-0.24693347623482517,-0.2619776375549996,-0.27995761740490444,-0.3016368408372796,-0.3276781238585898,-0.35859088759755364,-0.3946815544262195,-0.43600992973290137,-0.4823542235016239,-0.5331870286020317,-0.58766404651932,-0.6446266486290837,-0.7026185091574844,-0.7599155867906786,-0.8145677217018656,-0.8644491219515915,-0.9073141152430697,-0.9408538217738087,-0.9627489443731019,-0.9707137515416786,-0.9625266150003036,-0.9360432072091847,-0.8891896961666426,-0.8199349988342668,-0.7262433457993254,-0.6060110124102138,-0.45699399785003436,-0.27673656598261687,-0.06251375543949678,0.18869594571921766,0.4801887659294124,0.8154433418889653,1.197934971055588]}},\"id\":\"41166918-1f53-4a80-868f-36258dfc32c0\",\"type\":\"ColumnDataSource\"},{\"attributes\":{\"bottom_units\":\"screen\",\"fill_alpha\":{\"value\":0.5},\"fill_color\":{\"value\":\"lightgrey\"},\"left_units\":\"screen\",\"level\":\"overlay\",\"line_alpha\":{\"value\":1.0},\"line_color\":{\"value\":\"black\"},\"line_dash\":[4,4],\"line_width\":{\"value\":2},\"plot\":null,\"render_mode\":\"css\",\"right_units\":\"screen\",\"top_units\":\"screen\"},\"id\":\"d04f0f40-8d62-43d9-9a0c-cdc34bfc6752\",\"type\":\"BoxAnnotation\"},{\"attributes\":{\"active_drag\":\"auto\",\"active_scroll\":\"auto\",\"active_tap\":\"auto\",\"tools\":[{\"id\":\"d2a9affe-a5c5-4f72-8d3a-96e7a3f26d73\",\"type\":\"PanTool\"},{\"id\":\"31a2ec31-ffb3-498c-aad7-6bec20a0bc5e\",\"type\":\"WheelZoomTool\"},{\"id\":\"c88ea84e-7c48-4b65-bf21-7588a560e304\",\"type\":\"BoxZoomTool\"},{\"id\":\"5fd7f181-eff1-4ad9-920e-9693f1641a9d\",\"type\":\"SaveTool\"},{\"id\":\"8c8796da-f405-4d6b-a1ff-626b8a4deb60\",\"type\":\"ResetTool\"},{\"id\":\"f760330b-bf4d-42c0-9b58-44c8d2c00876\",\"type\":\"HelpTool\"}]},\"id\":\"a190b7e8-8caa-4789-bc7a-e52763536d4b\",\"type\":\"Toolbar\"}],\"root_ids\":[\"38045241-cf5b-4856-a6a5-0c6d931919a2\"]},\"title\":\"Bokeh Application\",\"version\":\"0.12.2\"}};\n",
       "            var render_items = [{\"docid\":\"277e6da0-e68e-457e-9171-2b2c2776e825\",\"elementid\":\"3bfe06e6-81a4-481d-914d-c7d06e7f7ae2\",\"modelid\":\"38045241-cf5b-4856-a6a5-0c6d931919a2\"}];\n",
       "            \n",
       "            Bokeh.embed.embed_items(docs_json, render_items);\n",
       "        });\n",
       "      },\n",
       "      function(Bokeh) {\n",
       "      }\n",
       "    ];\n",
       "  \n",
       "    function run_inline_js() {\n",
       "      \n",
       "      if ((window.Bokeh !== undefined) || (force === \"1\")) {\n",
       "        for (var i = 0; i < inline_js.length; i++) {\n",
       "          inline_js[i](window.Bokeh);\n",
       "        }if (force === \"1\") {\n",
       "          display_loaded();\n",
       "        }} else if (Date.now() < window._bokeh_timeout) {\n",
       "        setTimeout(run_inline_js, 100);\n",
       "      } else if (!window._bokeh_failed_load) {\n",
       "        console.log(\"Bokeh: BokehJS failed to load within specified timeout.\");\n",
       "        window._bokeh_failed_load = true;\n",
       "      } else if (!force) {\n",
       "        var cell = $(\"#3bfe06e6-81a4-481d-914d-c7d06e7f7ae2\").parents('.cell').data().cell;\n",
       "        cell.output_area.append_execute_result(NB_LOAD_WARNING)\n",
       "      }\n",
       "  \n",
       "    }\n",
       "  \n",
       "    if (window._bokeh_is_loading === 0) {\n",
       "      console.log(\"Bokeh: BokehJS loaded, going straight to plotting\");\n",
       "      run_inline_js();\n",
       "    } else {\n",
       "      load_libs(js_urls, function() {\n",
       "        console.log(\"Bokeh: BokehJS plotting callback run at\", now());\n",
       "        run_inline_js();\n",
       "      });\n",
       "    }\n",
       "  }(this));\n",
       "</script>"
      ]
     },
     "metadata": {},
     "output_type": "display_data"
    }
   ],
   "source": [
    "p = figure(width=500, height=500, x_axis_label='Density', \n",
    "           y_axis_label='Pressure')\n",
    "p.line(density, pressure200, legend=\"T=2.00\")\n",
    "p.line(density, pressure071, legend=\"T=0.71\", line_color=\"firebrick\")\n",
    "p.legend.location='top_left'\n",
    "show(p)"
   ]
  },
  {
   "cell_type": "markdown",
   "metadata": {},
   "source": [
    "While the $T=2.0$ case matches Figure 6.2 in Frenkel & Smit, I am skeptical about the $T=0.71$ case.  I do not understand a negative pressure.  Their article says, \"Parameters for the MBWR equation of state for the LJ fluid have been regressed for the temperature range $0.7\\leq T^*\\leq 6$ and covering the entire fluid range of densities.\""
   ]
  },
  {
   "cell_type": "markdown",
   "metadata": {
    "collapsed": true
   },
   "source": [
    "### Load in Experimental Data"
   ]
  },
  {
   "cell_type": "code",
   "execution_count": 34,
   "metadata": {
    "collapsed": false
   },
   "outputs": [],
   "source": [
    "def rm_par(astr):\n",
    "    return float(astr.split(b'(')[0])"
   ]
  },
  {
   "cell_type": "code",
   "execution_count": 36,
   "metadata": {
    "collapsed": false
   },
   "outputs": [
    {
     "name": "stdout",
     "output_type": "stream",
     "text": [
      "/home/schowell/data/myPrograms/anaconda3/envs/sassie/bin/python\n"
     ]
    }
   ],
   "source": [
    "import sys; print(sys.executable)"
   ]
  },
  {
   "cell_type": "code",
   "execution_count": 37,
   "metadata": {
    "collapsed": false
   },
   "outputs": [],
   "source": [
    "data=np.genfromtxt('state_point.dat', dtype=None, names=True, converters={2:rm_par, 3:rm_par})"
   ]
  },
  {
   "cell_type": "code",
   "execution_count": 52,
   "metadata": {
    "collapsed": false
   },
   "outputs": [],
   "source": [
    "t20 = data[data['T']==2.0]\n",
    "t07 = data[data['T']==0.7]"
   ]
  },
  {
   "cell_type": "code",
   "execution_count": 53,
   "metadata": {
    "collapsed": false
   },
   "outputs": [
    {
     "data": {
      "text/html": [
       "\n",
       "\n",
       "    <div class=\"bk-root\">\n",
       "        <div class=\"plotdiv\" id=\"57fb204e-41af-4ba2-bb10-b4b4ffee043f\"></div>\n",
       "    </div>\n",
       "<script type=\"text/javascript\">\n",
       "  \n",
       "  (function(global) {\n",
       "    function now() {\n",
       "      return new Date();\n",
       "    }\n",
       "  \n",
       "    var force = \"\";\n",
       "  \n",
       "    if (typeof (window._bokeh_onload_callbacks) === \"undefined\" || force !== \"\") {\n",
       "      window._bokeh_onload_callbacks = [];\n",
       "      window._bokeh_is_loading = undefined;\n",
       "    }\n",
       "  \n",
       "  \n",
       "    \n",
       "    if (typeof (window._bokeh_timeout) === \"undefined\" || force !== \"\") {\n",
       "      window._bokeh_timeout = Date.now() + 0;\n",
       "      window._bokeh_failed_load = false;\n",
       "    }\n",
       "  \n",
       "    var NB_LOAD_WARNING = {'data': {'text/html':\n",
       "       \"<div style='background-color: #fdd'>\\n\"+\n",
       "       \"<p>\\n\"+\n",
       "       \"BokehJS does not appear to have successfully loaded. If loading BokehJS from CDN, this \\n\"+\n",
       "       \"may be due to a slow or bad network connection. Possible fixes:\\n\"+\n",
       "       \"</p>\\n\"+\n",
       "       \"<ul>\\n\"+\n",
       "       \"<li>re-rerun `output_notebook()` to attempt to load from CDN again, or</li>\\n\"+\n",
       "       \"<li>use INLINE resources instead, as so:</li>\\n\"+\n",
       "       \"</ul>\\n\"+\n",
       "       \"<code>\\n\"+\n",
       "       \"from bokeh.resources import INLINE\\n\"+\n",
       "       \"output_notebook(resources=INLINE)\\n\"+\n",
       "       \"</code>\\n\"+\n",
       "       \"</div>\"}};\n",
       "  \n",
       "    function display_loaded() {\n",
       "      if (window.Bokeh !== undefined) {\n",
       "        Bokeh.$(\"#57fb204e-41af-4ba2-bb10-b4b4ffee043f\").text(\"BokehJS successfully loaded.\");\n",
       "      } else if (Date.now() < window._bokeh_timeout) {\n",
       "        setTimeout(display_loaded, 100)\n",
       "      }\n",
       "    }\n",
       "  \n",
       "    function run_callbacks() {\n",
       "      window._bokeh_onload_callbacks.forEach(function(callback) { callback() });\n",
       "      delete window._bokeh_onload_callbacks\n",
       "      console.info(\"Bokeh: all callbacks have finished\");\n",
       "    }\n",
       "  \n",
       "    function load_libs(js_urls, callback) {\n",
       "      window._bokeh_onload_callbacks.push(callback);\n",
       "      if (window._bokeh_is_loading > 0) {\n",
       "        console.log(\"Bokeh: BokehJS is being loaded, scheduling callback at\", now());\n",
       "        return null;\n",
       "      }\n",
       "      if (js_urls == null || js_urls.length === 0) {\n",
       "        run_callbacks();\n",
       "        return null;\n",
       "      }\n",
       "      console.log(\"Bokeh: BokehJS not loaded, scheduling load and callback at\", now());\n",
       "      window._bokeh_is_loading = js_urls.length;\n",
       "      for (var i = 0; i < js_urls.length; i++) {\n",
       "        var url = js_urls[i];\n",
       "        var s = document.createElement('script');\n",
       "        s.src = url;\n",
       "        s.async = false;\n",
       "        s.onreadystatechange = s.onload = function() {\n",
       "          window._bokeh_is_loading--;\n",
       "          if (window._bokeh_is_loading === 0) {\n",
       "            console.log(\"Bokeh: all BokehJS libraries loaded\");\n",
       "            run_callbacks()\n",
       "          }\n",
       "        };\n",
       "        s.onerror = function() {\n",
       "          console.warn(\"failed to load library \" + url);\n",
       "        };\n",
       "        console.log(\"Bokeh: injecting script tag for BokehJS library: \", url);\n",
       "        document.getElementsByTagName(\"head\")[0].appendChild(s);\n",
       "      }\n",
       "    };var element = document.getElementById(\"57fb204e-41af-4ba2-bb10-b4b4ffee043f\");\n",
       "    if (element == null) {\n",
       "      console.log(\"Bokeh: ERROR: autoload.js configured with elementid '57fb204e-41af-4ba2-bb10-b4b4ffee043f' but no matching script tag was found. \")\n",
       "      return false;\n",
       "    }\n",
       "  \n",
       "    var js_urls = [];\n",
       "  \n",
       "    var inline_js = [\n",
       "      function(Bokeh) {\n",
       "        Bokeh.$(function() {\n",
       "            var docs_json = {\"ef1e60b4-0cd1-4097-bc1e-83f7400ff634\":{\"roots\":{\"references\":[{\"attributes\":{\"callback\":null,\"column_names\":[\"y\",\"x\"],\"data\":{\"x\":[0.1,0.1163265306122449,0.1326530612244898,0.1489795918367347,0.1653061224489796,0.1816326530612245,0.1979591836734694,0.2142857142857143,0.2306122448979592,0.2469387755102041,0.263265306122449,0.2795918367346939,0.29591836734693877,0.3122448979591837,0.3285714285714286,0.3448979591836735,0.36122448979591837,0.37755102040816324,0.3938775510204082,0.4102040816326531,0.42653061224489797,0.44285714285714284,0.4591836734693878,0.4755102040816327,0.49183673469387756,0.5081632653061224,0.5244897959183674,0.5408163265306123,0.5571428571428572,0.573469387755102,0.589795918367347,0.6061224489795919,0.6224489795918368,0.6387755102040816,0.6551020408163265,0.6714285714285715,0.6877551020408164,0.7040816326530612,0.7204081632653062,0.7367346938775511,0.753061224489796,0.7693877551020408,0.7857142857142857,0.8020408163265307,0.8183673469387756,0.8346938775510204,0.8510204081632654,0.8673469387755103,0.8836734693877552,0.9],\"y\":[0.003145675105982319,-0.008271531279691538,-0.022234939327326637,-0.03824180338907683,-0.05573374437556959,-0.07412632560861226,-0.09284162313169571,-0.11134179352268521,-0.12916173275357637,-0.14593902547593565,-0.16143951364096937,-0.17557697589291488,-0.18842561383835404,-0.20022429574211256,-0.21137181725331713,-0.2224128030956512,-0.23401428872432578,-0.24693347623482517,-0.2619776375549996,-0.27995761740490444,-0.3016368408372796,-0.3276781238585898,-0.35859088759755364,-0.3946815544262195,-0.43600992973290137,-0.4823542235016239,-0.5331870286020317,-0.58766404651932,-0.6446266486290837,-0.7026185091574844,-0.7599155867906786,-0.8145677217018656,-0.8644491219515915,-0.9073141152430697,-0.9408538217738087,-0.9627489443731019,-0.9707137515416786,-0.9625266150003036,-0.9360432072091847,-0.8891896961666426,-0.8199349988342668,-0.7262433457993254,-0.6060110124102138,-0.45699399785003436,-0.27673656598261687,-0.06251375543949678,0.18869594571921766,0.4801887659294124,0.8154433418889653,1.197934971055588]}},\"id\":\"b30ba1a1-3322-4c0c-93e6-e218313882e2\",\"type\":\"ColumnDataSource\"},{\"attributes\":{\"data_source\":{\"id\":\"b3ceb71a-d0f7-4403-9182-471f52579d89\",\"type\":\"ColumnDataSource\"},\"glyph\":{\"id\":\"c448ce99-c3e0-46c4-a515-84d128780ac5\",\"type\":\"Circle\"},\"hover_glyph\":null,\"nonselection_glyph\":{\"id\":\"d0a2b2bd-caa2-48b6-9374-4d215840da12\",\"type\":\"Circle\"},\"selection_glyph\":null},\"id\":\"5a2e006c-084b-471a-84ab-cd7fbbbdceee\",\"type\":\"GlyphRenderer\"},{\"attributes\":{\"plot\":{\"id\":\"07fdc347-0093-4e39-9477-f24797b6c123\",\"subtype\":\"Figure\",\"type\":\"Plot\"}},\"id\":\"73fe7eeb-486f-48ca-a406-b0c8e30ac04b\",\"type\":\"HelpTool\"},{\"attributes\":{\"fill_alpha\":{\"value\":0.1},\"fill_color\":{\"value\":\"#1f77b4\"},\"line_alpha\":{\"value\":0.1},\"line_color\":{\"value\":\"#1f77b4\"},\"x\":{\"field\":\"x\"},\"y\":{\"field\":\"y\"}},\"id\":\"df98d549-6c77-42e9-959d-4a4134cc8890\",\"type\":\"Circle\"},{\"attributes\":{\"callback\":null,\"column_names\":[\"y\",\"x\"],\"data\":{\"x\":[0.1,0.1163265306122449,0.1326530612244898,0.1489795918367347,0.1653061224489796,0.1816326530612245,0.1979591836734694,0.2142857142857143,0.2306122448979592,0.2469387755102041,0.263265306122449,0.2795918367346939,0.29591836734693877,0.3122448979591837,0.3285714285714286,0.3448979591836735,0.36122448979591837,0.37755102040816324,0.3938775510204082,0.4102040816326531,0.42653061224489797,0.44285714285714284,0.4591836734693878,0.4755102040816327,0.49183673469387756,0.5081632653061224,0.5244897959183674,0.5408163265306123,0.5571428571428572,0.573469387755102,0.589795918367347,0.6061224489795919,0.6224489795918368,0.6387755102040816,0.6551020408163265,0.6714285714285715,0.6877551020408164,0.7040816326530612,0.7204081632653062,0.7367346938775511,0.753061224489796,0.7693877551020408,0.7857142857142857,0.8020408163265307,0.8183673469387756,0.8346938775510204,0.8510204081632654,0.8673469387755103,0.8836734693877552,0.9],\"y\":[0.17842231972194172,0.20438518697354804,0.22976067643392048,0.25467420694660337,0.27926026392842646,0.30366289235107036,0.328036066424595,0.3525441207621962,0.37736240254163894,0.4026782782960374,0.4286926023543927,0.45562172639760373,0.48370010086799387,0.5131834889237225,0.5443527823047842,0.5775183762030777,0.6130250276965256,0.6512570906175019,0.6926439903927124,0.737665777297683,0.7868585778665328,0.8408197541660773,0.9002125814925311,0.9657702687003281,1.038299173218524,1.1186811054652943,1.2078746744712305,1.3069156965274435,1.416916768777321,1.5390661957537124,1.6746265435585101,1.824933177256637,1.9913932048420866,2.175485298148272,2.37876087959237,2.602847146491812,2.849452345718813,3.1203736061351064,3.4175074821676388,3.7428631592069954,4.098578023330402,4.4869350104360155,4.910380832661864,5.371543845575569,5.873249983429283,6.418534869560558,7.010649924272938,7.653060063621876,8.349430429967686,9.103599538380124]}},\"id\":\"6c1372de-bfe4-41fd-bd98-7ead76d40d9e\",\"type\":\"ColumnDataSource\"},{\"attributes\":{\"data_source\":{\"id\":\"cf5d02b2-bd33-423b-9dfe-25ef4e25fa28\",\"type\":\"ColumnDataSource\"},\"glyph\":{\"id\":\"9a535685-751d-49a2-82f3-a268358cf77b\",\"type\":\"Circle\"},\"hover_glyph\":null,\"nonselection_glyph\":{\"id\":\"df98d549-6c77-42e9-959d-4a4134cc8890\",\"type\":\"Circle\"},\"selection_glyph\":null},\"id\":\"aaf30f81-89af-4967-9712-e4bb4cf99d13\",\"type\":\"GlyphRenderer\"},{\"attributes\":{\"plot\":{\"id\":\"07fdc347-0093-4e39-9477-f24797b6c123\",\"subtype\":\"Figure\",\"type\":\"Plot\"}},\"id\":\"3c1cd569-4462-4609-845f-ee4fedb664cb\",\"type\":\"ResetTool\"},{\"attributes\":{\"plot\":{\"id\":\"07fdc347-0093-4e39-9477-f24797b6c123\",\"subtype\":\"Figure\",\"type\":\"Plot\"}},\"id\":\"a444c2c8-c75f-4080-8087-faa9054f1bda\",\"type\":\"SaveTool\"},{\"attributes\":{\"line_color\":{\"value\":\"#1f77b4\"},\"x\":{\"field\":\"x\"},\"y\":{\"field\":\"y\"}},\"id\":\"2836a374-4b32-46f8-92fc-7d8a485f18bf\",\"type\":\"Line\"},{\"attributes\":{\"fill_alpha\":{\"value\":0.1},\"fill_color\":{\"value\":\"#1f77b4\"},\"line_alpha\":{\"value\":0.1},\"line_color\":{\"value\":\"#1f77b4\"},\"x\":{\"field\":\"x\"},\"y\":{\"field\":\"y\"}},\"id\":\"d0a2b2bd-caa2-48b6-9374-4d215840da12\",\"type\":\"Circle\"},{\"attributes\":{\"plot\":{\"id\":\"07fdc347-0093-4e39-9477-f24797b6c123\",\"subtype\":\"Figure\",\"type\":\"Plot\"}},\"id\":\"ec9db81a-4c55-4e8e-ab96-ad20c27f1e2e\",\"type\":\"WheelZoomTool\"},{\"attributes\":{\"bottom_units\":\"screen\",\"fill_alpha\":{\"value\":0.5},\"fill_color\":{\"value\":\"lightgrey\"},\"left_units\":\"screen\",\"level\":\"overlay\",\"line_alpha\":{\"value\":1.0},\"line_color\":{\"value\":\"black\"},\"line_dash\":[4,4],\"line_width\":{\"value\":2},\"plot\":null,\"render_mode\":\"css\",\"right_units\":\"screen\",\"top_units\":\"screen\"},\"id\":\"ca4bbf9b-1b50-40a4-972f-9cf60b709a72\",\"type\":\"BoxAnnotation\"},{\"attributes\":{\"callback\":null},\"id\":\"e6fe6a90-02d7-49a8-afd3-e80282b50899\",\"type\":\"DataRange1d\"},{\"attributes\":{\"plot\":{\"id\":\"07fdc347-0093-4e39-9477-f24797b6c123\",\"subtype\":\"Figure\",\"type\":\"Plot\"}},\"id\":\"c206d531-04d6-4486-8f79-173515716cef\",\"type\":\"PanTool\"},{\"attributes\":{\"line_color\":{\"value\":\"firebrick\"},\"x\":{\"field\":\"x\"},\"y\":{\"field\":\"y\"}},\"id\":\"59bb2309-40a7-462e-9b14-2f75cb2c8888\",\"type\":\"Line\"},{\"attributes\":{\"axis_label\":\"Pressure\",\"formatter\":{\"id\":\"e2f2dbad-f42b-40ea-8beb-12c7c56deaf3\",\"type\":\"BasicTickFormatter\"},\"plot\":{\"id\":\"07fdc347-0093-4e39-9477-f24797b6c123\",\"subtype\":\"Figure\",\"type\":\"Plot\"},\"ticker\":{\"id\":\"d727bfbc-1c5b-43b8-8739-07ae59714c2b\",\"type\":\"BasicTicker\"}},\"id\":\"cb031d6e-e440-4bba-b06b-dee74d2258f5\",\"type\":\"LinearAxis\"},{\"attributes\":{\"plot\":null,\"text\":null},\"id\":\"9bd30909-c847-44b5-90d4-7b92c335f1f3\",\"type\":\"Title\"},{\"attributes\":{\"below\":[{\"id\":\"b3a0eb45-9cae-49e0-95ab-e054ff65b4b1\",\"type\":\"LinearAxis\"}],\"left\":[{\"id\":\"cb031d6e-e440-4bba-b06b-dee74d2258f5\",\"type\":\"LinearAxis\"}],\"plot_height\":500,\"plot_width\":500,\"renderers\":[{\"id\":\"b3a0eb45-9cae-49e0-95ab-e054ff65b4b1\",\"type\":\"LinearAxis\"},{\"id\":\"ea873046-fee5-402b-b13c-2794abc3d8d0\",\"type\":\"Grid\"},{\"id\":\"cb031d6e-e440-4bba-b06b-dee74d2258f5\",\"type\":\"LinearAxis\"},{\"id\":\"79db12ae-9b13-46e3-bfdd-70eeb986f1bd\",\"type\":\"Grid\"},{\"id\":\"ca4bbf9b-1b50-40a4-972f-9cf60b709a72\",\"type\":\"BoxAnnotation\"},{\"id\":\"28f8703d-ef28-4e94-b6ba-ce828a554ca3\",\"type\":\"Legend\"},{\"id\":\"7849369a-009b-4f2b-aea4-bceba4ca021c\",\"type\":\"GlyphRenderer\"},{\"id\":\"690da241-5ffb-4c0a-bf68-21bd51fd76ec\",\"type\":\"GlyphRenderer\"},{\"id\":\"aaf30f81-89af-4967-9712-e4bb4cf99d13\",\"type\":\"GlyphRenderer\"},{\"id\":\"5a2e006c-084b-471a-84ab-cd7fbbbdceee\",\"type\":\"GlyphRenderer\"}],\"title\":{\"id\":\"9bd30909-c847-44b5-90d4-7b92c335f1f3\",\"type\":\"Title\"},\"tool_events\":{\"id\":\"7007f746-1f95-41d0-808e-bb1962cf4e42\",\"type\":\"ToolEvents\"},\"toolbar\":{\"id\":\"215675a1-b478-40cb-8987-d67e4e9f2b2c\",\"type\":\"Toolbar\"},\"x_range\":{\"id\":\"218ef8fb-e6c7-42c0-bfb3-0fde803d0018\",\"type\":\"DataRange1d\"},\"y_range\":{\"id\":\"e6fe6a90-02d7-49a8-afd3-e80282b50899\",\"type\":\"DataRange1d\"}},\"id\":\"07fdc347-0093-4e39-9477-f24797b6c123\",\"subtype\":\"Figure\",\"type\":\"Plot\"},{\"attributes\":{\"callback\":null,\"column_names\":[\"y\",\"x\"],\"data\":{\"x\":[0.1,0.2,0.3,0.4,0.5,0.6,0.7,0.8,0.9,1.0,1.05],\"y\":[0.1776,0.329,0.489,0.7,1.071,1.75,3.028,5.285,9.12,15.2,19.46]}},\"id\":\"cf5d02b2-bd33-423b-9dfe-25ef4e25fa28\",\"type\":\"ColumnDataSource\"},{\"attributes\":{\"legends\":[[\"T=2.00\",[{\"id\":\"7849369a-009b-4f2b-aea4-bceba4ca021c\",\"type\":\"GlyphRenderer\"},{\"id\":\"aaf30f81-89af-4967-9712-e4bb4cf99d13\",\"type\":\"GlyphRenderer\"}]],[\"T=0.71\",[{\"id\":\"690da241-5ffb-4c0a-bf68-21bd51fd76ec\",\"type\":\"GlyphRenderer\"}]],[\"T=0.70\",[{\"id\":\"5a2e006c-084b-471a-84ab-cd7fbbbdceee\",\"type\":\"GlyphRenderer\"}]]],\"location\":\"top_left\",\"plot\":{\"id\":\"07fdc347-0093-4e39-9477-f24797b6c123\",\"subtype\":\"Figure\",\"type\":\"Plot\"}},\"id\":\"28f8703d-ef28-4e94-b6ba-ce828a554ca3\",\"type\":\"Legend\"},{\"attributes\":{\"axis_label\":\"Density\",\"formatter\":{\"id\":\"e3744010-607d-4f9f-b9e5-eb99ce435556\",\"type\":\"BasicTickFormatter\"},\"plot\":{\"id\":\"07fdc347-0093-4e39-9477-f24797b6c123\",\"subtype\":\"Figure\",\"type\":\"Plot\"},\"ticker\":{\"id\":\"db3e8676-e0b3-4d10-a6bd-0ac137169038\",\"type\":\"BasicTicker\"}},\"id\":\"b3a0eb45-9cae-49e0-95ab-e054ff65b4b1\",\"type\":\"LinearAxis\"},{\"attributes\":{\"line_alpha\":{\"value\":0.1},\"line_color\":{\"value\":\"#1f77b4\"},\"x\":{\"field\":\"x\"},\"y\":{\"field\":\"y\"}},\"id\":\"f6187bf2-2677-4154-a742-14160b54ca43\",\"type\":\"Line\"},{\"attributes\":{\"dimension\":1,\"plot\":{\"id\":\"07fdc347-0093-4e39-9477-f24797b6c123\",\"subtype\":\"Figure\",\"type\":\"Plot\"},\"ticker\":{\"id\":\"d727bfbc-1c5b-43b8-8739-07ae59714c2b\",\"type\":\"BasicTicker\"}},\"id\":\"79db12ae-9b13-46e3-bfdd-70eeb986f1bd\",\"type\":\"Grid\"},{\"attributes\":{\"line_alpha\":{\"value\":0.1},\"line_color\":{\"value\":\"#1f77b4\"},\"x\":{\"field\":\"x\"},\"y\":{\"field\":\"y\"}},\"id\":\"94066330-fe51-4dc2-af2d-a2d858843388\",\"type\":\"Line\"},{\"attributes\":{\"callback\":null,\"column_names\":[\"y\",\"x\"],\"data\":{\"x\":[0.005,0.005,0.8,0.9],\"y\":[0.00333,0.00332,-0.525,1.14]}},\"id\":\"b3ceb71a-d0f7-4403-9182-471f52579d89\",\"type\":\"ColumnDataSource\"},{\"attributes\":{\"fill_color\":{\"value\":\"firebrick\"},\"line_color\":{\"value\":\"firebrick\"},\"x\":{\"field\":\"x\"},\"y\":{\"field\":\"y\"}},\"id\":\"c448ce99-c3e0-46c4-a515-84d128780ac5\",\"type\":\"Circle\"},{\"attributes\":{\"plot\":{\"id\":\"07fdc347-0093-4e39-9477-f24797b6c123\",\"subtype\":\"Figure\",\"type\":\"Plot\"},\"ticker\":{\"id\":\"db3e8676-e0b3-4d10-a6bd-0ac137169038\",\"type\":\"BasicTicker\"}},\"id\":\"ea873046-fee5-402b-b13c-2794abc3d8d0\",\"type\":\"Grid\"},{\"attributes\":{},\"id\":\"7007f746-1f95-41d0-808e-bb1962cf4e42\",\"type\":\"ToolEvents\"},{\"attributes\":{\"fill_color\":{\"value\":\"#1f77b4\"},\"line_color\":{\"value\":\"#1f77b4\"},\"x\":{\"field\":\"x\"},\"y\":{\"field\":\"y\"}},\"id\":\"9a535685-751d-49a2-82f3-a268358cf77b\",\"type\":\"Circle\"},{\"attributes\":{\"active_drag\":\"auto\",\"active_scroll\":\"auto\",\"active_tap\":\"auto\",\"tools\":[{\"id\":\"c206d531-04d6-4486-8f79-173515716cef\",\"type\":\"PanTool\"},{\"id\":\"ec9db81a-4c55-4e8e-ab96-ad20c27f1e2e\",\"type\":\"WheelZoomTool\"},{\"id\":\"058d2f10-b3b4-484b-9a67-1367c5d0fcb8\",\"type\":\"BoxZoomTool\"},{\"id\":\"a444c2c8-c75f-4080-8087-faa9054f1bda\",\"type\":\"SaveTool\"},{\"id\":\"3c1cd569-4462-4609-845f-ee4fedb664cb\",\"type\":\"ResetTool\"},{\"id\":\"73fe7eeb-486f-48ca-a406-b0c8e30ac04b\",\"type\":\"HelpTool\"}]},\"id\":\"215675a1-b478-40cb-8987-d67e4e9f2b2c\",\"type\":\"Toolbar\"},{\"attributes\":{},\"id\":\"e2f2dbad-f42b-40ea-8beb-12c7c56deaf3\",\"type\":\"BasicTickFormatter\"},{\"attributes\":{\"data_source\":{\"id\":\"b30ba1a1-3322-4c0c-93e6-e218313882e2\",\"type\":\"ColumnDataSource\"},\"glyph\":{\"id\":\"59bb2309-40a7-462e-9b14-2f75cb2c8888\",\"type\":\"Line\"},\"hover_glyph\":null,\"nonselection_glyph\":{\"id\":\"f6187bf2-2677-4154-a742-14160b54ca43\",\"type\":\"Line\"},\"selection_glyph\":null},\"id\":\"690da241-5ffb-4c0a-bf68-21bd51fd76ec\",\"type\":\"GlyphRenderer\"},{\"attributes\":{\"callback\":null},\"id\":\"218ef8fb-e6c7-42c0-bfb3-0fde803d0018\",\"type\":\"DataRange1d\"},{\"attributes\":{\"overlay\":{\"id\":\"ca4bbf9b-1b50-40a4-972f-9cf60b709a72\",\"type\":\"BoxAnnotation\"},\"plot\":{\"id\":\"07fdc347-0093-4e39-9477-f24797b6c123\",\"subtype\":\"Figure\",\"type\":\"Plot\"}},\"id\":\"058d2f10-b3b4-484b-9a67-1367c5d0fcb8\",\"type\":\"BoxZoomTool\"},{\"attributes\":{},\"id\":\"e3744010-607d-4f9f-b9e5-eb99ce435556\",\"type\":\"BasicTickFormatter\"},{\"attributes\":{\"data_source\":{\"id\":\"6c1372de-bfe4-41fd-bd98-7ead76d40d9e\",\"type\":\"ColumnDataSource\"},\"glyph\":{\"id\":\"2836a374-4b32-46f8-92fc-7d8a485f18bf\",\"type\":\"Line\"},\"hover_glyph\":null,\"nonselection_glyph\":{\"id\":\"94066330-fe51-4dc2-af2d-a2d858843388\",\"type\":\"Line\"},\"selection_glyph\":null},\"id\":\"7849369a-009b-4f2b-aea4-bceba4ca021c\",\"type\":\"GlyphRenderer\"},{\"attributes\":{},\"id\":\"d727bfbc-1c5b-43b8-8739-07ae59714c2b\",\"type\":\"BasicTicker\"},{\"attributes\":{},\"id\":\"db3e8676-e0b3-4d10-a6bd-0ac137169038\",\"type\":\"BasicTicker\"}],\"root_ids\":[\"07fdc347-0093-4e39-9477-f24797b6c123\"]},\"title\":\"Bokeh Application\",\"version\":\"0.12.2\"}};\n",
       "            var render_items = [{\"docid\":\"ef1e60b4-0cd1-4097-bc1e-83f7400ff634\",\"elementid\":\"57fb204e-41af-4ba2-bb10-b4b4ffee043f\",\"modelid\":\"07fdc347-0093-4e39-9477-f24797b6c123\"}];\n",
       "            \n",
       "            Bokeh.embed.embed_items(docs_json, render_items);\n",
       "        });\n",
       "      },\n",
       "      function(Bokeh) {\n",
       "      }\n",
       "    ];\n",
       "  \n",
       "    function run_inline_js() {\n",
       "      \n",
       "      if ((window.Bokeh !== undefined) || (force === \"1\")) {\n",
       "        for (var i = 0; i < inline_js.length; i++) {\n",
       "          inline_js[i](window.Bokeh);\n",
       "        }if (force === \"1\") {\n",
       "          display_loaded();\n",
       "        }} else if (Date.now() < window._bokeh_timeout) {\n",
       "        setTimeout(run_inline_js, 100);\n",
       "      } else if (!window._bokeh_failed_load) {\n",
       "        console.log(\"Bokeh: BokehJS failed to load within specified timeout.\");\n",
       "        window._bokeh_failed_load = true;\n",
       "      } else if (!force) {\n",
       "        var cell = $(\"#57fb204e-41af-4ba2-bb10-b4b4ffee043f\").parents('.cell').data().cell;\n",
       "        cell.output_area.append_execute_result(NB_LOAD_WARNING)\n",
       "      }\n",
       "  \n",
       "    }\n",
       "  \n",
       "    if (window._bokeh_is_loading === 0) {\n",
       "      console.log(\"Bokeh: BokehJS loaded, going straight to plotting\");\n",
       "      run_inline_js();\n",
       "    } else {\n",
       "      load_libs(js_urls, function() {\n",
       "        console.log(\"Bokeh: BokehJS plotting callback run at\", now());\n",
       "        run_inline_js();\n",
       "      });\n",
       "    }\n",
       "  }(this));\n",
       "</script>"
      ]
     },
     "metadata": {},
     "output_type": "display_data"
    }
   ],
   "source": [
    "p = figure(width=500, height=500, x_axis_label='Density', \n",
    "           y_axis_label='Pressure')\n",
    "p.line(density, pressure200, legend=\"T=2.00 EOS\")\n",
    "p.line(density, pressure071, legend=\"T=0.71 EOS\", line_color=\"firebrick\")\n",
    "p.circle(t20['p'], t20['P'], legend=\"T=2.00 Data\")\n",
    "p.circle(t07['p'], t07['P'], legend=\"T=0.70\", color=\"firebrick\")\n",
    "p.legend.location='top_left'\n",
    "show(p)"
   ]
  },
  {
   "cell_type": "markdown",
   "metadata": {},
   "source": [
    "So the curve matches the experimental data, and the experimental curve even goes negative."
   ]
  },
  {
   "cell_type": "code",
   "execution_count": null,
   "metadata": {
    "collapsed": true
   },
   "outputs": [],
   "source": []
  }
 ],
 "metadata": {
  "kernelspec": {
   "display_name": "Python 2",
   "language": "python",
   "name": "python2"
  },
  "language_info": {
   "codemirror_mode": {
    "name": "ipython",
    "version": 2
   },
   "file_extension": ".py",
   "mimetype": "text/x-python",
   "name": "python",
   "nbconvert_exporter": "python",
   "pygments_lexer": "ipython2",
   "version": "2.7.12"
  }
 },
 "nbformat": 4,
 "nbformat_minor": 1
}
