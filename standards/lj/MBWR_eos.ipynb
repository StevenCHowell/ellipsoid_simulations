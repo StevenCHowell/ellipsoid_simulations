{
 "cells": [
  {
   "cell_type": "markdown",
   "metadata": {},
   "source": [
    "# The Modified Benedict-Webb-Rubin equation of state \n",
    "Johnson, Zllweg, Gubbins, \n",
    "\"The Lennard-Jones equation of state revisited\",\n",
    "Molecular Physics, 1993\n",
    "\n",
    "implementing the parameters from Table 10"
   ]
  },
  {
   "cell_type": "code",
   "execution_count": 1,
   "metadata": {
    "collapsed": true
   },
   "outputs": [],
   "source": [
    "import numpy as np"
   ]
  },
  {
   "cell_type": "code",
   "execution_count": 2,
   "metadata": {
    "collapsed": true
   },
   "outputs": [],
   "source": [
    "par = np.loadtxt('mbwr_eos.dat')"
   ]
  },
  {
   "cell_type": "markdown",
   "metadata": {},
   "source": [
    "$$ P = \\sum_{n=1}^9 a_n \\rho^n + \\exp\\left(\\frac{-\\rho^2}{\\rho_c^2}\\right)\\sum_{n=10}^{15}\\rho^{2n-17} $$\n",
    "\n",
    "32 parameters:\n",
    "  - 15: $a_1,\\dots,a_{15}$\n",
    "  - : $\\rho_c$\n",
    "  \n",
    "**Reduced Units:**\n",
    "  - residual Helmholtz free energy: $A^*_r = A_r/N\\epsilon$\n",
    "  - pressure: $P^* = P\\sigma^3/\\epsilon$"
   ]
  },
  {
   "cell_type": "code",
   "execution_count": null,
   "metadata": {
    "collapsed": true
   },
   "outputs": [],
   "source": []
  }
 ],
 "metadata": {
  "kernelspec": {
   "display_name": "Python 2",
   "language": "python",
   "name": "python2"
  },
  "language_info": {
   "codemirror_mode": {
    "name": "ipython",
    "version": 2
   },
   "file_extension": ".py",
   "mimetype": "text/x-python",
   "name": "python",
   "nbconvert_exporter": "python",
   "pygments_lexer": "ipython2",
   "version": "2.7.12"
  }
 },
 "nbformat": 4,
 "nbformat_minor": 1
}
